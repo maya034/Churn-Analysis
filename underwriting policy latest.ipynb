Fire Insurance Risk Score
Tags: Research Methodology, Risk Scoring, EDA, Python
Objective : To develop a risk scoring model for fire insurance specific to US properties by researching competitors and creating a unique methodology.
Data preparation : Conducted extensive research on competitor methodologies and existing risk scoring models in the industry. Collected and analyzed relevant data including historical fire incidents, property characteristics, and geographical factors.
Data analysis : Explored various methods and techniques to develop an accurate risk score reflective of the hazard severity. Analyzed correlation of the final score with various data attributes across segments to provide validity for the score.
Model deployment : The model incorporates comprehensive data analysis and competitor insights, ensuring reliable risk evaluations and can be used reliably for underwriting and pricing



Documentation of Wildfire with all the Attempts and Methodology.
                                      ATTEMPT 1
FORECASTING OF WFPI USING HISTORICAL DATA
Dataset
•	Fire Danger Map and Data Products (usgs.gov) 
Contains Tiff files (Tag Image File Format, abbreviated TIFF or TIF, is an image file format for storing raster graphics images) along with xml files.

Data Pre-processing and Extraction
•	Extracted WFPI value day wise for past years (20 years) using GDAL Library.
•	.ipynb file for reference : https://exlservicenam.sharepoint.com/:u:/s/Risk_Score_Analytics/EfNFxbvzBTBHhryk4uHN56kB80EzPsuSCl70cSa2Uq8F9w?e=HyPI2s

Approach
•	We tried Auto-ARIMA but could not forecast the data properly.
•	We also tried LSTM Model, but we saw the same results.
Challenges
•	WFPI values dependents on different features such as satellite observation, fuel model, forecast weather.


                                                  









				ATTEMPT 2


HAZARD/EXPOSURE
•	Dataset - Direct Download | MTBS
Pre-processing
•	We converted LAT LONG data to county level so that we can predict the possibility of wildfire on the county level.
•	We have applied Poisson’s distribution to predict the Mean wildfire Occurrence.








Vulnerability Modelling

Assumption:
Here's a rating scale for the wildfire potential risk based on the Roof material:

1. Metal: Rating 2
   - Metal roofs have a relatively low risk of ignition compared to other materials. They are less susceptible to fire damage due to their non-combustible nature.

2. Concrete: Rating 3
   - Concrete roofs have moderate resistance to fire. While they are not combustible, they can be affected by intense heat and may crack or spall under extreme fire conditions.

3. Tile: Rating 4
   - Tile roofs, such as ceramic or clay tiles, offer good resistance to fire. They are non-combustible and provide a protective barrier against embers and radiant heat.

4. Shingle: Rating 5
   - Shingle roofs, particularly asphalt or wood shingles, have a higher risk of ignition compared to other materials. Shingles can easily catch fire from ember showers or direct flame contact.















Here's a rating scale for the wildfire potential risk based on the Roof types:

1. Flat: Rating 2
   - Flat roofs typically have a lower risk of direct flame exposure compared to pitched roofs. However, they can still be vulnerable to ember intrusion and the accumulation of debris, which may increase the risk of fire.
2. Hip: Rating 3
   - Hip roofs typically have a lower risk of wildfire potential compared to other roof types. The sloping design and lack of gable ends reduce the vulnerability to ember intrusion and the accumulation of debris.

3. Mix (Gable and Hip): Rating 4
- If a mix of gable and hip roofs is present within a single structure, the overall risk would depend on the proportion of each roof type. The presence of gable roofs would contribute to a higher overall risk compared to a mix dominated by hip roofs.

4. Gable: Rating 5
   - Gable roofs have a moderate risk of wildfire potential. The triangular shape of gable roofs can create areas where embers can accumulate, increasing the risk of ignition. However, if properly maintained and protected, gable roofs can offer reasonable resistance to fire.

Vegetation_overall- Mean of three columns 'Tree_Overhang_RF', 'DIS_Vegetation_BU_buckets', and 'DIS_Trees_BU_buckets.
•	Tree_Overhang_RF:  Percentage of Tree Overhang (0-4) - 0%=0 | 1%-24%=1 | 25-50%=2 | 50-75%=3 | 75%+=4
•	'DIS_Vegetation_BU_buckets (bucket boundaries = [0, 6.89, 13.78, 20.67, 27.56])
•	"Roof_Evidence_RF" column from categorical values to numerical form based on the condition "debris" equals 5 and everything else equals 0.










Calculation of Score 

The objective of this is to calculate a score for each row. The score is determined based on four columns: 'vegetation_overall', 'Roof_Evidence_RF', 'Roof_Type_RF', and 'Roof_Material_RF'. Each column has a range of values from 0 to 5, and a weightage of 25% is assigned to each feature. The score is calculated by combining the values of these four columns with their respective weightages.

### Calculation Details
1. Calculation of 'vegetation_overall':
   - 'vegetation_overall' is assumed to be a column containing numerical values ranging from 0 to 5, representing the overall vegetation score for each row.

2. Calculation of 'Roof_Evidence_RF':
   - 'Roof_Evidence_RF' is assumed to be a column containing numerical values ranging from 0 to 5, representing the evidence of damage to the roof for each row.

3. Calculation of 'Roof_Type_RF':
   - 'Roof_Type_RF' is assumed to be a column containing numerical values ranging from 0 to 5, representing the type of roof for each row.

4. Calculation of 'Roof_Material_RF':
   - 'Roof_Material_RF' is assumed to be a column containing numerical values ranging from 0 to 5, representing the material of the roof for each row.

### Steps followed
1. Defined the weightage for each feature:
   - 'vegetation_overall': 0.25
   - 'Roof_Evidence_RF': 0.25
   - 'Roof_Type_RF': 0.25
   - 'Roof_Material_RF': 0.25


2. Calculated the score for each row:
   
   
 - Score = (vegetation_overall * weightage[vegetation_overall]) + (Roof_Evidence_RF * weightage [Roof_Evidence_RF]) + (Roof_Type_RF * weightage [Roof_Type_RF]) + (Roof_Material_RF * weightage [Roof_Material_RF]).














Limitation -:
Exposure/Hazard: MTBS have data from 1984-2021 but it does not have the data for each year for the given county.

Vulnerability: For Vulnerability we are trying to depict the same as in this research paper (A wildfire vulnerability index for buildings). In which they have used Physical Vulnerability Index (PVI) for buildings subject to wildfires followed a systematic approach. The indicators for the PVI were selected based on a literature review of factors and characteristics associated with the vulnerability of buildings to wildfires.
To facilitate comparison and normalization of the indicators, each indicator was given a score ranging from 1 to 5, indicating its contribution to the physical vulnerability of a building. Equal weighting is a commonly used approach in index development, but in this study, a statistical method called Boruta was employed to determine the weights of the indicators. Boruta is a permutation-based testing strategy that assesses the information content of indicators by comparing them to randomly permuted versions of the indicators.
Relevant indicators to be considered in the index and their weights.
Code	Indicator	Weight
I1	ROF_M	Roof material	w1	33%
I2	STRC_T	Structural type	w2	23%
I3	SLOP	Slope (Terrain)	w3	14%
I4	VEG	Vegetation	w4	8%
I5	ROF_LA	Roof-leaf accumulation	w5	6%
I6	SHUT	Shutter material	w6	6%
I7	M_GC	Main ground covering	w7	5%
I8	ROT_T	Roof type	w8	4%


				
But the Data what we have received from vendor doesnot have all the features and categories.
So, we have considered only ‘vegetation_overall', 'Roof_Evidence_RF', 'Roof_Type_RF', and 'Roof_Material_RF'. Where each column has a range of values from 0 to 5, and a weightage of 25% is assigned to each feature.





                                             ATTEMPT 3
->Used US Wildfire data from Kaggle which had data from 1992-2020 for 52 different states of US.
->Used this dataset to calculate the Hazard/Exposure.
->We have applied Poisson’s distribution to predict the Mean wildfire Occurrence.
->We calculated the Exposure score by taking the product of Mean wildfire Occurrence *and median burnt acres.
->Calculated the final vulnerability score as below:

















 Vulnerability
For vulnerability, we have the property data from the vendor we have calculated the score using the weightage method.
We have taken Vegetation around the building as the measure feature and it has direct relation to the wildfire. Apart from that we have divided other features into Primary and Secondary feature in which primary features contributes 75% to the score and secondary as 25%. Then we have multiplied this score to vegetation to get the final score. Later we multiply this score to exposure score of that particular county to get the vulnerability score.
Primary Feature with the Assumptions

Primary (75%)	weightage
Occupancy	15
Construction	45
Year Built	10
No of Building	5
Floor Area/Square foot area	15
Stories	10

Square Footage
 85: (1, 2000),
 90: (2001, 4000),
 95: (4001, 6000),
 100: (6001, float('inf'))
Story_Num_BU
 num_floors <= 3:80
 4 < num_floors <= 6:90
  num_floors >= 7:100
                                                                                              



Secondary Features with the Weightages and Assumption

Secondary (25%)	Weightage
Roof_Type_RF/geometry	5
Roof_Condition_RF	 
10
Roof_Material_RF	
DIS_Firestation_BU	10
Chimneys_RF	5
Air_Conditioner_RF	5
Skylights_RF	5
Tree_Overhang_RF	10
DIS_ClosestBuilding_BU	5
DIS_Trees_BU	10
DIS_Coast_BU	10
Pool_AR_PA	5
Temporary_pool_PA	
Yard_Debris_PA	10
DIS_WaterBody_BU	10

Roof type 
40: 'Hip', 
60:'Flat',
 80: 'Mix',
 100: 'Gable'
DIS_Firestation_BU /DIS_WaterBody_BU
    distance <= 0.2:60 
 # Assuming 0.2 miles as "Very Close" (approximately 1056 feet)
   0.2 < distance <= 0.5: 80 
# Assuming 0.5 miles as "Moderate Distance" (approximately 2640 feet)
   distance > 0.5:100


Air_Conditioner_RF
    70: (1, 2),
    85: (3, 5),
    90: (6, 8),
    100: (9, float('inf'))
Chimneys_RF
Yes:100
No:1

Tree_Overhang_RF
category ==0: 1
 category ==1: 60
 category ==2: 75
 category ==3: 90
 category ==4: 100

Skylights_RF
count==0:1
 1 <= count <= 3:80
 4 <= count <= 6:85
 7 <= count <= 10:95
  else:100


DIS_ClosestBuilding_BU
distance <= 65.62: 90    #20m
65.62 < distance <= 164.04: 70    #50m
 164.04 < distance <= 328.08 :50      #100m
 else:20
DIS_Trees_BU
distance <= 164.04:100 #50m
 164.04 <distance <= 328.08: 80
 328.08 < distance <= 492.13:50
 else:20
Yard_Debris_PA
 distance <= 5: 100
 5 <distance <=30:90
 30 < distance <= 100:70
    else:20
DIS_Coast_BU
distance <= 500: 60 #Feet
 500 <distance <= 2000:80
 distance> 2001:100





Roof_Material_RF
'Concrete': 20,
    'Metal': 20,
    'Shingle': 100,
    'Tile': 80
Roof_Condition_RF
'Bad': 100,
    'Damaged': 85,
    'Fair': 60,
    'Good': 30

Weight_material = 0.7 # 70% weight for Roof_Material_RF 
weight_condition = 0.30 # 30% weight for Roof_Condition_RF
df['Roof_Material_Condition'] = (df['Roof_Material_RFl_RF'] * weight_material) + (df['Roof_Condition_RF'] * weight_condition)
Temporary_pool_PA
distance <= 500:80 #Feet
500 <distance <= 1000:70
distance> 1000:60
    

Pool_AR_PA
distance <= 500:80 #Feet
 500 <distance <= 1000:70
 distance> 1000:60

weight_pool = 0.8 
weight_temporary_pool = 0.2 
#Calculate the combined risk as a weighted average of the percentages
df['Pools'] = (df['Pool_AR_PA'] * weight_pool) + (df['Temporary_pool_PA'] * weight_temporary_pool)

Vegetation (converted into km)
distance_km <= 5: 1.0 # 100% Total_Score
 5 < distance_km <= 50: 0.85  # 85% Total_Score
 50 < distance_km <= 200:0.6  # 60% Total_Score
200 < distance_km <= 500:0.2  # 20% Total_Score
    else: weight_vegetation = 0.0  # 0% Total_Score

Vegetation (converted into km)
distance_km <= 5: 1.0 # 100% Total_Score
 5 < distance_km <= 50: 0.85  # 85% Total_Score
 50 < distance_km <= 200:0.6  # 60% Total_Score
200 < distance_km <= 500:0.2  # 20% Total_Score
    else: weight_vegetation = 0.0  # 0% Total_Score

Total Vulnerability Score
Later we had Calculated the Total Vulnerability Score
 Total Score = Weight of Vegetation* [(0.75 * Primary risk score) +(0.25*Secondary risk Score)]

Final Scoring
For the Final scoring firstly, we have taken Hazard Exposure which is calculated by grouping county and [Mean wildfire occurrence * Median Burnt Acres] value and secondly, we have taken Total Vulnerability Score. By taking the product of both we get the Final Score.
                
         







 State wise final scoring with Categories

ST_ABBR_CD	Final_Score	score_category
CA	1.559142e+07	Extreme
TX	7.147917e+06	Extreme
AZ	3.577599e+06	Extreme
CO	4.700720e+05	Extreme
NV	4.449343e+05	Extreme
NY	4.047548e+05	Extreme
AL	2.881280e+05	Extreme
HI	2.871694e+05	Extreme
FL	2.856035e+05	Severe
OK	2.777929e+05	Severe
ID	2.681954e+05	Severe
UT	2.482054e+05	Severe
GA	2.410896e+05	Severe
SC	2.167609e+05	Severe
NM	1.503657e+05	Severe
NJ	1.203348e+05	Major
OR	1.178541e+05	Major


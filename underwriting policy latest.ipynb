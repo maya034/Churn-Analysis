{
 "cells": [
  {
   "cell_type": "code",
   "execution_count": 6,
   "id": "ec3d0b60",
   "metadata": {},
   "outputs": [
    {
     "name": "stdout",
     "output_type": "stream",
     "text": [
      "Note: you may need to restart the kernel to use updated packages.Requirement already satisfied: scikit-learn in c:\\users\\hp\\appdata\\local\\programs\\python\\python311\\lib\\site-packages (1.5.0)\n",
      "Requirement already satisfied: numpy>=1.19.5 in c:\\users\\hp\\appdata\\local\\programs\\python\\python311\\lib\\site-packages (from scikit-learn) (1.23.5)\n",
      "Requirement already satisfied: scipy>=1.6.0 in c:\\users\\hp\\appdata\\local\\programs\\python\\python311\\lib\\site-packages (from scikit-learn) (1.14.0)\n",
      "Requirement already satisfied: joblib>=1.2.0 in c:\\users\\hp\\appdata\\local\\programs\\python\\python311\\lib\\site-packages (from scikit-learn) (1.4.2)\n",
      "Requirement already satisfied: threadpoolctl>=3.1.0 in c:\\users\\hp\\appdata\\local\\programs\\python\\python311\\lib\\site-packages (from scikit-learn) (3.5.0)\n",
      "\n"
     ]
    },
    {
     "name": "stderr",
     "output_type": "stream",
     "text": [
      "\n",
      "[notice] A new release of pip available: 22.3.1 -> 24.1\n",
      "[notice] To update, run: python.exe -m pip install --upgrade pip\n"
     ]
    }
   ],
   "source": [
    "pip install scikit-learn\n"
   ]
  },
  {
   "cell_type": "code",
   "execution_count": 7,
   "id": "53bb4bb0",
   "metadata": {},
   "outputs": [],
   "source": [
    "import os"
   ]
  },
  {
   "cell_type": "code",
   "execution_count": 8,
   "id": "ca8520a4",
   "metadata": {},
   "outputs": [],
   "source": [
    "username = os.getlogin()"
   ]
  },
  {
   "cell_type": "code",
   "execution_count": 10,
   "id": "ec251eae",
   "metadata": {},
   "outputs": [],
   "source": [
    "import openpyxl"
   ]
  },
  {
   "cell_type": "code",
   "execution_count": 11,
   "id": "03d7c6fc",
   "metadata": {},
   "outputs": [],
   "source": [
    "import pandas as pd\n",
    "import numpy as np\n",
    "from faker import Faker\n",
    "import random"
   ]
  },
  {
   "cell_type": "code",
   "execution_count": 25,
   "id": "cb85fadf",
   "metadata": {},
   "outputs": [
    {
     "data": {
      "text/html": [
       "<div>\n",
       "<style scoped>\n",
       "    .dataframe tbody tr th:only-of-type {\n",
       "        vertical-align: middle;\n",
       "    }\n",
       "\n",
       "    .dataframe tbody tr th {\n",
       "        vertical-align: top;\n",
       "    }\n",
       "\n",
       "    .dataframe thead th {\n",
       "        text-align: right;\n",
       "    }\n",
       "</style>\n",
       "<table border=\"1\" class=\"dataframe\">\n",
       "  <thead>\n",
       "    <tr style=\"text-align: right;\">\n",
       "      <th></th>\n",
       "      <th>CITY_NME</th>\n",
       "      <th>ST_ABBR_CD</th>\n",
       "      <th>ZIP_CD</th>\n",
       "      <th>Distance_to_Coast</th>\n",
       "      <th>Fire_Risk_Zone</th>\n",
       "      <th>Hurricane_Risk_Zone</th>\n",
       "      <th>DIS_WaterBody_BU</th>\n",
       "      <th>DIS_Firestation_BU</th>\n",
       "      <th>Footprint_Area</th>\n",
       "      <th>Story_Num_BU</th>\n",
       "      <th>...</th>\n",
       "      <th>Age_of_Housing</th>\n",
       "      <th>Claim_History</th>\n",
       "      <th>Policy_Number</th>\n",
       "      <th>Policy_Start_Date</th>\n",
       "      <th>Policy_End_Date</th>\n",
       "      <th>Coverage_Type</th>\n",
       "      <th>Policy_Coverage_Amount</th>\n",
       "      <th>Deductible</th>\n",
       "      <th>Premium_Amount</th>\n",
       "      <th>Category</th>\n",
       "    </tr>\n",
       "  </thead>\n",
       "  <tbody>\n",
       "    <tr>\n",
       "      <th>0</th>\n",
       "      <td>CityC</td>\n",
       "      <td>StateX</td>\n",
       "      <td>84888</td>\n",
       "      <td>10.531256</td>\n",
       "      <td>Medium</td>\n",
       "      <td>Low</td>\n",
       "      <td>14.193105</td>\n",
       "      <td>3.198335</td>\n",
       "      <td>3249.095320</td>\n",
       "      <td>1</td>\n",
       "      <td>...</td>\n",
       "      <td>Mid-Age</td>\n",
       "      <td>1</td>\n",
       "      <td>894622</td>\n",
       "      <td>2016-08-21 12:32:54.283739</td>\n",
       "      <td>2032-08-12 12:32:54.288739</td>\n",
       "      <td>Premium</td>\n",
       "      <td>302174.861604</td>\n",
       "      <td>2829.708862</td>\n",
       "      <td>2346.147890</td>\n",
       "      <td>Medium</td>\n",
       "    </tr>\n",
       "    <tr>\n",
       "      <th>1</th>\n",
       "      <td>CityA</td>\n",
       "      <td>StateZ</td>\n",
       "      <td>59948</td>\n",
       "      <td>4.471027</td>\n",
       "      <td>Medium</td>\n",
       "      <td>Medium</td>\n",
       "      <td>13.338406</td>\n",
       "      <td>3.046111</td>\n",
       "      <td>3162.974191</td>\n",
       "      <td>2</td>\n",
       "      <td>...</td>\n",
       "      <td>New</td>\n",
       "      <td>0</td>\n",
       "      <td>176789</td>\n",
       "      <td>2020-11-11 12:32:54.282741</td>\n",
       "      <td>2033-07-04 12:32:54.287736</td>\n",
       "      <td>Standard</td>\n",
       "      <td>264298.212732</td>\n",
       "      <td>1272.945156</td>\n",
       "      <td>352.764977</td>\n",
       "      <td>Medium</td>\n",
       "    </tr>\n",
       "    <tr>\n",
       "      <th>2</th>\n",
       "      <td>CityC</td>\n",
       "      <td>StateZ</td>\n",
       "      <td>49553</td>\n",
       "      <td>37.671452</td>\n",
       "      <td>High</td>\n",
       "      <td>High</td>\n",
       "      <td>1.739081</td>\n",
       "      <td>9.001802</td>\n",
       "      <td>1250.136429</td>\n",
       "      <td>1</td>\n",
       "      <td>...</td>\n",
       "      <td>Mid-Age</td>\n",
       "      <td>4</td>\n",
       "      <td>179671</td>\n",
       "      <td>2015-09-30 12:32:54.310724</td>\n",
       "      <td>2028-10-26 12:32:54.332712</td>\n",
       "      <td>Basic</td>\n",
       "      <td>443537.078110</td>\n",
       "      <td>4254.291599</td>\n",
       "      <td>1761.122617</td>\n",
       "      <td>Hard</td>\n",
       "    </tr>\n",
       "    <tr>\n",
       "      <th>3</th>\n",
       "      <td>CityC</td>\n",
       "      <td>StateX</td>\n",
       "      <td>99017</td>\n",
       "      <td>57.947499</td>\n",
       "      <td>Low</td>\n",
       "      <td>Medium</td>\n",
       "      <td>1.884209</td>\n",
       "      <td>8.172790</td>\n",
       "      <td>2580.541771</td>\n",
       "      <td>1</td>\n",
       "      <td>...</td>\n",
       "      <td>Old</td>\n",
       "      <td>2</td>\n",
       "      <td>532867</td>\n",
       "      <td>2016-02-23 12:32:54.283739</td>\n",
       "      <td>2032-10-05 12:32:54.288739</td>\n",
       "      <td>Basic</td>\n",
       "      <td>230825.462248</td>\n",
       "      <td>1028.042179</td>\n",
       "      <td>757.726819</td>\n",
       "      <td>Medium</td>\n",
       "    </tr>\n",
       "    <tr>\n",
       "      <th>4</th>\n",
       "      <td>CityC</td>\n",
       "      <td>StateX</td>\n",
       "      <td>71045</td>\n",
       "      <td>6.765774</td>\n",
       "      <td>High</td>\n",
       "      <td>High</td>\n",
       "      <td>7.506762</td>\n",
       "      <td>8.677904</td>\n",
       "      <td>1384.552151</td>\n",
       "      <td>3</td>\n",
       "      <td>...</td>\n",
       "      <td>New</td>\n",
       "      <td>3</td>\n",
       "      <td>692377</td>\n",
       "      <td>2019-12-10 12:32:54.310724</td>\n",
       "      <td>2025-05-23 12:32:54.332712</td>\n",
       "      <td>Standard</td>\n",
       "      <td>445236.195732</td>\n",
       "      <td>3705.789289</td>\n",
       "      <td>1585.635672</td>\n",
       "      <td>Hard</td>\n",
       "    </tr>\n",
       "  </tbody>\n",
       "</table>\n",
       "<p>5 rows × 52 columns</p>\n",
       "</div>"
      ],
      "text/plain": [
       "  CITY_NME ST_ABBR_CD  ZIP_CD  Distance_to_Coast Fire_Risk_Zone  \\\n",
       "0    CityC     StateX   84888          10.531256         Medium   \n",
       "1    CityA     StateZ   59948           4.471027         Medium   \n",
       "2    CityC     StateZ   49553          37.671452           High   \n",
       "3    CityC     StateX   99017          57.947499            Low   \n",
       "4    CityC     StateX   71045           6.765774           High   \n",
       "\n",
       "  Hurricane_Risk_Zone  DIS_WaterBody_BU  DIS_Firestation_BU  Footprint_Area  \\\n",
       "0                 Low         14.193105            3.198335     3249.095320   \n",
       "1              Medium         13.338406            3.046111     3162.974191   \n",
       "2                High          1.739081            9.001802     1250.136429   \n",
       "3              Medium          1.884209            8.172790     2580.541771   \n",
       "4                High          7.506762            8.677904     1384.552151   \n",
       "\n",
       "   Story_Num_BU  ...  Age_of_Housing  Claim_History  Policy_Number  \\\n",
       "0             1  ...         Mid-Age              1         894622   \n",
       "1             2  ...             New              0         176789   \n",
       "2             1  ...         Mid-Age              4         179671   \n",
       "3             1  ...             Old              2         532867   \n",
       "4             3  ...             New              3         692377   \n",
       "\n",
       "           Policy_Start_Date            Policy_End_Date Coverage_Type  \\\n",
       "0 2016-08-21 12:32:54.283739 2032-08-12 12:32:54.288739       Premium   \n",
       "1 2020-11-11 12:32:54.282741 2033-07-04 12:32:54.287736      Standard   \n",
       "2 2015-09-30 12:32:54.310724 2028-10-26 12:32:54.332712         Basic   \n",
       "3 2016-02-23 12:32:54.283739 2032-10-05 12:32:54.288739         Basic   \n",
       "4 2019-12-10 12:32:54.310724 2025-05-23 12:32:54.332712      Standard   \n",
       "\n",
       "  Policy_Coverage_Amount   Deductible Premium_Amount Category  \n",
       "0          302174.861604  2829.708862    2346.147890   Medium  \n",
       "1          264298.212732  1272.945156     352.764977   Medium  \n",
       "2          443537.078110  4254.291599    1761.122617     Hard  \n",
       "3          230825.462248  1028.042179     757.726819   Medium  \n",
       "4          445236.195732  3705.789289    1585.635672     Hard  \n",
       "\n",
       "[5 rows x 52 columns]"
      ]
     },
     "execution_count": 25,
     "metadata": {},
     "output_type": "execute_result"
    }
   ],
   "source": [
    "import pandas as pd\n",
    "import numpy as np\n",
    "from datetime import datetime, timedelta\n",
    "\n",
    "# Set the random seed for reproducibility\n",
    "np.random.seed(42)\n",
    "\n",
    "# Define the number of rows\n",
    "num_samples = 1000\n",
    "samples_per_category = num_samples // 3\n",
    "\n",
    "# Generate synthetic data\n",
    "def generate_data(samples):\n",
    "    data = {\n",
    "        'CITY_NME': np.random.choice(['CityA', 'CityB', 'CityC'], size=samples),\n",
    "        'ST_ABBR_CD': np.random.choice(['StateX', 'StateY', 'StateZ'], size=samples),\n",
    "        'ZIP_CD': np.random.randint(10000, 99999, size=samples),\n",
    "        'Distance_to_Coast': np.random.uniform(0, 100, size=samples),\n",
    "        'Fire_Risk_Zone': np.random.choice(['Low', 'Medium', 'High'], size=samples),\n",
    "        'Hurricane_Risk_Zone': np.random.choice(['Low', 'Medium', 'High'], size=samples),\n",
    "        'DIS_WaterBody_BU': np.random.uniform(0.5, 15, size=samples),\n",
    "        'DIS_Firestation_BU': np.random.uniform(0.5, 10, size=samples),\n",
    "        'Footprint_Area': np.random.uniform(500, 3500, size=samples),\n",
    "        'Story_Num_BU': np.random.randint(1, 4, size=samples),\n",
    "        'Square_Footage': np.random.uniform(1000, 5000, size=samples),\n",
    "        'Building_Height_BU': np.random.uniform(10, 35, size=samples),\n",
    "        'Ground_Height_BU': np.random.uniform(2, 10, size=samples),\n",
    "        'Year_Built': np.random.randint(1950, 2021, size=samples),\n",
    "        'No_of_Buildings': np.random.randint(1, 5, size=samples),\n",
    "        'Construction': np.random.choice(['Wood', 'Concrete', 'Steel'], size=samples),\n",
    "        'Roof_Type_RF': np.random.choice(['Flat', 'Pitched'], size=samples),\n",
    "        'Roof_Material_RF': np.random.choice(['Asphalt', 'Tile', 'Metal'], size=samples),\n",
    "        'Roof_Condition_RF': np.random.choice(['New', 'Good', 'Worn'], size=samples),\n",
    "        'Roof_Material_Condition': np.random.choice(['Undamaged', 'Minor Damage', 'Major Damage'], size=samples),\n",
    "        'Roof_Evidence_RF': np.random.choice(['None', 'Minor', 'Major'], size=samples),\n",
    "        'Tree_Height_BU': np.random.uniform(5, 20, size=samples),\n",
    "        'Elevation': np.random.uniform(10, 500, size=samples),\n",
    "        'Solar_Panels_RF': np.random.choice([True, False], size=samples),\n",
    "        'Air_Conditioner_RF': np.random.choice([True, False], size=samples),\n",
    "        'Skylights_RF': np.random.choice([True, False], size=samples),\n",
    "        'Chimneys_RF': np.random.choice([True, False], size=samples),\n",
    "        'Tree_Overhang_RF': np.random.choice([True, False], size=samples),\n",
    "        'Gable_Wall_DI_RF': np.random.choice(['Intact', 'Damaged'], size=samples),\n",
    "        'DIS_ClosestBuilding_BU': np.random.uniform(0, 50, size=samples),\n",
    "        'DIS_Vegetation_BU': np.random.uniform(0, 50, size=samples),\n",
    "        'DIS_Trees_BU': np.random.uniform(0, 50, size=samples),\n",
    "        'Pool_AR_PA': np.random.uniform(0, 500, size=samples),\n",
    "        'Pool_Enclosure_PA': np.random.choice([True, False], size=samples),\n",
    "        'Temporary_Pool_PA': np.random.choice([True, False], size=samples),\n",
    "        'Trampoline_PA': np.random.choice([True, False], size=samples),\n",
    "        'Yard_Debris_PA': np.random.choice(['None', 'Some', 'A lot'], size=samples),\n",
    "        'Pools': np.random.choice(['None', 'Outdoor', 'Indoor', 'Both'], size=samples),\n",
    "        'Tree_Coverage': np.random.uniform(0, 100, size=samples),\n",
    "        'Population_Density': np.random.uniform(100, 5000, size=samples),\n",
    "        'Median_Income': np.random.uniform(30000, 120000, size=samples),\n",
    "        'Education_Level': np.random.choice(['High School', 'College', 'Bachelor', 'Master'], size=samples),\n",
    "        'Age_of_Housing': np.random.choice(['New', 'Mid-Age', 'Old'], size=samples),\n",
    "        'Claim_History': np.random.randint(0, 5, size=samples),\n",
    "        'Policy_Number': np.random.randint(100000, 999999, size=samples),\n",
    "        'Policy_Start_Date': [datetime.now() - timedelta(days=np.random.randint(365, 3650)) for _ in range(samples)],\n",
    "        'Policy_End_Date': [datetime.now() + timedelta(days=np.random.randint(30, 3650)) for _ in range(samples)],\n",
    "        'Coverage_Type': np.random.choice(['Basic', 'Standard', 'Premium'], size=samples),\n",
    "        'Policy_Coverage_Amount': np.random.uniform(100000, 500000, size=samples),\n",
    "        'Deductible': np.random.uniform(500, 5000, size=samples),\n",
    "        'Premium_Amount': np.random.uniform(300, 3000, size=samples)\n",
    "    }\n",
    "    return pd.DataFrame(data)\n",
    "\n",
    "# Generate data for each category\n",
    "df_easy = generate_data(samples_per_category)\n",
    "df_medium = generate_data(samples_per_category)\n",
    "df_hard = generate_data(samples_per_category)\n",
    "\n",
    "# Assign categories\n",
    "df_easy['Fire_Risk_Zone'] = 'Low'\n",
    "df_easy['Hurricane_Risk_Zone'] = 'Low'\n",
    "df_easy['Roof_Condition_RF'] = 'New'\n",
    "df_easy['Policy_Coverage_Amount'] = np.random.uniform(50000, 200000, samples_per_category)\n",
    "df_easy['Claim_History'] = np.random.randint(0, 2, samples_per_category)\n",
    "df_easy['Category'] = 'Easy'\n",
    "\n",
    "df_medium['Fire_Risk_Zone'] = np.random.choice(['Medium', 'Low'], size=samples_per_category)\n",
    "df_medium['Hurricane_Risk_Zone'] = np.random.choice(['Medium', 'Low'], size=samples_per_category)\n",
    "df_medium['Roof_Condition_RF'] = np.random.choice(['Good', 'New'], size=samples_per_category)\n",
    "df_medium['Policy_Coverage_Amount'] = np.random.uniform(200001, 350000, samples_per_category)\n",
    "df_medium['Claim_History'] = np.random.randint(0, 3, samples_per_category)\n",
    "df_medium['Category'] = 'Medium'\n",
    "\n",
    "df_hard['Fire_Risk_Zone'] = 'High'\n",
    "df_hard['Hurricane_Risk_Zone'] = 'High'\n",
    "df_hard['Roof_Condition_RF'] = np.random.choice(['Worn', 'Good'], size=samples_per_category)\n",
    "df_hard['Policy_Coverage_Amount'] = np.random.uniform(350001, 500000, samples_per_category)\n",
    "df_hard['Claim_History'] = np.random.randint(3, 5, samples_per_category)\n",
    "df_hard['Category'] = 'Hard'\n",
    "\n",
    "# Combine the dataframes\n",
    "df_combined = pd.concat([df_easy, df_medium, df_hard]).sample(frac=1).reset_index(drop=True)\n",
    "\n",
    "\n",
    "\n",
    "df_combined.head()  # Display the first few rows of the combined dataframe to verify\n"
   ]
  },
  {
   "cell_type": "code",
   "execution_count": 20,
   "id": "dbb81d25",
   "metadata": {},
   "outputs": [
    {
     "data": {
      "text/html": [
       "<div>\n",
       "<style scoped>\n",
       "    .dataframe tbody tr th:only-of-type {\n",
       "        vertical-align: middle;\n",
       "    }\n",
       "\n",
       "    .dataframe tbody tr th {\n",
       "        vertical-align: top;\n",
       "    }\n",
       "\n",
       "    .dataframe thead th {\n",
       "        text-align: right;\n",
       "    }\n",
       "</style>\n",
       "<table border=\"1\" class=\"dataframe\">\n",
       "  <thead>\n",
       "    <tr style=\"text-align: right;\">\n",
       "      <th></th>\n",
       "      <th>CITY_NME</th>\n",
       "      <th>ST_ABBR_CD</th>\n",
       "      <th>ZIP_CD</th>\n",
       "      <th>Distance_to_Coast</th>\n",
       "      <th>Fire_Risk_Zone</th>\n",
       "      <th>Hurricane_Risk_Zone</th>\n",
       "      <th>DIS_WaterBody_BU</th>\n",
       "      <th>DIS_Firestation_BU</th>\n",
       "      <th>Footprint_Area</th>\n",
       "      <th>Story_Num_BU</th>\n",
       "      <th>...</th>\n",
       "      <th>Age_of_Housing</th>\n",
       "      <th>Claim_History</th>\n",
       "      <th>Policy_Number</th>\n",
       "      <th>Policy_Start_Date</th>\n",
       "      <th>Policy_End_Date</th>\n",
       "      <th>Coverage_Type</th>\n",
       "      <th>Policy_Coverage_Amount</th>\n",
       "      <th>Deductible</th>\n",
       "      <th>Premium_Amount</th>\n",
       "      <th>Category</th>\n",
       "    </tr>\n",
       "  </thead>\n",
       "  <tbody>\n",
       "    <tr>\n",
       "      <th>0</th>\n",
       "      <td>CityC</td>\n",
       "      <td>StateX</td>\n",
       "      <td>84888</td>\n",
       "      <td>10.531256</td>\n",
       "      <td>Medium</td>\n",
       "      <td>Low</td>\n",
       "      <td>14.193105</td>\n",
       "      <td>3.198335</td>\n",
       "      <td>3249.095320</td>\n",
       "      <td>1</td>\n",
       "      <td>...</td>\n",
       "      <td>Mid-Age</td>\n",
       "      <td>1</td>\n",
       "      <td>894622</td>\n",
       "      <td>2016-08-21 12:29:16.941449</td>\n",
       "      <td>2032-08-12 12:29:16.945445</td>\n",
       "      <td>Premium</td>\n",
       "      <td>302174.861604</td>\n",
       "      <td>2829.708862</td>\n",
       "      <td>2346.147890</td>\n",
       "      <td>Medium</td>\n",
       "    </tr>\n",
       "    <tr>\n",
       "      <th>1</th>\n",
       "      <td>CityA</td>\n",
       "      <td>StateZ</td>\n",
       "      <td>59948</td>\n",
       "      <td>4.471027</td>\n",
       "      <td>Medium</td>\n",
       "      <td>Medium</td>\n",
       "      <td>13.338406</td>\n",
       "      <td>3.046111</td>\n",
       "      <td>3162.974191</td>\n",
       "      <td>2</td>\n",
       "      <td>...</td>\n",
       "      <td>New</td>\n",
       "      <td>0</td>\n",
       "      <td>176789</td>\n",
       "      <td>2020-11-11 12:29:16.940451</td>\n",
       "      <td>2033-07-04 12:29:16.944446</td>\n",
       "      <td>Standard</td>\n",
       "      <td>264298.212732</td>\n",
       "      <td>1272.945156</td>\n",
       "      <td>352.764977</td>\n",
       "      <td>Medium</td>\n",
       "    </tr>\n",
       "    <tr>\n",
       "      <th>2</th>\n",
       "      <td>CityC</td>\n",
       "      <td>StateZ</td>\n",
       "      <td>49553</td>\n",
       "      <td>37.671452</td>\n",
       "      <td>High</td>\n",
       "      <td>High</td>\n",
       "      <td>1.739081</td>\n",
       "      <td>9.001802</td>\n",
       "      <td>1250.136429</td>\n",
       "      <td>1</td>\n",
       "      <td>...</td>\n",
       "      <td>Mid-Age</td>\n",
       "      <td>4</td>\n",
       "      <td>179671</td>\n",
       "      <td>2015-09-30 12:29:16.962435</td>\n",
       "      <td>2028-10-26 12:29:16.964435</td>\n",
       "      <td>Basic</td>\n",
       "      <td>443537.078110</td>\n",
       "      <td>4254.291599</td>\n",
       "      <td>1761.122617</td>\n",
       "      <td>Hard</td>\n",
       "    </tr>\n",
       "    <tr>\n",
       "      <th>3</th>\n",
       "      <td>CityC</td>\n",
       "      <td>StateX</td>\n",
       "      <td>99017</td>\n",
       "      <td>57.947499</td>\n",
       "      <td>Low</td>\n",
       "      <td>Medium</td>\n",
       "      <td>1.884209</td>\n",
       "      <td>8.172790</td>\n",
       "      <td>2580.541771</td>\n",
       "      <td>1</td>\n",
       "      <td>...</td>\n",
       "      <td>Old</td>\n",
       "      <td>2</td>\n",
       "      <td>532867</td>\n",
       "      <td>2016-02-23 12:29:16.941449</td>\n",
       "      <td>2032-10-05 12:29:16.945445</td>\n",
       "      <td>Basic</td>\n",
       "      <td>230825.462248</td>\n",
       "      <td>1028.042179</td>\n",
       "      <td>757.726819</td>\n",
       "      <td>Medium</td>\n",
       "    </tr>\n",
       "    <tr>\n",
       "      <th>4</th>\n",
       "      <td>CityC</td>\n",
       "      <td>StateX</td>\n",
       "      <td>71045</td>\n",
       "      <td>6.765774</td>\n",
       "      <td>High</td>\n",
       "      <td>High</td>\n",
       "      <td>7.506762</td>\n",
       "      <td>8.677904</td>\n",
       "      <td>1384.552151</td>\n",
       "      <td>3</td>\n",
       "      <td>...</td>\n",
       "      <td>New</td>\n",
       "      <td>3</td>\n",
       "      <td>692377</td>\n",
       "      <td>2019-12-10 12:29:16.962435</td>\n",
       "      <td>2025-05-23 12:29:16.964435</td>\n",
       "      <td>Standard</td>\n",
       "      <td>445236.195732</td>\n",
       "      <td>3705.789289</td>\n",
       "      <td>1585.635672</td>\n",
       "      <td>Hard</td>\n",
       "    </tr>\n",
       "    <tr>\n",
       "      <th>...</th>\n",
       "      <td>...</td>\n",
       "      <td>...</td>\n",
       "      <td>...</td>\n",
       "      <td>...</td>\n",
       "      <td>...</td>\n",
       "      <td>...</td>\n",
       "      <td>...</td>\n",
       "      <td>...</td>\n",
       "      <td>...</td>\n",
       "      <td>...</td>\n",
       "      <td>...</td>\n",
       "      <td>...</td>\n",
       "      <td>...</td>\n",
       "      <td>...</td>\n",
       "      <td>...</td>\n",
       "      <td>...</td>\n",
       "      <td>...</td>\n",
       "      <td>...</td>\n",
       "      <td>...</td>\n",
       "      <td>...</td>\n",
       "      <td>...</td>\n",
       "    </tr>\n",
       "    <tr>\n",
       "      <th>994</th>\n",
       "      <td>CityA</td>\n",
       "      <td>StateZ</td>\n",
       "      <td>13415</td>\n",
       "      <td>19.210764</td>\n",
       "      <td>Medium</td>\n",
       "      <td>Low</td>\n",
       "      <td>3.043134</td>\n",
       "      <td>2.425538</td>\n",
       "      <td>1477.506319</td>\n",
       "      <td>2</td>\n",
       "      <td>...</td>\n",
       "      <td>New</td>\n",
       "      <td>0</td>\n",
       "      <td>213031</td>\n",
       "      <td>2020-11-09 12:29:16.939450</td>\n",
       "      <td>2026-10-23 12:29:16.943447</td>\n",
       "      <td>Basic</td>\n",
       "      <td>258374.329986</td>\n",
       "      <td>4449.117326</td>\n",
       "      <td>2109.003006</td>\n",
       "      <td>Medium</td>\n",
       "    </tr>\n",
       "    <tr>\n",
       "      <th>995</th>\n",
       "      <td>CityA</td>\n",
       "      <td>StateX</td>\n",
       "      <td>71642</td>\n",
       "      <td>6.649627</td>\n",
       "      <td>Low</td>\n",
       "      <td>Low</td>\n",
       "      <td>7.756457</td>\n",
       "      <td>1.582588</td>\n",
       "      <td>2918.587643</td>\n",
       "      <td>1</td>\n",
       "      <td>...</td>\n",
       "      <td>New</td>\n",
       "      <td>0</td>\n",
       "      <td>895907</td>\n",
       "      <td>2016-07-24 12:29:16.900471</td>\n",
       "      <td>2031-04-04 12:29:16.906467</td>\n",
       "      <td>Basic</td>\n",
       "      <td>185424.832698</td>\n",
       "      <td>1973.962719</td>\n",
       "      <td>1565.165472</td>\n",
       "      <td>Easy</td>\n",
       "    </tr>\n",
       "    <tr>\n",
       "      <th>996</th>\n",
       "      <td>CityB</td>\n",
       "      <td>StateX</td>\n",
       "      <td>90421</td>\n",
       "      <td>94.028810</td>\n",
       "      <td>High</td>\n",
       "      <td>High</td>\n",
       "      <td>7.651105</td>\n",
       "      <td>1.766513</td>\n",
       "      <td>1749.601692</td>\n",
       "      <td>2</td>\n",
       "      <td>...</td>\n",
       "      <td>Mid-Age</td>\n",
       "      <td>3</td>\n",
       "      <td>681431</td>\n",
       "      <td>2015-05-15 12:29:16.963436</td>\n",
       "      <td>2032-02-09 12:29:16.965433</td>\n",
       "      <td>Premium</td>\n",
       "      <td>452306.166812</td>\n",
       "      <td>3683.988771</td>\n",
       "      <td>950.493885</td>\n",
       "      <td>Hard</td>\n",
       "    </tr>\n",
       "    <tr>\n",
       "      <th>997</th>\n",
       "      <td>CityC</td>\n",
       "      <td>StateY</td>\n",
       "      <td>86022</td>\n",
       "      <td>68.341613</td>\n",
       "      <td>Low</td>\n",
       "      <td>Medium</td>\n",
       "      <td>3.010168</td>\n",
       "      <td>1.678028</td>\n",
       "      <td>1718.131727</td>\n",
       "      <td>2</td>\n",
       "      <td>...</td>\n",
       "      <td>Mid-Age</td>\n",
       "      <td>2</td>\n",
       "      <td>189364</td>\n",
       "      <td>2019-01-24 12:29:16.941449</td>\n",
       "      <td>2028-04-26 12:29:16.945445</td>\n",
       "      <td>Premium</td>\n",
       "      <td>243530.991939</td>\n",
       "      <td>601.874705</td>\n",
       "      <td>967.826658</td>\n",
       "      <td>Medium</td>\n",
       "    </tr>\n",
       "    <tr>\n",
       "      <th>998</th>\n",
       "      <td>CityB</td>\n",
       "      <td>StateY</td>\n",
       "      <td>29087</td>\n",
       "      <td>35.883048</td>\n",
       "      <td>Low</td>\n",
       "      <td>Low</td>\n",
       "      <td>8.466506</td>\n",
       "      <td>4.192202</td>\n",
       "      <td>718.012615</td>\n",
       "      <td>2</td>\n",
       "      <td>...</td>\n",
       "      <td>New</td>\n",
       "      <td>1</td>\n",
       "      <td>706990</td>\n",
       "      <td>2014-12-07 12:29:16.902480</td>\n",
       "      <td>2026-09-01 12:29:16.906467</td>\n",
       "      <td>Basic</td>\n",
       "      <td>176655.668030</td>\n",
       "      <td>3932.849651</td>\n",
       "      <td>1934.581004</td>\n",
       "      <td>Easy</td>\n",
       "    </tr>\n",
       "  </tbody>\n",
       "</table>\n",
       "<p>999 rows × 52 columns</p>\n",
       "</div>"
      ],
      "text/plain": [
       "    CITY_NME ST_ABBR_CD  ZIP_CD  Distance_to_Coast Fire_Risk_Zone  \\\n",
       "0      CityC     StateX   84888          10.531256         Medium   \n",
       "1      CityA     StateZ   59948           4.471027         Medium   \n",
       "2      CityC     StateZ   49553          37.671452           High   \n",
       "3      CityC     StateX   99017          57.947499            Low   \n",
       "4      CityC     StateX   71045           6.765774           High   \n",
       "..       ...        ...     ...                ...            ...   \n",
       "994    CityA     StateZ   13415          19.210764         Medium   \n",
       "995    CityA     StateX   71642           6.649627            Low   \n",
       "996    CityB     StateX   90421          94.028810           High   \n",
       "997    CityC     StateY   86022          68.341613            Low   \n",
       "998    CityB     StateY   29087          35.883048            Low   \n",
       "\n",
       "    Hurricane_Risk_Zone  DIS_WaterBody_BU  DIS_Firestation_BU  Footprint_Area  \\\n",
       "0                   Low         14.193105            3.198335     3249.095320   \n",
       "1                Medium         13.338406            3.046111     3162.974191   \n",
       "2                  High          1.739081            9.001802     1250.136429   \n",
       "3                Medium          1.884209            8.172790     2580.541771   \n",
       "4                  High          7.506762            8.677904     1384.552151   \n",
       "..                  ...               ...                 ...             ...   \n",
       "994                 Low          3.043134            2.425538     1477.506319   \n",
       "995                 Low          7.756457            1.582588     2918.587643   \n",
       "996                High          7.651105            1.766513     1749.601692   \n",
       "997              Medium          3.010168            1.678028     1718.131727   \n",
       "998                 Low          8.466506            4.192202      718.012615   \n",
       "\n",
       "     Story_Num_BU  ...  Age_of_Housing  Claim_History  Policy_Number  \\\n",
       "0               1  ...         Mid-Age              1         894622   \n",
       "1               2  ...             New              0         176789   \n",
       "2               1  ...         Mid-Age              4         179671   \n",
       "3               1  ...             Old              2         532867   \n",
       "4               3  ...             New              3         692377   \n",
       "..            ...  ...             ...            ...            ...   \n",
       "994             2  ...             New              0         213031   \n",
       "995             1  ...             New              0         895907   \n",
       "996             2  ...         Mid-Age              3         681431   \n",
       "997             2  ...         Mid-Age              2         189364   \n",
       "998             2  ...             New              1         706990   \n",
       "\n",
       "             Policy_Start_Date            Policy_End_Date Coverage_Type  \\\n",
       "0   2016-08-21 12:29:16.941449 2032-08-12 12:29:16.945445       Premium   \n",
       "1   2020-11-11 12:29:16.940451 2033-07-04 12:29:16.944446      Standard   \n",
       "2   2015-09-30 12:29:16.962435 2028-10-26 12:29:16.964435         Basic   \n",
       "3   2016-02-23 12:29:16.941449 2032-10-05 12:29:16.945445         Basic   \n",
       "4   2019-12-10 12:29:16.962435 2025-05-23 12:29:16.964435      Standard   \n",
       "..                         ...                        ...           ...   \n",
       "994 2020-11-09 12:29:16.939450 2026-10-23 12:29:16.943447         Basic   \n",
       "995 2016-07-24 12:29:16.900471 2031-04-04 12:29:16.906467         Basic   \n",
       "996 2015-05-15 12:29:16.963436 2032-02-09 12:29:16.965433       Premium   \n",
       "997 2019-01-24 12:29:16.941449 2028-04-26 12:29:16.945445       Premium   \n",
       "998 2014-12-07 12:29:16.902480 2026-09-01 12:29:16.906467         Basic   \n",
       "\n",
       "    Policy_Coverage_Amount   Deductible Premium_Amount Category  \n",
       "0            302174.861604  2829.708862    2346.147890   Medium  \n",
       "1            264298.212732  1272.945156     352.764977   Medium  \n",
       "2            443537.078110  4254.291599    1761.122617     Hard  \n",
       "3            230825.462248  1028.042179     757.726819   Medium  \n",
       "4            445236.195732  3705.789289    1585.635672     Hard  \n",
       "..                     ...          ...            ...      ...  \n",
       "994          258374.329986  4449.117326    2109.003006   Medium  \n",
       "995          185424.832698  1973.962719    1565.165472     Easy  \n",
       "996          452306.166812  3683.988771     950.493885     Hard  \n",
       "997          243530.991939   601.874705     967.826658   Medium  \n",
       "998          176655.668030  3932.849651    1934.581004     Easy  \n",
       "\n",
       "[999 rows x 52 columns]"
      ]
     },
     "execution_count": 20,
     "metadata": {},
     "output_type": "execute_result"
    }
   ],
   "source": [
    "df_combined"
   ]
  },
  {
   "cell_type": "code",
   "execution_count": 26,
   "id": "97088039",
   "metadata": {},
   "outputs": [
    {
     "data": {
      "text/plain": [
       "Medium    333\n",
       "Hard      333\n",
       "Easy      333\n",
       "Name: Category, dtype: int64"
      ]
     },
     "execution_count": 26,
     "metadata": {},
     "output_type": "execute_result"
    }
   ],
   "source": [
    "df_combined['Category'].value_counts()"
   ]
  },
  {
   "cell_type": "code",
   "execution_count": 16,
   "id": "b2059e96",
   "metadata": {},
   "outputs": [],
   "source": [
    "file_path = f'C:/Users/{username}/Documents/undwerwriter.xlsx'  "
   ]
  },
  {
   "cell_type": "code",
   "execution_count": 17,
   "id": "72aa7542",
   "metadata": {},
   "outputs": [],
   "source": [
    "df_combined.to_excel(file_path, index=False)"
   ]
  },
  {
   "cell_type": "code",
   "execution_count": 28,
   "id": "1e51a6c4",
   "metadata": {},
   "outputs": [
    {
     "name": "stdout",
     "output_type": "stream",
     "text": [
      "Column names of the dataframe:\n",
      "Index(['CITY_NME', 'ST_ABBR_CD', 'ZIP_CD', 'Distance_to_Coast',\n",
      "       'Fire_Risk_Zone', 'Hurricane_Risk_Zone', 'DIS_WaterBody_BU',\n",
      "       'DIS_Firestation_BU', 'Footprint_Area', 'Story_Num_BU',\n",
      "       'Square_Footage', 'Building_Height_BU', 'Ground_Height_BU',\n",
      "       'Year_Built', 'No_of_Buildings', 'Construction', 'Roof_Type_RF',\n",
      "       'Roof_Material_RF', 'Roof_Condition_RF', 'Roof_Material_Condition',\n",
      "       'Roof_Evidence_RF', 'Tree_Height_BU', 'Elevation', 'Solar_Panels_RF',\n",
      "       'Air_Conditioner_RF', 'Skylights_RF', 'Chimneys_RF', 'Tree_Overhang_RF',\n",
      "       'Gable_Wall_DI_RF', 'DIS_ClosestBuilding_BU', 'DIS_Vegetation_BU',\n",
      "       'DIS_Trees_BU', 'Pool_AR_PA', 'Pool_Enclosure_PA', 'Temporary_Pool_PA',\n",
      "       'Trampoline_PA', 'Yard_Debris_PA', 'Pools', 'Tree_Coverage',\n",
      "       'Population_Density', 'Median_Income', 'Education_Level',\n",
      "       'Age_of_Housing', 'Claim_History', 'Policy_Number', 'Policy_Start_Date',\n",
      "       'Policy_End_Date', 'Coverage_Type', 'Policy_Coverage_Amount',\n",
      "       'Deductible', 'Premium_Amount', 'Category'],\n",
      "      dtype='object')\n",
      "Missing values in the dataframe:\n",
      "Series([], dtype: int64)\n",
      "Using 'Category' as the target column.\n",
      "Columns before one-hot encoding: Index(['CITY_NME', 'ST_ABBR_CD', 'ZIP_CD', 'Distance_to_Coast',\n",
      "       'Fire_Risk_Zone', 'Hurricane_Risk_Zone', 'DIS_WaterBody_BU',\n",
      "       'DIS_Firestation_BU', 'Footprint_Area', 'Story_Num_BU',\n",
      "       'Square_Footage', 'Building_Height_BU', 'Ground_Height_BU',\n",
      "       'Year_Built', 'No_of_Buildings', 'Construction', 'Roof_Type_RF',\n",
      "       'Roof_Material_RF', 'Roof_Condition_RF', 'Roof_Material_Condition',\n",
      "       'Roof_Evidence_RF', 'Tree_Height_BU', 'Elevation', 'Solar_Panels_RF',\n",
      "       'Air_Conditioner_RF', 'Skylights_RF', 'Chimneys_RF', 'Tree_Overhang_RF',\n",
      "       'Gable_Wall_DI_RF', 'DIS_ClosestBuilding_BU', 'DIS_Vegetation_BU',\n",
      "       'DIS_Trees_BU', 'Pool_AR_PA', 'Pool_Enclosure_PA', 'Temporary_Pool_PA',\n",
      "       'Trampoline_PA', 'Yard_Debris_PA', 'Pools', 'Tree_Coverage',\n",
      "       'Population_Density', 'Median_Income', 'Education_Level',\n",
      "       'Age_of_Housing', 'Claim_History', 'Policy_Number', 'Policy_Start_Date',\n",
      "       'Policy_End_Date', 'Coverage_Type', 'Policy_Coverage_Amount',\n",
      "       'Deductible', 'Premium_Amount', 'Category'],\n",
      "      dtype='object')\n",
      "Columns after one-hot encoding: Index(['ZIP_CD', 'Distance_to_Coast', 'DIS_WaterBody_BU', 'DIS_Firestation_BU',\n",
      "       'Footprint_Area', 'Story_Num_BU', 'Square_Footage',\n",
      "       'Building_Height_BU', 'Ground_Height_BU', 'Year_Built',\n",
      "       'No_of_Buildings', 'Tree_Height_BU', 'Elevation', 'Solar_Panels_RF',\n",
      "       'Air_Conditioner_RF', 'Skylights_RF', 'Chimneys_RF', 'Tree_Overhang_RF',\n",
      "       'DIS_ClosestBuilding_BU', 'DIS_Vegetation_BU', 'DIS_Trees_BU',\n",
      "       'Pool_AR_PA', 'Pool_Enclosure_PA', 'Temporary_Pool_PA', 'Trampoline_PA',\n",
      "       'Tree_Coverage', 'Population_Density', 'Median_Income', 'Claim_History',\n",
      "       'Policy_Number', 'Policy_Start_Date', 'Policy_End_Date',\n",
      "       'Policy_Coverage_Amount', 'Deductible', 'Premium_Amount', 'Category',\n",
      "       'CITY_NME_CityB', 'CITY_NME_CityC', 'ST_ABBR_CD_StateY',\n",
      "       'ST_ABBR_CD_StateZ', 'Fire_Risk_Zone_Low', 'Fire_Risk_Zone_Medium',\n",
      "       'Hurricane_Risk_Zone_Low', 'Hurricane_Risk_Zone_Medium',\n",
      "       'Construction_Steel', 'Construction_Wood', 'Roof_Type_RF_Pitched',\n",
      "       'Roof_Material_RF_Metal', 'Roof_Material_RF_Tile',\n",
      "       'Roof_Condition_RF_New', 'Roof_Condition_RF_Worn',\n",
      "       'Roof_Material_Condition_Minor Damage',\n",
      "       'Roof_Material_Condition_Undamaged', 'Roof_Evidence_RF_Minor',\n",
      "       'Roof_Evidence_RF_None', 'Gable_Wall_DI_RF_Intact',\n",
      "       'Yard_Debris_PA_None', 'Yard_Debris_PA_Some', 'Pools_Indoor',\n",
      "       'Pools_None', 'Pools_Outdoor', 'Education_Level_College',\n",
      "       'Education_Level_High School', 'Education_Level_Master',\n",
      "       'Age_of_Housing_New', 'Age_of_Housing_Old', 'Coverage_Type_Premium',\n",
      "       'Coverage_Type_Standard'],\n",
      "      dtype='object')\n",
      "Columns after preprocessing: Index(['ZIP_CD', 'Distance_to_Coast', 'DIS_WaterBody_BU', 'DIS_Firestation_BU',\n",
      "       'Footprint_Area', 'Story_Num_BU', 'Square_Footage',\n",
      "       'Building_Height_BU', 'Ground_Height_BU', 'Year_Built',\n",
      "       'No_of_Buildings', 'Tree_Height_BU', 'Elevation', 'Solar_Panels_RF',\n",
      "       'Air_Conditioner_RF', 'Skylights_RF', 'Chimneys_RF', 'Tree_Overhang_RF',\n",
      "       'DIS_ClosestBuilding_BU', 'DIS_Vegetation_BU', 'DIS_Trees_BU',\n",
      "       'Pool_AR_PA', 'Pool_Enclosure_PA', 'Temporary_Pool_PA', 'Trampoline_PA',\n",
      "       'Tree_Coverage', 'Population_Density', 'Median_Income', 'Claim_History',\n",
      "       'Policy_Number', 'Policy_Coverage_Amount', 'Deductible',\n",
      "       'Premium_Amount', 'Category', 'CITY_NME_CityB', 'CITY_NME_CityC',\n",
      "       'ST_ABBR_CD_StateY', 'ST_ABBR_CD_StateZ', 'Fire_Risk_Zone_Low',\n",
      "       'Fire_Risk_Zone_Medium', 'Hurricane_Risk_Zone_Low',\n",
      "       'Hurricane_Risk_Zone_Medium', 'Construction_Steel', 'Construction_Wood',\n",
      "       'Roof_Type_RF_Pitched', 'Roof_Material_RF_Metal',\n",
      "       'Roof_Material_RF_Tile', 'Roof_Condition_RF_New',\n",
      "       'Roof_Condition_RF_Worn', 'Roof_Material_Condition_Minor Damage',\n",
      "       'Roof_Material_Condition_Undamaged', 'Roof_Evidence_RF_Minor',\n",
      "       'Roof_Evidence_RF_None', 'Gable_Wall_DI_RF_Intact',\n",
      "       'Yard_Debris_PA_None', 'Yard_Debris_PA_Some', 'Pools_Indoor',\n",
      "       'Pools_None', 'Pools_Outdoor', 'Education_Level_College',\n",
      "       'Education_Level_High School', 'Education_Level_Master',\n",
      "       'Age_of_Housing_New', 'Age_of_Housing_Old', 'Coverage_Type_Premium',\n",
      "       'Coverage_Type_Standard', 'Policy_Duration'],\n",
      "      dtype='object')\n",
      "Training data shape: (699, 66)\n",
      "Testing data shape: (300, 66)\n"
     ]
    }
   ],
   "source": [
    "import pandas as pd\n",
    "from sklearn.model_selection import train_test_split\n",
    "\n",
    "\n",
    "\n",
    "# Display the column names of the dataframe\n",
    "print(\"Column names of the dataframe:\")\n",
    "print(df_combined.columns)\n",
    "\n",
    "# Check for missing values\n",
    "missing_values = df_combined.isnull().sum()\n",
    "print(\"Missing values in the dataframe:\")\n",
    "print(missing_values[missing_values > 0])\n",
    "\n",
    "# Fill or drop missing values as necessary\n",
    "df_combined.fillna(method='ffill', inplace=True)\n",
    "\n",
    "# Identify target column if 'Category' is missing\n",
    "target_column = 'Category' if 'Category' in df_combined.columns else None\n",
    "if target_column is None:\n",
    "    # Print out potential target columns\n",
    "    potential_targets = ['target', 'label', 'class']  # Add any other possible names here\n",
    "    for col in potential_targets:\n",
    "        if col in df_combined.columns:\n",
    "            target_column = col\n",
    "            break\n",
    "    if target_column is None:\n",
    "        raise KeyError(\"The target column is missing from the dataset. Please ensure the dataset contains a column named 'Category' or another appropriate target column.\")\n",
    "\n",
    "print(f\"Using '{target_column}' as the target column.\")\n",
    "\n",
    "# Convert categorical columns to numerical using one-hot encoding\n",
    "categorical_columns = df_combined.select_dtypes(include=['object']).columns\n",
    "\n",
    "# Ensure target column is not included in one-hot encoding\n",
    "categorical_columns = categorical_columns.drop(target_column)\n",
    "\n",
    "# Display columns before one-hot encoding\n",
    "print(\"Columns before one-hot encoding:\", df_combined.columns)\n",
    "\n",
    "df_combined = pd.get_dummies(df_combined, columns=categorical_columns, drop_first=True)\n",
    "\n",
    "# Display columns after one-hot encoding\n",
    "print(\"Columns after one-hot encoding:\", df_combined.columns)\n",
    "\n",
    "# Convert date columns to datetime and create duration feature\n",
    "df_combined['Policy_Start_Date'] = pd.to_datetime(df_combined['Policy_Start_Date'])\n",
    "df_combined['Policy_End_Date'] = pd.to_datetime(df_combined['Policy_End_Date'])\n",
    "df_combined['Policy_Duration'] = (df_combined['Policy_End_Date'] - df_combined['Policy_Start_Date']).dt.days\n",
    "\n",
    "# Drop original date columns\n",
    "df_combined.drop(columns=['Policy_Start_Date', 'Policy_End_Date'], inplace=True)\n",
    "\n",
    "# Check if target column is still present\n",
    "print(\"Columns after preprocessing:\", df_combined.columns)\n",
    "\n",
    "# Separate features and target variable\n",
    "X = df_combined.drop(columns=[target_column])\n",
    "y = df_combined[target_column]\n",
    "\n",
    "# Split the data into training and testing sets\n",
    "X_train, X_test, y_train, y_test = train_test_split(X, y, test_size=0.3, random_state=42)\n",
    "\n",
    "print(f'Training data shape: {X_train.shape}')\n",
    "print(f'Testing data shape: {X_test.shape}')\n"
   ]
  },
  {
   "cell_type": "code",
   "execution_count": 29,
   "id": "b3f4406e",
   "metadata": {},
   "outputs": [
    {
     "name": "stdout",
     "output_type": "stream",
     "text": [
      "Accuracy: 1.00\n",
      "Classification Report:\n",
      "              precision    recall  f1-score   support\n",
      "\n",
      "        Easy       0.99      1.00      1.00       106\n",
      "        Hard       1.00      1.00      1.00        96\n",
      "      Medium       1.00      0.99      0.99        98\n",
      "\n",
      "    accuracy                           1.00       300\n",
      "   macro avg       1.00      1.00      1.00       300\n",
      "weighted avg       1.00      1.00      1.00       300\n",
      "\n",
      "Confusion Matrix:\n",
      "[[106   0   0]\n",
      " [  0  96   0]\n",
      " [  1   0  97]]\n"
     ]
    }
   ],
   "source": [
    "from sklearn.ensemble import RandomForestClassifier\n",
    "from sklearn.metrics import accuracy_score, classification_report, confusion_matrix\n",
    "\n",
    "# Initialize the model\n",
    "rf_model = RandomForestClassifier(random_state=42)\n",
    "\n",
    "# Train the model\n",
    "rf_model.fit(X_train, y_train)\n",
    "\n",
    "# Predict on the test set\n",
    "y_pred = rf_model.predict(X_test)\n",
    "\n",
    "# Evaluate the model\n",
    "accuracy = accuracy_score(y_test, y_pred)\n",
    "print(f'Accuracy: {accuracy:.2f}')\n",
    "\n",
    "# Print classification report\n",
    "print(\"Classification Report:\")\n",
    "print(classification_report(y_test, y_pred))\n",
    "\n",
    "# Print confusion matrix\n",
    "print(\"Confusion Matrix:\")\n",
    "print(confusion_matrix(y_test, y_pred))\n"
   ]
  },
  {
   "cell_type": "code",
   "execution_count": 30,
   "id": "66031fdf",
   "metadata": {},
   "outputs": [
    {
     "name": "stdout",
     "output_type": "stream",
     "text": [
      "Accuracy: 1.00\n",
      "Classification Report:\n",
      "              precision    recall  f1-score   support\n",
      "\n",
      "        Easy       0.99      1.00      1.00       106\n",
      "        Hard       1.00      1.00      1.00        96\n",
      "      Medium       1.00      0.99      0.99        98\n",
      "\n",
      "    accuracy                           1.00       300\n",
      "   macro avg       1.00      1.00      1.00       300\n",
      "weighted avg       1.00      1.00      1.00       300\n",
      "\n",
      "Confusion Matrix:\n",
      "[[106   0   0]\n",
      " [  0  96   0]\n",
      " [  1   0  97]]\n"
     ]
    }
   ],
   "source": [
    "# Initialize the model with reduced complexity\n",
    "rf_model = RandomForestClassifier(n_estimators=100, max_depth=10, min_samples_split=10, min_samples_leaf=4, random_state=42)\n",
    "\n",
    "# Train the model\n",
    "rf_model.fit(X_train, y_train)\n",
    "\n",
    "# Predict on the test set\n",
    "y_pred = rf_model.predict(X_test)\n",
    "\n",
    "# Evaluate the model\n",
    "accuracy = accuracy_score(y_test, y_pred)\n",
    "print(f'Accuracy: {accuracy:.2f}')\n",
    "\n",
    "# Print classification report\n",
    "print(\"Classification Report:\")\n",
    "print(classification_report(y_test, y_pred))\n",
    "\n",
    "# Print confusion matrix\n",
    "print(\"Confusion Matrix:\")\n",
    "print(confusion_matrix(y_test, y_pred))\n"
   ]
  },
  {
   "cell_type": "code",
   "execution_count": 31,
   "id": "9b7f59c1",
   "metadata": {},
   "outputs": [
    {
     "name": "stdout",
     "output_type": "stream",
     "text": [
      "Cross-Validation Accuracy Scores: [0.995      1.         1.         1.         0.99497487]\n",
      "Mean Cross-Validation Accuracy: 1.00\n",
      "Standard Deviation: 0.00\n"
     ]
    }
   ],
   "source": [
    "from sklearn.model_selection import cross_val_score\n",
    "\n",
    "# Perform cross-validation\n",
    "cv_scores = cross_val_score(rf_model, X, y, cv=5)\n",
    "\n",
    "print(f'Cross-Validation Accuracy Scores: {cv_scores}')\n",
    "print(f'Mean Cross-Validation Accuracy: {cv_scores.mean():.2f}')\n",
    "print(f'Standard Deviation: {cv_scores.std():.2f}')\n"
   ]
  },
  {
   "cell_type": "code",
   "execution_count": 32,
   "id": "445581f2",
   "metadata": {},
   "outputs": [
    {
     "name": "stdout",
     "output_type": "stream",
     "text": [
      "Fitting 5 folds for each of 24 candidates, totalling 120 fits\n",
      "Best Parameters: {'max_depth': 10, 'min_samples_leaf': 1, 'min_samples_split': 2, 'n_estimators': 100}\n",
      "Best Cross-Validation Accuracy: 1.00\n",
      "Best Model Accuracy: 1.00\n",
      "Best Model Classification Report:\n",
      "              precision    recall  f1-score   support\n",
      "\n",
      "        Easy       0.99      1.00      1.00       106\n",
      "        Hard       1.00      1.00      1.00        96\n",
      "      Medium       1.00      0.99      0.99        98\n",
      "\n",
      "    accuracy                           1.00       300\n",
      "   macro avg       1.00      1.00      1.00       300\n",
      "weighted avg       1.00      1.00      1.00       300\n",
      "\n",
      "Best Model Confusion Matrix:\n",
      "[[106   0   0]\n",
      " [  0  96   0]\n",
      " [  1   0  97]]\n"
     ]
    }
   ],
   "source": [
    "from sklearn.model_selection import GridSearchCV\n",
    "\n",
    "# Define the parameter grid\n",
    "param_grid = {\n",
    "    'n_estimators': [100, 200],\n",
    "    'max_depth': [10, 20, None],\n",
    "    'min_samples_split': [2, 10],\n",
    "    'min_samples_leaf': [1, 4]\n",
    "}\n",
    "\n",
    "# Perform Grid Search\n",
    "grid_search = GridSearchCV(estimator=rf_model, param_grid=param_grid, cv=5, n_jobs=-1, verbose=2)\n",
    "grid_search.fit(X_train, y_train)\n",
    "\n",
    "print(f'Best Parameters: {grid_search.best_params_}')\n",
    "print(f'Best Cross-Validation Accuracy: {grid_search.best_score_:.2f}')\n",
    "\n",
    "# Retrain the model with best parameters\n",
    "best_model = grid_search.best_estimator_\n",
    "best_model.fit(X_train, y_train)\n",
    "\n",
    "# Predict on the test set\n",
    "y_pred_best = best_model.predict(X_test)\n",
    "\n",
    "# Evaluate the model\n",
    "accuracy_best = accuracy_score(y_test, y_pred_best)\n",
    "print(f'Best Model Accuracy: {accuracy_best:.2f}')\n",
    "print(\"Best Model Classification Report:\")\n",
    "print(classification_report(y_test, y_pred_best))\n",
    "print(\"Best Model Confusion Matrix:\")\n",
    "print(confusion_matrix(y_test, y_pred_best))\n"
   ]
  },
  {
   "cell_type": "code",
   "execution_count": null,
   "id": "714c95c3",
   "metadata": {},
   "outputs": [],
   "source": []
  },
  {
   "cell_type": "code",
   "execution_count": null,
   "id": "8f6bf9fd",
   "metadata": {},
   "outputs": [],
   "source": []
  },
  {
   "cell_type": "code",
   "execution_count": null,
   "id": "a26c7b44",
   "metadata": {},
   "outputs": [],
   "source": []
  },
  {
   "cell_type": "code",
   "execution_count": 34,
   "id": "2c7ae3b1",
   "metadata": {},
   "outputs": [
    {
     "name": "stdout",
     "output_type": "stream",
     "text": [
      "Logistic Regression Accuracy: 0.93\n",
      "Logistic Regression Classification Report:\n",
      "              precision    recall  f1-score   support\n",
      "\n",
      "        Easy       0.95      0.94      0.95       106\n",
      "        Hard       0.94      0.97      0.95        96\n",
      "      Medium       0.91      0.89      0.90        98\n",
      "\n",
      "    accuracy                           0.93       300\n",
      "   macro avg       0.93      0.93      0.93       300\n",
      "weighted avg       0.93      0.93      0.93       300\n",
      "\n",
      "Logistic Regression Confusion Matrix:\n",
      "[[100   0   6]\n",
      " [  0  93   3]\n",
      " [  5   6  87]]\n",
      "Decision Tree Accuracy: 1.00\n",
      "Decision Tree Classification Report:\n",
      "              precision    recall  f1-score   support\n",
      "\n",
      "        Easy       1.00      1.00      1.00       106\n",
      "        Hard       1.00      1.00      1.00        96\n",
      "      Medium       1.00      1.00      1.00        98\n",
      "\n",
      "    accuracy                           1.00       300\n",
      "   macro avg       1.00      1.00      1.00       300\n",
      "weighted avg       1.00      1.00      1.00       300\n",
      "\n",
      "Decision Tree Confusion Matrix:\n",
      "[[106   0   0]\n",
      " [  0  96   0]\n",
      " [  0   0  98]]\n"
     ]
    },
    {
     "name": "stderr",
     "output_type": "stream",
     "text": [
      "C:\\Users\\HP\\AppData\\Local\\Programs\\Python\\Python311\\Lib\\site-packages\\sklearn\\linear_model\\_logistic.py:469: ConvergenceWarning: lbfgs failed to converge (status=1):\n",
      "STOP: TOTAL NO. of ITERATIONS REACHED LIMIT.\n",
      "\n",
      "Increase the number of iterations (max_iter) or scale the data as shown in:\n",
      "    https://scikit-learn.org/stable/modules/preprocessing.html\n",
      "Please also refer to the documentation for alternative solver options:\n",
      "    https://scikit-learn.org/stable/modules/linear_model.html#logistic-regression\n",
      "  n_iter_i = _check_optimize_result(\n"
     ]
    }
   ],
   "source": [
    "from sklearn.linear_model import LogisticRegression\n",
    "from sklearn.tree import DecisionTreeClassifier\n",
    "\n",
    "# Logistic Regression\n",
    "logreg = LogisticRegression(max_iter=1000, random_state=42)\n",
    "logreg.fit(X_train, y_train)\n",
    "y_pred_logreg = logreg.predict(X_test)\n",
    "print(f'Logistic Regression Accuracy: {accuracy_score(y_test, y_pred_logreg):.2f}')\n",
    "print(\"Logistic Regression Classification Report:\")\n",
    "print(classification_report(y_test, y_pred_logreg))\n",
    "print(\"Logistic Regression Confusion Matrix:\")\n",
    "print(confusion_matrix(y_test, y_pred_logreg))\n",
    "\n",
    "# Decision Tree\n",
    "tree_model = DecisionTreeClassifier(random_state=42)\n",
    "tree_model.fit(X_train, y_train)\n",
    "y_pred_tree = tree_model.predict(X_test)\n",
    "print(f'Decision Tree Accuracy: {accuracy_score(y_test, y_pred_tree):.2f}')\n",
    "print(\"Decision Tree Classification Report:\")\n",
    "print(classification_report(y_test, y_pred_tree))\n",
    "print(\"Decision Tree Confusion Matrix:\")\n",
    "print(confusion_matrix(y_test, y_pred_tree))\n"
   ]
  },
  {
   "cell_type": "code",
   "execution_count": 35,
   "id": "9929cb74",
   "metadata": {},
   "outputs": [
    {
     "name": "stdout",
     "output_type": "stream",
     "text": [
      "L2 Regularized Logistic Regression Accuracy: 0.94\n",
      "L2 Regularized Logistic Regression Classification Report:\n",
      "              precision    recall  f1-score   support\n",
      "\n",
      "        Easy       0.94      0.96      0.95       106\n",
      "        Hard       0.94      0.97      0.95        96\n",
      "      Medium       0.92      0.88      0.90        98\n",
      "\n",
      "    accuracy                           0.94       300\n",
      "   macro avg       0.94      0.94      0.94       300\n",
      "weighted avg       0.94      0.94      0.94       300\n",
      "\n",
      "L2 Regularized Logistic Regression Confusion Matrix:\n",
      "[[102   0   4]\n",
      " [  0  93   3]\n",
      " [  6   6  86]]\n"
     ]
    },
    {
     "name": "stderr",
     "output_type": "stream",
     "text": [
      "C:\\Users\\HP\\AppData\\Local\\Programs\\Python\\Python311\\Lib\\site-packages\\sklearn\\linear_model\\_logistic.py:469: ConvergenceWarning: lbfgs failed to converge (status=1):\n",
      "STOP: TOTAL NO. of ITERATIONS REACHED LIMIT.\n",
      "\n",
      "Increase the number of iterations (max_iter) or scale the data as shown in:\n",
      "    https://scikit-learn.org/stable/modules/preprocessing.html\n",
      "Please also refer to the documentation for alternative solver options:\n",
      "    https://scikit-learn.org/stable/modules/linear_model.html#logistic-regression\n",
      "  n_iter_i = _check_optimize_result(\n"
     ]
    }
   ],
   "source": [
    "logreg = LogisticRegression(max_iter=1000, penalty='l2', C=0.01, random_state=42)\n",
    "logreg.fit(X_train, y_train)\n",
    "y_pred_logreg = logreg.predict(X_test)\n",
    "print(f'L2 Regularized Logistic Regression Accuracy: {accuracy_score(y_test, y_pred_logreg):.2f}')\n",
    "print(\"L2 Regularized Logistic Regression Classification Report:\")\n",
    "print(classification_report(y_test, y_pred_logreg))\n",
    "print(\"L2 Regularized Logistic Regression Confusion Matrix:\")\n",
    "print(confusion_matrix(y_test, y_pred_logreg))\n"
   ]
  },
  {
   "cell_type": "code",
   "execution_count": 36,
   "id": "ea399aa1",
   "metadata": {},
   "outputs": [
    {
     "data": {
      "image/png": "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\n",
      "text/plain": [
       "<Figure size 1000x600 with 1 Axes>"
      ]
     },
     "metadata": {},
     "output_type": "display_data"
    }
   ],
   "source": [
    "import matplotlib.pyplot as plt\n",
    "\n",
    "# Get feature importances\n",
    "importances = best_model.feature_importances_\n",
    "indices = np.argsort(importances)[::-1]\n",
    "\n",
    "# Plot the feature importances\n",
    "plt.figure(figsize=(10, 6))\n",
    "plt.title(\"Feature importances\")\n",
    "plt.bar(range(X_train.shape[1]), importances[indices], color=\"r\", align=\"center\")\n",
    "plt.xticks(range(X_train.shape[1]), X_train.columns[indices], rotation=90)\n",
    "plt.xlim([-1, X_train.shape[1]])\n",
    "plt.tight_layout()\n",
    "plt.show()\n"
   ]
  },
  {
   "cell_type": "code",
   "execution_count": 37,
   "id": "dfd31cee",
   "metadata": {},
   "outputs": [
    {
     "name": "stdout",
     "output_type": "stream",
     "text": [
      "Noisy Data Model Accuracy: 1.00\n",
      "Noisy Data Model Classification Report:\n",
      "              precision    recall  f1-score   support\n",
      "\n",
      "        Easy       1.00      1.00      1.00       106\n",
      "        Hard       1.00      1.00      1.00        96\n",
      "      Medium       1.00      1.00      1.00        98\n",
      "\n",
      "    accuracy                           1.00       300\n",
      "   macro avg       1.00      1.00      1.00       300\n",
      "weighted avg       1.00      1.00      1.00       300\n",
      "\n",
      "Noisy Data Model Confusion Matrix:\n",
      "[[106   0   0]\n",
      " [  0  96   0]\n",
      " [  0   0  98]]\n"
     ]
    }
   ],
   "source": [
    "import numpy as np\n",
    "\n",
    "# Add noise to the data\n",
    "X_train_noisy = X_train + np.random.normal(0, 0.01, X_train.shape)\n",
    "X_test_noisy = X_test + np.random.normal(0, 0.01, X_test.shape)\n",
    "\n",
    "# Retrain the model on noisy data\n",
    "best_model.fit(X_train_noisy, y_train)\n",
    "y_pred_noisy = best_model.predict(X_test_noisy)\n",
    "\n",
    "# Evaluate the model\n",
    "accuracy_noisy = accuracy_score(y_test, y_pred_noisy)\n",
    "print(f'Noisy Data Model Accuracy: {accuracy_noisy:.2f}')\n",
    "print(\"Noisy Data Model Classification Report:\")\n",
    "print(classification_report(y_test, y_pred_noisy))\n",
    "print(\"Noisy Data Model Confusion Matrix:\")\n",
    "print(confusion_matrix(y_test, y_pred_noisy))\n"
   ]
  },
  {
   "cell_type": "code",
   "execution_count": 38,
   "id": "6ae49b35",
   "metadata": {},
   "outputs": [
    {
     "name": "stdout",
     "output_type": "stream",
     "text": [
      "Fitting 5 folds for each of 10 candidates, totalling 50 fits\n",
      "Best Parameters: {'C': 10, 'solver': 'liblinear'}\n",
      "Best Cross-Validation Accuracy: 0.97\n",
      "Best Logistic Regression Model Accuracy: 0.96\n",
      "Best Logistic Regression Model Classification Report:\n",
      "              precision    recall  f1-score   support\n",
      "\n",
      "        Easy       0.96      0.98      0.97       106\n",
      "        Hard       0.93      1.00      0.96        96\n",
      "      Medium       0.98      0.89      0.93        98\n",
      "\n",
      "    accuracy                           0.96       300\n",
      "   macro avg       0.96      0.96      0.96       300\n",
      "weighted avg       0.96      0.96      0.96       300\n",
      "\n",
      "Best Logistic Regression Model Confusion Matrix:\n",
      "[[104   0   2]\n",
      " [  0  96   0]\n",
      " [  4   7  87]]\n"
     ]
    }
   ],
   "source": [
    "from sklearn.model_selection import GridSearchCV\n",
    "\n",
    "# Define the parameter grid\n",
    "param_grid = {\n",
    "    'C': [0.001, 0.01, 0.1, 1, 10],\n",
    "    'solver': ['lbfgs', 'liblinear']\n",
    "}\n",
    "\n",
    "# Perform Grid Search\n",
    "grid_search = GridSearchCV(LogisticRegression(max_iter=1000, penalty='l2', random_state=42), param_grid, cv=5, n_jobs=-1, verbose=2)\n",
    "grid_search.fit(X_train, y_train)\n",
    "\n",
    "print(f'Best Parameters: {grid_search.best_params_}')\n",
    "print(f'Best Cross-Validation Accuracy: {grid_search.best_score_:.2f}')\n",
    "\n",
    "# Retrain the model with best parameters\n",
    "best_logreg_model = grid_search.best_estimator_\n",
    "best_logreg_model.fit(X_train, y_train)\n",
    "\n",
    "# Predict on the test set\n",
    "y_pred_best_logreg = best_logreg_model.predict(X_test)\n",
    "\n",
    "# Evaluate the model\n",
    "accuracy_best_logreg = accuracy_score(y_test, y_pred_best_logreg)\n",
    "print(f'Best Logistic Regression Model Accuracy: {accuracy_best_logreg:.2f}')\n",
    "print(\"Best Logistic Regression Model Classification Report:\")\n",
    "print(classification_report(y_test, y_pred_best_logreg))\n",
    "print(\"Best Logistic Regression Model Confusion Matrix:\")\n",
    "print(confusion_matrix(y_test, y_pred_best_logreg))\n"
   ]
  },
  {
   "cell_type": "code",
   "execution_count": 41,
   "id": "b1a30742",
   "metadata": {},
   "outputs": [
    {
     "data": {
      "image/png": "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\n",
      "text/plain": [
       "<Figure size 1000x600 with 1 Axes>"
      ]
     },
     "metadata": {},
     "output_type": "display_data"
    }
   ],
   "source": [
    "import matplotlib.pyplot as plt\n",
    "import numpy as np\n",
    "\n",
    "# Get the coefficients of the logistic regression model\n",
    "coefficients = best_logreg_model.coef_[0]\n",
    "features = X_train.columns\n",
    "\n",
    "# Create a bar plot of feature importance\n",
    "plt.figure(figsize=(10, 6))\n",
    "indices = np.argsort(np.abs(coefficients))[::-1]\n",
    "plt.title(\"Feature importance in Logistic Regression\")\n",
    "plt.bar(range(len(coefficients)), coefficients[indices], color=\"r\", align=\"center\")\n",
    "plt.xticks(range(len(coefficients)), features[indices], rotation=90)\n",
    "plt.tight_layout()\n",
    "plt.show()"
   ]
  },
  {
   "cell_type": "code",
   "execution_count": 42,
   "id": "d84ebbd5",
   "metadata": {},
   "outputs": [
    {
     "data": {
      "text/plain": [
       "['best_logistic_regression_model.pkl']"
      ]
     },
     "execution_count": 42,
     "metadata": {},
     "output_type": "execute_result"
    }
   ],
   "source": [
    "import joblib\n",
    "\n",
    "# Save the model to a file\n",
    "joblib.dump(best_logreg_model, 'best_logistic_regression_model.pkl')\n"
   ]
  },
  {
   "cell_type": "code",
   "execution_count": 43,
   "id": "b41f3f85",
   "metadata": {},
   "outputs": [
    {
     "name": "stdout",
     "output_type": "stream",
     "text": [
      "SVM Accuracy: 1.00\n",
      "SVM Classification Report:\n",
      "              precision    recall  f1-score   support\n",
      "\n",
      "        Easy       0.99      1.00      1.00       106\n",
      "        Hard       1.00      1.00      1.00        96\n",
      "      Medium       1.00      0.99      0.99        98\n",
      "\n",
      "    accuracy                           1.00       300\n",
      "   macro avg       1.00      1.00      1.00       300\n",
      "weighted avg       1.00      1.00      1.00       300\n",
      "\n",
      "SVM Confusion Matrix:\n",
      "[[106   0   0]\n",
      " [  0  96   0]\n",
      " [  1   0  97]]\n"
     ]
    }
   ],
   "source": [
    "from sklearn.svm import SVC\n",
    "from sklearn.metrics import accuracy_score, classification_report, confusion_matrix\n",
    "\n",
    "# Initialize the model\n",
    "svm_model = SVC(kernel='linear', C=1, random_state=42)\n",
    "\n",
    "# Train the model\n",
    "svm_model.fit(X_train, y_train)\n",
    "\n",
    "# Predict on the test set\n",
    "y_pred_svm = svm_model.predict(X_test)\n",
    "\n",
    "# Evaluate the model\n",
    "accuracy_svm = accuracy_score(y_test, y_pred_svm)\n",
    "print(f'SVM Accuracy: {accuracy_svm:.2f}')\n",
    "print(\"SVM Classification Report:\")\n",
    "print(classification_report(y_test, y_pred_svm))\n",
    "print(\"SVM Confusion Matrix:\")\n",
    "print(confusion_matrix(y_test, y_pred_svm))\n"
   ]
  },
  {
   "cell_type": "code",
   "execution_count": 45,
   "id": "6e13d881",
   "metadata": {},
   "outputs": [
    {
     "name": "stderr",
     "output_type": "stream",
     "text": [
      "\n",
      "[notice] A new release of pip available: 22.3.1 -> 24.1\n",
      "[notice] To update, run: python.exe -m pip install --upgrade pip\n"
     ]
    },
    {
     "name": "stdout",
     "output_type": "stream",
     "text": [
      "Collecting xgboost\n",
      "  Downloading xgboost-2.1.0-py3-none-win_amd64.whl (124.9 MB)\n",
      "     -------------------------------------- 124.9/124.9 MB 3.2 MB/s eta 0:00:00\n",
      "Requirement already satisfied: numpy in c:\\users\\hp\\appdata\\local\\programs\\python\\python311\\lib\\site-packages (from xgboost) (1.23.5)\n",
      "Requirement already satisfied: scipy in c:\\users\\hp\\appdata\\local\\programs\\python\\python311\\lib\\site-packages (from xgboost) (1.14.0)\n",
      "Installing collected packages: xgboost\n",
      "Successfully installed xgboost-2.1.0\n"
     ]
    }
   ],
   "source": [
    "!pip install xgboost\n"
   ]
  },
  {
   "cell_type": "code",
   "execution_count": 47,
   "id": "a6927597",
   "metadata": {},
   "outputs": [],
   "source": [
    "from sklearn.preprocessing import LabelEncoder\n",
    "\n",
    "# Initialize the label encoder\n",
    "label_encoder = LabelEncoder()\n",
    "\n",
    "# Encode the target labels\n",
    "y_train_encoded = label_encoder.fit_transform(y_train)\n",
    "y_test_encoded = label_encoder.transform(y_test)\n"
   ]
  },
  {
   "cell_type": "code",
   "execution_count": 48,
   "id": "dc4675fd",
   "metadata": {},
   "outputs": [
    {
     "name": "stdout",
     "output_type": "stream",
     "text": [
      "XGBoost Accuracy: 1.00\n",
      "XGBoost Classification Report:\n",
      "              precision    recall  f1-score   support\n",
      "\n",
      "        Easy       1.00      1.00      1.00       106\n",
      "        Hard       1.00      1.00      1.00        96\n",
      "      Medium       1.00      1.00      1.00        98\n",
      "\n",
      "    accuracy                           1.00       300\n",
      "   macro avg       1.00      1.00      1.00       300\n",
      "weighted avg       1.00      1.00      1.00       300\n",
      "\n",
      "XGBoost Confusion Matrix:\n",
      "[[106   0   0]\n",
      " [  0  96   0]\n",
      " [  0   0  98]]\n"
     ]
    }
   ],
   "source": [
    "from xgboost import XGBClassifier\n",
    "from sklearn.metrics import accuracy_score, classification_report, confusion_matrix\n",
    "\n",
    "# Initialize the model\n",
    "xgb_model = XGBClassifier(random_state=42)\n",
    "\n",
    "# Train the model\n",
    "xgb_model.fit(X_train, y_train_encoded)\n",
    "\n",
    "# Predict on the test set\n",
    "y_pred_xgb = xgb_model.predict(X_test)\n",
    "\n",
    "# Decode the predictions\n",
    "y_pred_xgb_decoded = label_encoder.inverse_transform(y_pred_xgb)\n",
    "\n",
    "# Evaluate the model\n",
    "accuracy_xgb = accuracy_score(y_test, y_pred_xgb_decoded)\n",
    "print(f'XGBoost Accuracy: {accuracy_xgb:.2f}')\n",
    "print(\"XGBoost Classification Report:\")\n",
    "print(classification_report(y_test, y_pred_xgb_decoded))\n",
    "print(\"XGBoost Confusion Matrix:\")\n",
    "print(confusion_matrix(y_test, y_pred_xgb_decoded))\n"
   ]
  },
  {
   "cell_type": "code",
   "execution_count": 49,
   "id": "aefbe4e0",
   "metadata": {},
   "outputs": [
    {
     "name": "stdout",
     "output_type": "stream",
     "text": [
      "SVM Accuracy: 1.00\n",
      "SVM Classification Report:\n",
      "              precision    recall  f1-score   support\n",
      "\n",
      "        Easy       0.99      1.00      1.00       106\n",
      "        Hard       1.00      1.00      1.00        96\n",
      "      Medium       1.00      0.99      0.99        98\n",
      "\n",
      "    accuracy                           1.00       300\n",
      "   macro avg       1.00      1.00      1.00       300\n",
      "weighted avg       1.00      1.00      1.00       300\n",
      "\n",
      "SVM Confusion Matrix:\n",
      "[[106   0   0]\n",
      " [  0  96   0]\n",
      " [  1   0  97]]\n"
     ]
    }
   ],
   "source": [
    "from sklearn.svm import SVC\n",
    "\n",
    "# Initialize the model\n",
    "svm_model = SVC(kernel='linear', C=1, random_state=42)\n",
    "\n",
    "# Train the model\n",
    "svm_model.fit(X_train, y_train_encoded)\n",
    "\n",
    "# Predict on the test set\n",
    "y_pred_svm = svm_model.predict(X_test)\n",
    "\n",
    "# Decode the predictions\n",
    "y_pred_svm_decoded = label_encoder.inverse_transform(y_pred_svm)\n",
    "\n",
    "# Evaluate the model\n",
    "accuracy_svm = accuracy_score(y_test, y_pred_svm_decoded)\n",
    "print(f'SVM Accuracy: {accuracy_svm:.2f}')\n",
    "print(\"SVM Classification Report:\")\n",
    "print(classification_report(y_test, y_pred_svm_decoded))\n",
    "print(\"SVM Confusion Matrix:\")\n",
    "print(confusion_matrix(y_test, y_pred_svm_decoded))\n"
   ]
  },
  {
   "cell_type": "code",
   "execution_count": 50,
   "id": "38aa5bd6",
   "metadata": {},
   "outputs": [
    {
     "name": "stdout",
     "output_type": "stream",
     "text": [
      "MLP Accuracy: 0.70\n",
      "MLP Classification Report:\n",
      "              precision    recall  f1-score   support\n",
      "\n",
      "        Easy       0.99      0.76      0.86       106\n",
      "        Hard       0.88      0.38      0.53        96\n",
      "      Medium       0.53      0.95      0.68        98\n",
      "\n",
      "    accuracy                           0.70       300\n",
      "   macro avg       0.80      0.70      0.69       300\n",
      "weighted avg       0.80      0.70      0.69       300\n",
      "\n",
      "MLP Confusion Matrix:\n",
      "[[81  0 25]\n",
      " [ 1 36 59]\n",
      " [ 0  5 93]]\n"
     ]
    }
   ],
   "source": [
    "from sklearn.neural_network import MLPClassifier\n",
    "\n",
    "# Initialize the model\n",
    "mlp_model = MLPClassifier(hidden_layer_sizes=(100,), max_iter=500, random_state=42)\n",
    "\n",
    "# Train the model\n",
    "mlp_model.fit(X_train, y_train_encoded)\n",
    "\n",
    "# Predict on the test set\n",
    "y_pred_mlp = mlp_model.predict(X_test)\n",
    "\n",
    "# Decode the predictions\n",
    "y_pred_mlp_decoded = label_encoder.inverse_transform(y_pred_mlp)\n",
    "\n",
    "# Evaluate the model\n",
    "accuracy_mlp = accuracy_score(y_test, y_pred_mlp_decoded)\n",
    "print(f'MLP Accuracy: {accuracy_mlp:.2f}')\n",
    "print(\"MLP Classification Report:\")\n",
    "print(classification_report(y_test, y_pred_mlp_decoded))\n",
    "print(\"MLP Confusion Matrix:\")\n",
    "print(confusion_matrix(y_test, y_pred_mlp_decoded))\n"
   ]
  },
  {
   "cell_type": "code",
   "execution_count": 51,
   "id": "3c3a8525",
   "metadata": {},
   "outputs": [
    {
     "name": "stdout",
     "output_type": "stream",
     "text": [
      "SVM Accuracy: 1.00\n",
      "SVM Classification Report:\n",
      "              precision    recall  f1-score   support\n",
      "\n",
      "        Easy       0.99      1.00      1.00       106\n",
      "        Hard       1.00      1.00      1.00        96\n",
      "      Medium       1.00      0.99      0.99        98\n",
      "\n",
      "    accuracy                           1.00       300\n",
      "   macro avg       1.00      1.00      1.00       300\n",
      "weighted avg       1.00      1.00      1.00       300\n",
      "\n",
      "SVM Confusion Matrix:\n",
      "[[106   0   0]\n",
      " [  0  96   0]\n",
      " [  1   0  97]]\n"
     ]
    }
   ],
   "source": [
    "from sklearn.svm import SVC\n",
    "from sklearn.metrics import accuracy_score, classification_report, confusion_matrix\n",
    "from sklearn.preprocessing import LabelEncoder\n",
    "\n",
    "# Initialize the label encoder\n",
    "label_encoder = LabelEncoder()\n",
    "\n",
    "# Encode the target labels\n",
    "y_train_encoded = label_encoder.fit_transform(y_train)\n",
    "y_test_encoded = label_encoder.transform(y_test)\n",
    "\n",
    "# Initialize the model\n",
    "svm_model = SVC(kernel='linear', C=1, random_state=42)\n",
    "\n",
    "# Train the model\n",
    "svm_model.fit(X_train, y_train_encoded)\n",
    "\n",
    "# Predict on the test set\n",
    "y_pred_svm = svm_model.predict(X_test)\n",
    "\n",
    "# Decode the predictions\n",
    "y_pred_svm_decoded = label_encoder.inverse_transform(y_pred_svm)\n",
    "\n",
    "# Evaluate the model\n",
    "accuracy_svm = accuracy_score(y_test, y_pred_svm_decoded)\n",
    "print(f'SVM Accuracy: {accuracy_svm:.2f}')\n",
    "print(\"SVM Classification Report:\")\n",
    "print(classification_report(y_test, y_pred_svm_decoded))\n",
    "print(\"SVM Confusion Matrix:\")\n",
    "print(confusion_matrix(y_test, y_pred_svm_decoded))\n"
   ]
  },
  {
   "cell_type": "code",
   "execution_count": 52,
   "id": "de4e53a5",
   "metadata": {},
   "outputs": [
    {
     "name": "stdout",
     "output_type": "stream",
     "text": [
      "XGBoost Accuracy: 1.00\n",
      "XGBoost Classification Report:\n",
      "              precision    recall  f1-score   support\n",
      "\n",
      "        Easy       1.00      1.00      1.00       106\n",
      "        Hard       1.00      1.00      1.00        96\n",
      "      Medium       1.00      1.00      1.00        98\n",
      "\n",
      "    accuracy                           1.00       300\n",
      "   macro avg       1.00      1.00      1.00       300\n",
      "weighted avg       1.00      1.00      1.00       300\n",
      "\n",
      "XGBoost Confusion Matrix:\n",
      "[[106   0   0]\n",
      " [  0  96   0]\n",
      " [  0   0  98]]\n"
     ]
    }
   ],
   "source": [
    "from xgboost import XGBClassifier\n",
    "\n",
    "# Initialize the model\n",
    "xgb_model = XGBClassifier(random_state=42)\n",
    "\n",
    "# Train the model\n",
    "xgb_model.fit(X_train, y_train_encoded)\n",
    "\n",
    "# Predict on the test set\n",
    "y_pred_xgb = xgb_model.predict(X_test)\n",
    "\n",
    "# Decode the predictions\n",
    "y_pred_xgb_decoded = label_encoder.inverse_transform(y_pred_xgb)\n",
    "\n",
    "# Evaluate the model\n",
    "accuracy_xgb = accuracy_score(y_test, y_pred_xgb_decoded)\n",
    "print(f'XGBoost Accuracy: {accuracy_xgb:.2f}')\n",
    "print(\"XGBoost Classification Report:\")\n",
    "print(classification_report(y_test, y_pred_xgb_decoded))\n",
    "print(\"XGBoost Confusion Matrix:\")\n",
    "print(confusion_matrix(y_test, y_pred_xgb_decoded))\n"
   ]
  },
  {
   "cell_type": "code",
   "execution_count": 53,
   "id": "bf9055ed",
   "metadata": {},
   "outputs": [
    {
     "name": "stdout",
     "output_type": "stream",
     "text": [
      "KNN Accuracy: 0.95\n",
      "KNN Classification Report:\n",
      "              precision    recall  f1-score   support\n",
      "\n",
      "        Easy       0.97      0.94      0.96       106\n",
      "        Hard       0.99      0.96      0.97        96\n",
      "      Medium       0.90      0.96      0.93        98\n",
      "\n",
      "    accuracy                           0.95       300\n",
      "   macro avg       0.95      0.95      0.95       300\n",
      "weighted avg       0.95      0.95      0.95       300\n",
      "\n",
      "KNN Confusion Matrix:\n",
      "[[100   0   6]\n",
      " [  0  92   4]\n",
      " [  3   1  94]]\n"
     ]
    }
   ],
   "source": [
    "from sklearn.neighbors import KNeighborsClassifier\n",
    "\n",
    "# Initialize the model\n",
    "knn_model = KNeighborsClassifier(n_neighbors=5)\n",
    "\n",
    "# Train the model\n",
    "knn_model.fit(X_train, y_train_encoded)\n",
    "\n",
    "# Predict on the test set\n",
    "y_pred_knn = knn_model.predict(X_test)\n",
    "\n",
    "# Decode the predictions\n",
    "y_pred_knn_decoded = label_encoder.inverse_transform(y_pred_knn)\n",
    "\n",
    "# Evaluate the model\n",
    "accuracy_knn = accuracy_score(y_test, y_pred_knn_decoded)\n",
    "print(f'KNN Accuracy: {accuracy_knn:.2f}')\n",
    "print(\"KNN Classification Report:\")\n",
    "print(classification_report(y_test, y_pred_knn_decoded))\n",
    "print(\"KNN Confusion Matrix:\")\n",
    "print(confusion_matrix(y_test, y_pred_knn_decoded))\n"
   ]
  },
  {
   "cell_type": "code",
   "execution_count": 1,
   "id": "c51f25ea",
   "metadata": {},
   "outputs": [
    {
     "ename": "NameError",
     "evalue": "name 'best_logreg_model' is not defined",
     "output_type": "error",
     "traceback": [
      "\u001b[1;31m---------------------------------------------------------------------------\u001b[0m",
      "\u001b[1;31mNameError\u001b[0m                                 Traceback (most recent call last)",
      "Cell \u001b[1;32mIn[1], line 5\u001b[0m\n\u001b[0;32m      2\u001b[0m \u001b[38;5;28;01mimport\u001b[39;00m \u001b[38;5;21;01mnumpy\u001b[39;00m \u001b[38;5;28;01mas\u001b[39;00m \u001b[38;5;21;01mnp\u001b[39;00m\n\u001b[0;32m      4\u001b[0m \u001b[38;5;66;03m# Get the coefficients of the logistic regression model\u001b[39;00m\n\u001b[1;32m----> 5\u001b[0m coefficients \u001b[38;5;241m=\u001b[39m \u001b[43mbest_logreg_model\u001b[49m\u001b[38;5;241m.\u001b[39mcoef_[\u001b[38;5;241m0\u001b[39m]\n\u001b[0;32m      6\u001b[0m features \u001b[38;5;241m=\u001b[39m X_train\u001b[38;5;241m.\u001b[39mcolumns\n\u001b[0;32m      8\u001b[0m \u001b[38;5;66;03m# Create a bar plot of feature importance\u001b[39;00m\n",
      "\u001b[1;31mNameError\u001b[0m: name 'best_logreg_model' is not defined"
     ]
    }
   ],
   "source": [
    "import matplotlib.pyplot as plt\n",
    "import numpy as np\n",
    "\n",
    "# Get the coefficients of the logistic regression model\n",
    "coefficients = best_logreg_model.coef_[0]\n",
    "features = X_train.columns\n",
    "\n",
    "# Create a bar plot of feature importance\n",
    "plt.figure(figsize=(10, 6))\n",
    "indices = np.argsort(np.abs(coefficients))[::-1]\n",
    "plt.title(\"Feature importance in Logistic Regression\")\n",
    "plt.bar(range(len(coefficients)), coefficients[indices], color=\"r\", align=\"center\")\n",
    "plt.xticks(range(len(coefficients)), features[indices], rotation=90)\n",
    "plt.tight_layout()\n",
    "plt.show()\n"
   ]
  },
  {
   "cell_type": "code",
   "execution_count": null,
   "id": "dcec613c",
   "metadata": {},
   "outputs": [],
   "source": []
  }
 ],
 "metadata": {
  "kernelspec": {
   "display_name": "Python 3 (ipykernel)",
   "language": "python",
   "name": "python3"
  },
  "language_info": {
   "codemirror_mode": {
    "name": "ipython",
    "version": 3
   },
   "file_extension": ".py",
   "mimetype": "text/x-python",
   "name": "python",
   "nbconvert_exporter": "python",
   "pygments_lexer": "ipython3",
   "version": "3.11.0"
  }
 },
 "nbformat": 4,
 "nbformat_minor": 5
}














































pip install pandas openpyxl haversine
import math
import pandas as pd
from haversine import haversine

# Assuming Property and WindLoad classes are defined elsewhere
class Property:
    def __init__(self, exposure_type, category_type, structure_type, topography_type, building_height_bu, building_lb_ratio, building_type):
        self.exposure_type = exposure_type
        self.category_type = category_type
        self.structure_type = structure_type
        self.topography_type = topography_type
        self.building_height_bu = building_height_bu
        self.building_lb_ratio = building_lb_ratio
        self.building_type = building_type

class WindLoad:
    def __init__(self, property_obj, wind_speed):
        self.property_obj = property_obj
        self.wind_speed = wind_speed
        self.damage = 0  # Placeholder for actual damage calculation
        self.total_pressure_all_walls_ew = 0  # Placeholder
        self.total_pressure_all_walls_ns = 0  # Placeholder

    def calculate_wind_load_pressure(self):
        # Placeholder for actual pressure calculation logic
        self.damage = self.wind_speed * 0.1  # Simplified example calculation

# Function to calculate total mean damage for a given set of parameters
def calculate_total_mean_damage(building_height_bu, latitude, longitude, hurricane_df):
    # Calculate the distance from the city for each row in the DataFrame
    hurricane_df["distance_from_city"] = hurricane_df.apply(
        lambda row: haversine((latitude, longitude), (row['lat'], row['lon'])), axis=1
    )

    # Calculate Effective Wind Speed 1 and 2
    hurricane_df["Effective_Wind_Speed_1"] = hurricane_df.apply(
        lambda x: (
            x["Maximum Wind"] * (x["distance_from_city"] / 50)
            if x["distance_from_city"] < 50
            else x["Maximum Wind"] * math.pow((50 / x["distance_from_city"]), 0.5)
        ),
        axis=1,
    )
    hurricane_df["Effective_Wind_Speed_2"] = hurricane_df.apply(
        lambda x: x["Maximum Wind"] * math.pow((50 / x["distance_from_city"]), 0.5),
        axis=1,
    )

    # Initialize Property instance
    property_obj = Property(
        exposure_type="C",
        category_type="II",
        structure_type="Main Wind Force Resisting System",
        topography_type="homogeneous",
        building_height_bu=building_height_bu,
        building_lb_ratio=1,
        building_type="partially enclosed buildings",
    )

    total_mean_damage = 0

    # Calculate wind load pressure for each wind speed
    for index, row in hurricane_df.iterrows():
        windload_obj = WindLoad(property_obj, row["Effective_Wind_Speed_2"])
        windload_obj.calculate_wind_load_pressure()
        total_mean_damage += abs(windload_obj.damage * row["poisson_lambda_mle_estimate"])

    return total_mean_damage

# Load the Excel file
input_file = '/mnt/data/A9E7D3D6-5EAC-4C64-BC20-AB3E1EB5577F.xlsx'  # Replace with your actual file path
df = pd.read_excel(input_file, sheet_name='Sheet1')

# Assuming hurricane_df is defined and contains the necessary hurricane data
hurricane_df = pd.DataFrame({
    'lat': [0],  # Placeholder data
    'lon': [0],  # Placeholder data
    'Maximum Wind': [0],  # Placeholder data
    'poisson_lambda_mle_estimate': [1]  # Placeholder data
})

# Process each row in the Excel sheet
total_mean_damage_list = []
for index, row in df.iterrows():
    building_height_bu = row['building_height']
    lat, lon = map(float, row['lat/lon'].split(','))  # Assuming lat/lon is a string like "lat,lon"

    # Calculate the total mean damage for the current row
    total_mean_damage = calculate_total_mean_damage(building_height_bu, lat, lon, hurricane_df)
    
    # Append the result to the list
    total_mean_damage_list.append(total_mean_damage)

# Add the total_mean_damage to the DataFrame
df['total_mean_damage'] = total_mean_damage_list

# Save the results to a new Excel file
output_file = '/mnt/data/output_total_mean_damage.xlsx'
df.to_excel(output_file, index=False)

print(f"Results saved to {output_file}")

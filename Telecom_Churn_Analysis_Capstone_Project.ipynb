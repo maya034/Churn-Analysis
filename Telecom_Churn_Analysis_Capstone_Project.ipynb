{
  "nbformat": 4,
  "nbformat_minor": 0,
  "metadata": {
    "kernelspec": {
      "display_name": "Python 3",
      "language": "python",
      "name": "python3"
    },
    "language_info": {
      "codemirror_mode": {
        "name": "ipython",
        "version": 3
      },
      "file_extension": ".py",
      "mimetype": "text/x-python",
      "name": "python",
      "nbconvert_exporter": "python",
      "pygments_lexer": "ipython3",
      "version": "3.6.6"
    },
    "colab": {
      "name": "Telecom Churn Analysis - Capstone Project.ipynb",
      "provenance": [],
      "collapsed_sections": [],
      "include_colab_link": true
    }
  },
  "cells": [
    {
      "cell_type": "markdown",
      "metadata": {
        "id": "view-in-github",
        "colab_type": "text"
      },
      "source": [
        "<a href=\"https://colab.research.google.com/github/maya034/Telecom-Churn-Analysis/blob/main/Telecom_Churn_Analysis_Capstone_Project.ipynb\" target=\"_parent\"><img src=\"https://colab.research.google.com/assets/colab-badge.svg\" alt=\"Open In Colab\"/></a>"
      ]
    },
    {
      "cell_type": "markdown",
      "metadata": {
        "id": "Y06xIdG26kRF"
      },
      "source": [
        "## <b> Orange S.A., formerly France Télécom S.A., is a French multinational telecommunications corporation. The Orange Telecom's Churn Dataset, consists of cleaned customer activity data (features), along with a churn label specifying whether a customer canceled the subscription.\n",
        "\n",
        "## <b> Explore and analyze the data to discover key factors responsible for customer churn and come up with ways/recommendations to ensure customer retention. </b>"
      ]
    },
    {
      "cell_type": "markdown",
      "metadata": {
        "id": "2xAyRaRNlxzY"
      },
      "source": [
        "STATE: 51 Unique States\n",
        "\n",
        "Account Length. Length of The Account\n",
        "\n",
        "Area Code 415 relates to San Francisco,408 is of San Jose and 510 is of City of Okland\n",
        "\n",
        "International Plan Yes Indicate International Plan is Present and No Indicates no subscription for Internatinal Plan\n",
        "\n",
        "Voice Mail Plan Yes Indicates Voice Mail Plan is Present and No Indicates no subscription for Voice Mail Plan\n",
        "\n",
        "Number vmail messages Number of Voice Mail Messages ranging from 0 to 50\n",
        "\n",
        "Total day minutes Total Number of Minutes Spent By Customers in Morning\n",
        "\n",
        "Total day calls Total Number of Calls made by Customer in Morning.\n",
        "\n",
        "Total day charge Total Charge to the Customers in Morning.\n",
        "\n",
        "Total eve minutesTotal Number of Minutes Spent By Customers in Evening\n",
        "\n",
        "Total eve calls Total Number of Calls made by Customer in Evening.\n",
        "\n",
        "Total eve charge Total Charge to the Customers in Morning.\n",
        "\n",
        "Total night minutes Total Number of Minutes Spent By Customers in the Night.\n",
        "\n",
        "Total night calls Total Number of Calls made by Customer in Night.\n",
        "\n",
        "Total night charge Total Charge to the Customers in Night. \n",
        "\n",
        "## New Section"
      ]
    },
    {
      "cell_type": "code",
      "metadata": {
        "id": "dByMsuzT8Tnw"
      },
      "source": [
        "import pandas as pd\n",
        "import numpy as np\n",
        "\n",
        "import matplotlib\n",
        "import matplotlib.pyplot as plt\n",
        "import seaborn as sns\n",
        "%matplotlib inline"
      ],
      "execution_count": 43,
      "outputs": []
    },
    {
      "cell_type": "code",
      "metadata": {
        "colab": {
          "base_uri": "https://localhost:8080/"
        },
        "id": "KaPnr3u-8xyW",
        "outputId": "700d49a1-c29e-4165-a2fd-049af0f19192"
      },
      "source": [
        "from google.colab import drive\n",
        "drive.mount('/content/drive')"
      ],
      "execution_count": 44,
      "outputs": [
        {
          "output_type": "stream",
          "text": [
            "Drive already mounted at /content/drive; to attempt to forcibly remount, call drive.mount(\"/content/drive\", force_remount=True).\n"
          ],
          "name": "stdout"
        }
      ]
    },
    {
      "cell_type": "code",
      "metadata": {
        "id": "PoWeHMey85eo"
      },
      "source": [
        "working_path='/content/drive/MyDrive/Colab Notebooks/Telecom Churn.csv'\n",
        "df=pd.read_csv(working_path)"
      ],
      "execution_count": 45,
      "outputs": []
    },
    {
      "cell_type": "code",
      "metadata": {
        "colab": {
          "base_uri": "https://localhost:8080/",
          "height": 237
        },
        "id": "YB6pX7q19ALu",
        "outputId": "7c9ba90f-f4ee-4c50-c7f4-ed9175b3e333"
      },
      "source": [
        "df.head(5)"
      ],
      "execution_count": 46,
      "outputs": [
        {
          "output_type": "execute_result",
          "data": {
            "text/html": [
              "<div>\n",
              "<style scoped>\n",
              "    .dataframe tbody tr th:only-of-type {\n",
              "        vertical-align: middle;\n",
              "    }\n",
              "\n",
              "    .dataframe tbody tr th {\n",
              "        vertical-align: top;\n",
              "    }\n",
              "\n",
              "    .dataframe thead th {\n",
              "        text-align: right;\n",
              "    }\n",
              "</style>\n",
              "<table border=\"1\" class=\"dataframe\">\n",
              "  <thead>\n",
              "    <tr style=\"text-align: right;\">\n",
              "      <th></th>\n",
              "      <th>State</th>\n",
              "      <th>Account length</th>\n",
              "      <th>Area code</th>\n",
              "      <th>International plan</th>\n",
              "      <th>Voice mail plan</th>\n",
              "      <th>Number vmail messages</th>\n",
              "      <th>Total day minutes</th>\n",
              "      <th>Total day calls</th>\n",
              "      <th>Total day charge</th>\n",
              "      <th>Total eve minutes</th>\n",
              "      <th>Total eve calls</th>\n",
              "      <th>Total eve charge</th>\n",
              "      <th>Total night minutes</th>\n",
              "      <th>Total night calls</th>\n",
              "      <th>Total night charge</th>\n",
              "      <th>Total intl minutes</th>\n",
              "      <th>Total intl calls</th>\n",
              "      <th>Total intl charge</th>\n",
              "      <th>Customer service calls</th>\n",
              "      <th>Churn</th>\n",
              "    </tr>\n",
              "  </thead>\n",
              "  <tbody>\n",
              "    <tr>\n",
              "      <th>0</th>\n",
              "      <td>KS</td>\n",
              "      <td>128</td>\n",
              "      <td>415</td>\n",
              "      <td>No</td>\n",
              "      <td>Yes</td>\n",
              "      <td>25</td>\n",
              "      <td>265.1</td>\n",
              "      <td>110</td>\n",
              "      <td>45.07</td>\n",
              "      <td>197.4</td>\n",
              "      <td>99</td>\n",
              "      <td>16.78</td>\n",
              "      <td>244.7</td>\n",
              "      <td>91</td>\n",
              "      <td>11.01</td>\n",
              "      <td>10.0</td>\n",
              "      <td>3</td>\n",
              "      <td>2.70</td>\n",
              "      <td>1</td>\n",
              "      <td>False</td>\n",
              "    </tr>\n",
              "    <tr>\n",
              "      <th>1</th>\n",
              "      <td>OH</td>\n",
              "      <td>107</td>\n",
              "      <td>415</td>\n",
              "      <td>No</td>\n",
              "      <td>Yes</td>\n",
              "      <td>26</td>\n",
              "      <td>161.6</td>\n",
              "      <td>123</td>\n",
              "      <td>27.47</td>\n",
              "      <td>195.5</td>\n",
              "      <td>103</td>\n",
              "      <td>16.62</td>\n",
              "      <td>254.4</td>\n",
              "      <td>103</td>\n",
              "      <td>11.45</td>\n",
              "      <td>13.7</td>\n",
              "      <td>3</td>\n",
              "      <td>3.70</td>\n",
              "      <td>1</td>\n",
              "      <td>False</td>\n",
              "    </tr>\n",
              "    <tr>\n",
              "      <th>2</th>\n",
              "      <td>NJ</td>\n",
              "      <td>137</td>\n",
              "      <td>415</td>\n",
              "      <td>No</td>\n",
              "      <td>No</td>\n",
              "      <td>0</td>\n",
              "      <td>243.4</td>\n",
              "      <td>114</td>\n",
              "      <td>41.38</td>\n",
              "      <td>121.2</td>\n",
              "      <td>110</td>\n",
              "      <td>10.30</td>\n",
              "      <td>162.6</td>\n",
              "      <td>104</td>\n",
              "      <td>7.32</td>\n",
              "      <td>12.2</td>\n",
              "      <td>5</td>\n",
              "      <td>3.29</td>\n",
              "      <td>0</td>\n",
              "      <td>False</td>\n",
              "    </tr>\n",
              "    <tr>\n",
              "      <th>3</th>\n",
              "      <td>OH</td>\n",
              "      <td>84</td>\n",
              "      <td>408</td>\n",
              "      <td>Yes</td>\n",
              "      <td>No</td>\n",
              "      <td>0</td>\n",
              "      <td>299.4</td>\n",
              "      <td>71</td>\n",
              "      <td>50.90</td>\n",
              "      <td>61.9</td>\n",
              "      <td>88</td>\n",
              "      <td>5.26</td>\n",
              "      <td>196.9</td>\n",
              "      <td>89</td>\n",
              "      <td>8.86</td>\n",
              "      <td>6.6</td>\n",
              "      <td>7</td>\n",
              "      <td>1.78</td>\n",
              "      <td>2</td>\n",
              "      <td>False</td>\n",
              "    </tr>\n",
              "    <tr>\n",
              "      <th>4</th>\n",
              "      <td>OK</td>\n",
              "      <td>75</td>\n",
              "      <td>415</td>\n",
              "      <td>Yes</td>\n",
              "      <td>No</td>\n",
              "      <td>0</td>\n",
              "      <td>166.7</td>\n",
              "      <td>113</td>\n",
              "      <td>28.34</td>\n",
              "      <td>148.3</td>\n",
              "      <td>122</td>\n",
              "      <td>12.61</td>\n",
              "      <td>186.9</td>\n",
              "      <td>121</td>\n",
              "      <td>8.41</td>\n",
              "      <td>10.1</td>\n",
              "      <td>3</td>\n",
              "      <td>2.73</td>\n",
              "      <td>3</td>\n",
              "      <td>False</td>\n",
              "    </tr>\n",
              "  </tbody>\n",
              "</table>\n",
              "</div>"
            ],
            "text/plain": [
              "  State  Account length  ...  Customer service calls  Churn\n",
              "0    KS             128  ...                       1  False\n",
              "1    OH             107  ...                       1  False\n",
              "2    NJ             137  ...                       0  False\n",
              "3    OH              84  ...                       2  False\n",
              "4    OK              75  ...                       3  False\n",
              "\n",
              "[5 rows x 20 columns]"
            ]
          },
          "metadata": {
            "tags": []
          },
          "execution_count": 46
        }
      ]
    },
    {
      "cell_type": "code",
      "metadata": {
        "colab": {
          "base_uri": "https://localhost:8080/"
        },
        "id": "J0aVESfo9ABk",
        "outputId": "7345d06f-7ac4-4ed4-b59a-1a691a64276d"
      },
      "source": [
        "df.info()"
      ],
      "execution_count": 47,
      "outputs": [
        {
          "output_type": "stream",
          "text": [
            "<class 'pandas.core.frame.DataFrame'>\n",
            "RangeIndex: 3333 entries, 0 to 3332\n",
            "Data columns (total 20 columns):\n",
            " #   Column                  Non-Null Count  Dtype  \n",
            "---  ------                  --------------  -----  \n",
            " 0   State                   3333 non-null   object \n",
            " 1   Account length          3333 non-null   int64  \n",
            " 2   Area code               3333 non-null   int64  \n",
            " 3   International plan      3333 non-null   object \n",
            " 4   Voice mail plan         3333 non-null   object \n",
            " 5   Number vmail messages   3333 non-null   int64  \n",
            " 6   Total day minutes       3333 non-null   float64\n",
            " 7   Total day calls         3333 non-null   int64  \n",
            " 8   Total day charge        3333 non-null   float64\n",
            " 9   Total eve minutes       3333 non-null   float64\n",
            " 10  Total eve calls         3333 non-null   int64  \n",
            " 11  Total eve charge        3333 non-null   float64\n",
            " 12  Total night minutes     3333 non-null   float64\n",
            " 13  Total night calls       3333 non-null   int64  \n",
            " 14  Total night charge      3333 non-null   float64\n",
            " 15  Total intl minutes      3333 non-null   float64\n",
            " 16  Total intl calls        3333 non-null   int64  \n",
            " 17  Total intl charge       3333 non-null   float64\n",
            " 18  Customer service calls  3333 non-null   int64  \n",
            " 19  Churn                   3333 non-null   bool   \n",
            "dtypes: bool(1), float64(8), int64(8), object(3)\n",
            "memory usage: 498.1+ KB\n"
          ],
          "name": "stdout"
        }
      ]
    },
    {
      "cell_type": "code",
      "metadata": {
        "colab": {
          "base_uri": "https://localhost:8080/",
          "height": 349
        },
        "id": "N5vdVe339a0t",
        "outputId": "8b62b81c-33c8-49a1-d4f7-0c17b9d3a86a"
      },
      "source": [
        "df.describe()"
      ],
      "execution_count": 48,
      "outputs": [
        {
          "output_type": "execute_result",
          "data": {
            "text/html": [
              "<div>\n",
              "<style scoped>\n",
              "    .dataframe tbody tr th:only-of-type {\n",
              "        vertical-align: middle;\n",
              "    }\n",
              "\n",
              "    .dataframe tbody tr th {\n",
              "        vertical-align: top;\n",
              "    }\n",
              "\n",
              "    .dataframe thead th {\n",
              "        text-align: right;\n",
              "    }\n",
              "</style>\n",
              "<table border=\"1\" class=\"dataframe\">\n",
              "  <thead>\n",
              "    <tr style=\"text-align: right;\">\n",
              "      <th></th>\n",
              "      <th>Account length</th>\n",
              "      <th>Area code</th>\n",
              "      <th>Number vmail messages</th>\n",
              "      <th>Total day minutes</th>\n",
              "      <th>Total day calls</th>\n",
              "      <th>Total day charge</th>\n",
              "      <th>Total eve minutes</th>\n",
              "      <th>Total eve calls</th>\n",
              "      <th>Total eve charge</th>\n",
              "      <th>Total night minutes</th>\n",
              "      <th>Total night calls</th>\n",
              "      <th>Total night charge</th>\n",
              "      <th>Total intl minutes</th>\n",
              "      <th>Total intl calls</th>\n",
              "      <th>Total intl charge</th>\n",
              "      <th>Customer service calls</th>\n",
              "    </tr>\n",
              "  </thead>\n",
              "  <tbody>\n",
              "    <tr>\n",
              "      <th>count</th>\n",
              "      <td>3333.000000</td>\n",
              "      <td>3333.000000</td>\n",
              "      <td>3333.000000</td>\n",
              "      <td>3333.000000</td>\n",
              "      <td>3333.000000</td>\n",
              "      <td>3333.000000</td>\n",
              "      <td>3333.000000</td>\n",
              "      <td>3333.000000</td>\n",
              "      <td>3333.000000</td>\n",
              "      <td>3333.000000</td>\n",
              "      <td>3333.000000</td>\n",
              "      <td>3333.000000</td>\n",
              "      <td>3333.000000</td>\n",
              "      <td>3333.000000</td>\n",
              "      <td>3333.000000</td>\n",
              "      <td>3333.000000</td>\n",
              "    </tr>\n",
              "    <tr>\n",
              "      <th>mean</th>\n",
              "      <td>101.064806</td>\n",
              "      <td>437.182418</td>\n",
              "      <td>8.099010</td>\n",
              "      <td>179.775098</td>\n",
              "      <td>100.435644</td>\n",
              "      <td>30.562307</td>\n",
              "      <td>200.980348</td>\n",
              "      <td>100.114311</td>\n",
              "      <td>17.083540</td>\n",
              "      <td>200.872037</td>\n",
              "      <td>100.107711</td>\n",
              "      <td>9.039325</td>\n",
              "      <td>10.237294</td>\n",
              "      <td>4.479448</td>\n",
              "      <td>2.764581</td>\n",
              "      <td>1.562856</td>\n",
              "    </tr>\n",
              "    <tr>\n",
              "      <th>std</th>\n",
              "      <td>39.822106</td>\n",
              "      <td>42.371290</td>\n",
              "      <td>13.688365</td>\n",
              "      <td>54.467389</td>\n",
              "      <td>20.069084</td>\n",
              "      <td>9.259435</td>\n",
              "      <td>50.713844</td>\n",
              "      <td>19.922625</td>\n",
              "      <td>4.310668</td>\n",
              "      <td>50.573847</td>\n",
              "      <td>19.568609</td>\n",
              "      <td>2.275873</td>\n",
              "      <td>2.791840</td>\n",
              "      <td>2.461214</td>\n",
              "      <td>0.753773</td>\n",
              "      <td>1.315491</td>\n",
              "    </tr>\n",
              "    <tr>\n",
              "      <th>min</th>\n",
              "      <td>1.000000</td>\n",
              "      <td>408.000000</td>\n",
              "      <td>0.000000</td>\n",
              "      <td>0.000000</td>\n",
              "      <td>0.000000</td>\n",
              "      <td>0.000000</td>\n",
              "      <td>0.000000</td>\n",
              "      <td>0.000000</td>\n",
              "      <td>0.000000</td>\n",
              "      <td>23.200000</td>\n",
              "      <td>33.000000</td>\n",
              "      <td>1.040000</td>\n",
              "      <td>0.000000</td>\n",
              "      <td>0.000000</td>\n",
              "      <td>0.000000</td>\n",
              "      <td>0.000000</td>\n",
              "    </tr>\n",
              "    <tr>\n",
              "      <th>25%</th>\n",
              "      <td>74.000000</td>\n",
              "      <td>408.000000</td>\n",
              "      <td>0.000000</td>\n",
              "      <td>143.700000</td>\n",
              "      <td>87.000000</td>\n",
              "      <td>24.430000</td>\n",
              "      <td>166.600000</td>\n",
              "      <td>87.000000</td>\n",
              "      <td>14.160000</td>\n",
              "      <td>167.000000</td>\n",
              "      <td>87.000000</td>\n",
              "      <td>7.520000</td>\n",
              "      <td>8.500000</td>\n",
              "      <td>3.000000</td>\n",
              "      <td>2.300000</td>\n",
              "      <td>1.000000</td>\n",
              "    </tr>\n",
              "    <tr>\n",
              "      <th>50%</th>\n",
              "      <td>101.000000</td>\n",
              "      <td>415.000000</td>\n",
              "      <td>0.000000</td>\n",
              "      <td>179.400000</td>\n",
              "      <td>101.000000</td>\n",
              "      <td>30.500000</td>\n",
              "      <td>201.400000</td>\n",
              "      <td>100.000000</td>\n",
              "      <td>17.120000</td>\n",
              "      <td>201.200000</td>\n",
              "      <td>100.000000</td>\n",
              "      <td>9.050000</td>\n",
              "      <td>10.300000</td>\n",
              "      <td>4.000000</td>\n",
              "      <td>2.780000</td>\n",
              "      <td>1.000000</td>\n",
              "    </tr>\n",
              "    <tr>\n",
              "      <th>75%</th>\n",
              "      <td>127.000000</td>\n",
              "      <td>510.000000</td>\n",
              "      <td>20.000000</td>\n",
              "      <td>216.400000</td>\n",
              "      <td>114.000000</td>\n",
              "      <td>36.790000</td>\n",
              "      <td>235.300000</td>\n",
              "      <td>114.000000</td>\n",
              "      <td>20.000000</td>\n",
              "      <td>235.300000</td>\n",
              "      <td>113.000000</td>\n",
              "      <td>10.590000</td>\n",
              "      <td>12.100000</td>\n",
              "      <td>6.000000</td>\n",
              "      <td>3.270000</td>\n",
              "      <td>2.000000</td>\n",
              "    </tr>\n",
              "    <tr>\n",
              "      <th>max</th>\n",
              "      <td>243.000000</td>\n",
              "      <td>510.000000</td>\n",
              "      <td>51.000000</td>\n",
              "      <td>350.800000</td>\n",
              "      <td>165.000000</td>\n",
              "      <td>59.640000</td>\n",
              "      <td>363.700000</td>\n",
              "      <td>170.000000</td>\n",
              "      <td>30.910000</td>\n",
              "      <td>395.000000</td>\n",
              "      <td>175.000000</td>\n",
              "      <td>17.770000</td>\n",
              "      <td>20.000000</td>\n",
              "      <td>20.000000</td>\n",
              "      <td>5.400000</td>\n",
              "      <td>9.000000</td>\n",
              "    </tr>\n",
              "  </tbody>\n",
              "</table>\n",
              "</div>"
            ],
            "text/plain": [
              "       Account length    Area code  ...  Total intl charge  Customer service calls\n",
              "count     3333.000000  3333.000000  ...        3333.000000             3333.000000\n",
              "mean       101.064806   437.182418  ...           2.764581                1.562856\n",
              "std         39.822106    42.371290  ...           0.753773                1.315491\n",
              "min          1.000000   408.000000  ...           0.000000                0.000000\n",
              "25%         74.000000   408.000000  ...           2.300000                1.000000\n",
              "50%        101.000000   415.000000  ...           2.780000                1.000000\n",
              "75%        127.000000   510.000000  ...           3.270000                2.000000\n",
              "max        243.000000   510.000000  ...           5.400000                9.000000\n",
              "\n",
              "[8 rows x 16 columns]"
            ]
          },
          "metadata": {
            "tags": []
          },
          "execution_count": 48
        }
      ]
    },
    {
      "cell_type": "code",
      "metadata": {
        "colab": {
          "base_uri": "https://localhost:8080/",
          "height": 417
        },
        "id": "ec_jb2U0eZYx",
        "outputId": "0194f4d8-5c73-4754-808d-465c7ea76f3b"
      },
      "source": [
        "df[['State','Churn']]"
      ],
      "execution_count": 49,
      "outputs": [
        {
          "output_type": "execute_result",
          "data": {
            "text/html": [
              "<div>\n",
              "<style scoped>\n",
              "    .dataframe tbody tr th:only-of-type {\n",
              "        vertical-align: middle;\n",
              "    }\n",
              "\n",
              "    .dataframe tbody tr th {\n",
              "        vertical-align: top;\n",
              "    }\n",
              "\n",
              "    .dataframe thead th {\n",
              "        text-align: right;\n",
              "    }\n",
              "</style>\n",
              "<table border=\"1\" class=\"dataframe\">\n",
              "  <thead>\n",
              "    <tr style=\"text-align: right;\">\n",
              "      <th></th>\n",
              "      <th>State</th>\n",
              "      <th>Churn</th>\n",
              "    </tr>\n",
              "  </thead>\n",
              "  <tbody>\n",
              "    <tr>\n",
              "      <th>0</th>\n",
              "      <td>KS</td>\n",
              "      <td>False</td>\n",
              "    </tr>\n",
              "    <tr>\n",
              "      <th>1</th>\n",
              "      <td>OH</td>\n",
              "      <td>False</td>\n",
              "    </tr>\n",
              "    <tr>\n",
              "      <th>2</th>\n",
              "      <td>NJ</td>\n",
              "      <td>False</td>\n",
              "    </tr>\n",
              "    <tr>\n",
              "      <th>3</th>\n",
              "      <td>OH</td>\n",
              "      <td>False</td>\n",
              "    </tr>\n",
              "    <tr>\n",
              "      <th>4</th>\n",
              "      <td>OK</td>\n",
              "      <td>False</td>\n",
              "    </tr>\n",
              "    <tr>\n",
              "      <th>...</th>\n",
              "      <td>...</td>\n",
              "      <td>...</td>\n",
              "    </tr>\n",
              "    <tr>\n",
              "      <th>3328</th>\n",
              "      <td>AZ</td>\n",
              "      <td>False</td>\n",
              "    </tr>\n",
              "    <tr>\n",
              "      <th>3329</th>\n",
              "      <td>WV</td>\n",
              "      <td>False</td>\n",
              "    </tr>\n",
              "    <tr>\n",
              "      <th>3330</th>\n",
              "      <td>RI</td>\n",
              "      <td>False</td>\n",
              "    </tr>\n",
              "    <tr>\n",
              "      <th>3331</th>\n",
              "      <td>CT</td>\n",
              "      <td>False</td>\n",
              "    </tr>\n",
              "    <tr>\n",
              "      <th>3332</th>\n",
              "      <td>TN</td>\n",
              "      <td>False</td>\n",
              "    </tr>\n",
              "  </tbody>\n",
              "</table>\n",
              "<p>3333 rows × 2 columns</p>\n",
              "</div>"
            ],
            "text/plain": [
              "     State  Churn\n",
              "0       KS  False\n",
              "1       OH  False\n",
              "2       NJ  False\n",
              "3       OH  False\n",
              "4       OK  False\n",
              "...    ...    ...\n",
              "3328    AZ  False\n",
              "3329    WV  False\n",
              "3330    RI  False\n",
              "3331    CT  False\n",
              "3332    TN  False\n",
              "\n",
              "[3333 rows x 2 columns]"
            ]
          },
          "metadata": {
            "tags": []
          },
          "execution_count": 49
        }
      ]
    },
    {
      "cell_type": "code",
      "metadata": {
        "colab": {
          "base_uri": "https://localhost:8080/"
        },
        "id": "iTj6SX4KsqdO",
        "outputId": "45932948-b59b-4bb3-9669-a436976bba0f"
      },
      "source": [
        "df.groupby('State')['Churn'].value_counts().sort_values(ascending=True)"
      ],
      "execution_count": 50,
      "outputs": [
        {
          "output_type": "execute_result",
          "data": {
            "text/plain": [
              "State  Churn\n",
              "AK     True      3\n",
              "IA     True      3\n",
              "HI     True      3\n",
              "LA     True      4\n",
              "AZ     True      4\n",
              "                ..\n",
              "MN     False    69\n",
              "WI     False    71\n",
              "AL     False    72\n",
              "VA     False    72\n",
              "WV     False    96\n",
              "Name: Churn, Length: 102, dtype: int64"
            ]
          },
          "metadata": {
            "tags": []
          },
          "execution_count": 50
        }
      ]
    },
    {
      "cell_type": "code",
      "metadata": {
        "id": "JHHhbEst2geC"
      },
      "source": [
        "s=df[df['Churn']==True]"
      ],
      "execution_count": 51,
      "outputs": []
    },
    {
      "cell_type": "code",
      "metadata": {
        "id": "2vTzIYGwtj0l"
      },
      "source": [
        "st=pd.DataFrame(s)"
      ],
      "execution_count": 52,
      "outputs": []
    },
    {
      "cell_type": "code",
      "metadata": {
        "colab": {
          "base_uri": "https://localhost:8080/",
          "height": 450
        },
        "id": "saRPG89Jtt6k",
        "outputId": "81fcb8d6-5778-469d-ed0a-3278d584bb9b"
      },
      "source": [
        "st"
      ],
      "execution_count": 53,
      "outputs": [
        {
          "output_type": "execute_result",
          "data": {
            "text/html": [
              "<div>\n",
              "<style scoped>\n",
              "    .dataframe tbody tr th:only-of-type {\n",
              "        vertical-align: middle;\n",
              "    }\n",
              "\n",
              "    .dataframe tbody tr th {\n",
              "        vertical-align: top;\n",
              "    }\n",
              "\n",
              "    .dataframe thead th {\n",
              "        text-align: right;\n",
              "    }\n",
              "</style>\n",
              "<table border=\"1\" class=\"dataframe\">\n",
              "  <thead>\n",
              "    <tr style=\"text-align: right;\">\n",
              "      <th></th>\n",
              "      <th>State</th>\n",
              "      <th>Account length</th>\n",
              "      <th>Area code</th>\n",
              "      <th>International plan</th>\n",
              "      <th>Voice mail plan</th>\n",
              "      <th>Number vmail messages</th>\n",
              "      <th>Total day minutes</th>\n",
              "      <th>Total day calls</th>\n",
              "      <th>Total day charge</th>\n",
              "      <th>Total eve minutes</th>\n",
              "      <th>Total eve calls</th>\n",
              "      <th>Total eve charge</th>\n",
              "      <th>Total night minutes</th>\n",
              "      <th>Total night calls</th>\n",
              "      <th>Total night charge</th>\n",
              "      <th>Total intl minutes</th>\n",
              "      <th>Total intl calls</th>\n",
              "      <th>Total intl charge</th>\n",
              "      <th>Customer service calls</th>\n",
              "      <th>Churn</th>\n",
              "    </tr>\n",
              "  </thead>\n",
              "  <tbody>\n",
              "    <tr>\n",
              "      <th>10</th>\n",
              "      <td>IN</td>\n",
              "      <td>65</td>\n",
              "      <td>415</td>\n",
              "      <td>No</td>\n",
              "      <td>No</td>\n",
              "      <td>0</td>\n",
              "      <td>129.1</td>\n",
              "      <td>137</td>\n",
              "      <td>21.95</td>\n",
              "      <td>228.5</td>\n",
              "      <td>83</td>\n",
              "      <td>19.42</td>\n",
              "      <td>208.8</td>\n",
              "      <td>111</td>\n",
              "      <td>9.40</td>\n",
              "      <td>12.7</td>\n",
              "      <td>6</td>\n",
              "      <td>3.43</td>\n",
              "      <td>4</td>\n",
              "      <td>True</td>\n",
              "    </tr>\n",
              "    <tr>\n",
              "      <th>15</th>\n",
              "      <td>NY</td>\n",
              "      <td>161</td>\n",
              "      <td>415</td>\n",
              "      <td>No</td>\n",
              "      <td>No</td>\n",
              "      <td>0</td>\n",
              "      <td>332.9</td>\n",
              "      <td>67</td>\n",
              "      <td>56.59</td>\n",
              "      <td>317.8</td>\n",
              "      <td>97</td>\n",
              "      <td>27.01</td>\n",
              "      <td>160.6</td>\n",
              "      <td>128</td>\n",
              "      <td>7.23</td>\n",
              "      <td>5.4</td>\n",
              "      <td>9</td>\n",
              "      <td>1.46</td>\n",
              "      <td>4</td>\n",
              "      <td>True</td>\n",
              "    </tr>\n",
              "    <tr>\n",
              "      <th>21</th>\n",
              "      <td>CO</td>\n",
              "      <td>77</td>\n",
              "      <td>408</td>\n",
              "      <td>No</td>\n",
              "      <td>No</td>\n",
              "      <td>0</td>\n",
              "      <td>62.4</td>\n",
              "      <td>89</td>\n",
              "      <td>10.61</td>\n",
              "      <td>169.9</td>\n",
              "      <td>121</td>\n",
              "      <td>14.44</td>\n",
              "      <td>209.6</td>\n",
              "      <td>64</td>\n",
              "      <td>9.43</td>\n",
              "      <td>5.7</td>\n",
              "      <td>6</td>\n",
              "      <td>1.54</td>\n",
              "      <td>5</td>\n",
              "      <td>True</td>\n",
              "    </tr>\n",
              "    <tr>\n",
              "      <th>33</th>\n",
              "      <td>AZ</td>\n",
              "      <td>12</td>\n",
              "      <td>408</td>\n",
              "      <td>No</td>\n",
              "      <td>No</td>\n",
              "      <td>0</td>\n",
              "      <td>249.6</td>\n",
              "      <td>118</td>\n",
              "      <td>42.43</td>\n",
              "      <td>252.4</td>\n",
              "      <td>119</td>\n",
              "      <td>21.45</td>\n",
              "      <td>280.2</td>\n",
              "      <td>90</td>\n",
              "      <td>12.61</td>\n",
              "      <td>11.8</td>\n",
              "      <td>3</td>\n",
              "      <td>3.19</td>\n",
              "      <td>1</td>\n",
              "      <td>True</td>\n",
              "    </tr>\n",
              "    <tr>\n",
              "      <th>41</th>\n",
              "      <td>MD</td>\n",
              "      <td>135</td>\n",
              "      <td>408</td>\n",
              "      <td>Yes</td>\n",
              "      <td>Yes</td>\n",
              "      <td>41</td>\n",
              "      <td>173.1</td>\n",
              "      <td>85</td>\n",
              "      <td>29.43</td>\n",
              "      <td>203.9</td>\n",
              "      <td>107</td>\n",
              "      <td>17.33</td>\n",
              "      <td>122.2</td>\n",
              "      <td>78</td>\n",
              "      <td>5.50</td>\n",
              "      <td>14.6</td>\n",
              "      <td>15</td>\n",
              "      <td>3.94</td>\n",
              "      <td>0</td>\n",
              "      <td>True</td>\n",
              "    </tr>\n",
              "    <tr>\n",
              "      <th>...</th>\n",
              "      <td>...</td>\n",
              "      <td>...</td>\n",
              "      <td>...</td>\n",
              "      <td>...</td>\n",
              "      <td>...</td>\n",
              "      <td>...</td>\n",
              "      <td>...</td>\n",
              "      <td>...</td>\n",
              "      <td>...</td>\n",
              "      <td>...</td>\n",
              "      <td>...</td>\n",
              "      <td>...</td>\n",
              "      <td>...</td>\n",
              "      <td>...</td>\n",
              "      <td>...</td>\n",
              "      <td>...</td>\n",
              "      <td>...</td>\n",
              "      <td>...</td>\n",
              "      <td>...</td>\n",
              "      <td>...</td>\n",
              "    </tr>\n",
              "    <tr>\n",
              "      <th>3301</th>\n",
              "      <td>CA</td>\n",
              "      <td>84</td>\n",
              "      <td>415</td>\n",
              "      <td>No</td>\n",
              "      <td>No</td>\n",
              "      <td>0</td>\n",
              "      <td>280.0</td>\n",
              "      <td>113</td>\n",
              "      <td>47.60</td>\n",
              "      <td>202.2</td>\n",
              "      <td>90</td>\n",
              "      <td>17.19</td>\n",
              "      <td>156.8</td>\n",
              "      <td>103</td>\n",
              "      <td>7.06</td>\n",
              "      <td>10.4</td>\n",
              "      <td>4</td>\n",
              "      <td>2.81</td>\n",
              "      <td>0</td>\n",
              "      <td>True</td>\n",
              "    </tr>\n",
              "    <tr>\n",
              "      <th>3304</th>\n",
              "      <td>IL</td>\n",
              "      <td>71</td>\n",
              "      <td>510</td>\n",
              "      <td>Yes</td>\n",
              "      <td>No</td>\n",
              "      <td>0</td>\n",
              "      <td>186.1</td>\n",
              "      <td>114</td>\n",
              "      <td>31.64</td>\n",
              "      <td>198.6</td>\n",
              "      <td>140</td>\n",
              "      <td>16.88</td>\n",
              "      <td>206.5</td>\n",
              "      <td>80</td>\n",
              "      <td>9.29</td>\n",
              "      <td>13.8</td>\n",
              "      <td>5</td>\n",
              "      <td>3.73</td>\n",
              "      <td>4</td>\n",
              "      <td>True</td>\n",
              "    </tr>\n",
              "    <tr>\n",
              "      <th>3320</th>\n",
              "      <td>GA</td>\n",
              "      <td>122</td>\n",
              "      <td>510</td>\n",
              "      <td>Yes</td>\n",
              "      <td>No</td>\n",
              "      <td>0</td>\n",
              "      <td>140.0</td>\n",
              "      <td>101</td>\n",
              "      <td>23.80</td>\n",
              "      <td>196.4</td>\n",
              "      <td>77</td>\n",
              "      <td>16.69</td>\n",
              "      <td>120.1</td>\n",
              "      <td>133</td>\n",
              "      <td>5.40</td>\n",
              "      <td>9.7</td>\n",
              "      <td>4</td>\n",
              "      <td>2.62</td>\n",
              "      <td>4</td>\n",
              "      <td>True</td>\n",
              "    </tr>\n",
              "    <tr>\n",
              "      <th>3322</th>\n",
              "      <td>MD</td>\n",
              "      <td>62</td>\n",
              "      <td>408</td>\n",
              "      <td>No</td>\n",
              "      <td>No</td>\n",
              "      <td>0</td>\n",
              "      <td>321.1</td>\n",
              "      <td>105</td>\n",
              "      <td>54.59</td>\n",
              "      <td>265.5</td>\n",
              "      <td>122</td>\n",
              "      <td>22.57</td>\n",
              "      <td>180.5</td>\n",
              "      <td>72</td>\n",
              "      <td>8.12</td>\n",
              "      <td>11.5</td>\n",
              "      <td>2</td>\n",
              "      <td>3.11</td>\n",
              "      <td>4</td>\n",
              "      <td>True</td>\n",
              "    </tr>\n",
              "    <tr>\n",
              "      <th>3323</th>\n",
              "      <td>IN</td>\n",
              "      <td>117</td>\n",
              "      <td>415</td>\n",
              "      <td>No</td>\n",
              "      <td>No</td>\n",
              "      <td>0</td>\n",
              "      <td>118.4</td>\n",
              "      <td>126</td>\n",
              "      <td>20.13</td>\n",
              "      <td>249.3</td>\n",
              "      <td>97</td>\n",
              "      <td>21.19</td>\n",
              "      <td>227.0</td>\n",
              "      <td>56</td>\n",
              "      <td>10.22</td>\n",
              "      <td>13.6</td>\n",
              "      <td>3</td>\n",
              "      <td>3.67</td>\n",
              "      <td>5</td>\n",
              "      <td>True</td>\n",
              "    </tr>\n",
              "  </tbody>\n",
              "</table>\n",
              "<p>483 rows × 20 columns</p>\n",
              "</div>"
            ],
            "text/plain": [
              "     State  Account length  ...  Customer service calls Churn\n",
              "10      IN              65  ...                       4  True\n",
              "15      NY             161  ...                       4  True\n",
              "21      CO              77  ...                       5  True\n",
              "33      AZ              12  ...                       1  True\n",
              "41      MD             135  ...                       0  True\n",
              "...    ...             ...  ...                     ...   ...\n",
              "3301    CA              84  ...                       0  True\n",
              "3304    IL              71  ...                       4  True\n",
              "3320    GA             122  ...                       4  True\n",
              "3322    MD              62  ...                       4  True\n",
              "3323    IN             117  ...                       5  True\n",
              "\n",
              "[483 rows x 20 columns]"
            ]
          },
          "metadata": {
            "tags": []
          },
          "execution_count": 53
        }
      ]
    },
    {
      "cell_type": "code",
      "metadata": {
        "colab": {
          "base_uri": "https://localhost:8080/"
        },
        "id": "sbAFIEUauE6t",
        "outputId": "0395341e-d597-452e-ee87-b524143f069b"
      },
      "source": [
        "len(set(list(df['State'])))"
      ],
      "execution_count": 54,
      "outputs": [
        {
          "output_type": "execute_result",
          "data": {
            "text/plain": [
              "51"
            ]
          },
          "metadata": {
            "tags": []
          },
          "execution_count": 54
        }
      ]
    },
    {
      "cell_type": "code",
      "metadata": {
        "colab": {
          "base_uri": "https://localhost:8080/"
        },
        "id": "WlaghHTdAVhJ",
        "outputId": "158d7a28-e151-4748-9e7c-6125924815e9"
      },
      "source": [
        "df['State'].nunique()"
      ],
      "execution_count": 55,
      "outputs": [
        {
          "output_type": "execute_result",
          "data": {
            "text/plain": [
              "51"
            ]
          },
          "metadata": {
            "tags": []
          },
          "execution_count": 55
        }
      ]
    },
    {
      "cell_type": "code",
      "metadata": {
        "colab": {
          "base_uri": "https://localhost:8080/"
        },
        "id": "E9iHrz5aAsmZ",
        "outputId": "d1b5c490-a2b6-4099-f920-c6ab7d59af52"
      },
      "source": [
        "df['Area code'].nunique()"
      ],
      "execution_count": 56,
      "outputs": [
        {
          "output_type": "execute_result",
          "data": {
            "text/plain": [
              "3"
            ]
          },
          "metadata": {
            "tags": []
          },
          "execution_count": 56
        }
      ]
    },
    {
      "cell_type": "code",
      "metadata": {
        "colab": {
          "base_uri": "https://localhost:8080/"
        },
        "id": "rG9b5GWqA9Wh",
        "outputId": "5e451510-3adb-4a69-a32d-bbc32b1793a1"
      },
      "source": [
        "df['Area code'].value_counts()"
      ],
      "execution_count": 57,
      "outputs": [
        {
          "output_type": "execute_result",
          "data": {
            "text/plain": [
              "415    1655\n",
              "510     840\n",
              "408     838\n",
              "Name: Area code, dtype: int64"
            ]
          },
          "metadata": {
            "tags": []
          },
          "execution_count": 57
        }
      ]
    },
    {
      "cell_type": "code",
      "metadata": {
        "colab": {
          "base_uri": "https://localhost:8080/"
        },
        "id": "r57imDjdBFN_",
        "outputId": "9a57628a-cd62-4889-a851-65f404ff4b95"
      },
      "source": [
        "df.groupby('Area code')['State'].value_counts(normalize=True)"
      ],
      "execution_count": 58,
      "outputs": [
        {
          "output_type": "execute_result",
          "data": {
            "text/plain": [
              "Area code  State\n",
              "408        AL       0.029833\n",
              "           CO       0.029833\n",
              "           NC       0.029833\n",
              "           NH       0.029833\n",
              "           VA       0.029833\n",
              "                      ...   \n",
              "510        LA       0.013095\n",
              "           MO       0.013095\n",
              "           NM       0.013095\n",
              "           CA       0.011905\n",
              "           HI       0.009524\n",
              "Name: State, Length: 153, dtype: float64"
            ]
          },
          "metadata": {
            "tags": []
          },
          "execution_count": 58
        }
      ]
    },
    {
      "cell_type": "code",
      "metadata": {
        "colab": {
          "base_uri": "https://localhost:8080/",
          "height": 296
        },
        "id": "KGgfe03ZEiIc",
        "outputId": "e78d568f-6685-4553-e891-8cd7a86650f1"
      },
      "source": [
        "#pd.crosstab(df['Total intl calls'],df['Churn'],margins=True).plot(kind='bar')\n",
        "sns.countplot(x = 'Total intl calls', hue = 'International plan', data = df)\n",
        "\n",
        "\n",
        "#pd.crosstab(df['Total intl calls'],df['State'],normalize='index').plot(kind='bar')"
      ],
      "execution_count": 59,
      "outputs": [
        {
          "output_type": "execute_result",
          "data": {
            "text/plain": [
              "<matplotlib.axes._subplots.AxesSubplot at 0x7f7744017490>"
            ]
          },
          "metadata": {
            "tags": []
          },
          "execution_count": 59
        },
        {
          "output_type": "display_data",
          "data": {
            "image/png": "[encoded data removed]",
            "text/plain": [
              "<Figure size 432x288 with 1 Axes>"
            ]
          },
          "metadata": {
            "tags": [],
            "needs_background": "light"
          }
        }
      ]
    },
    {
      "cell_type": "code",
      "metadata": {
        "colab": {
          "base_uri": "https://localhost:8080/"
        },
        "id": "uUItqp9oen2m",
        "outputId": "ebb83f79-fa94-4ed9-8171-347f997fbbf2"
      },
      "source": [
        "df.duplicated().sum()"
      ],
      "execution_count": 60,
      "outputs": [
        {
          "output_type": "execute_result",
          "data": {
            "text/plain": [
              "0"
            ]
          },
          "metadata": {
            "tags": []
          },
          "execution_count": 60
        }
      ]
    },
    {
      "cell_type": "code",
      "metadata": {
        "id": "xNYvpHD1gwvt",
        "colab": {
          "base_uri": "https://localhost:8080/"
        },
        "outputId": "c1814746-d3af-405c-82c3-c1f4b38d2719"
      },
      "source": [
        "df.isnull().sum()"
      ],
      "execution_count": 61,
      "outputs": [
        {
          "output_type": "execute_result",
          "data": {
            "text/plain": [
              "State                     0\n",
              "Account length            0\n",
              "Area code                 0\n",
              "International plan        0\n",
              "Voice mail plan           0\n",
              "Number vmail messages     0\n",
              "Total day minutes         0\n",
              "Total day calls           0\n",
              "Total day charge          0\n",
              "Total eve minutes         0\n",
              "Total eve calls           0\n",
              "Total eve charge          0\n",
              "Total night minutes       0\n",
              "Total night calls         0\n",
              "Total night charge        0\n",
              "Total intl minutes        0\n",
              "Total intl calls          0\n",
              "Total intl charge         0\n",
              "Customer service calls    0\n",
              "Churn                     0\n",
              "dtype: int64"
            ]
          },
          "metadata": {
            "tags": []
          },
          "execution_count": 61
        }
      ]
    },
    {
      "cell_type": "code",
      "metadata": {
        "id": "9zn-gA7Gg67z",
        "colab": {
          "base_uri": "https://localhost:8080/"
        },
        "outputId": "247b06d0-02fd-4140-ce73-de4e97eada66"
      },
      "source": [
        "df.isna().sum()"
      ],
      "execution_count": 62,
      "outputs": [
        {
          "output_type": "execute_result",
          "data": {
            "text/plain": [
              "State                     0\n",
              "Account length            0\n",
              "Area code                 0\n",
              "International plan        0\n",
              "Voice mail plan           0\n",
              "Number vmail messages     0\n",
              "Total day minutes         0\n",
              "Total day calls           0\n",
              "Total day charge          0\n",
              "Total eve minutes         0\n",
              "Total eve calls           0\n",
              "Total eve charge          0\n",
              "Total night minutes       0\n",
              "Total night calls         0\n",
              "Total night charge        0\n",
              "Total intl minutes        0\n",
              "Total intl calls          0\n",
              "Total intl charge         0\n",
              "Customer service calls    0\n",
              "Churn                     0\n",
              "dtype: int64"
            ]
          },
          "metadata": {
            "tags": []
          },
          "execution_count": 62
        }
      ]
    },
    {
      "cell_type": "code",
      "metadata": {
        "id": "bl1S1OWIk9mS"
      },
      "source": [
        "a=df['Total intl minutes'].describe()"
      ],
      "execution_count": 63,
      "outputs": []
    },
    {
      "cell_type": "code",
      "metadata": {
        "id": "Aqk3Xtc8oiDT"
      },
      "source": [
        "b=df['Total intl calls'].describe()"
      ],
      "execution_count": 64,
      "outputs": []
    },
    {
      "cell_type": "code",
      "metadata": {
        "id": "gjLZJVR7on-r"
      },
      "source": [
        "c=df['Total intl charge'].describe()"
      ],
      "execution_count": 65,
      "outputs": []
    },
    {
      "cell_type": "code",
      "metadata": {
        "id": "ABUZwVgvo3M9"
      },
      "source": [
        "intl_call=pd.DataFrame(a,b,c).reset_index"
      ],
      "execution_count": 66,
      "outputs": []
    },
    {
      "cell_type": "code",
      "metadata": {
        "id": "kJoswIUNudLJ"
      },
      "source": [
        "df_=df[['Total intl minutes','Total intl calls','Total intl charge','Churn']]"
      ],
      "execution_count": 67,
      "outputs": []
    },
    {
      "cell_type": "code",
      "metadata": {
        "colab": {
          "base_uri": "https://localhost:8080/",
          "height": 447
        },
        "id": "FV-xyqx8vFS6",
        "outputId": "a44271f7-4c95-4dd3-b333-54a90d14e2cc"
      },
      "source": [
        "df_.set_index('Churn')"
      ],
      "execution_count": 68,
      "outputs": [
        {
          "output_type": "execute_result",
          "data": {
            "text/html": [
              "<div>\n",
              "<style scoped>\n",
              "    .dataframe tbody tr th:only-of-type {\n",
              "        vertical-align: middle;\n",
              "    }\n",
              "\n",
              "    .dataframe tbody tr th {\n",
              "        vertical-align: top;\n",
              "    }\n",
              "\n",
              "    .dataframe thead th {\n",
              "        text-align: right;\n",
              "    }\n",
              "</style>\n",
              "<table border=\"1\" class=\"dataframe\">\n",
              "  <thead>\n",
              "    <tr style=\"text-align: right;\">\n",
              "      <th></th>\n",
              "      <th>Total intl minutes</th>\n",
              "      <th>Total intl calls</th>\n",
              "      <th>Total intl charge</th>\n",
              "    </tr>\n",
              "    <tr>\n",
              "      <th>Churn</th>\n",
              "      <th></th>\n",
              "      <th></th>\n",
              "      <th></th>\n",
              "    </tr>\n",
              "  </thead>\n",
              "  <tbody>\n",
              "    <tr>\n",
              "      <th>False</th>\n",
              "      <td>10.0</td>\n",
              "      <td>3</td>\n",
              "      <td>2.70</td>\n",
              "    </tr>\n",
              "    <tr>\n",
              "      <th>False</th>\n",
              "      <td>13.7</td>\n",
              "      <td>3</td>\n",
              "      <td>3.70</td>\n",
              "    </tr>\n",
              "    <tr>\n",
              "      <th>False</th>\n",
              "      <td>12.2</td>\n",
              "      <td>5</td>\n",
              "      <td>3.29</td>\n",
              "    </tr>\n",
              "    <tr>\n",
              "      <th>False</th>\n",
              "      <td>6.6</td>\n",
              "      <td>7</td>\n",
              "      <td>1.78</td>\n",
              "    </tr>\n",
              "    <tr>\n",
              "      <th>False</th>\n",
              "      <td>10.1</td>\n",
              "      <td>3</td>\n",
              "      <td>2.73</td>\n",
              "    </tr>\n",
              "    <tr>\n",
              "      <th>...</th>\n",
              "      <td>...</td>\n",
              "      <td>...</td>\n",
              "      <td>...</td>\n",
              "    </tr>\n",
              "    <tr>\n",
              "      <th>False</th>\n",
              "      <td>9.9</td>\n",
              "      <td>6</td>\n",
              "      <td>2.67</td>\n",
              "    </tr>\n",
              "    <tr>\n",
              "      <th>False</th>\n",
              "      <td>9.6</td>\n",
              "      <td>4</td>\n",
              "      <td>2.59</td>\n",
              "    </tr>\n",
              "    <tr>\n",
              "      <th>False</th>\n",
              "      <td>14.1</td>\n",
              "      <td>6</td>\n",
              "      <td>3.81</td>\n",
              "    </tr>\n",
              "    <tr>\n",
              "      <th>False</th>\n",
              "      <td>5.0</td>\n",
              "      <td>10</td>\n",
              "      <td>1.35</td>\n",
              "    </tr>\n",
              "    <tr>\n",
              "      <th>False</th>\n",
              "      <td>13.7</td>\n",
              "      <td>4</td>\n",
              "      <td>3.70</td>\n",
              "    </tr>\n",
              "  </tbody>\n",
              "</table>\n",
              "<p>3333 rows × 3 columns</p>\n",
              "</div>"
            ],
            "text/plain": [
              "       Total intl minutes  Total intl calls  Total intl charge\n",
              "Churn                                                         \n",
              "False                10.0                 3               2.70\n",
              "False                13.7                 3               3.70\n",
              "False                12.2                 5               3.29\n",
              "False                 6.6                 7               1.78\n",
              "False                10.1                 3               2.73\n",
              "...                   ...               ...                ...\n",
              "False                 9.9                 6               2.67\n",
              "False                 9.6                 4               2.59\n",
              "False                14.1                 6               3.81\n",
              "False                 5.0                10               1.35\n",
              "False                13.7                 4               3.70\n",
              "\n",
              "[3333 rows x 3 columns]"
            ]
          },
          "metadata": {
            "tags": []
          },
          "execution_count": 68
        }
      ]
    },
    {
      "cell_type": "code",
      "metadata": {
        "colab": {
          "base_uri": "https://localhost:8080/",
          "height": 298
        },
        "id": "sCHJLFopvQOI",
        "outputId": "ef428d7f-f072-41a5-b99b-e00a12b58242"
      },
      "source": [
        "\n",
        "df['Churn'].value_counts().plot(kind='bar')\n",
        "\n"
      ],
      "execution_count": 69,
      "outputs": [
        {
          "output_type": "execute_result",
          "data": {
            "text/plain": [
              "<matplotlib.axes._subplots.AxesSubplot at 0x7f7743e5ff10>"
            ]
          },
          "metadata": {
            "tags": []
          },
          "execution_count": 69
        },
        {
          "output_type": "display_data",
          "data": {
            "image/png": "[encoded data removed]",
            "text/plain": [
              "<Figure size 432x288 with 1 Axes>"
            ]
          },
          "metadata": {
            "tags": [],
            "needs_background": "light"
          }
        }
      ]
    },
    {
      "cell_type": "code",
      "metadata": {
        "colab": {
          "base_uri": "https://localhost:8080/"
        },
        "id": "zax547r90LBd",
        "outputId": "b2406813-a106-473d-d194-fcef80fd8e89"
      },
      "source": [
        "df['Churn'].value_counts()"
      ],
      "execution_count": 70,
      "outputs": [
        {
          "output_type": "execute_result",
          "data": {
            "text/plain": [
              "False    2850\n",
              "True      483\n",
              "Name: Churn, dtype: int64"
            ]
          },
          "metadata": {
            "tags": []
          },
          "execution_count": 70
        }
      ]
    },
    {
      "cell_type": "code",
      "metadata": {
        "colab": {
          "base_uri": "https://localhost:8080/"
        },
        "id": "6Hw1XejF9m32",
        "outputId": "e56cbed7-bf12-4f77-ffeb-a7057bb0427f"
      },
      "source": [
        "s.groupby(['Churn','State','Area code'])['Total intl calls'].value_counts()"
      ],
      "execution_count": 71,
      "outputs": [
        {
          "output_type": "execute_result",
          "data": {
            "text/plain": [
              "Churn  State  Area code  Total intl calls\n",
              "True   AK     415        1                   1\n",
              "                         2                   1\n",
              "                         3                   1\n",
              "       AL     408        3                   1\n",
              "                         4                   1\n",
              "                                            ..\n",
              "       WY     415        7                   1\n",
              "              510        2                   1\n",
              "                         3                   1\n",
              "                         5                   1\n",
              "                         10                  1\n",
              "Name: Total intl calls, Length: 367, dtype: int64"
            ]
          },
          "metadata": {
            "tags": []
          },
          "execution_count": 71
        }
      ]
    },
    {
      "cell_type": "code",
      "metadata": {
        "colab": {
          "base_uri": "https://localhost:8080/"
        },
        "id": "t2lVXF1__01I",
        "outputId": "bd9f7488-6fa4-4694-9246-96c1b78606e0"
      },
      "source": [
        "s.groupby(['Churn'])['Total intl calls'].value_counts().sort_values(ascending=False)"
      ],
      "execution_count": 72,
      "outputs": [
        {
          "output_type": "execute_result",
          "data": {
            "text/plain": [
              "Churn  Total intl calls\n",
              "True   2                   108\n",
              "       3                    98\n",
              "       4                    79\n",
              "       5                    53\n",
              "       6                    43\n",
              "       1                    31\n",
              "       7                    27\n",
              "       9                    14\n",
              "       8                    11\n",
              "       10                    8\n",
              "       11                    4\n",
              "       15                    3\n",
              "       20                    1\n",
              "       14                    1\n",
              "       13                    1\n",
              "       12                    1\n",
              "Name: Total intl calls, dtype: int64"
            ]
          },
          "metadata": {
            "tags": []
          },
          "execution_count": 72
        }
      ]
    },
    {
      "cell_type": "code",
      "metadata": {
        "colab": {
          "base_uri": "https://localhost:8080/"
        },
        "id": "Vs12hUMF_44P",
        "outputId": "869a1395-6615-4411-a9e4-4d93b9754a21"
      },
      "source": [
        "s.groupby(['Churn'])['Total intl minutes'].value_counts().sort_values(ascending=False)"
      ],
      "execution_count": 73,
      "outputs": [
        {
          "output_type": "execute_result",
          "data": {
            "text/plain": [
              "Churn  Total intl minutes\n",
              "True   13.9                  11\n",
              "       8.8                   10\n",
              "       10.3                  10\n",
              "       11.0                  10\n",
              "       11.1                  10\n",
              "                             ..\n",
              "       4.3                    1\n",
              "       4.2                    1\n",
              "       3.9                    1\n",
              "       2.0                    1\n",
              "       20.0                   1\n",
              "Name: Total intl minutes, Length: 119, dtype: int64"
            ]
          },
          "metadata": {
            "tags": []
          },
          "execution_count": 73
        }
      ]
    },
    {
      "cell_type": "code",
      "metadata": {
        "id": "aDZSmoloAYq3"
      },
      "source": [
        "t=df[df['Churn']==False]"
      ],
      "execution_count": 74,
      "outputs": []
    },
    {
      "cell_type": "code",
      "metadata": {
        "colab": {
          "base_uri": "https://localhost:8080/"
        },
        "id": "OVrNsQ0gAd9g",
        "outputId": "6a9aafee-89a9-4361-a781-994529d71485"
      },
      "source": [
        "t.groupby(['Churn'])['Total intl calls'].value_counts().sort_values(ascending=False)"
      ],
      "execution_count": 75,
      "outputs": [
        {
          "output_type": "execute_result",
          "data": {
            "text/plain": [
              "Churn  Total intl calls\n",
              "False  3                   570\n",
              "       4                   540\n",
              "       5                   419\n",
              "       2                   381\n",
              "       6                   293\n",
              "       7                   191\n",
              "       1                   129\n",
              "       8                   105\n",
              "       9                    95\n",
              "       10                   42\n",
              "       11                   24\n",
              "       0                    18\n",
              "       12                   14\n",
              "       13                   13\n",
              "       14                    5\n",
              "       15                    4\n",
              "       18                    3\n",
              "       16                    2\n",
              "       17                    1\n",
              "       19                    1\n",
              "Name: Total intl calls, dtype: int64"
            ]
          },
          "metadata": {
            "tags": []
          },
          "execution_count": 75
        }
      ]
    },
    {
      "cell_type": "code",
      "metadata": {
        "colab": {
          "base_uri": "https://localhost:8080/"
        },
        "id": "SUS29CFKYL4W",
        "outputId": "f44dd1a5-9e28-4ffb-9dc7-082b30dd6e75"
      },
      "source": [
        "t.groupby(['Churn'])['Total intl minutes'].value_counts().sort_values(ascending=False)"
      ],
      "execution_count": 76,
      "outputs": [
        {
          "output_type": "execute_result",
          "data": {
            "text/plain": [
              "Churn  Total intl minutes\n",
              "False  10.0                  55\n",
              "       11.3                  52\n",
              "       9.8                   51\n",
              "       10.6                  49\n",
              "       10.2                  48\n",
              "                             ..\n",
              "       2.2                    1\n",
              "       2.0                    1\n",
              "       1.3                    1\n",
              "       1.1                    1\n",
              "       18.9                   1\n",
              "Name: Total intl minutes, Length: 159, dtype: int64"
            ]
          },
          "metadata": {
            "tags": []
          },
          "execution_count": 76
        }
      ]
    },
    {
      "cell_type": "markdown",
      "metadata": {
        "id": "rSu9yG7HiYZv"
      },
      "source": [
        "### Total intl minutes"
      ]
    },
    {
      "cell_type": "code",
      "metadata": {
        "colab": {
          "base_uri": "https://localhost:8080/"
        },
        "id": "53SxLtvdZ-Mh",
        "outputId": "d8a79c56-1da4-4dce-9e97-cb48ea6dd1bf"
      },
      "source": [
        "print(df['Total intl minutes'].max())\n",
        "print(round(df['Total intl minutes'].max()/60))  #in hours\n",
        "print(df['Total intl minutes'].min())\n",
        "print(df['Total intl minutes'].mean())"
      ],
      "execution_count": 77,
      "outputs": [
        {
          "output_type": "stream",
          "text": [
            "20.0\n",
            "0\n",
            "0.0\n",
            "10.237293729372933\n"
          ],
          "name": "stdout"
        }
      ]
    },
    {
      "cell_type": "code",
      "metadata": {
        "colab": {
          "base_uri": "https://localhost:8080/",
          "height": 371
        },
        "id": "x94O_TjOaows",
        "outputId": "37077090-921b-4498-8ded-805b9ded1417"
      },
      "source": [
        "plt.show()\n",
        "df.boxplot(column='Total intl minutes', by='Churn')\n"
      ],
      "execution_count": 78,
      "outputs": [
        {
          "output_type": "stream",
          "text": [
            "/usr/local/lib/python3.7/dist-packages/numpy/core/_asarray.py:83: VisibleDeprecationWarning: Creating an ndarray from ragged nested sequences (which is a list-or-tuple of lists-or-tuples-or ndarrays with different lengths or shapes) is deprecated. If you meant to do this, you must specify 'dtype=object' when creating the ndarray\n",
            "  return array(a, dtype, copy=False, order=order)\n"
          ],
          "name": "stderr"
        },
        {
          "output_type": "execute_result",
          "data": {
            "text/plain": [
              "<matplotlib.axes._subplots.AxesSubplot at 0x7f7743dd3bd0>"
            ]
          },
          "metadata": {
            "tags": []
          },
          "execution_count": 78
        },
        {
          "output_type": "display_data",
          "data": {
            "image/png": "[encoded data removed]",
            "text/plain": [
              "<Figure size 432x288 with 1 Axes>"
            ]
          },
          "metadata": {
            "tags": [],
            "needs_background": "light"
          }
        }
      ]
    },
    {
      "cell_type": "markdown",
      "metadata": {
        "id": "ifQsw39mf0i9"
      },
      "source": [
        "## Total intl calls"
      ]
    },
    {
      "cell_type": "code",
      "metadata": {
        "colab": {
          "base_uri": "https://localhost:8080/"
        },
        "id": "wG8fwNKnfrDu",
        "outputId": "6eaf44f9-3ef4-458b-f5ae-c6e5d45a6fbd"
      },
      "source": [
        "print(df['Total intl calls'].max())\n",
        "print(df['Total intl calls'].min())\n",
        "print(df['Total intl calls'].mean())"
      ],
      "execution_count": 79,
      "outputs": [
        {
          "output_type": "stream",
          "text": [
            "20\n",
            "0\n",
            "4.4794479447944795\n"
          ],
          "name": "stdout"
        }
      ]
    },
    {
      "cell_type": "code",
      "metadata": {
        "colab": {
          "base_uri": "https://localhost:8080/",
          "height": 371
        },
        "id": "R2KGB4nFccNX",
        "outputId": "6c06e9a7-3ffc-4d33-daa6-38d355f9ac0c"
      },
      "source": [
        "plt.show()\n",
        "df.boxplot(column='Total intl calls', by='Churn')"
      ],
      "execution_count": 80,
      "outputs": [
        {
          "output_type": "stream",
          "text": [
            "/usr/local/lib/python3.7/dist-packages/numpy/core/_asarray.py:83: VisibleDeprecationWarning: Creating an ndarray from ragged nested sequences (which is a list-or-tuple of lists-or-tuples-or ndarrays with different lengths or shapes) is deprecated. If you meant to do this, you must specify 'dtype=object' when creating the ndarray\n",
            "  return array(a, dtype, copy=False, order=order)\n"
          ],
          "name": "stderr"
        },
        {
          "output_type": "execute_result",
          "data": {
            "text/plain": [
              "<matplotlib.axes._subplots.AxesSubplot at 0x7f7743df2450>"
            ]
          },
          "metadata": {
            "tags": []
          },
          "execution_count": 80
        },
        {
          "output_type": "display_data",
          "data": {
            "image/png": "[encoded data removed]",
            "text/plain": [
              "<Figure size 432x288 with 1 Axes>"
            ]
          },
          "metadata": {
            "tags": [],
            "needs_background": "light"
          }
        }
      ]
    },
    {
      "cell_type": "code",
      "metadata": {
        "colab": {
          "base_uri": "https://localhost:8080/"
        },
        "id": "9GunCPuygYgY",
        "outputId": "fc5d27c4-63c6-4027-91db-af36ca6d992c"
      },
      "source": [
        "s['International plan'].value_counts()"
      ],
      "execution_count": 81,
      "outputs": [
        {
          "output_type": "execute_result",
          "data": {
            "text/plain": [
              "No     346\n",
              "Yes    137\n",
              "Name: International plan, dtype: int64"
            ]
          },
          "metadata": {
            "tags": []
          },
          "execution_count": 81
        }
      ]
    },
    {
      "cell_type": "code",
      "metadata": {
        "id": "SEVwJv5SclyG"
      },
      "source": [
        " clients with no International Plan will have to pay more and they might leave this operator.\n"
      ],
      "execution_count": null,
      "outputs": []
    },
    {
      "cell_type": "markdown",
      "metadata": {
        "id": "WVwTJMWciRQZ"
      },
      "source": [
        "### Total intl charge"
      ]
    },
    {
      "cell_type": "code",
      "metadata": {
        "id": "V2OM5RCYc5Ys",
        "colab": {
          "base_uri": "https://localhost:8080/"
        },
        "outputId": "9625839a-74fb-489b-f3b6-9c89d17bed92"
      },
      "source": [
        "print(df['Total intl charge'].max())\n",
        "print(df['Total intl charge'].min())\n",
        "print(df['Total intl charge'].mean())"
      ],
      "execution_count": 83,
      "outputs": [
        {
          "output_type": "stream",
          "text": [
            "5.4\n",
            "0.0\n",
            "2.764581458145804\n"
          ],
          "name": "stdout"
        }
      ]
    },
    {
      "cell_type": "code",
      "metadata": {
        "id": "M202tHnyc5Ut",
        "colab": {
          "base_uri": "https://localhost:8080/",
          "height": 371
        },
        "outputId": "9d0251d2-aef2-467a-fe92-da7a7e66dbef"
      },
      "source": [
        "plt.show()\n",
        "df.boxplot(column='Total intl charge', by='Churn')"
      ],
      "execution_count": 84,
      "outputs": [
        {
          "output_type": "stream",
          "text": [
            "/usr/local/lib/python3.7/dist-packages/numpy/core/_asarray.py:83: VisibleDeprecationWarning: Creating an ndarray from ragged nested sequences (which is a list-or-tuple of lists-or-tuples-or ndarrays with different lengths or shapes) is deprecated. If you meant to do this, you must specify 'dtype=object' when creating the ndarray\n",
            "  return array(a, dtype, copy=False, order=order)\n"
          ],
          "name": "stderr"
        },
        {
          "output_type": "execute_result",
          "data": {
            "text/plain": [
              "<matplotlib.axes._subplots.AxesSubplot at 0x7f7743d0e150>"
            ]
          },
          "metadata": {
            "tags": []
          },
          "execution_count": 84
        },
        {
          "output_type": "display_data",
          "data": {
            "image/png": "[encoded data removed]",
            "text/plain": [
              "<Figure size 432x288 with 1 Axes>"
            ]
          },
          "metadata": {
            "tags": [],
            "needs_background": "light"
          }
        }
      ]
    },
    {
      "cell_type": "code",
      "metadata": {
        "id": "sySpXJn5fZ9n",
        "colab": {
          "base_uri": "https://localhost:8080/"
        },
        "outputId": "abbd2bfd-2eea-4546-e351-4c8545b7c43f"
      },
      "source": [
        "t.max()"
      ],
      "execution_count": 85,
      "outputs": [
        {
          "output_type": "execute_result",
          "data": {
            "text/plain": [
              "State                        WY\n",
              "Account length              243\n",
              "Area code                   510\n",
              "International plan          Yes\n",
              "Voice mail plan             Yes\n",
              "Number vmail messages        51\n",
              "Total day minutes         315.6\n",
              "Total day calls             163\n",
              "Total day charge          53.65\n",
              "Total eve minutes         361.8\n",
              "Total eve calls             170\n",
              "Total eve charge          30.75\n",
              "Total night minutes         395\n",
              "Total night calls           175\n",
              "Total night charge        17.77\n",
              "Total intl minutes         18.9\n",
              "Total intl calls             19\n",
              "Total intl charge           5.1\n",
              "Customer service calls        8\n",
              "Churn                     False\n",
              "dtype: object"
            ]
          },
          "metadata": {
            "tags": []
          },
          "execution_count": 85
        }
      ]
    },
    {
      "cell_type": "markdown",
      "metadata": {
        "id": "RWKwSdaydG7T"
      },
      "source": [
        "##  Call Rate and better Pricing Strategy  Optimization would lead to lower churn rate"
      ]
    },
    {
      "cell_type": "code",
      "metadata": {
        "id": "BKh0PMKnlEbo"
      },
      "source": [
        "c=pd.crosstab(df['Churn'],df['Number vmail messages'], margins = True)\n"
      ],
      "execution_count": 86,
      "outputs": []
    },
    {
      "cell_type": "code",
      "metadata": {
        "id": "S_z2_X0WcIi8",
        "colab": {
          "base_uri": "https://localhost:8080/",
          "height": 1000
        },
        "outputId": "2b6d3ef9-fbbc-45b8-cff6-c41836380606"
      },
      "source": [
        "pd.crosstab(df['Number vmail messages'],df['Voice mail plan'], margins = True)"
      ],
      "execution_count": 87,
      "outputs": [
        {
          "output_type": "execute_result",
          "data": {
            "text/html": [
              "<div>\n",
              "<style scoped>\n",
              "    .dataframe tbody tr th:only-of-type {\n",
              "        vertical-align: middle;\n",
              "    }\n",
              "\n",
              "    .dataframe tbody tr th {\n",
              "        vertical-align: top;\n",
              "    }\n",
              "\n",
              "    .dataframe thead th {\n",
              "        text-align: right;\n",
              "    }\n",
              "</style>\n",
              "<table border=\"1\" class=\"dataframe\">\n",
              "  <thead>\n",
              "    <tr style=\"text-align: right;\">\n",
              "      <th>Voice mail plan</th>\n",
              "      <th>No</th>\n",
              "      <th>Yes</th>\n",
              "      <th>All</th>\n",
              "    </tr>\n",
              "    <tr>\n",
              "      <th>Number vmail messages</th>\n",
              "      <th></th>\n",
              "      <th></th>\n",
              "      <th></th>\n",
              "    </tr>\n",
              "  </thead>\n",
              "  <tbody>\n",
              "    <tr>\n",
              "      <th>0</th>\n",
              "      <td>2411</td>\n",
              "      <td>0</td>\n",
              "      <td>2411</td>\n",
              "    </tr>\n",
              "    <tr>\n",
              "      <th>4</th>\n",
              "      <td>0</td>\n",
              "      <td>1</td>\n",
              "      <td>1</td>\n",
              "    </tr>\n",
              "    <tr>\n",
              "      <th>8</th>\n",
              "      <td>0</td>\n",
              "      <td>2</td>\n",
              "      <td>2</td>\n",
              "    </tr>\n",
              "    <tr>\n",
              "      <th>9</th>\n",
              "      <td>0</td>\n",
              "      <td>2</td>\n",
              "      <td>2</td>\n",
              "    </tr>\n",
              "    <tr>\n",
              "      <th>10</th>\n",
              "      <td>0</td>\n",
              "      <td>1</td>\n",
              "      <td>1</td>\n",
              "    </tr>\n",
              "    <tr>\n",
              "      <th>11</th>\n",
              "      <td>0</td>\n",
              "      <td>2</td>\n",
              "      <td>2</td>\n",
              "    </tr>\n",
              "    <tr>\n",
              "      <th>12</th>\n",
              "      <td>0</td>\n",
              "      <td>6</td>\n",
              "      <td>6</td>\n",
              "    </tr>\n",
              "    <tr>\n",
              "      <th>13</th>\n",
              "      <td>0</td>\n",
              "      <td>4</td>\n",
              "      <td>4</td>\n",
              "    </tr>\n",
              "    <tr>\n",
              "      <th>14</th>\n",
              "      <td>0</td>\n",
              "      <td>7</td>\n",
              "      <td>7</td>\n",
              "    </tr>\n",
              "    <tr>\n",
              "      <th>15</th>\n",
              "      <td>0</td>\n",
              "      <td>9</td>\n",
              "      <td>9</td>\n",
              "    </tr>\n",
              "    <tr>\n",
              "      <th>16</th>\n",
              "      <td>0</td>\n",
              "      <td>13</td>\n",
              "      <td>13</td>\n",
              "    </tr>\n",
              "    <tr>\n",
              "      <th>17</th>\n",
              "      <td>0</td>\n",
              "      <td>14</td>\n",
              "      <td>14</td>\n",
              "    </tr>\n",
              "    <tr>\n",
              "      <th>18</th>\n",
              "      <td>0</td>\n",
              "      <td>7</td>\n",
              "      <td>7</td>\n",
              "    </tr>\n",
              "    <tr>\n",
              "      <th>19</th>\n",
              "      <td>0</td>\n",
              "      <td>19</td>\n",
              "      <td>19</td>\n",
              "    </tr>\n",
              "    <tr>\n",
              "      <th>20</th>\n",
              "      <td>0</td>\n",
              "      <td>22</td>\n",
              "      <td>22</td>\n",
              "    </tr>\n",
              "    <tr>\n",
              "      <th>21</th>\n",
              "      <td>0</td>\n",
              "      <td>28</td>\n",
              "      <td>28</td>\n",
              "    </tr>\n",
              "    <tr>\n",
              "      <th>22</th>\n",
              "      <td>0</td>\n",
              "      <td>32</td>\n",
              "      <td>32</td>\n",
              "    </tr>\n",
              "    <tr>\n",
              "      <th>23</th>\n",
              "      <td>0</td>\n",
              "      <td>36</td>\n",
              "      <td>36</td>\n",
              "    </tr>\n",
              "    <tr>\n",
              "      <th>24</th>\n",
              "      <td>0</td>\n",
              "      <td>42</td>\n",
              "      <td>42</td>\n",
              "    </tr>\n",
              "    <tr>\n",
              "      <th>25</th>\n",
              "      <td>0</td>\n",
              "      <td>37</td>\n",
              "      <td>37</td>\n",
              "    </tr>\n",
              "    <tr>\n",
              "      <th>26</th>\n",
              "      <td>0</td>\n",
              "      <td>41</td>\n",
              "      <td>41</td>\n",
              "    </tr>\n",
              "    <tr>\n",
              "      <th>27</th>\n",
              "      <td>0</td>\n",
              "      <td>44</td>\n",
              "      <td>44</td>\n",
              "    </tr>\n",
              "    <tr>\n",
              "      <th>28</th>\n",
              "      <td>0</td>\n",
              "      <td>51</td>\n",
              "      <td>51</td>\n",
              "    </tr>\n",
              "    <tr>\n",
              "      <th>29</th>\n",
              "      <td>0</td>\n",
              "      <td>53</td>\n",
              "      <td>53</td>\n",
              "    </tr>\n",
              "    <tr>\n",
              "      <th>30</th>\n",
              "      <td>0</td>\n",
              "      <td>44</td>\n",
              "      <td>44</td>\n",
              "    </tr>\n",
              "    <tr>\n",
              "      <th>31</th>\n",
              "      <td>0</td>\n",
              "      <td>60</td>\n",
              "      <td>60</td>\n",
              "    </tr>\n",
              "    <tr>\n",
              "      <th>32</th>\n",
              "      <td>0</td>\n",
              "      <td>41</td>\n",
              "      <td>41</td>\n",
              "    </tr>\n",
              "    <tr>\n",
              "      <th>33</th>\n",
              "      <td>0</td>\n",
              "      <td>46</td>\n",
              "      <td>46</td>\n",
              "    </tr>\n",
              "    <tr>\n",
              "      <th>34</th>\n",
              "      <td>0</td>\n",
              "      <td>29</td>\n",
              "      <td>29</td>\n",
              "    </tr>\n",
              "    <tr>\n",
              "      <th>35</th>\n",
              "      <td>0</td>\n",
              "      <td>32</td>\n",
              "      <td>32</td>\n",
              "    </tr>\n",
              "    <tr>\n",
              "      <th>36</th>\n",
              "      <td>0</td>\n",
              "      <td>34</td>\n",
              "      <td>34</td>\n",
              "    </tr>\n",
              "    <tr>\n",
              "      <th>37</th>\n",
              "      <td>0</td>\n",
              "      <td>29</td>\n",
              "      <td>29</td>\n",
              "    </tr>\n",
              "    <tr>\n",
              "      <th>38</th>\n",
              "      <td>0</td>\n",
              "      <td>25</td>\n",
              "      <td>25</td>\n",
              "    </tr>\n",
              "    <tr>\n",
              "      <th>39</th>\n",
              "      <td>0</td>\n",
              "      <td>30</td>\n",
              "      <td>30</td>\n",
              "    </tr>\n",
              "    <tr>\n",
              "      <th>40</th>\n",
              "      <td>0</td>\n",
              "      <td>16</td>\n",
              "      <td>16</td>\n",
              "    </tr>\n",
              "    <tr>\n",
              "      <th>41</th>\n",
              "      <td>0</td>\n",
              "      <td>13</td>\n",
              "      <td>13</td>\n",
              "    </tr>\n",
              "    <tr>\n",
              "      <th>42</th>\n",
              "      <td>0</td>\n",
              "      <td>15</td>\n",
              "      <td>15</td>\n",
              "    </tr>\n",
              "    <tr>\n",
              "      <th>43</th>\n",
              "      <td>0</td>\n",
              "      <td>9</td>\n",
              "      <td>9</td>\n",
              "    </tr>\n",
              "    <tr>\n",
              "      <th>44</th>\n",
              "      <td>0</td>\n",
              "      <td>7</td>\n",
              "      <td>7</td>\n",
              "    </tr>\n",
              "    <tr>\n",
              "      <th>45</th>\n",
              "      <td>0</td>\n",
              "      <td>6</td>\n",
              "      <td>6</td>\n",
              "    </tr>\n",
              "    <tr>\n",
              "      <th>46</th>\n",
              "      <td>0</td>\n",
              "      <td>4</td>\n",
              "      <td>4</td>\n",
              "    </tr>\n",
              "    <tr>\n",
              "      <th>47</th>\n",
              "      <td>0</td>\n",
              "      <td>3</td>\n",
              "      <td>3</td>\n",
              "    </tr>\n",
              "    <tr>\n",
              "      <th>48</th>\n",
              "      <td>0</td>\n",
              "      <td>2</td>\n",
              "      <td>2</td>\n",
              "    </tr>\n",
              "    <tr>\n",
              "      <th>49</th>\n",
              "      <td>0</td>\n",
              "      <td>1</td>\n",
              "      <td>1</td>\n",
              "    </tr>\n",
              "    <tr>\n",
              "      <th>50</th>\n",
              "      <td>0</td>\n",
              "      <td>2</td>\n",
              "      <td>2</td>\n",
              "    </tr>\n",
              "    <tr>\n",
              "      <th>51</th>\n",
              "      <td>0</td>\n",
              "      <td>1</td>\n",
              "      <td>1</td>\n",
              "    </tr>\n",
              "    <tr>\n",
              "      <th>All</th>\n",
              "      <td>2411</td>\n",
              "      <td>922</td>\n",
              "      <td>3333</td>\n",
              "    </tr>\n",
              "  </tbody>\n",
              "</table>\n",
              "</div>"
            ],
            "text/plain": [
              "Voice mail plan          No  Yes   All\n",
              "Number vmail messages                 \n",
              "0                      2411    0  2411\n",
              "4                         0    1     1\n",
              "8                         0    2     2\n",
              "9                         0    2     2\n",
              "10                        0    1     1\n",
              "11                        0    2     2\n",
              "12                        0    6     6\n",
              "13                        0    4     4\n",
              "14                        0    7     7\n",
              "15                        0    9     9\n",
              "16                        0   13    13\n",
              "17                        0   14    14\n",
              "18                        0    7     7\n",
              "19                        0   19    19\n",
              "20                        0   22    22\n",
              "21                        0   28    28\n",
              "22                        0   32    32\n",
              "23                        0   36    36\n",
              "24                        0   42    42\n",
              "25                        0   37    37\n",
              "26                        0   41    41\n",
              "27                        0   44    44\n",
              "28                        0   51    51\n",
              "29                        0   53    53\n",
              "30                        0   44    44\n",
              "31                        0   60    60\n",
              "32                        0   41    41\n",
              "33                        0   46    46\n",
              "34                        0   29    29\n",
              "35                        0   32    32\n",
              "36                        0   34    34\n",
              "37                        0   29    29\n",
              "38                        0   25    25\n",
              "39                        0   30    30\n",
              "40                        0   16    16\n",
              "41                        0   13    13\n",
              "42                        0   15    15\n",
              "43                        0    9     9\n",
              "44                        0    7     7\n",
              "45                        0    6     6\n",
              "46                        0    4     4\n",
              "47                        0    3     3\n",
              "48                        0    2     2\n",
              "49                        0    1     1\n",
              "50                        0    2     2\n",
              "51                        0    1     1\n",
              "All                    2411  922  3333"
            ]
          },
          "metadata": {
            "tags": []
          },
          "execution_count": 87
        }
      ]
    },
    {
      "cell_type": "code",
      "metadata": {
        "id": "pwie4q7DyH6Z",
        "colab": {
          "base_uri": "https://localhost:8080/",
          "height": 296
        },
        "outputId": "ce18d2f6-4f83-475a-e098-f1933ed9b77f"
      },
      "source": [
        "sns.countplot(x = 'Voice mail plan', hue = 'Churn', data = s)"
      ],
      "execution_count": 88,
      "outputs": [
        {
          "output_type": "execute_result",
          "data": {
            "text/plain": [
              "<matplotlib.axes._subplots.AxesSubplot at 0x7f7743c49490>"
            ]
          },
          "metadata": {
            "tags": []
          },
          "execution_count": 88
        },
        {
          "output_type": "display_data",
          "data": {
            "image/png": "[encoded data removed]",
            "text/plain": [
              "<Figure size 432x288 with 1 Axes>"
            ]
          },
          "metadata": {
            "tags": [],
            "needs_background": "light"
          }
        }
      ]
    },
    {
      "cell_type": "code",
      "metadata": {
        "id": "Pjxb1h4_ygTe",
        "colab": {
          "base_uri": "https://localhost:8080/"
        },
        "outputId": "e85f7aed-74ec-4df5-8e4b-a1ab269aff69"
      },
      "source": [
        "s['Voice mail plan'].value_counts()"
      ],
      "execution_count": 89,
      "outputs": [
        {
          "output_type": "execute_result",
          "data": {
            "text/plain": [
              "No     403\n",
              "Yes     80\n",
              "Name: Voice mail plan, dtype: int64"
            ]
          },
          "metadata": {
            "tags": []
          },
          "execution_count": 89
        }
      ]
    },
    {
      "cell_type": "code",
      "metadata": {
        "id": "VH6F4k5uy7y3",
        "colab": {
          "base_uri": "https://localhost:8080/"
        },
        "outputId": "c7f4a147-8004-4e1c-ccf1-591a27eefb59"
      },
      "source": [
        "s.groupby('Voice mail plan')['Churn'].value_counts()"
      ],
      "execution_count": 90,
      "outputs": [
        {
          "output_type": "execute_result",
          "data": {
            "text/plain": [
              "Voice mail plan  Churn\n",
              "No               True     403\n",
              "Yes              True      80\n",
              "Name: Churn, dtype: int64"
            ]
          },
          "metadata": {
            "tags": []
          },
          "execution_count": 90
        }
      ]
    },
    {
      "cell_type": "code",
      "metadata": {
        "id": "osYmM0K8x-DD",
        "colab": {
          "base_uri": "https://localhost:8080/"
        },
        "outputId": "d7b6416f-5670-44bd-f336-bfc62bb35238"
      },
      "source": [
        "s['Number vmail messages'].mean()"
      ],
      "execution_count": 91,
      "outputs": [
        {
          "output_type": "execute_result",
          "data": {
            "text/plain": [
              "5.115942028985507"
            ]
          },
          "metadata": {
            "tags": []
          },
          "execution_count": 91
        }
      ]
    },
    {
      "cell_type": "code",
      "metadata": {
        "id": "V3HC6u-_yIKJ",
        "colab": {
          "base_uri": "https://localhost:8080/",
          "height": 417
        },
        "outputId": "83e472dd-92e8-4557-a6a4-0564bb53b651"
      },
      "source": [
        "s[['Voice mail plan']]"
      ],
      "execution_count": 92,
      "outputs": [
        {
          "output_type": "execute_result",
          "data": {
            "text/html": [
              "<div>\n",
              "<style scoped>\n",
              "    .dataframe tbody tr th:only-of-type {\n",
              "        vertical-align: middle;\n",
              "    }\n",
              "\n",
              "    .dataframe tbody tr th {\n",
              "        vertical-align: top;\n",
              "    }\n",
              "\n",
              "    .dataframe thead th {\n",
              "        text-align: right;\n",
              "    }\n",
              "</style>\n",
              "<table border=\"1\" class=\"dataframe\">\n",
              "  <thead>\n",
              "    <tr style=\"text-align: right;\">\n",
              "      <th></th>\n",
              "      <th>Voice mail plan</th>\n",
              "    </tr>\n",
              "  </thead>\n",
              "  <tbody>\n",
              "    <tr>\n",
              "      <th>10</th>\n",
              "      <td>No</td>\n",
              "    </tr>\n",
              "    <tr>\n",
              "      <th>15</th>\n",
              "      <td>No</td>\n",
              "    </tr>\n",
              "    <tr>\n",
              "      <th>21</th>\n",
              "      <td>No</td>\n",
              "    </tr>\n",
              "    <tr>\n",
              "      <th>33</th>\n",
              "      <td>No</td>\n",
              "    </tr>\n",
              "    <tr>\n",
              "      <th>41</th>\n",
              "      <td>Yes</td>\n",
              "    </tr>\n",
              "    <tr>\n",
              "      <th>...</th>\n",
              "      <td>...</td>\n",
              "    </tr>\n",
              "    <tr>\n",
              "      <th>3301</th>\n",
              "      <td>No</td>\n",
              "    </tr>\n",
              "    <tr>\n",
              "      <th>3304</th>\n",
              "      <td>No</td>\n",
              "    </tr>\n",
              "    <tr>\n",
              "      <th>3320</th>\n",
              "      <td>No</td>\n",
              "    </tr>\n",
              "    <tr>\n",
              "      <th>3322</th>\n",
              "      <td>No</td>\n",
              "    </tr>\n",
              "    <tr>\n",
              "      <th>3323</th>\n",
              "      <td>No</td>\n",
              "    </tr>\n",
              "  </tbody>\n",
              "</table>\n",
              "<p>483 rows × 1 columns</p>\n",
              "</div>"
            ],
            "text/plain": [
              "     Voice mail plan\n",
              "10                No\n",
              "15                No\n",
              "21                No\n",
              "33                No\n",
              "41               Yes\n",
              "...              ...\n",
              "3301              No\n",
              "3304              No\n",
              "3320              No\n",
              "3322              No\n",
              "3323              No\n",
              "\n",
              "[483 rows x 1 columns]"
            ]
          },
          "metadata": {
            "tags": []
          },
          "execution_count": 92
        }
      ]
    },
    {
      "cell_type": "code",
      "metadata": {
        "id": "bV088wSyRqrO"
      },
      "source": [
        "day_df = df[['Total intl calls','Churn']]"
      ],
      "execution_count": 93,
      "outputs": []
    },
    {
      "cell_type": "code",
      "metadata": {
        "id": "Mha58iG3SN1U",
        "colab": {
          "base_uri": "https://localhost:8080/",
          "height": 282
        },
        "outputId": "c8c162bd-a931-4957-b4d9-fc68f24f95ce"
      },
      "source": [
        "day_df.plot()"
      ],
      "execution_count": 94,
      "outputs": [
        {
          "output_type": "execute_result",
          "data": {
            "text/plain": [
              "<matplotlib.axes._subplots.AxesSubplot at 0x7f7743baed10>"
            ]
          },
          "metadata": {
            "tags": []
          },
          "execution_count": 94
        },
        {
          "output_type": "display_data",
          "data": {
            "image/png": "[encoded data removed]",
            "text/plain": [
              "<Figure size 432x288 with 1 Axes>"
            ]
          },
          "metadata": {
            "tags": [],
            "needs_background": "light"
          }
        }
      ]
    },
    {
      "cell_type": "code",
      "metadata": {
        "id": "1Jwf8KRBcjLB",
        "colab": {
          "base_uri": "https://localhost:8080/",
          "height": 450
        },
        "outputId": "a288299e-e1a4-4772-b88b-1e1aba5118c5"
      },
      "source": [
        "s"
      ],
      "execution_count": 95,
      "outputs": [
        {
          "output_type": "execute_result",
          "data": {
            "text/html": [
              "<div>\n",
              "<style scoped>\n",
              "    .dataframe tbody tr th:only-of-type {\n",
              "        vertical-align: middle;\n",
              "    }\n",
              "\n",
              "    .dataframe tbody tr th {\n",
              "        vertical-align: top;\n",
              "    }\n",
              "\n",
              "    .dataframe thead th {\n",
              "        text-align: right;\n",
              "    }\n",
              "</style>\n",
              "<table border=\"1\" class=\"dataframe\">\n",
              "  <thead>\n",
              "    <tr style=\"text-align: right;\">\n",
              "      <th></th>\n",
              "      <th>State</th>\n",
              "      <th>Account length</th>\n",
              "      <th>Area code</th>\n",
              "      <th>International plan</th>\n",
              "      <th>Voice mail plan</th>\n",
              "      <th>Number vmail messages</th>\n",
              "      <th>Total day minutes</th>\n",
              "      <th>Total day calls</th>\n",
              "      <th>Total day charge</th>\n",
              "      <th>Total eve minutes</th>\n",
              "      <th>Total eve calls</th>\n",
              "      <th>Total eve charge</th>\n",
              "      <th>Total night minutes</th>\n",
              "      <th>Total night calls</th>\n",
              "      <th>Total night charge</th>\n",
              "      <th>Total intl minutes</th>\n",
              "      <th>Total intl calls</th>\n",
              "      <th>Total intl charge</th>\n",
              "      <th>Customer service calls</th>\n",
              "      <th>Churn</th>\n",
              "    </tr>\n",
              "  </thead>\n",
              "  <tbody>\n",
              "    <tr>\n",
              "      <th>10</th>\n",
              "      <td>IN</td>\n",
              "      <td>65</td>\n",
              "      <td>415</td>\n",
              "      <td>No</td>\n",
              "      <td>No</td>\n",
              "      <td>0</td>\n",
              "      <td>129.1</td>\n",
              "      <td>137</td>\n",
              "      <td>21.95</td>\n",
              "      <td>228.5</td>\n",
              "      <td>83</td>\n",
              "      <td>19.42</td>\n",
              "      <td>208.8</td>\n",
              "      <td>111</td>\n",
              "      <td>9.40</td>\n",
              "      <td>12.7</td>\n",
              "      <td>6</td>\n",
              "      <td>3.43</td>\n",
              "      <td>4</td>\n",
              "      <td>True</td>\n",
              "    </tr>\n",
              "    <tr>\n",
              "      <th>15</th>\n",
              "      <td>NY</td>\n",
              "      <td>161</td>\n",
              "      <td>415</td>\n",
              "      <td>No</td>\n",
              "      <td>No</td>\n",
              "      <td>0</td>\n",
              "      <td>332.9</td>\n",
              "      <td>67</td>\n",
              "      <td>56.59</td>\n",
              "      <td>317.8</td>\n",
              "      <td>97</td>\n",
              "      <td>27.01</td>\n",
              "      <td>160.6</td>\n",
              "      <td>128</td>\n",
              "      <td>7.23</td>\n",
              "      <td>5.4</td>\n",
              "      <td>9</td>\n",
              "      <td>1.46</td>\n",
              "      <td>4</td>\n",
              "      <td>True</td>\n",
              "    </tr>\n",
              "    <tr>\n",
              "      <th>21</th>\n",
              "      <td>CO</td>\n",
              "      <td>77</td>\n",
              "      <td>408</td>\n",
              "      <td>No</td>\n",
              "      <td>No</td>\n",
              "      <td>0</td>\n",
              "      <td>62.4</td>\n",
              "      <td>89</td>\n",
              "      <td>10.61</td>\n",
              "      <td>169.9</td>\n",
              "      <td>121</td>\n",
              "      <td>14.44</td>\n",
              "      <td>209.6</td>\n",
              "      <td>64</td>\n",
              "      <td>9.43</td>\n",
              "      <td>5.7</td>\n",
              "      <td>6</td>\n",
              "      <td>1.54</td>\n",
              "      <td>5</td>\n",
              "      <td>True</td>\n",
              "    </tr>\n",
              "    <tr>\n",
              "      <th>33</th>\n",
              "      <td>AZ</td>\n",
              "      <td>12</td>\n",
              "      <td>408</td>\n",
              "      <td>No</td>\n",
              "      <td>No</td>\n",
              "      <td>0</td>\n",
              "      <td>249.6</td>\n",
              "      <td>118</td>\n",
              "      <td>42.43</td>\n",
              "      <td>252.4</td>\n",
              "      <td>119</td>\n",
              "      <td>21.45</td>\n",
              "      <td>280.2</td>\n",
              "      <td>90</td>\n",
              "      <td>12.61</td>\n",
              "      <td>11.8</td>\n",
              "      <td>3</td>\n",
              "      <td>3.19</td>\n",
              "      <td>1</td>\n",
              "      <td>True</td>\n",
              "    </tr>\n",
              "    <tr>\n",
              "      <th>41</th>\n",
              "      <td>MD</td>\n",
              "      <td>135</td>\n",
              "      <td>408</td>\n",
              "      <td>Yes</td>\n",
              "      <td>Yes</td>\n",
              "      <td>41</td>\n",
              "      <td>173.1</td>\n",
              "      <td>85</td>\n",
              "      <td>29.43</td>\n",
              "      <td>203.9</td>\n",
              "      <td>107</td>\n",
              "      <td>17.33</td>\n",
              "      <td>122.2</td>\n",
              "      <td>78</td>\n",
              "      <td>5.50</td>\n",
              "      <td>14.6</td>\n",
              "      <td>15</td>\n",
              "      <td>3.94</td>\n",
              "      <td>0</td>\n",
              "      <td>True</td>\n",
              "    </tr>\n",
              "    <tr>\n",
              "      <th>...</th>\n",
              "      <td>...</td>\n",
              "      <td>...</td>\n",
              "      <td>...</td>\n",
              "      <td>...</td>\n",
              "      <td>...</td>\n",
              "      <td>...</td>\n",
              "      <td>...</td>\n",
              "      <td>...</td>\n",
              "      <td>...</td>\n",
              "      <td>...</td>\n",
              "      <td>...</td>\n",
              "      <td>...</td>\n",
              "      <td>...</td>\n",
              "      <td>...</td>\n",
              "      <td>...</td>\n",
              "      <td>...</td>\n",
              "      <td>...</td>\n",
              "      <td>...</td>\n",
              "      <td>...</td>\n",
              "      <td>...</td>\n",
              "    </tr>\n",
              "    <tr>\n",
              "      <th>3301</th>\n",
              "      <td>CA</td>\n",
              "      <td>84</td>\n",
              "      <td>415</td>\n",
              "      <td>No</td>\n",
              "      <td>No</td>\n",
              "      <td>0</td>\n",
              "      <td>280.0</td>\n",
              "      <td>113</td>\n",
              "      <td>47.60</td>\n",
              "      <td>202.2</td>\n",
              "      <td>90</td>\n",
              "      <td>17.19</td>\n",
              "      <td>156.8</td>\n",
              "      <td>103</td>\n",
              "      <td>7.06</td>\n",
              "      <td>10.4</td>\n",
              "      <td>4</td>\n",
              "      <td>2.81</td>\n",
              "      <td>0</td>\n",
              "      <td>True</td>\n",
              "    </tr>\n",
              "    <tr>\n",
              "      <th>3304</th>\n",
              "      <td>IL</td>\n",
              "      <td>71</td>\n",
              "      <td>510</td>\n",
              "      <td>Yes</td>\n",
              "      <td>No</td>\n",
              "      <td>0</td>\n",
              "      <td>186.1</td>\n",
              "      <td>114</td>\n",
              "      <td>31.64</td>\n",
              "      <td>198.6</td>\n",
              "      <td>140</td>\n",
              "      <td>16.88</td>\n",
              "      <td>206.5</td>\n",
              "      <td>80</td>\n",
              "      <td>9.29</td>\n",
              "      <td>13.8</td>\n",
              "      <td>5</td>\n",
              "      <td>3.73</td>\n",
              "      <td>4</td>\n",
              "      <td>True</td>\n",
              "    </tr>\n",
              "    <tr>\n",
              "      <th>3320</th>\n",
              "      <td>GA</td>\n",
              "      <td>122</td>\n",
              "      <td>510</td>\n",
              "      <td>Yes</td>\n",
              "      <td>No</td>\n",
              "      <td>0</td>\n",
              "      <td>140.0</td>\n",
              "      <td>101</td>\n",
              "      <td>23.80</td>\n",
              "      <td>196.4</td>\n",
              "      <td>77</td>\n",
              "      <td>16.69</td>\n",
              "      <td>120.1</td>\n",
              "      <td>133</td>\n",
              "      <td>5.40</td>\n",
              "      <td>9.7</td>\n",
              "      <td>4</td>\n",
              "      <td>2.62</td>\n",
              "      <td>4</td>\n",
              "      <td>True</td>\n",
              "    </tr>\n",
              "    <tr>\n",
              "      <th>3322</th>\n",
              "      <td>MD</td>\n",
              "      <td>62</td>\n",
              "      <td>408</td>\n",
              "      <td>No</td>\n",
              "      <td>No</td>\n",
              "      <td>0</td>\n",
              "      <td>321.1</td>\n",
              "      <td>105</td>\n",
              "      <td>54.59</td>\n",
              "      <td>265.5</td>\n",
              "      <td>122</td>\n",
              "      <td>22.57</td>\n",
              "      <td>180.5</td>\n",
              "      <td>72</td>\n",
              "      <td>8.12</td>\n",
              "      <td>11.5</td>\n",
              "      <td>2</td>\n",
              "      <td>3.11</td>\n",
              "      <td>4</td>\n",
              "      <td>True</td>\n",
              "    </tr>\n",
              "    <tr>\n",
              "      <th>3323</th>\n",
              "      <td>IN</td>\n",
              "      <td>117</td>\n",
              "      <td>415</td>\n",
              "      <td>No</td>\n",
              "      <td>No</td>\n",
              "      <td>0</td>\n",
              "      <td>118.4</td>\n",
              "      <td>126</td>\n",
              "      <td>20.13</td>\n",
              "      <td>249.3</td>\n",
              "      <td>97</td>\n",
              "      <td>21.19</td>\n",
              "      <td>227.0</td>\n",
              "      <td>56</td>\n",
              "      <td>10.22</td>\n",
              "      <td>13.6</td>\n",
              "      <td>3</td>\n",
              "      <td>3.67</td>\n",
              "      <td>5</td>\n",
              "      <td>True</td>\n",
              "    </tr>\n",
              "  </tbody>\n",
              "</table>\n",
              "<p>483 rows × 20 columns</p>\n",
              "</div>"
            ],
            "text/plain": [
              "     State  Account length  ...  Customer service calls Churn\n",
              "10      IN              65  ...                       4  True\n",
              "15      NY             161  ...                       4  True\n",
              "21      CO              77  ...                       5  True\n",
              "33      AZ              12  ...                       1  True\n",
              "41      MD             135  ...                       0  True\n",
              "...    ...             ...  ...                     ...   ...\n",
              "3301    CA              84  ...                       0  True\n",
              "3304    IL              71  ...                       4  True\n",
              "3320    GA             122  ...                       4  True\n",
              "3322    MD              62  ...                       4  True\n",
              "3323    IN             117  ...                       5  True\n",
              "\n",
              "[483 rows x 20 columns]"
            ]
          },
          "metadata": {
            "tags": []
          },
          "execution_count": 95
        }
      ]
    },
    {
      "cell_type": "code",
      "metadata": {
        "id": "wQShC7widhkH",
        "colab": {
          "base_uri": "https://localhost:8080/"
        },
        "outputId": "68a7353d-1741-486c-d158-3ce0d7c0a9d8"
      },
      "source": [
        "df['State'].unique()"
      ],
      "execution_count": 96,
      "outputs": [
        {
          "output_type": "execute_result",
          "data": {
            "text/plain": [
              "array(['KS', 'OH', 'NJ', 'OK', 'AL', 'MA', 'MO', 'LA', 'WV', 'IN', 'RI',\n",
              "       'IA', 'MT', 'NY', 'ID', 'VT', 'VA', 'TX', 'FL', 'CO', 'AZ', 'SC',\n",
              "       'NE', 'WY', 'HI', 'IL', 'NH', 'GA', 'AK', 'MD', 'AR', 'WI', 'OR',\n",
              "       'MI', 'DE', 'UT', 'CA', 'MN', 'SD', 'NC', 'WA', 'NM', 'NV', 'DC',\n",
              "       'KY', 'ME', 'MS', 'TN', 'PA', 'CT', 'ND'], dtype=object)"
            ]
          },
          "metadata": {
            "tags": []
          },
          "execution_count": 96
        }
      ]
    },
    {
      "cell_type": "code",
      "metadata": {
        "id": "hKolZD4oeJ2Q"
      },
      "source": [
        "a=df[df['State']=='KS']"
      ],
      "execution_count": 97,
      "outputs": []
    },
    {
      "cell_type": "code",
      "metadata": {
        "id": "4LFSg5sFm33T",
        "colab": {
          "base_uri": "https://localhost:8080/",
          "height": 483
        },
        "outputId": "c09118d0-8880-4f4d-8079-cee035622485"
      },
      "source": [
        "s[s['State']=='KS']"
      ],
      "execution_count": 98,
      "outputs": [
        {
          "output_type": "execute_result",
          "data": {
            "text/html": [
              "<div>\n",
              "<style scoped>\n",
              "    .dataframe tbody tr th:only-of-type {\n",
              "        vertical-align: middle;\n",
              "    }\n",
              "\n",
              "    .dataframe tbody tr th {\n",
              "        vertical-align: top;\n",
              "    }\n",
              "\n",
              "    .dataframe thead th {\n",
              "        text-align: right;\n",
              "    }\n",
              "</style>\n",
              "<table border=\"1\" class=\"dataframe\">\n",
              "  <thead>\n",
              "    <tr style=\"text-align: right;\">\n",
              "      <th></th>\n",
              "      <th>State</th>\n",
              "      <th>Account length</th>\n",
              "      <th>Area code</th>\n",
              "      <th>International plan</th>\n",
              "      <th>Voice mail plan</th>\n",
              "      <th>Number vmail messages</th>\n",
              "      <th>Total day minutes</th>\n",
              "      <th>Total day calls</th>\n",
              "      <th>Total day charge</th>\n",
              "      <th>Total eve minutes</th>\n",
              "      <th>Total eve calls</th>\n",
              "      <th>Total eve charge</th>\n",
              "      <th>Total night minutes</th>\n",
              "      <th>Total night calls</th>\n",
              "      <th>Total night charge</th>\n",
              "      <th>Total intl minutes</th>\n",
              "      <th>Total intl calls</th>\n",
              "      <th>Total intl charge</th>\n",
              "      <th>Customer service calls</th>\n",
              "      <th>Churn</th>\n",
              "    </tr>\n",
              "  </thead>\n",
              "  <tbody>\n",
              "    <tr>\n",
              "      <th>258</th>\n",
              "      <td>KS</td>\n",
              "      <td>92</td>\n",
              "      <td>408</td>\n",
              "      <td>Yes</td>\n",
              "      <td>No</td>\n",
              "      <td>0</td>\n",
              "      <td>62.6</td>\n",
              "      <td>111</td>\n",
              "      <td>10.64</td>\n",
              "      <td>180.6</td>\n",
              "      <td>126</td>\n",
              "      <td>15.35</td>\n",
              "      <td>221.7</td>\n",
              "      <td>80</td>\n",
              "      <td>9.98</td>\n",
              "      <td>10.4</td>\n",
              "      <td>2</td>\n",
              "      <td>2.81</td>\n",
              "      <td>1</td>\n",
              "      <td>True</td>\n",
              "    </tr>\n",
              "    <tr>\n",
              "      <th>430</th>\n",
              "      <td>KS</td>\n",
              "      <td>46</td>\n",
              "      <td>510</td>\n",
              "      <td>No</td>\n",
              "      <td>No</td>\n",
              "      <td>0</td>\n",
              "      <td>250.3</td>\n",
              "      <td>100</td>\n",
              "      <td>42.55</td>\n",
              "      <td>260.6</td>\n",
              "      <td>90</td>\n",
              "      <td>22.15</td>\n",
              "      <td>195.0</td>\n",
              "      <td>104</td>\n",
              "      <td>8.78</td>\n",
              "      <td>13.3</td>\n",
              "      <td>2</td>\n",
              "      <td>3.59</td>\n",
              "      <td>2</td>\n",
              "      <td>True</td>\n",
              "    </tr>\n",
              "    <tr>\n",
              "      <th>619</th>\n",
              "      <td>KS</td>\n",
              "      <td>110</td>\n",
              "      <td>415</td>\n",
              "      <td>Yes</td>\n",
              "      <td>No</td>\n",
              "      <td>0</td>\n",
              "      <td>293.3</td>\n",
              "      <td>79</td>\n",
              "      <td>49.86</td>\n",
              "      <td>188.5</td>\n",
              "      <td>90</td>\n",
              "      <td>16.02</td>\n",
              "      <td>266.9</td>\n",
              "      <td>91</td>\n",
              "      <td>12.01</td>\n",
              "      <td>14.5</td>\n",
              "      <td>4</td>\n",
              "      <td>3.92</td>\n",
              "      <td>0</td>\n",
              "      <td>True</td>\n",
              "    </tr>\n",
              "    <tr>\n",
              "      <th>987</th>\n",
              "      <td>KS</td>\n",
              "      <td>110</td>\n",
              "      <td>415</td>\n",
              "      <td>Yes</td>\n",
              "      <td>Yes</td>\n",
              "      <td>27</td>\n",
              "      <td>267.9</td>\n",
              "      <td>103</td>\n",
              "      <td>45.54</td>\n",
              "      <td>263.3</td>\n",
              "      <td>74</td>\n",
              "      <td>22.38</td>\n",
              "      <td>178.1</td>\n",
              "      <td>106</td>\n",
              "      <td>8.01</td>\n",
              "      <td>8.3</td>\n",
              "      <td>2</td>\n",
              "      <td>2.24</td>\n",
              "      <td>1</td>\n",
              "      <td>True</td>\n",
              "    </tr>\n",
              "    <tr>\n",
              "      <th>1155</th>\n",
              "      <td>KS</td>\n",
              "      <td>167</td>\n",
              "      <td>415</td>\n",
              "      <td>No</td>\n",
              "      <td>No</td>\n",
              "      <td>0</td>\n",
              "      <td>131.6</td>\n",
              "      <td>120</td>\n",
              "      <td>22.37</td>\n",
              "      <td>211.3</td>\n",
              "      <td>96</td>\n",
              "      <td>17.96</td>\n",
              "      <td>168.3</td>\n",
              "      <td>97</td>\n",
              "      <td>7.57</td>\n",
              "      <td>11.1</td>\n",
              "      <td>4</td>\n",
              "      <td>3.00</td>\n",
              "      <td>4</td>\n",
              "      <td>True</td>\n",
              "    </tr>\n",
              "    <tr>\n",
              "      <th>1232</th>\n",
              "      <td>KS</td>\n",
              "      <td>24</td>\n",
              "      <td>510</td>\n",
              "      <td>No</td>\n",
              "      <td>No</td>\n",
              "      <td>0</td>\n",
              "      <td>243.0</td>\n",
              "      <td>91</td>\n",
              "      <td>41.31</td>\n",
              "      <td>183.9</td>\n",
              "      <td>77</td>\n",
              "      <td>15.63</td>\n",
              "      <td>184.3</td>\n",
              "      <td>109</td>\n",
              "      <td>8.29</td>\n",
              "      <td>15.3</td>\n",
              "      <td>6</td>\n",
              "      <td>4.13</td>\n",
              "      <td>0</td>\n",
              "      <td>True</td>\n",
              "    </tr>\n",
              "    <tr>\n",
              "      <th>1334</th>\n",
              "      <td>KS</td>\n",
              "      <td>126</td>\n",
              "      <td>408</td>\n",
              "      <td>No</td>\n",
              "      <td>No</td>\n",
              "      <td>0</td>\n",
              "      <td>321.3</td>\n",
              "      <td>99</td>\n",
              "      <td>54.62</td>\n",
              "      <td>167.9</td>\n",
              "      <td>93</td>\n",
              "      <td>14.27</td>\n",
              "      <td>193.6</td>\n",
              "      <td>106</td>\n",
              "      <td>8.71</td>\n",
              "      <td>8.0</td>\n",
              "      <td>4</td>\n",
              "      <td>2.16</td>\n",
              "      <td>1</td>\n",
              "      <td>True</td>\n",
              "    </tr>\n",
              "    <tr>\n",
              "      <th>1593</th>\n",
              "      <td>KS</td>\n",
              "      <td>105</td>\n",
              "      <td>415</td>\n",
              "      <td>Yes</td>\n",
              "      <td>No</td>\n",
              "      <td>0</td>\n",
              "      <td>273.9</td>\n",
              "      <td>119</td>\n",
              "      <td>46.56</td>\n",
              "      <td>278.6</td>\n",
              "      <td>103</td>\n",
              "      <td>23.68</td>\n",
              "      <td>255.3</td>\n",
              "      <td>90</td>\n",
              "      <td>11.49</td>\n",
              "      <td>10.9</td>\n",
              "      <td>7</td>\n",
              "      <td>2.94</td>\n",
              "      <td>1</td>\n",
              "      <td>True</td>\n",
              "    </tr>\n",
              "    <tr>\n",
              "      <th>2059</th>\n",
              "      <td>KS</td>\n",
              "      <td>94</td>\n",
              "      <td>408</td>\n",
              "      <td>No</td>\n",
              "      <td>No</td>\n",
              "      <td>0</td>\n",
              "      <td>269.2</td>\n",
              "      <td>104</td>\n",
              "      <td>45.76</td>\n",
              "      <td>193.8</td>\n",
              "      <td>144</td>\n",
              "      <td>16.47</td>\n",
              "      <td>257.6</td>\n",
              "      <td>61</td>\n",
              "      <td>11.59</td>\n",
              "      <td>8.9</td>\n",
              "      <td>2</td>\n",
              "      <td>2.40</td>\n",
              "      <td>3</td>\n",
              "      <td>True</td>\n",
              "    </tr>\n",
              "    <tr>\n",
              "      <th>2173</th>\n",
              "      <td>KS</td>\n",
              "      <td>47</td>\n",
              "      <td>510</td>\n",
              "      <td>Yes</td>\n",
              "      <td>No</td>\n",
              "      <td>0</td>\n",
              "      <td>47.8</td>\n",
              "      <td>120</td>\n",
              "      <td>8.13</td>\n",
              "      <td>178.9</td>\n",
              "      <td>123</td>\n",
              "      <td>15.21</td>\n",
              "      <td>152.6</td>\n",
              "      <td>96</td>\n",
              "      <td>6.87</td>\n",
              "      <td>13.3</td>\n",
              "      <td>7</td>\n",
              "      <td>3.59</td>\n",
              "      <td>0</td>\n",
              "      <td>True</td>\n",
              "    </tr>\n",
              "    <tr>\n",
              "      <th>2645</th>\n",
              "      <td>KS</td>\n",
              "      <td>91</td>\n",
              "      <td>408</td>\n",
              "      <td>Yes</td>\n",
              "      <td>No</td>\n",
              "      <td>0</td>\n",
              "      <td>246.4</td>\n",
              "      <td>110</td>\n",
              "      <td>41.89</td>\n",
              "      <td>182.0</td>\n",
              "      <td>98</td>\n",
              "      <td>15.47</td>\n",
              "      <td>157.6</td>\n",
              "      <td>106</td>\n",
              "      <td>7.09</td>\n",
              "      <td>12.1</td>\n",
              "      <td>2</td>\n",
              "      <td>3.27</td>\n",
              "      <td>2</td>\n",
              "      <td>True</td>\n",
              "    </tr>\n",
              "    <tr>\n",
              "      <th>2980</th>\n",
              "      <td>KS</td>\n",
              "      <td>84</td>\n",
              "      <td>415</td>\n",
              "      <td>No</td>\n",
              "      <td>No</td>\n",
              "      <td>0</td>\n",
              "      <td>225.9</td>\n",
              "      <td>86</td>\n",
              "      <td>38.40</td>\n",
              "      <td>275.6</td>\n",
              "      <td>105</td>\n",
              "      <td>23.43</td>\n",
              "      <td>201.4</td>\n",
              "      <td>108</td>\n",
              "      <td>9.06</td>\n",
              "      <td>14.3</td>\n",
              "      <td>3</td>\n",
              "      <td>3.86</td>\n",
              "      <td>3</td>\n",
              "      <td>True</td>\n",
              "    </tr>\n",
              "    <tr>\n",
              "      <th>3287</th>\n",
              "      <td>KS</td>\n",
              "      <td>170</td>\n",
              "      <td>415</td>\n",
              "      <td>No</td>\n",
              "      <td>Yes</td>\n",
              "      <td>42</td>\n",
              "      <td>199.5</td>\n",
              "      <td>119</td>\n",
              "      <td>33.92</td>\n",
              "      <td>135.0</td>\n",
              "      <td>90</td>\n",
              "      <td>11.48</td>\n",
              "      <td>184.6</td>\n",
              "      <td>49</td>\n",
              "      <td>8.31</td>\n",
              "      <td>10.9</td>\n",
              "      <td>3</td>\n",
              "      <td>2.94</td>\n",
              "      <td>4</td>\n",
              "      <td>True</td>\n",
              "    </tr>\n",
              "  </tbody>\n",
              "</table>\n",
              "</div>"
            ],
            "text/plain": [
              "     State  Account length  ...  Customer service calls Churn\n",
              "258     KS              92  ...                       1  True\n",
              "430     KS              46  ...                       2  True\n",
              "619     KS             110  ...                       0  True\n",
              "987     KS             110  ...                       1  True\n",
              "1155    KS             167  ...                       4  True\n",
              "1232    KS              24  ...                       0  True\n",
              "1334    KS             126  ...                       1  True\n",
              "1593    KS             105  ...                       1  True\n",
              "2059    KS              94  ...                       3  True\n",
              "2173    KS              47  ...                       0  True\n",
              "2645    KS              91  ...                       2  True\n",
              "2980    KS              84  ...                       3  True\n",
              "3287    KS             170  ...                       4  True\n",
              "\n",
              "[13 rows x 20 columns]"
            ]
          },
          "metadata": {
            "tags": []
          },
          "execution_count": 98
        }
      ]
    },
    {
      "cell_type": "code",
      "metadata": {
        "id": "_XvxwjvNmRlc",
        "colab": {
          "base_uri": "https://localhost:8080/",
          "height": 1000
        },
        "outputId": "7b75c19e-a695-484b-e947-c6d1936b0179"
      },
      "source": [
        "t[t['State']=='KS']"
      ],
      "execution_count": 99,
      "outputs": [
        {
          "output_type": "execute_result",
          "data": {
            "text/html": [
              "<div>\n",
              "<style scoped>\n",
              "    .dataframe tbody tr th:only-of-type {\n",
              "        vertical-align: middle;\n",
              "    }\n",
              "\n",
              "    .dataframe tbody tr th {\n",
              "        vertical-align: top;\n",
              "    }\n",
              "\n",
              "    .dataframe thead th {\n",
              "        text-align: right;\n",
              "    }\n",
              "</style>\n",
              "<table border=\"1\" class=\"dataframe\">\n",
              "  <thead>\n",
              "    <tr style=\"text-align: right;\">\n",
              "      <th></th>\n",
              "      <th>State</th>\n",
              "      <th>Account length</th>\n",
              "      <th>Area code</th>\n",
              "      <th>International plan</th>\n",
              "      <th>Voice mail plan</th>\n",
              "      <th>Number vmail messages</th>\n",
              "      <th>Total day minutes</th>\n",
              "      <th>Total day calls</th>\n",
              "      <th>Total day charge</th>\n",
              "      <th>Total eve minutes</th>\n",
              "      <th>Total eve calls</th>\n",
              "      <th>Total eve charge</th>\n",
              "      <th>Total night minutes</th>\n",
              "      <th>Total night calls</th>\n",
              "      <th>Total night charge</th>\n",
              "      <th>Total intl minutes</th>\n",
              "      <th>Total intl calls</th>\n",
              "      <th>Total intl charge</th>\n",
              "      <th>Customer service calls</th>\n",
              "      <th>Churn</th>\n",
              "    </tr>\n",
              "  </thead>\n",
              "  <tbody>\n",
              "    <tr>\n",
              "      <th>0</th>\n",
              "      <td>KS</td>\n",
              "      <td>128</td>\n",
              "      <td>415</td>\n",
              "      <td>No</td>\n",
              "      <td>Yes</td>\n",
              "      <td>25</td>\n",
              "      <td>265.1</td>\n",
              "      <td>110</td>\n",
              "      <td>45.07</td>\n",
              "      <td>197.4</td>\n",
              "      <td>99</td>\n",
              "      <td>16.78</td>\n",
              "      <td>244.7</td>\n",
              "      <td>91</td>\n",
              "      <td>11.01</td>\n",
              "      <td>10.0</td>\n",
              "      <td>3</td>\n",
              "      <td>2.70</td>\n",
              "      <td>1</td>\n",
              "      <td>False</td>\n",
              "    </tr>\n",
              "    <tr>\n",
              "      <th>179</th>\n",
              "      <td>KS</td>\n",
              "      <td>70</td>\n",
              "      <td>408</td>\n",
              "      <td>No</td>\n",
              "      <td>No</td>\n",
              "      <td>0</td>\n",
              "      <td>232.1</td>\n",
              "      <td>122</td>\n",
              "      <td>39.46</td>\n",
              "      <td>292.3</td>\n",
              "      <td>112</td>\n",
              "      <td>24.85</td>\n",
              "      <td>201.2</td>\n",
              "      <td>112</td>\n",
              "      <td>9.05</td>\n",
              "      <td>0.0</td>\n",
              "      <td>0</td>\n",
              "      <td>0.00</td>\n",
              "      <td>3</td>\n",
              "      <td>False</td>\n",
              "    </tr>\n",
              "    <tr>\n",
              "      <th>287</th>\n",
              "      <td>KS</td>\n",
              "      <td>137</td>\n",
              "      <td>408</td>\n",
              "      <td>No</td>\n",
              "      <td>No</td>\n",
              "      <td>0</td>\n",
              "      <td>205.9</td>\n",
              "      <td>88</td>\n",
              "      <td>35.00</td>\n",
              "      <td>209.3</td>\n",
              "      <td>86</td>\n",
              "      <td>17.79</td>\n",
              "      <td>289.9</td>\n",
              "      <td>84</td>\n",
              "      <td>13.05</td>\n",
              "      <td>14.5</td>\n",
              "      <td>4</td>\n",
              "      <td>3.92</td>\n",
              "      <td>2</td>\n",
              "      <td>False</td>\n",
              "    </tr>\n",
              "    <tr>\n",
              "      <th>368</th>\n",
              "      <td>KS</td>\n",
              "      <td>132</td>\n",
              "      <td>415</td>\n",
              "      <td>No</td>\n",
              "      <td>No</td>\n",
              "      <td>0</td>\n",
              "      <td>83.4</td>\n",
              "      <td>110</td>\n",
              "      <td>14.18</td>\n",
              "      <td>232.2</td>\n",
              "      <td>137</td>\n",
              "      <td>19.74</td>\n",
              "      <td>146.7</td>\n",
              "      <td>114</td>\n",
              "      <td>6.60</td>\n",
              "      <td>7.6</td>\n",
              "      <td>5</td>\n",
              "      <td>2.05</td>\n",
              "      <td>1</td>\n",
              "      <td>False</td>\n",
              "    </tr>\n",
              "    <tr>\n",
              "      <th>379</th>\n",
              "      <td>KS</td>\n",
              "      <td>127</td>\n",
              "      <td>415</td>\n",
              "      <td>No</td>\n",
              "      <td>No</td>\n",
              "      <td>0</td>\n",
              "      <td>221.0</td>\n",
              "      <td>100</td>\n",
              "      <td>37.57</td>\n",
              "      <td>160.7</td>\n",
              "      <td>113</td>\n",
              "      <td>13.66</td>\n",
              "      <td>233.1</td>\n",
              "      <td>96</td>\n",
              "      <td>10.49</td>\n",
              "      <td>6.8</td>\n",
              "      <td>4</td>\n",
              "      <td>1.84</td>\n",
              "      <td>2</td>\n",
              "      <td>False</td>\n",
              "    </tr>\n",
              "    <tr>\n",
              "      <th>385</th>\n",
              "      <td>KS</td>\n",
              "      <td>137</td>\n",
              "      <td>415</td>\n",
              "      <td>No</td>\n",
              "      <td>No</td>\n",
              "      <td>0</td>\n",
              "      <td>230.2</td>\n",
              "      <td>113</td>\n",
              "      <td>39.13</td>\n",
              "      <td>220.4</td>\n",
              "      <td>79</td>\n",
              "      <td>18.73</td>\n",
              "      <td>204.7</td>\n",
              "      <td>111</td>\n",
              "      <td>9.21</td>\n",
              "      <td>10.7</td>\n",
              "      <td>7</td>\n",
              "      <td>2.89</td>\n",
              "      <td>4</td>\n",
              "      <td>False</td>\n",
              "    </tr>\n",
              "    <tr>\n",
              "      <th>451</th>\n",
              "      <td>KS</td>\n",
              "      <td>86</td>\n",
              "      <td>408</td>\n",
              "      <td>No</td>\n",
              "      <td>Yes</td>\n",
              "      <td>23</td>\n",
              "      <td>225.5</td>\n",
              "      <td>107</td>\n",
              "      <td>38.34</td>\n",
              "      <td>246.3</td>\n",
              "      <td>105</td>\n",
              "      <td>20.94</td>\n",
              "      <td>245.7</td>\n",
              "      <td>81</td>\n",
              "      <td>11.06</td>\n",
              "      <td>9.8</td>\n",
              "      <td>2</td>\n",
              "      <td>2.65</td>\n",
              "      <td>0</td>\n",
              "      <td>False</td>\n",
              "    </tr>\n",
              "    <tr>\n",
              "      <th>508</th>\n",
              "      <td>KS</td>\n",
              "      <td>143</td>\n",
              "      <td>408</td>\n",
              "      <td>No</td>\n",
              "      <td>Yes</td>\n",
              "      <td>24</td>\n",
              "      <td>186.6</td>\n",
              "      <td>69</td>\n",
              "      <td>31.72</td>\n",
              "      <td>222.0</td>\n",
              "      <td>116</td>\n",
              "      <td>18.87</td>\n",
              "      <td>234.9</td>\n",
              "      <td>138</td>\n",
              "      <td>10.57</td>\n",
              "      <td>11.6</td>\n",
              "      <td>5</td>\n",
              "      <td>3.13</td>\n",
              "      <td>1</td>\n",
              "      <td>False</td>\n",
              "    </tr>\n",
              "    <tr>\n",
              "      <th>620</th>\n",
              "      <td>KS</td>\n",
              "      <td>163</td>\n",
              "      <td>415</td>\n",
              "      <td>No</td>\n",
              "      <td>No</td>\n",
              "      <td>0</td>\n",
              "      <td>191.3</td>\n",
              "      <td>89</td>\n",
              "      <td>32.52</td>\n",
              "      <td>193.9</td>\n",
              "      <td>87</td>\n",
              "      <td>16.48</td>\n",
              "      <td>268.4</td>\n",
              "      <td>121</td>\n",
              "      <td>12.08</td>\n",
              "      <td>12.8</td>\n",
              "      <td>4</td>\n",
              "      <td>3.46</td>\n",
              "      <td>1</td>\n",
              "      <td>False</td>\n",
              "    </tr>\n",
              "    <tr>\n",
              "      <th>636</th>\n",
              "      <td>KS</td>\n",
              "      <td>121</td>\n",
              "      <td>408</td>\n",
              "      <td>No</td>\n",
              "      <td>No</td>\n",
              "      <td>0</td>\n",
              "      <td>150.7</td>\n",
              "      <td>105</td>\n",
              "      <td>25.62</td>\n",
              "      <td>197.3</td>\n",
              "      <td>133</td>\n",
              "      <td>16.77</td>\n",
              "      <td>169.0</td>\n",
              "      <td>116</td>\n",
              "      <td>7.61</td>\n",
              "      <td>9.2</td>\n",
              "      <td>15</td>\n",
              "      <td>2.48</td>\n",
              "      <td>1</td>\n",
              "      <td>False</td>\n",
              "    </tr>\n",
              "    <tr>\n",
              "      <th>680</th>\n",
              "      <td>KS</td>\n",
              "      <td>116</td>\n",
              "      <td>510</td>\n",
              "      <td>No</td>\n",
              "      <td>No</td>\n",
              "      <td>0</td>\n",
              "      <td>189.5</td>\n",
              "      <td>90</td>\n",
              "      <td>32.22</td>\n",
              "      <td>189.8</td>\n",
              "      <td>118</td>\n",
              "      <td>16.13</td>\n",
              "      <td>205.8</td>\n",
              "      <td>83</td>\n",
              "      <td>9.26</td>\n",
              "      <td>13.1</td>\n",
              "      <td>2</td>\n",
              "      <td>3.54</td>\n",
              "      <td>1</td>\n",
              "      <td>False</td>\n",
              "    </tr>\n",
              "    <tr>\n",
              "      <th>690</th>\n",
              "      <td>KS</td>\n",
              "      <td>88</td>\n",
              "      <td>415</td>\n",
              "      <td>No</td>\n",
              "      <td>No</td>\n",
              "      <td>0</td>\n",
              "      <td>189.8</td>\n",
              "      <td>111</td>\n",
              "      <td>32.27</td>\n",
              "      <td>197.3</td>\n",
              "      <td>101</td>\n",
              "      <td>16.77</td>\n",
              "      <td>234.5</td>\n",
              "      <td>111</td>\n",
              "      <td>10.55</td>\n",
              "      <td>14.9</td>\n",
              "      <td>3</td>\n",
              "      <td>4.02</td>\n",
              "      <td>2</td>\n",
              "      <td>False</td>\n",
              "    </tr>\n",
              "    <tr>\n",
              "      <th>702</th>\n",
              "      <td>KS</td>\n",
              "      <td>99</td>\n",
              "      <td>415</td>\n",
              "      <td>No</td>\n",
              "      <td>No</td>\n",
              "      <td>0</td>\n",
              "      <td>191.2</td>\n",
              "      <td>110</td>\n",
              "      <td>32.50</td>\n",
              "      <td>163.9</td>\n",
              "      <td>102</td>\n",
              "      <td>13.93</td>\n",
              "      <td>243.6</td>\n",
              "      <td>114</td>\n",
              "      <td>10.96</td>\n",
              "      <td>14.1</td>\n",
              "      <td>3</td>\n",
              "      <td>3.81</td>\n",
              "      <td>1</td>\n",
              "      <td>False</td>\n",
              "    </tr>\n",
              "    <tr>\n",
              "      <th>738</th>\n",
              "      <td>KS</td>\n",
              "      <td>68</td>\n",
              "      <td>510</td>\n",
              "      <td>No</td>\n",
              "      <td>No</td>\n",
              "      <td>0</td>\n",
              "      <td>159.5</td>\n",
              "      <td>123</td>\n",
              "      <td>27.12</td>\n",
              "      <td>240.8</td>\n",
              "      <td>93</td>\n",
              "      <td>20.47</td>\n",
              "      <td>210.3</td>\n",
              "      <td>76</td>\n",
              "      <td>9.46</td>\n",
              "      <td>11.4</td>\n",
              "      <td>3</td>\n",
              "      <td>3.08</td>\n",
              "      <td>1</td>\n",
              "      <td>False</td>\n",
              "    </tr>\n",
              "    <tr>\n",
              "      <th>783</th>\n",
              "      <td>KS</td>\n",
              "      <td>103</td>\n",
              "      <td>408</td>\n",
              "      <td>Yes</td>\n",
              "      <td>No</td>\n",
              "      <td>0</td>\n",
              "      <td>62.8</td>\n",
              "      <td>124</td>\n",
              "      <td>10.68</td>\n",
              "      <td>170.4</td>\n",
              "      <td>66</td>\n",
              "      <td>14.48</td>\n",
              "      <td>280.2</td>\n",
              "      <td>78</td>\n",
              "      <td>12.61</td>\n",
              "      <td>9.4</td>\n",
              "      <td>4</td>\n",
              "      <td>2.54</td>\n",
              "      <td>3</td>\n",
              "      <td>False</td>\n",
              "    </tr>\n",
              "    <tr>\n",
              "      <th>852</th>\n",
              "      <td>KS</td>\n",
              "      <td>149</td>\n",
              "      <td>510</td>\n",
              "      <td>No</td>\n",
              "      <td>No</td>\n",
              "      <td>0</td>\n",
              "      <td>217.7</td>\n",
              "      <td>91</td>\n",
              "      <td>37.01</td>\n",
              "      <td>273.5</td>\n",
              "      <td>74</td>\n",
              "      <td>23.25</td>\n",
              "      <td>226.9</td>\n",
              "      <td>99</td>\n",
              "      <td>10.21</td>\n",
              "      <td>9.6</td>\n",
              "      <td>3</td>\n",
              "      <td>2.59</td>\n",
              "      <td>3</td>\n",
              "      <td>False</td>\n",
              "    </tr>\n",
              "    <tr>\n",
              "      <th>1028</th>\n",
              "      <td>KS</td>\n",
              "      <td>70</td>\n",
              "      <td>415</td>\n",
              "      <td>No</td>\n",
              "      <td>No</td>\n",
              "      <td>0</td>\n",
              "      <td>222.8</td>\n",
              "      <td>114</td>\n",
              "      <td>37.88</td>\n",
              "      <td>215.9</td>\n",
              "      <td>113</td>\n",
              "      <td>18.35</td>\n",
              "      <td>223.5</td>\n",
              "      <td>122</td>\n",
              "      <td>10.06</td>\n",
              "      <td>0.0</td>\n",
              "      <td>0</td>\n",
              "      <td>0.00</td>\n",
              "      <td>1</td>\n",
              "      <td>False</td>\n",
              "    </tr>\n",
              "    <tr>\n",
              "      <th>1043</th>\n",
              "      <td>KS</td>\n",
              "      <td>124</td>\n",
              "      <td>415</td>\n",
              "      <td>No</td>\n",
              "      <td>No</td>\n",
              "      <td>0</td>\n",
              "      <td>158.6</td>\n",
              "      <td>104</td>\n",
              "      <td>26.96</td>\n",
              "      <td>211.2</td>\n",
              "      <td>77</td>\n",
              "      <td>17.95</td>\n",
              "      <td>179.3</td>\n",
              "      <td>104</td>\n",
              "      <td>8.07</td>\n",
              "      <td>10.2</td>\n",
              "      <td>8</td>\n",
              "      <td>2.75</td>\n",
              "      <td>3</td>\n",
              "      <td>False</td>\n",
              "    </tr>\n",
              "    <tr>\n",
              "      <th>1056</th>\n",
              "      <td>KS</td>\n",
              "      <td>67</td>\n",
              "      <td>408</td>\n",
              "      <td>No</td>\n",
              "      <td>No</td>\n",
              "      <td>0</td>\n",
              "      <td>201.4</td>\n",
              "      <td>101</td>\n",
              "      <td>34.24</td>\n",
              "      <td>97.6</td>\n",
              "      <td>122</td>\n",
              "      <td>8.30</td>\n",
              "      <td>202.5</td>\n",
              "      <td>119</td>\n",
              "      <td>9.11</td>\n",
              "      <td>7.0</td>\n",
              "      <td>3</td>\n",
              "      <td>1.89</td>\n",
              "      <td>0</td>\n",
              "      <td>False</td>\n",
              "    </tr>\n",
              "    <tr>\n",
              "      <th>1066</th>\n",
              "      <td>KS</td>\n",
              "      <td>117</td>\n",
              "      <td>510</td>\n",
              "      <td>No</td>\n",
              "      <td>Yes</td>\n",
              "      <td>25</td>\n",
              "      <td>216.0</td>\n",
              "      <td>140</td>\n",
              "      <td>36.72</td>\n",
              "      <td>224.1</td>\n",
              "      <td>69</td>\n",
              "      <td>19.05</td>\n",
              "      <td>267.9</td>\n",
              "      <td>112</td>\n",
              "      <td>12.06</td>\n",
              "      <td>11.8</td>\n",
              "      <td>4</td>\n",
              "      <td>3.19</td>\n",
              "      <td>0</td>\n",
              "      <td>False</td>\n",
              "    </tr>\n",
              "    <tr>\n",
              "      <th>1103</th>\n",
              "      <td>KS</td>\n",
              "      <td>52</td>\n",
              "      <td>415</td>\n",
              "      <td>No</td>\n",
              "      <td>No</td>\n",
              "      <td>0</td>\n",
              "      <td>165.5</td>\n",
              "      <td>78</td>\n",
              "      <td>28.14</td>\n",
              "      <td>205.5</td>\n",
              "      <td>89</td>\n",
              "      <td>17.47</td>\n",
              "      <td>213.6</td>\n",
              "      <td>124</td>\n",
              "      <td>9.61</td>\n",
              "      <td>12.2</td>\n",
              "      <td>6</td>\n",
              "      <td>3.29</td>\n",
              "      <td>0</td>\n",
              "      <td>False</td>\n",
              "    </tr>\n",
              "    <tr>\n",
              "      <th>1127</th>\n",
              "      <td>KS</td>\n",
              "      <td>159</td>\n",
              "      <td>415</td>\n",
              "      <td>No</td>\n",
              "      <td>Yes</td>\n",
              "      <td>19</td>\n",
              "      <td>184.1</td>\n",
              "      <td>78</td>\n",
              "      <td>31.30</td>\n",
              "      <td>194.5</td>\n",
              "      <td>71</td>\n",
              "      <td>16.53</td>\n",
              "      <td>225.6</td>\n",
              "      <td>101</td>\n",
              "      <td>10.15</td>\n",
              "      <td>16.9</td>\n",
              "      <td>3</td>\n",
              "      <td>4.56</td>\n",
              "      <td>0</td>\n",
              "      <td>False</td>\n",
              "    </tr>\n",
              "    <tr>\n",
              "      <th>1159</th>\n",
              "      <td>KS</td>\n",
              "      <td>128</td>\n",
              "      <td>415</td>\n",
              "      <td>No</td>\n",
              "      <td>No</td>\n",
              "      <td>0</td>\n",
              "      <td>103.3</td>\n",
              "      <td>122</td>\n",
              "      <td>17.56</td>\n",
              "      <td>245.9</td>\n",
              "      <td>123</td>\n",
              "      <td>20.90</td>\n",
              "      <td>161.1</td>\n",
              "      <td>95</td>\n",
              "      <td>7.25</td>\n",
              "      <td>6.4</td>\n",
              "      <td>7</td>\n",
              "      <td>1.73</td>\n",
              "      <td>0</td>\n",
              "      <td>False</td>\n",
              "    </tr>\n",
              "    <tr>\n",
              "      <th>1167</th>\n",
              "      <td>KS</td>\n",
              "      <td>130</td>\n",
              "      <td>510</td>\n",
              "      <td>No</td>\n",
              "      <td>No</td>\n",
              "      <td>0</td>\n",
              "      <td>154.0</td>\n",
              "      <td>95</td>\n",
              "      <td>26.18</td>\n",
              "      <td>205.9</td>\n",
              "      <td>106</td>\n",
              "      <td>17.50</td>\n",
              "      <td>233.7</td>\n",
              "      <td>75</td>\n",
              "      <td>10.52</td>\n",
              "      <td>12.9</td>\n",
              "      <td>1</td>\n",
              "      <td>3.48</td>\n",
              "      <td>1</td>\n",
              "      <td>False</td>\n",
              "    </tr>\n",
              "    <tr>\n",
              "      <th>1218</th>\n",
              "      <td>KS</td>\n",
              "      <td>131</td>\n",
              "      <td>415</td>\n",
              "      <td>No</td>\n",
              "      <td>Yes</td>\n",
              "      <td>28</td>\n",
              "      <td>249.6</td>\n",
              "      <td>87</td>\n",
              "      <td>42.43</td>\n",
              "      <td>227.2</td>\n",
              "      <td>138</td>\n",
              "      <td>19.31</td>\n",
              "      <td>239.9</td>\n",
              "      <td>92</td>\n",
              "      <td>10.80</td>\n",
              "      <td>7.6</td>\n",
              "      <td>3</td>\n",
              "      <td>2.05</td>\n",
              "      <td>3</td>\n",
              "      <td>False</td>\n",
              "    </tr>\n",
              "    <tr>\n",
              "      <th>1219</th>\n",
              "      <td>KS</td>\n",
              "      <td>36</td>\n",
              "      <td>510</td>\n",
              "      <td>No</td>\n",
              "      <td>No</td>\n",
              "      <td>0</td>\n",
              "      <td>178.6</td>\n",
              "      <td>83</td>\n",
              "      <td>30.36</td>\n",
              "      <td>213.1</td>\n",
              "      <td>103</td>\n",
              "      <td>18.11</td>\n",
              "      <td>198.0</td>\n",
              "      <td>119</td>\n",
              "      <td>8.91</td>\n",
              "      <td>10.9</td>\n",
              "      <td>5</td>\n",
              "      <td>2.94</td>\n",
              "      <td>1</td>\n",
              "      <td>False</td>\n",
              "    </tr>\n",
              "    <tr>\n",
              "      <th>1228</th>\n",
              "      <td>KS</td>\n",
              "      <td>124</td>\n",
              "      <td>510</td>\n",
              "      <td>No</td>\n",
              "      <td>Yes</td>\n",
              "      <td>37</td>\n",
              "      <td>161.2</td>\n",
              "      <td>109</td>\n",
              "      <td>27.40</td>\n",
              "      <td>204.2</td>\n",
              "      <td>79</td>\n",
              "      <td>17.36</td>\n",
              "      <td>231.5</td>\n",
              "      <td>87</td>\n",
              "      <td>10.42</td>\n",
              "      <td>8.9</td>\n",
              "      <td>4</td>\n",
              "      <td>2.40</td>\n",
              "      <td>1</td>\n",
              "      <td>False</td>\n",
              "    </tr>\n",
              "    <tr>\n",
              "      <th>1279</th>\n",
              "      <td>KS</td>\n",
              "      <td>87</td>\n",
              "      <td>510</td>\n",
              "      <td>No</td>\n",
              "      <td>No</td>\n",
              "      <td>0</td>\n",
              "      <td>115.4</td>\n",
              "      <td>90</td>\n",
              "      <td>19.62</td>\n",
              "      <td>262.6</td>\n",
              "      <td>68</td>\n",
              "      <td>22.32</td>\n",
              "      <td>245.7</td>\n",
              "      <td>69</td>\n",
              "      <td>11.06</td>\n",
              "      <td>13.1</td>\n",
              "      <td>5</td>\n",
              "      <td>3.54</td>\n",
              "      <td>2</td>\n",
              "      <td>False</td>\n",
              "    </tr>\n",
              "    <tr>\n",
              "      <th>1622</th>\n",
              "      <td>KS</td>\n",
              "      <td>117</td>\n",
              "      <td>415</td>\n",
              "      <td>No</td>\n",
              "      <td>No</td>\n",
              "      <td>0</td>\n",
              "      <td>184.8</td>\n",
              "      <td>83</td>\n",
              "      <td>31.42</td>\n",
              "      <td>248.6</td>\n",
              "      <td>101</td>\n",
              "      <td>21.13</td>\n",
              "      <td>133.1</td>\n",
              "      <td>113</td>\n",
              "      <td>5.99</td>\n",
              "      <td>9.6</td>\n",
              "      <td>8</td>\n",
              "      <td>2.59</td>\n",
              "      <td>1</td>\n",
              "      <td>False</td>\n",
              "    </tr>\n",
              "    <tr>\n",
              "      <th>1677</th>\n",
              "      <td>KS</td>\n",
              "      <td>123</td>\n",
              "      <td>415</td>\n",
              "      <td>No</td>\n",
              "      <td>No</td>\n",
              "      <td>0</td>\n",
              "      <td>163.1</td>\n",
              "      <td>119</td>\n",
              "      <td>27.73</td>\n",
              "      <td>249.4</td>\n",
              "      <td>51</td>\n",
              "      <td>21.20</td>\n",
              "      <td>168.2</td>\n",
              "      <td>77</td>\n",
              "      <td>7.57</td>\n",
              "      <td>9.0</td>\n",
              "      <td>10</td>\n",
              "      <td>2.43</td>\n",
              "      <td>1</td>\n",
              "      <td>False</td>\n",
              "    </tr>\n",
              "    <tr>\n",
              "      <th>1747</th>\n",
              "      <td>KS</td>\n",
              "      <td>120</td>\n",
              "      <td>510</td>\n",
              "      <td>No</td>\n",
              "      <td>No</td>\n",
              "      <td>0</td>\n",
              "      <td>158.0</td>\n",
              "      <td>110</td>\n",
              "      <td>26.86</td>\n",
              "      <td>197.0</td>\n",
              "      <td>103</td>\n",
              "      <td>16.75</td>\n",
              "      <td>154.9</td>\n",
              "      <td>132</td>\n",
              "      <td>6.97</td>\n",
              "      <td>10.0</td>\n",
              "      <td>5</td>\n",
              "      <td>2.70</td>\n",
              "      <td>1</td>\n",
              "      <td>False</td>\n",
              "    </tr>\n",
              "    <tr>\n",
              "      <th>1824</th>\n",
              "      <td>KS</td>\n",
              "      <td>138</td>\n",
              "      <td>510</td>\n",
              "      <td>No</td>\n",
              "      <td>Yes</td>\n",
              "      <td>26</td>\n",
              "      <td>183.9</td>\n",
              "      <td>83</td>\n",
              "      <td>31.26</td>\n",
              "      <td>240.7</td>\n",
              "      <td>93</td>\n",
              "      <td>20.46</td>\n",
              "      <td>185.7</td>\n",
              "      <td>125</td>\n",
              "      <td>8.36</td>\n",
              "      <td>15.0</td>\n",
              "      <td>3</td>\n",
              "      <td>4.05</td>\n",
              "      <td>1</td>\n",
              "      <td>False</td>\n",
              "    </tr>\n",
              "    <tr>\n",
              "      <th>1852</th>\n",
              "      <td>KS</td>\n",
              "      <td>101</td>\n",
              "      <td>510</td>\n",
              "      <td>No</td>\n",
              "      <td>Yes</td>\n",
              "      <td>25</td>\n",
              "      <td>144.1</td>\n",
              "      <td>144</td>\n",
              "      <td>24.50</td>\n",
              "      <td>167.6</td>\n",
              "      <td>105</td>\n",
              "      <td>14.25</td>\n",
              "      <td>240.0</td>\n",
              "      <td>107</td>\n",
              "      <td>10.80</td>\n",
              "      <td>14.5</td>\n",
              "      <td>3</td>\n",
              "      <td>3.92</td>\n",
              "      <td>1</td>\n",
              "      <td>False</td>\n",
              "    </tr>\n",
              "    <tr>\n",
              "      <th>1971</th>\n",
              "      <td>KS</td>\n",
              "      <td>74</td>\n",
              "      <td>415</td>\n",
              "      <td>No</td>\n",
              "      <td>Yes</td>\n",
              "      <td>32</td>\n",
              "      <td>174.6</td>\n",
              "      <td>107</td>\n",
              "      <td>29.68</td>\n",
              "      <td>310.6</td>\n",
              "      <td>115</td>\n",
              "      <td>26.40</td>\n",
              "      <td>234.7</td>\n",
              "      <td>92</td>\n",
              "      <td>10.56</td>\n",
              "      <td>9.0</td>\n",
              "      <td>4</td>\n",
              "      <td>2.43</td>\n",
              "      <td>1</td>\n",
              "      <td>False</td>\n",
              "    </tr>\n",
              "    <tr>\n",
              "      <th>1997</th>\n",
              "      <td>KS</td>\n",
              "      <td>93</td>\n",
              "      <td>415</td>\n",
              "      <td>No</td>\n",
              "      <td>No</td>\n",
              "      <td>0</td>\n",
              "      <td>266.0</td>\n",
              "      <td>120</td>\n",
              "      <td>45.22</td>\n",
              "      <td>130.1</td>\n",
              "      <td>84</td>\n",
              "      <td>11.06</td>\n",
              "      <td>165.8</td>\n",
              "      <td>63</td>\n",
              "      <td>7.46</td>\n",
              "      <td>13.1</td>\n",
              "      <td>6</td>\n",
              "      <td>3.54</td>\n",
              "      <td>3</td>\n",
              "      <td>False</td>\n",
              "    </tr>\n",
              "    <tr>\n",
              "      <th>2030</th>\n",
              "      <td>KS</td>\n",
              "      <td>57</td>\n",
              "      <td>415</td>\n",
              "      <td>No</td>\n",
              "      <td>Yes</td>\n",
              "      <td>37</td>\n",
              "      <td>201.2</td>\n",
              "      <td>76</td>\n",
              "      <td>34.20</td>\n",
              "      <td>280.1</td>\n",
              "      <td>122</td>\n",
              "      <td>23.81</td>\n",
              "      <td>154.2</td>\n",
              "      <td>110</td>\n",
              "      <td>6.94</td>\n",
              "      <td>11.8</td>\n",
              "      <td>1</td>\n",
              "      <td>3.19</td>\n",
              "      <td>1</td>\n",
              "      <td>False</td>\n",
              "    </tr>\n",
              "    <tr>\n",
              "      <th>2096</th>\n",
              "      <td>KS</td>\n",
              "      <td>94</td>\n",
              "      <td>510</td>\n",
              "      <td>No</td>\n",
              "      <td>Yes</td>\n",
              "      <td>28</td>\n",
              "      <td>233.2</td>\n",
              "      <td>88</td>\n",
              "      <td>39.64</td>\n",
              "      <td>113.3</td>\n",
              "      <td>102</td>\n",
              "      <td>9.63</td>\n",
              "      <td>118.0</td>\n",
              "      <td>71</td>\n",
              "      <td>5.31</td>\n",
              "      <td>16.1</td>\n",
              "      <td>4</td>\n",
              "      <td>4.35</td>\n",
              "      <td>0</td>\n",
              "      <td>False</td>\n",
              "    </tr>\n",
              "    <tr>\n",
              "      <th>2124</th>\n",
              "      <td>KS</td>\n",
              "      <td>43</td>\n",
              "      <td>415</td>\n",
              "      <td>No</td>\n",
              "      <td>No</td>\n",
              "      <td>0</td>\n",
              "      <td>27.0</td>\n",
              "      <td>117</td>\n",
              "      <td>4.59</td>\n",
              "      <td>160.9</td>\n",
              "      <td>97</td>\n",
              "      <td>13.68</td>\n",
              "      <td>279.5</td>\n",
              "      <td>96</td>\n",
              "      <td>12.58</td>\n",
              "      <td>10.7</td>\n",
              "      <td>3</td>\n",
              "      <td>2.89</td>\n",
              "      <td>3</td>\n",
              "      <td>False</td>\n",
              "    </tr>\n",
              "    <tr>\n",
              "      <th>2159</th>\n",
              "      <td>KS</td>\n",
              "      <td>132</td>\n",
              "      <td>415</td>\n",
              "      <td>No</td>\n",
              "      <td>No</td>\n",
              "      <td>0</td>\n",
              "      <td>190.1</td>\n",
              "      <td>105</td>\n",
              "      <td>32.32</td>\n",
              "      <td>182.2</td>\n",
              "      <td>116</td>\n",
              "      <td>15.49</td>\n",
              "      <td>279.8</td>\n",
              "      <td>105</td>\n",
              "      <td>12.59</td>\n",
              "      <td>13.0</td>\n",
              "      <td>2</td>\n",
              "      <td>3.51</td>\n",
              "      <td>1</td>\n",
              "      <td>False</td>\n",
              "    </tr>\n",
              "    <tr>\n",
              "      <th>2163</th>\n",
              "      <td>KS</td>\n",
              "      <td>119</td>\n",
              "      <td>415</td>\n",
              "      <td>No</td>\n",
              "      <td>No</td>\n",
              "      <td>0</td>\n",
              "      <td>231.5</td>\n",
              "      <td>82</td>\n",
              "      <td>39.36</td>\n",
              "      <td>266.9</td>\n",
              "      <td>97</td>\n",
              "      <td>22.69</td>\n",
              "      <td>211.0</td>\n",
              "      <td>118</td>\n",
              "      <td>9.49</td>\n",
              "      <td>7.4</td>\n",
              "      <td>10</td>\n",
              "      <td>2.00</td>\n",
              "      <td>1</td>\n",
              "      <td>False</td>\n",
              "    </tr>\n",
              "    <tr>\n",
              "      <th>2236</th>\n",
              "      <td>KS</td>\n",
              "      <td>128</td>\n",
              "      <td>510</td>\n",
              "      <td>No</td>\n",
              "      <td>No</td>\n",
              "      <td>0</td>\n",
              "      <td>268.1</td>\n",
              "      <td>95</td>\n",
              "      <td>45.58</td>\n",
              "      <td>120.5</td>\n",
              "      <td>126</td>\n",
              "      <td>10.24</td>\n",
              "      <td>220.8</td>\n",
              "      <td>121</td>\n",
              "      <td>9.94</td>\n",
              "      <td>14.4</td>\n",
              "      <td>6</td>\n",
              "      <td>3.89</td>\n",
              "      <td>2</td>\n",
              "      <td>False</td>\n",
              "    </tr>\n",
              "    <tr>\n",
              "      <th>2244</th>\n",
              "      <td>KS</td>\n",
              "      <td>148</td>\n",
              "      <td>510</td>\n",
              "      <td>No</td>\n",
              "      <td>No</td>\n",
              "      <td>0</td>\n",
              "      <td>239.3</td>\n",
              "      <td>84</td>\n",
              "      <td>40.68</td>\n",
              "      <td>195.7</td>\n",
              "      <td>85</td>\n",
              "      <td>16.63</td>\n",
              "      <td>232.6</td>\n",
              "      <td>104</td>\n",
              "      <td>10.47</td>\n",
              "      <td>10.9</td>\n",
              "      <td>3</td>\n",
              "      <td>2.94</td>\n",
              "      <td>1</td>\n",
              "      <td>False</td>\n",
              "    </tr>\n",
              "    <tr>\n",
              "      <th>2338</th>\n",
              "      <td>KS</td>\n",
              "      <td>67</td>\n",
              "      <td>510</td>\n",
              "      <td>No</td>\n",
              "      <td>No</td>\n",
              "      <td>0</td>\n",
              "      <td>129.0</td>\n",
              "      <td>78</td>\n",
              "      <td>21.93</td>\n",
              "      <td>188.0</td>\n",
              "      <td>116</td>\n",
              "      <td>15.98</td>\n",
              "      <td>235.0</td>\n",
              "      <td>102</td>\n",
              "      <td>10.58</td>\n",
              "      <td>11.2</td>\n",
              "      <td>3</td>\n",
              "      <td>3.02</td>\n",
              "      <td>2</td>\n",
              "      <td>False</td>\n",
              "    </tr>\n",
              "    <tr>\n",
              "      <th>2562</th>\n",
              "      <td>KS</td>\n",
              "      <td>110</td>\n",
              "      <td>510</td>\n",
              "      <td>No</td>\n",
              "      <td>No</td>\n",
              "      <td>0</td>\n",
              "      <td>208.0</td>\n",
              "      <td>69</td>\n",
              "      <td>35.36</td>\n",
              "      <td>95.1</td>\n",
              "      <td>94</td>\n",
              "      <td>8.08</td>\n",
              "      <td>178.5</td>\n",
              "      <td>129</td>\n",
              "      <td>8.03</td>\n",
              "      <td>8.0</td>\n",
              "      <td>11</td>\n",
              "      <td>2.16</td>\n",
              "      <td>1</td>\n",
              "      <td>False</td>\n",
              "    </tr>\n",
              "    <tr>\n",
              "      <th>2689</th>\n",
              "      <td>KS</td>\n",
              "      <td>79</td>\n",
              "      <td>415</td>\n",
              "      <td>No</td>\n",
              "      <td>No</td>\n",
              "      <td>0</td>\n",
              "      <td>177.9</td>\n",
              "      <td>83</td>\n",
              "      <td>30.24</td>\n",
              "      <td>167.3</td>\n",
              "      <td>84</td>\n",
              "      <td>14.22</td>\n",
              "      <td>223.7</td>\n",
              "      <td>142</td>\n",
              "      <td>10.07</td>\n",
              "      <td>15.2</td>\n",
              "      <td>8</td>\n",
              "      <td>4.10</td>\n",
              "      <td>0</td>\n",
              "      <td>False</td>\n",
              "    </tr>\n",
              "    <tr>\n",
              "      <th>2750</th>\n",
              "      <td>KS</td>\n",
              "      <td>186</td>\n",
              "      <td>510</td>\n",
              "      <td>No</td>\n",
              "      <td>No</td>\n",
              "      <td>0</td>\n",
              "      <td>137.8</td>\n",
              "      <td>97</td>\n",
              "      <td>23.43</td>\n",
              "      <td>187.7</td>\n",
              "      <td>118</td>\n",
              "      <td>15.95</td>\n",
              "      <td>146.4</td>\n",
              "      <td>85</td>\n",
              "      <td>6.59</td>\n",
              "      <td>8.7</td>\n",
              "      <td>6</td>\n",
              "      <td>2.35</td>\n",
              "      <td>1</td>\n",
              "      <td>False</td>\n",
              "    </tr>\n",
              "    <tr>\n",
              "      <th>2756</th>\n",
              "      <td>KS</td>\n",
              "      <td>123</td>\n",
              "      <td>415</td>\n",
              "      <td>No</td>\n",
              "      <td>No</td>\n",
              "      <td>0</td>\n",
              "      <td>140.0</td>\n",
              "      <td>106</td>\n",
              "      <td>23.80</td>\n",
              "      <td>153.7</td>\n",
              "      <td>101</td>\n",
              "      <td>13.06</td>\n",
              "      <td>50.1</td>\n",
              "      <td>87</td>\n",
              "      <td>2.25</td>\n",
              "      <td>12.5</td>\n",
              "      <td>1</td>\n",
              "      <td>3.38</td>\n",
              "      <td>2</td>\n",
              "      <td>False</td>\n",
              "    </tr>\n",
              "    <tr>\n",
              "      <th>2805</th>\n",
              "      <td>KS</td>\n",
              "      <td>166</td>\n",
              "      <td>415</td>\n",
              "      <td>Yes</td>\n",
              "      <td>Yes</td>\n",
              "      <td>28</td>\n",
              "      <td>175.8</td>\n",
              "      <td>126</td>\n",
              "      <td>29.89</td>\n",
              "      <td>253.6</td>\n",
              "      <td>76</td>\n",
              "      <td>21.56</td>\n",
              "      <td>128.5</td>\n",
              "      <td>72</td>\n",
              "      <td>5.78</td>\n",
              "      <td>11.4</td>\n",
              "      <td>5</td>\n",
              "      <td>3.08</td>\n",
              "      <td>1</td>\n",
              "      <td>False</td>\n",
              "    </tr>\n",
              "    <tr>\n",
              "      <th>2880</th>\n",
              "      <td>KS</td>\n",
              "      <td>107</td>\n",
              "      <td>415</td>\n",
              "      <td>No</td>\n",
              "      <td>No</td>\n",
              "      <td>0</td>\n",
              "      <td>260.5</td>\n",
              "      <td>108</td>\n",
              "      <td>44.29</td>\n",
              "      <td>102.4</td>\n",
              "      <td>110</td>\n",
              "      <td>8.70</td>\n",
              "      <td>129.7</td>\n",
              "      <td>148</td>\n",
              "      <td>5.84</td>\n",
              "      <td>9.8</td>\n",
              "      <td>5</td>\n",
              "      <td>2.65</td>\n",
              "      <td>1</td>\n",
              "      <td>False</td>\n",
              "    </tr>\n",
              "    <tr>\n",
              "      <th>2914</th>\n",
              "      <td>KS</td>\n",
              "      <td>65</td>\n",
              "      <td>415</td>\n",
              "      <td>No</td>\n",
              "      <td>Yes</td>\n",
              "      <td>34</td>\n",
              "      <td>208.8</td>\n",
              "      <td>119</td>\n",
              "      <td>35.50</td>\n",
              "      <td>142.1</td>\n",
              "      <td>106</td>\n",
              "      <td>12.08</td>\n",
              "      <td>214.6</td>\n",
              "      <td>87</td>\n",
              "      <td>9.66</td>\n",
              "      <td>12.5</td>\n",
              "      <td>4</td>\n",
              "      <td>3.38</td>\n",
              "      <td>4</td>\n",
              "      <td>False</td>\n",
              "    </tr>\n",
              "    <tr>\n",
              "      <th>2931</th>\n",
              "      <td>KS</td>\n",
              "      <td>68</td>\n",
              "      <td>415</td>\n",
              "      <td>No</td>\n",
              "      <td>No</td>\n",
              "      <td>0</td>\n",
              "      <td>207.6</td>\n",
              "      <td>68</td>\n",
              "      <td>35.29</td>\n",
              "      <td>251.6</td>\n",
              "      <td>123</td>\n",
              "      <td>21.39</td>\n",
              "      <td>191.6</td>\n",
              "      <td>100</td>\n",
              "      <td>8.62</td>\n",
              "      <td>10.9</td>\n",
              "      <td>6</td>\n",
              "      <td>2.94</td>\n",
              "      <td>2</td>\n",
              "      <td>False</td>\n",
              "    </tr>\n",
              "    <tr>\n",
              "      <th>2943</th>\n",
              "      <td>KS</td>\n",
              "      <td>137</td>\n",
              "      <td>415</td>\n",
              "      <td>No</td>\n",
              "      <td>Yes</td>\n",
              "      <td>19</td>\n",
              "      <td>175.3</td>\n",
              "      <td>96</td>\n",
              "      <td>29.80</td>\n",
              "      <td>241.3</td>\n",
              "      <td>146</td>\n",
              "      <td>20.51</td>\n",
              "      <td>211.4</td>\n",
              "      <td>109</td>\n",
              "      <td>9.51</td>\n",
              "      <td>7.8</td>\n",
              "      <td>2</td>\n",
              "      <td>2.11</td>\n",
              "      <td>0</td>\n",
              "      <td>False</td>\n",
              "    </tr>\n",
              "    <tr>\n",
              "      <th>2984</th>\n",
              "      <td>KS</td>\n",
              "      <td>73</td>\n",
              "      <td>408</td>\n",
              "      <td>No</td>\n",
              "      <td>No</td>\n",
              "      <td>0</td>\n",
              "      <td>194.8</td>\n",
              "      <td>112</td>\n",
              "      <td>33.12</td>\n",
              "      <td>167.2</td>\n",
              "      <td>85</td>\n",
              "      <td>14.21</td>\n",
              "      <td>100.3</td>\n",
              "      <td>61</td>\n",
              "      <td>4.51</td>\n",
              "      <td>10.8</td>\n",
              "      <td>6</td>\n",
              "      <td>2.92</td>\n",
              "      <td>1</td>\n",
              "      <td>False</td>\n",
              "    </tr>\n",
              "    <tr>\n",
              "      <th>3217</th>\n",
              "      <td>KS</td>\n",
              "      <td>164</td>\n",
              "      <td>510</td>\n",
              "      <td>No</td>\n",
              "      <td>Yes</td>\n",
              "      <td>30</td>\n",
              "      <td>238.8</td>\n",
              "      <td>100</td>\n",
              "      <td>40.60</td>\n",
              "      <td>230.0</td>\n",
              "      <td>121</td>\n",
              "      <td>19.55</td>\n",
              "      <td>206.3</td>\n",
              "      <td>66</td>\n",
              "      <td>9.28</td>\n",
              "      <td>13.2</td>\n",
              "      <td>8</td>\n",
              "      <td>3.56</td>\n",
              "      <td>1</td>\n",
              "      <td>False</td>\n",
              "    </tr>\n",
              "    <tr>\n",
              "      <th>3244</th>\n",
              "      <td>KS</td>\n",
              "      <td>101</td>\n",
              "      <td>415</td>\n",
              "      <td>No</td>\n",
              "      <td>No</td>\n",
              "      <td>0</td>\n",
              "      <td>231.3</td>\n",
              "      <td>87</td>\n",
              "      <td>39.32</td>\n",
              "      <td>224.7</td>\n",
              "      <td>88</td>\n",
              "      <td>19.10</td>\n",
              "      <td>214.6</td>\n",
              "      <td>69</td>\n",
              "      <td>9.66</td>\n",
              "      <td>7.2</td>\n",
              "      <td>7</td>\n",
              "      <td>1.94</td>\n",
              "      <td>1</td>\n",
              "      <td>False</td>\n",
              "    </tr>\n",
              "    <tr>\n",
              "      <th>3253</th>\n",
              "      <td>KS</td>\n",
              "      <td>127</td>\n",
              "      <td>415</td>\n",
              "      <td>No</td>\n",
              "      <td>Yes</td>\n",
              "      <td>24</td>\n",
              "      <td>154.8</td>\n",
              "      <td>69</td>\n",
              "      <td>26.32</td>\n",
              "      <td>177.2</td>\n",
              "      <td>105</td>\n",
              "      <td>15.06</td>\n",
              "      <td>207.6</td>\n",
              "      <td>102</td>\n",
              "      <td>9.34</td>\n",
              "      <td>9.0</td>\n",
              "      <td>4</td>\n",
              "      <td>2.43</td>\n",
              "      <td>1</td>\n",
              "      <td>False</td>\n",
              "    </tr>\n",
              "    <tr>\n",
              "      <th>3285</th>\n",
              "      <td>KS</td>\n",
              "      <td>57</td>\n",
              "      <td>415</td>\n",
              "      <td>No</td>\n",
              "      <td>No</td>\n",
              "      <td>0</td>\n",
              "      <td>158.1</td>\n",
              "      <td>117</td>\n",
              "      <td>26.88</td>\n",
              "      <td>115.2</td>\n",
              "      <td>149</td>\n",
              "      <td>9.79</td>\n",
              "      <td>182.4</td>\n",
              "      <td>92</td>\n",
              "      <td>8.21</td>\n",
              "      <td>11.8</td>\n",
              "      <td>7</td>\n",
              "      <td>3.19</td>\n",
              "      <td>0</td>\n",
              "      <td>False</td>\n",
              "    </tr>\n",
              "  </tbody>\n",
              "</table>\n",
              "</div>"
            ],
            "text/plain": [
              "     State  Account length  ...  Customer service calls  Churn\n",
              "0       KS             128  ...                       1  False\n",
              "179     KS              70  ...                       3  False\n",
              "287     KS             137  ...                       2  False\n",
              "368     KS             132  ...                       1  False\n",
              "379     KS             127  ...                       2  False\n",
              "385     KS             137  ...                       4  False\n",
              "451     KS              86  ...                       0  False\n",
              "508     KS             143  ...                       1  False\n",
              "620     KS             163  ...                       1  False\n",
              "636     KS             121  ...                       1  False\n",
              "680     KS             116  ...                       1  False\n",
              "690     KS              88  ...                       2  False\n",
              "702     KS              99  ...                       1  False\n",
              "738     KS              68  ...                       1  False\n",
              "783     KS             103  ...                       3  False\n",
              "852     KS             149  ...                       3  False\n",
              "1028    KS              70  ...                       1  False\n",
              "1043    KS             124  ...                       3  False\n",
              "1056    KS              67  ...                       0  False\n",
              "1066    KS             117  ...                       0  False\n",
              "1103    KS              52  ...                       0  False\n",
              "1127    KS             159  ...                       0  False\n",
              "1159    KS             128  ...                       0  False\n",
              "1167    KS             130  ...                       1  False\n",
              "1218    KS             131  ...                       3  False\n",
              "1219    KS              36  ...                       1  False\n",
              "1228    KS             124  ...                       1  False\n",
              "1279    KS              87  ...                       2  False\n",
              "1622    KS             117  ...                       1  False\n",
              "1677    KS             123  ...                       1  False\n",
              "1747    KS             120  ...                       1  False\n",
              "1824    KS             138  ...                       1  False\n",
              "1852    KS             101  ...                       1  False\n",
              "1971    KS              74  ...                       1  False\n",
              "1997    KS              93  ...                       3  False\n",
              "2030    KS              57  ...                       1  False\n",
              "2096    KS              94  ...                       0  False\n",
              "2124    KS              43  ...                       3  False\n",
              "2159    KS             132  ...                       1  False\n",
              "2163    KS             119  ...                       1  False\n",
              "2236    KS             128  ...                       2  False\n",
              "2244    KS             148  ...                       1  False\n",
              "2338    KS              67  ...                       2  False\n",
              "2562    KS             110  ...                       1  False\n",
              "2689    KS              79  ...                       0  False\n",
              "2750    KS             186  ...                       1  False\n",
              "2756    KS             123  ...                       2  False\n",
              "2805    KS             166  ...                       1  False\n",
              "2880    KS             107  ...                       1  False\n",
              "2914    KS              65  ...                       4  False\n",
              "2931    KS              68  ...                       2  False\n",
              "2943    KS             137  ...                       0  False\n",
              "2984    KS              73  ...                       1  False\n",
              "3217    KS             164  ...                       1  False\n",
              "3244    KS             101  ...                       1  False\n",
              "3253    KS             127  ...                       1  False\n",
              "3285    KS              57  ...                       0  False\n",
              "\n",
              "[57 rows x 20 columns]"
            ]
          },
          "metadata": {
            "tags": []
          },
          "execution_count": 99
        }
      ]
    },
    {
      "cell_type": "code",
      "metadata": {
        "id": "nKlEnneDe6iV",
        "colab": {
          "base_uri": "https://localhost:8080/",
          "height": 450
        },
        "outputId": "aeef532c-fad5-49cc-f616-2ad49cc5a930"
      },
      "source": [
        "a"
      ],
      "execution_count": 100,
      "outputs": [
        {
          "output_type": "execute_result",
          "data": {
            "text/html": [
              "<div>\n",
              "<style scoped>\n",
              "    .dataframe tbody tr th:only-of-type {\n",
              "        vertical-align: middle;\n",
              "    }\n",
              "\n",
              "    .dataframe tbody tr th {\n",
              "        vertical-align: top;\n",
              "    }\n",
              "\n",
              "    .dataframe thead th {\n",
              "        text-align: right;\n",
              "    }\n",
              "</style>\n",
              "<table border=\"1\" class=\"dataframe\">\n",
              "  <thead>\n",
              "    <tr style=\"text-align: right;\">\n",
              "      <th></th>\n",
              "      <th>State</th>\n",
              "      <th>Account length</th>\n",
              "      <th>Area code</th>\n",
              "      <th>International plan</th>\n",
              "      <th>Voice mail plan</th>\n",
              "      <th>Number vmail messages</th>\n",
              "      <th>Total day minutes</th>\n",
              "      <th>Total day calls</th>\n",
              "      <th>Total day charge</th>\n",
              "      <th>Total eve minutes</th>\n",
              "      <th>Total eve calls</th>\n",
              "      <th>Total eve charge</th>\n",
              "      <th>Total night minutes</th>\n",
              "      <th>Total night calls</th>\n",
              "      <th>Total night charge</th>\n",
              "      <th>Total intl minutes</th>\n",
              "      <th>Total intl calls</th>\n",
              "      <th>Total intl charge</th>\n",
              "      <th>Customer service calls</th>\n",
              "      <th>Churn</th>\n",
              "    </tr>\n",
              "  </thead>\n",
              "  <tbody>\n",
              "    <tr>\n",
              "      <th>0</th>\n",
              "      <td>KS</td>\n",
              "      <td>128</td>\n",
              "      <td>415</td>\n",
              "      <td>No</td>\n",
              "      <td>Yes</td>\n",
              "      <td>25</td>\n",
              "      <td>265.1</td>\n",
              "      <td>110</td>\n",
              "      <td>45.07</td>\n",
              "      <td>197.4</td>\n",
              "      <td>99</td>\n",
              "      <td>16.78</td>\n",
              "      <td>244.7</td>\n",
              "      <td>91</td>\n",
              "      <td>11.01</td>\n",
              "      <td>10.0</td>\n",
              "      <td>3</td>\n",
              "      <td>2.70</td>\n",
              "      <td>1</td>\n",
              "      <td>False</td>\n",
              "    </tr>\n",
              "    <tr>\n",
              "      <th>179</th>\n",
              "      <td>KS</td>\n",
              "      <td>70</td>\n",
              "      <td>408</td>\n",
              "      <td>No</td>\n",
              "      <td>No</td>\n",
              "      <td>0</td>\n",
              "      <td>232.1</td>\n",
              "      <td>122</td>\n",
              "      <td>39.46</td>\n",
              "      <td>292.3</td>\n",
              "      <td>112</td>\n",
              "      <td>24.85</td>\n",
              "      <td>201.2</td>\n",
              "      <td>112</td>\n",
              "      <td>9.05</td>\n",
              "      <td>0.0</td>\n",
              "      <td>0</td>\n",
              "      <td>0.00</td>\n",
              "      <td>3</td>\n",
              "      <td>False</td>\n",
              "    </tr>\n",
              "    <tr>\n",
              "      <th>258</th>\n",
              "      <td>KS</td>\n",
              "      <td>92</td>\n",
              "      <td>408</td>\n",
              "      <td>Yes</td>\n",
              "      <td>No</td>\n",
              "      <td>0</td>\n",
              "      <td>62.6</td>\n",
              "      <td>111</td>\n",
              "      <td>10.64</td>\n",
              "      <td>180.6</td>\n",
              "      <td>126</td>\n",
              "      <td>15.35</td>\n",
              "      <td>221.7</td>\n",
              "      <td>80</td>\n",
              "      <td>9.98</td>\n",
              "      <td>10.4</td>\n",
              "      <td>2</td>\n",
              "      <td>2.81</td>\n",
              "      <td>1</td>\n",
              "      <td>True</td>\n",
              "    </tr>\n",
              "    <tr>\n",
              "      <th>287</th>\n",
              "      <td>KS</td>\n",
              "      <td>137</td>\n",
              "      <td>408</td>\n",
              "      <td>No</td>\n",
              "      <td>No</td>\n",
              "      <td>0</td>\n",
              "      <td>205.9</td>\n",
              "      <td>88</td>\n",
              "      <td>35.00</td>\n",
              "      <td>209.3</td>\n",
              "      <td>86</td>\n",
              "      <td>17.79</td>\n",
              "      <td>289.9</td>\n",
              "      <td>84</td>\n",
              "      <td>13.05</td>\n",
              "      <td>14.5</td>\n",
              "      <td>4</td>\n",
              "      <td>3.92</td>\n",
              "      <td>2</td>\n",
              "      <td>False</td>\n",
              "    </tr>\n",
              "    <tr>\n",
              "      <th>368</th>\n",
              "      <td>KS</td>\n",
              "      <td>132</td>\n",
              "      <td>415</td>\n",
              "      <td>No</td>\n",
              "      <td>No</td>\n",
              "      <td>0</td>\n",
              "      <td>83.4</td>\n",
              "      <td>110</td>\n",
              "      <td>14.18</td>\n",
              "      <td>232.2</td>\n",
              "      <td>137</td>\n",
              "      <td>19.74</td>\n",
              "      <td>146.7</td>\n",
              "      <td>114</td>\n",
              "      <td>6.60</td>\n",
              "      <td>7.6</td>\n",
              "      <td>5</td>\n",
              "      <td>2.05</td>\n",
              "      <td>1</td>\n",
              "      <td>False</td>\n",
              "    </tr>\n",
              "    <tr>\n",
              "      <th>...</th>\n",
              "      <td>...</td>\n",
              "      <td>...</td>\n",
              "      <td>...</td>\n",
              "      <td>...</td>\n",
              "      <td>...</td>\n",
              "      <td>...</td>\n",
              "      <td>...</td>\n",
              "      <td>...</td>\n",
              "      <td>...</td>\n",
              "      <td>...</td>\n",
              "      <td>...</td>\n",
              "      <td>...</td>\n",
              "      <td>...</td>\n",
              "      <td>...</td>\n",
              "      <td>...</td>\n",
              "      <td>...</td>\n",
              "      <td>...</td>\n",
              "      <td>...</td>\n",
              "      <td>...</td>\n",
              "      <td>...</td>\n",
              "    </tr>\n",
              "    <tr>\n",
              "      <th>3217</th>\n",
              "      <td>KS</td>\n",
              "      <td>164</td>\n",
              "      <td>510</td>\n",
              "      <td>No</td>\n",
              "      <td>Yes</td>\n",
              "      <td>30</td>\n",
              "      <td>238.8</td>\n",
              "      <td>100</td>\n",
              "      <td>40.60</td>\n",
              "      <td>230.0</td>\n",
              "      <td>121</td>\n",
              "      <td>19.55</td>\n",
              "      <td>206.3</td>\n",
              "      <td>66</td>\n",
              "      <td>9.28</td>\n",
              "      <td>13.2</td>\n",
              "      <td>8</td>\n",
              "      <td>3.56</td>\n",
              "      <td>1</td>\n",
              "      <td>False</td>\n",
              "    </tr>\n",
              "    <tr>\n",
              "      <th>3244</th>\n",
              "      <td>KS</td>\n",
              "      <td>101</td>\n",
              "      <td>415</td>\n",
              "      <td>No</td>\n",
              "      <td>No</td>\n",
              "      <td>0</td>\n",
              "      <td>231.3</td>\n",
              "      <td>87</td>\n",
              "      <td>39.32</td>\n",
              "      <td>224.7</td>\n",
              "      <td>88</td>\n",
              "      <td>19.10</td>\n",
              "      <td>214.6</td>\n",
              "      <td>69</td>\n",
              "      <td>9.66</td>\n",
              "      <td>7.2</td>\n",
              "      <td>7</td>\n",
              "      <td>1.94</td>\n",
              "      <td>1</td>\n",
              "      <td>False</td>\n",
              "    </tr>\n",
              "    <tr>\n",
              "      <th>3253</th>\n",
              "      <td>KS</td>\n",
              "      <td>127</td>\n",
              "      <td>415</td>\n",
              "      <td>No</td>\n",
              "      <td>Yes</td>\n",
              "      <td>24</td>\n",
              "      <td>154.8</td>\n",
              "      <td>69</td>\n",
              "      <td>26.32</td>\n",
              "      <td>177.2</td>\n",
              "      <td>105</td>\n",
              "      <td>15.06</td>\n",
              "      <td>207.6</td>\n",
              "      <td>102</td>\n",
              "      <td>9.34</td>\n",
              "      <td>9.0</td>\n",
              "      <td>4</td>\n",
              "      <td>2.43</td>\n",
              "      <td>1</td>\n",
              "      <td>False</td>\n",
              "    </tr>\n",
              "    <tr>\n",
              "      <th>3285</th>\n",
              "      <td>KS</td>\n",
              "      <td>57</td>\n",
              "      <td>415</td>\n",
              "      <td>No</td>\n",
              "      <td>No</td>\n",
              "      <td>0</td>\n",
              "      <td>158.1</td>\n",
              "      <td>117</td>\n",
              "      <td>26.88</td>\n",
              "      <td>115.2</td>\n",
              "      <td>149</td>\n",
              "      <td>9.79</td>\n",
              "      <td>182.4</td>\n",
              "      <td>92</td>\n",
              "      <td>8.21</td>\n",
              "      <td>11.8</td>\n",
              "      <td>7</td>\n",
              "      <td>3.19</td>\n",
              "      <td>0</td>\n",
              "      <td>False</td>\n",
              "    </tr>\n",
              "    <tr>\n",
              "      <th>3287</th>\n",
              "      <td>KS</td>\n",
              "      <td>170</td>\n",
              "      <td>415</td>\n",
              "      <td>No</td>\n",
              "      <td>Yes</td>\n",
              "      <td>42</td>\n",
              "      <td>199.5</td>\n",
              "      <td>119</td>\n",
              "      <td>33.92</td>\n",
              "      <td>135.0</td>\n",
              "      <td>90</td>\n",
              "      <td>11.48</td>\n",
              "      <td>184.6</td>\n",
              "      <td>49</td>\n",
              "      <td>8.31</td>\n",
              "      <td>10.9</td>\n",
              "      <td>3</td>\n",
              "      <td>2.94</td>\n",
              "      <td>4</td>\n",
              "      <td>True</td>\n",
              "    </tr>\n",
              "  </tbody>\n",
              "</table>\n",
              "<p>70 rows × 20 columns</p>\n",
              "</div>"
            ],
            "text/plain": [
              "     State  Account length  ...  Customer service calls  Churn\n",
              "0       KS             128  ...                       1  False\n",
              "179     KS              70  ...                       3  False\n",
              "258     KS              92  ...                       1   True\n",
              "287     KS             137  ...                       2  False\n",
              "368     KS             132  ...                       1  False\n",
              "...    ...             ...  ...                     ...    ...\n",
              "3217    KS             164  ...                       1  False\n",
              "3244    KS             101  ...                       1  False\n",
              "3253    KS             127  ...                       1  False\n",
              "3285    KS              57  ...                       0  False\n",
              "3287    KS             170  ...                       4   True\n",
              "\n",
              "[70 rows x 20 columns]"
            ]
          },
          "metadata": {
            "tags": []
          },
          "execution_count": 100
        }
      ]
    },
    {
      "cell_type": "code",
      "metadata": {
        "id": "m1KscCOPh3AE",
        "colab": {
          "base_uri": "https://localhost:8080/"
        },
        "outputId": "20e513b9-d13c-478b-eef3-ac1bb3e40bd2"
      },
      "source": [
        "df.groupby('State')['Churn'].value_counts()"
      ],
      "execution_count": 101,
      "outputs": [
        {
          "output_type": "execute_result",
          "data": {
            "text/plain": [
              "State  Churn\n",
              "AK     False    49\n",
              "       True      3\n",
              "AL     False    72\n",
              "       True      8\n",
              "AR     False    44\n",
              "                ..\n",
              "WI     True      7\n",
              "WV     False    96\n",
              "       True     10\n",
              "WY     False    68\n",
              "       True      9\n",
              "Name: Churn, Length: 102, dtype: int64"
            ]
          },
          "metadata": {
            "tags": []
          },
          "execution_count": 101
        }
      ]
    },
    {
      "cell_type": "code",
      "metadata": {
        "id": "TmLqa5hKK7RO",
        "colab": {
          "base_uri": "https://localhost:8080/",
          "height": 417
        },
        "outputId": "e79a6ba2-7b9a-4b9c-96f4-b4f69986e8eb"
      },
      "source": [
        "df[['State','Churn']]"
      ],
      "execution_count": 102,
      "outputs": [
        {
          "output_type": "execute_result",
          "data": {
            "text/html": [
              "<div>\n",
              "<style scoped>\n",
              "    .dataframe tbody tr th:only-of-type {\n",
              "        vertical-align: middle;\n",
              "    }\n",
              "\n",
              "    .dataframe tbody tr th {\n",
              "        vertical-align: top;\n",
              "    }\n",
              "\n",
              "    .dataframe thead th {\n",
              "        text-align: right;\n",
              "    }\n",
              "</style>\n",
              "<table border=\"1\" class=\"dataframe\">\n",
              "  <thead>\n",
              "    <tr style=\"text-align: right;\">\n",
              "      <th></th>\n",
              "      <th>State</th>\n",
              "      <th>Churn</th>\n",
              "    </tr>\n",
              "  </thead>\n",
              "  <tbody>\n",
              "    <tr>\n",
              "      <th>0</th>\n",
              "      <td>KS</td>\n",
              "      <td>False</td>\n",
              "    </tr>\n",
              "    <tr>\n",
              "      <th>1</th>\n",
              "      <td>OH</td>\n",
              "      <td>False</td>\n",
              "    </tr>\n",
              "    <tr>\n",
              "      <th>2</th>\n",
              "      <td>NJ</td>\n",
              "      <td>False</td>\n",
              "    </tr>\n",
              "    <tr>\n",
              "      <th>3</th>\n",
              "      <td>OH</td>\n",
              "      <td>False</td>\n",
              "    </tr>\n",
              "    <tr>\n",
              "      <th>4</th>\n",
              "      <td>OK</td>\n",
              "      <td>False</td>\n",
              "    </tr>\n",
              "    <tr>\n",
              "      <th>...</th>\n",
              "      <td>...</td>\n",
              "      <td>...</td>\n",
              "    </tr>\n",
              "    <tr>\n",
              "      <th>3328</th>\n",
              "      <td>AZ</td>\n",
              "      <td>False</td>\n",
              "    </tr>\n",
              "    <tr>\n",
              "      <th>3329</th>\n",
              "      <td>WV</td>\n",
              "      <td>False</td>\n",
              "    </tr>\n",
              "    <tr>\n",
              "      <th>3330</th>\n",
              "      <td>RI</td>\n",
              "      <td>False</td>\n",
              "    </tr>\n",
              "    <tr>\n",
              "      <th>3331</th>\n",
              "      <td>CT</td>\n",
              "      <td>False</td>\n",
              "    </tr>\n",
              "    <tr>\n",
              "      <th>3332</th>\n",
              "      <td>TN</td>\n",
              "      <td>False</td>\n",
              "    </tr>\n",
              "  </tbody>\n",
              "</table>\n",
              "<p>3333 rows × 2 columns</p>\n",
              "</div>"
            ],
            "text/plain": [
              "     State  Churn\n",
              "0       KS  False\n",
              "1       OH  False\n",
              "2       NJ  False\n",
              "3       OH  False\n",
              "4       OK  False\n",
              "...    ...    ...\n",
              "3328    AZ  False\n",
              "3329    WV  False\n",
              "3330    RI  False\n",
              "3331    CT  False\n",
              "3332    TN  False\n",
              "\n",
              "[3333 rows x 2 columns]"
            ]
          },
          "metadata": {
            "tags": []
          },
          "execution_count": 102
        }
      ]
    },
    {
      "cell_type": "code",
      "metadata": {
        "id": "I8vR-1fFOMxv",
        "colab": {
          "base_uri": "https://localhost:8080/",
          "height": 295
        },
        "outputId": "acf135e5-4ace-4b58-dcf4-ed3bb3841dca"
      },
      "source": [
        "s[['Total day minutes','Total eve minutes','Total night minutes']].describe()"
      ],
      "execution_count": 103,
      "outputs": [
        {
          "output_type": "execute_result",
          "data": {
            "text/html": [
              "<div>\n",
              "<style scoped>\n",
              "    .dataframe tbody tr th:only-of-type {\n",
              "        vertical-align: middle;\n",
              "    }\n",
              "\n",
              "    .dataframe tbody tr th {\n",
              "        vertical-align: top;\n",
              "    }\n",
              "\n",
              "    .dataframe thead th {\n",
              "        text-align: right;\n",
              "    }\n",
              "</style>\n",
              "<table border=\"1\" class=\"dataframe\">\n",
              "  <thead>\n",
              "    <tr style=\"text-align: right;\">\n",
              "      <th></th>\n",
              "      <th>Total day minutes</th>\n",
              "      <th>Total eve minutes</th>\n",
              "      <th>Total night minutes</th>\n",
              "    </tr>\n",
              "  </thead>\n",
              "  <tbody>\n",
              "    <tr>\n",
              "      <th>count</th>\n",
              "      <td>483.000000</td>\n",
              "      <td>483.000000</td>\n",
              "      <td>483.000000</td>\n",
              "    </tr>\n",
              "    <tr>\n",
              "      <th>mean</th>\n",
              "      <td>206.914079</td>\n",
              "      <td>212.410145</td>\n",
              "      <td>205.231677</td>\n",
              "    </tr>\n",
              "    <tr>\n",
              "      <th>std</th>\n",
              "      <td>68.997792</td>\n",
              "      <td>51.728910</td>\n",
              "      <td>47.132825</td>\n",
              "    </tr>\n",
              "    <tr>\n",
              "      <th>min</th>\n",
              "      <td>0.000000</td>\n",
              "      <td>70.900000</td>\n",
              "      <td>47.400000</td>\n",
              "    </tr>\n",
              "    <tr>\n",
              "      <th>25%</th>\n",
              "      <td>153.250000</td>\n",
              "      <td>177.100000</td>\n",
              "      <td>171.250000</td>\n",
              "    </tr>\n",
              "    <tr>\n",
              "      <th>50%</th>\n",
              "      <td>217.600000</td>\n",
              "      <td>211.300000</td>\n",
              "      <td>204.800000</td>\n",
              "    </tr>\n",
              "    <tr>\n",
              "      <th>75%</th>\n",
              "      <td>265.950000</td>\n",
              "      <td>249.450000</td>\n",
              "      <td>239.850000</td>\n",
              "    </tr>\n",
              "    <tr>\n",
              "      <th>max</th>\n",
              "      <td>350.800000</td>\n",
              "      <td>363.700000</td>\n",
              "      <td>354.900000</td>\n",
              "    </tr>\n",
              "  </tbody>\n",
              "</table>\n",
              "</div>"
            ],
            "text/plain": [
              "       Total day minutes  Total eve minutes  Total night minutes\n",
              "count         483.000000         483.000000           483.000000\n",
              "mean          206.914079         212.410145           205.231677\n",
              "std            68.997792          51.728910            47.132825\n",
              "min             0.000000          70.900000            47.400000\n",
              "25%           153.250000         177.100000           171.250000\n",
              "50%           217.600000         211.300000           204.800000\n",
              "75%           265.950000         249.450000           239.850000\n",
              "max           350.800000         363.700000           354.900000"
            ]
          },
          "metadata": {
            "tags": []
          },
          "execution_count": 103
        }
      ]
    },
    {
      "cell_type": "code",
      "metadata": {
        "id": "lUf2OzHBQZNr",
        "colab": {
          "base_uri": "https://localhost:8080/"
        },
        "outputId": "83d1e316-0cbb-4975-cc69-c9e4b0448d2c"
      },
      "source": [
        "s['Total day minutes'].value_counts()"
      ],
      "execution_count": 104,
      "outputs": [
        {
          "output_type": "execute_result",
          "data": {
            "text/plain": [
              "133.3    2\n",
              "157.8    2\n",
              "278.0    2\n",
              "271.1    2\n",
              "145.0    2\n",
              "        ..\n",
              "226.3    1\n",
              "229.7    1\n",
              "261.4    1\n",
              "158.4    1\n",
              "151.0    1\n",
              "Name: Total day minutes, Length: 446, dtype: int64"
            ]
          },
          "metadata": {
            "tags": []
          },
          "execution_count": 104
        }
      ]
    },
    {
      "cell_type": "code",
      "metadata": {
        "id": "Ii-4dJZcQlk2",
        "colab": {
          "base_uri": "https://localhost:8080/"
        },
        "outputId": "47522465-9881-4d7b-e440-32da95e94361"
      },
      "source": [
        "t['Total day minutes'].value_counts()"
      ],
      "execution_count": 105,
      "outputs": [
        {
          "output_type": "execute_result",
          "data": {
            "text/plain": [
              "174.5    8\n",
              "159.5    7\n",
              "175.4    7\n",
              "183.4    7\n",
              "206.2    6\n",
              "        ..\n",
              "124.9    1\n",
              "154.7    1\n",
              "260.5    1\n",
              "165.8    1\n",
              "74.3     1\n",
              "Name: Total day minutes, Length: 1478, dtype: int64"
            ]
          },
          "metadata": {
            "tags": []
          },
          "execution_count": 105
        }
      ]
    },
    {
      "cell_type": "code",
      "metadata": {
        "id": "bG2gkpmXOrG8",
        "colab": {
          "base_uri": "https://localhost:8080/",
          "height": 295
        },
        "outputId": "cea16ec7-c5f2-4e22-c56f-b4eaec67bd7f"
      },
      "source": [
        "t[['Total day minutes','Total eve minutes','Total night minutes']].describe()"
      ],
      "execution_count": 106,
      "outputs": [
        {
          "output_type": "execute_result",
          "data": {
            "text/html": [
              "<div>\n",
              "<style scoped>\n",
              "    .dataframe tbody tr th:only-of-type {\n",
              "        vertical-align: middle;\n",
              "    }\n",
              "\n",
              "    .dataframe tbody tr th {\n",
              "        vertical-align: top;\n",
              "    }\n",
              "\n",
              "    .dataframe thead th {\n",
              "        text-align: right;\n",
              "    }\n",
              "</style>\n",
              "<table border=\"1\" class=\"dataframe\">\n",
              "  <thead>\n",
              "    <tr style=\"text-align: right;\">\n",
              "      <th></th>\n",
              "      <th>Total day minutes</th>\n",
              "      <th>Total eve minutes</th>\n",
              "      <th>Total night minutes</th>\n",
              "    </tr>\n",
              "  </thead>\n",
              "  <tbody>\n",
              "    <tr>\n",
              "      <th>count</th>\n",
              "      <td>2850.000000</td>\n",
              "      <td>2850.000000</td>\n",
              "      <td>2850.000000</td>\n",
              "    </tr>\n",
              "    <tr>\n",
              "      <th>mean</th>\n",
              "      <td>175.175754</td>\n",
              "      <td>199.043298</td>\n",
              "      <td>200.133193</td>\n",
              "    </tr>\n",
              "    <tr>\n",
              "      <th>std</th>\n",
              "      <td>50.181655</td>\n",
              "      <td>50.292175</td>\n",
              "      <td>51.105032</td>\n",
              "    </tr>\n",
              "    <tr>\n",
              "      <th>min</th>\n",
              "      <td>0.000000</td>\n",
              "      <td>0.000000</td>\n",
              "      <td>23.200000</td>\n",
              "    </tr>\n",
              "    <tr>\n",
              "      <th>25%</th>\n",
              "      <td>142.825000</td>\n",
              "      <td>164.500000</td>\n",
              "      <td>165.900000</td>\n",
              "    </tr>\n",
              "    <tr>\n",
              "      <th>50%</th>\n",
              "      <td>177.200000</td>\n",
              "      <td>199.600000</td>\n",
              "      <td>200.250000</td>\n",
              "    </tr>\n",
              "    <tr>\n",
              "      <th>75%</th>\n",
              "      <td>210.300000</td>\n",
              "      <td>233.200000</td>\n",
              "      <td>234.900000</td>\n",
              "    </tr>\n",
              "    <tr>\n",
              "      <th>max</th>\n",
              "      <td>315.600000</td>\n",
              "      <td>361.800000</td>\n",
              "      <td>395.000000</td>\n",
              "    </tr>\n",
              "  </tbody>\n",
              "</table>\n",
              "</div>"
            ],
            "text/plain": [
              "       Total day minutes  Total eve minutes  Total night minutes\n",
              "count        2850.000000        2850.000000          2850.000000\n",
              "mean          175.175754         199.043298           200.133193\n",
              "std            50.181655          50.292175            51.105032\n",
              "min             0.000000           0.000000            23.200000\n",
              "25%           142.825000         164.500000           165.900000\n",
              "50%           177.200000         199.600000           200.250000\n",
              "75%           210.300000         233.200000           234.900000\n",
              "max           315.600000         361.800000           395.000000"
            ]
          },
          "metadata": {
            "tags": []
          },
          "execution_count": 106
        }
      ]
    },
    {
      "cell_type": "code",
      "metadata": {
        "id": "xoRodNNwO78F",
        "colab": {
          "base_uri": "https://localhost:8080/",
          "height": 295
        },
        "outputId": "4abea2fa-1ea2-461e-d0ba-cb66d7819f9b"
      },
      "source": [
        "s[['Voice mail plan','Number vmail messages']].describe()"
      ],
      "execution_count": 107,
      "outputs": [
        {
          "output_type": "execute_result",
          "data": {
            "text/html": [
              "<div>\n",
              "<style scoped>\n",
              "    .dataframe tbody tr th:only-of-type {\n",
              "        vertical-align: middle;\n",
              "    }\n",
              "\n",
              "    .dataframe tbody tr th {\n",
              "        vertical-align: top;\n",
              "    }\n",
              "\n",
              "    .dataframe thead th {\n",
              "        text-align: right;\n",
              "    }\n",
              "</style>\n",
              "<table border=\"1\" class=\"dataframe\">\n",
              "  <thead>\n",
              "    <tr style=\"text-align: right;\">\n",
              "      <th></th>\n",
              "      <th>Number vmail messages</th>\n",
              "    </tr>\n",
              "  </thead>\n",
              "  <tbody>\n",
              "    <tr>\n",
              "      <th>count</th>\n",
              "      <td>483.000000</td>\n",
              "    </tr>\n",
              "    <tr>\n",
              "      <th>mean</th>\n",
              "      <td>5.115942</td>\n",
              "    </tr>\n",
              "    <tr>\n",
              "      <th>std</th>\n",
              "      <td>11.860138</td>\n",
              "    </tr>\n",
              "    <tr>\n",
              "      <th>min</th>\n",
              "      <td>0.000000</td>\n",
              "    </tr>\n",
              "    <tr>\n",
              "      <th>25%</th>\n",
              "      <td>0.000000</td>\n",
              "    </tr>\n",
              "    <tr>\n",
              "      <th>50%</th>\n",
              "      <td>0.000000</td>\n",
              "    </tr>\n",
              "    <tr>\n",
              "      <th>75%</th>\n",
              "      <td>0.000000</td>\n",
              "    </tr>\n",
              "    <tr>\n",
              "      <th>max</th>\n",
              "      <td>48.000000</td>\n",
              "    </tr>\n",
              "  </tbody>\n",
              "</table>\n",
              "</div>"
            ],
            "text/plain": [
              "       Number vmail messages\n",
              "count             483.000000\n",
              "mean                5.115942\n",
              "std                11.860138\n",
              "min                 0.000000\n",
              "25%                 0.000000\n",
              "50%                 0.000000\n",
              "75%                 0.000000\n",
              "max                48.000000"
            ]
          },
          "metadata": {
            "tags": []
          },
          "execution_count": 107
        }
      ]
    },
    {
      "cell_type": "code",
      "metadata": {
        "id": "yhrTI1r5PR39",
        "colab": {
          "base_uri": "https://localhost:8080/",
          "height": 295
        },
        "outputId": "9562c89c-cfa8-4c93-938f-3a3542b55859"
      },
      "source": [
        "t[['Voice mail plan','Number vmail messages']].describe()"
      ],
      "execution_count": 108,
      "outputs": [
        {
          "output_type": "execute_result",
          "data": {
            "text/html": [
              "<div>\n",
              "<style scoped>\n",
              "    .dataframe tbody tr th:only-of-type {\n",
              "        vertical-align: middle;\n",
              "    }\n",
              "\n",
              "    .dataframe tbody tr th {\n",
              "        vertical-align: top;\n",
              "    }\n",
              "\n",
              "    .dataframe thead th {\n",
              "        text-align: right;\n",
              "    }\n",
              "</style>\n",
              "<table border=\"1\" class=\"dataframe\">\n",
              "  <thead>\n",
              "    <tr style=\"text-align: right;\">\n",
              "      <th></th>\n",
              "      <th>Number vmail messages</th>\n",
              "    </tr>\n",
              "  </thead>\n",
              "  <tbody>\n",
              "    <tr>\n",
              "      <th>count</th>\n",
              "      <td>2850.000000</td>\n",
              "    </tr>\n",
              "    <tr>\n",
              "      <th>mean</th>\n",
              "      <td>8.604561</td>\n",
              "    </tr>\n",
              "    <tr>\n",
              "      <th>std</th>\n",
              "      <td>13.913125</td>\n",
              "    </tr>\n",
              "    <tr>\n",
              "      <th>min</th>\n",
              "      <td>0.000000</td>\n",
              "    </tr>\n",
              "    <tr>\n",
              "      <th>25%</th>\n",
              "      <td>0.000000</td>\n",
              "    </tr>\n",
              "    <tr>\n",
              "      <th>50%</th>\n",
              "      <td>0.000000</td>\n",
              "    </tr>\n",
              "    <tr>\n",
              "      <th>75%</th>\n",
              "      <td>22.000000</td>\n",
              "    </tr>\n",
              "    <tr>\n",
              "      <th>max</th>\n",
              "      <td>51.000000</td>\n",
              "    </tr>\n",
              "  </tbody>\n",
              "</table>\n",
              "</div>"
            ],
            "text/plain": [
              "       Number vmail messages\n",
              "count            2850.000000\n",
              "mean                8.604561\n",
              "std                13.913125\n",
              "min                 0.000000\n",
              "25%                 0.000000\n",
              "50%                 0.000000\n",
              "75%                22.000000\n",
              "max                51.000000"
            ]
          },
          "metadata": {
            "tags": []
          },
          "execution_count": 108
        }
      ]
    },
    {
      "cell_type": "code",
      "metadata": {
        "id": "szNJaO7bSs7U"
      },
      "source": [
        "u=pd.DataFrame(s.groupby('State')['Churn'].value_counts())"
      ],
      "execution_count": 109,
      "outputs": []
    },
    {
      "cell_type": "code",
      "metadata": {
        "id": "YJivqDRLT37E",
        "colab": {
          "base_uri": "https://localhost:8080/"
        },
        "outputId": "d211c3ba-869f-4226-fbef-76bbf7052afc"
      },
      "source": [
        "u['Churn'].sort_values()\n"
      ],
      "execution_count": 110,
      "outputs": [
        {
          "output_type": "execute_result",
          "data": {
            "text/plain": [
              "State  Churn\n",
              "AK     True      3\n",
              "IA     True      3\n",
              "HI     True      3\n",
              "AZ     True      4\n",
              "LA     True      4\n",
              "NE     True      5\n",
              "VA     True      5\n",
              "TN     True      5\n",
              "DC     True      5\n",
              "IL     True      5\n",
              "NM     True      6\n",
              "RI     True      6\n",
              "ND     True      6\n",
              "WI     True      7\n",
              "MO     True      7\n",
              "AL     True      8\n",
              "GA     True      8\n",
              "PA     True      8\n",
              "KY     True      8\n",
              "FL     True      8\n",
              "SD     True      8\n",
              "VT     True      8\n",
              "OK     True      9\n",
              "NH     True      9\n",
              "WY     True      9\n",
              "CA     True      9\n",
              "CO     True      9\n",
              "DE     True      9\n",
              "ID     True      9\n",
              "IN     True      9\n",
              "WV     True     10\n",
              "UT     True     10\n",
              "OH     True     10\n",
              "AR     True     11\n",
              "OR     True     11\n",
              "MA     True     11\n",
              "NC     True     11\n",
              "CT     True     12\n",
              "KS     True     13\n",
              "ME     True     13\n",
              "NV     True     14\n",
              "SC     True     14\n",
              "WA     True     14\n",
              "MT     True     14\n",
              "MS     True     14\n",
              "MN     True     15\n",
              "NY     True     15\n",
              "MI     True     16\n",
              "MD     True     17\n",
              "NJ     True     18\n",
              "TX     True     18\n",
              "Name: Churn, dtype: int64"
            ]
          },
          "metadata": {
            "tags": []
          },
          "execution_count": 110
        }
      ]
    },
    {
      "cell_type": "code",
      "metadata": {
        "id": "ro4BO2KhW4dI"
      },
      "source": [
        "v=pd.DataFrame(t.groupby('State')['Churn'].value_counts())"
      ],
      "execution_count": 111,
      "outputs": []
    },
    {
      "cell_type": "code",
      "metadata": {
        "id": "TpXYYzKjW8i5",
        "colab": {
          "base_uri": "https://localhost:8080/",
          "height": 1000
        },
        "outputId": "0e91879e-9971-4e64-b575-0a5c932db9c2"
      },
      "source": [
        "v.rename({' Churn':'Churn1'})"
      ],
      "execution_count": 112,
      "outputs": [
        {
          "output_type": "execute_result",
          "data": {
            "text/html": [
              "<div>\n",
              "<style scoped>\n",
              "    .dataframe tbody tr th:only-of-type {\n",
              "        vertical-align: middle;\n",
              "    }\n",
              "\n",
              "    .dataframe tbody tr th {\n",
              "        vertical-align: top;\n",
              "    }\n",
              "\n",
              "    .dataframe thead th {\n",
              "        text-align: right;\n",
              "    }\n",
              "</style>\n",
              "<table border=\"1\" class=\"dataframe\">\n",
              "  <thead>\n",
              "    <tr style=\"text-align: right;\">\n",
              "      <th></th>\n",
              "      <th></th>\n",
              "      <th>Churn</th>\n",
              "    </tr>\n",
              "    <tr>\n",
              "      <th>State</th>\n",
              "      <th>Churn</th>\n",
              "      <th></th>\n",
              "    </tr>\n",
              "  </thead>\n",
              "  <tbody>\n",
              "    <tr>\n",
              "      <th>AK</th>\n",
              "      <th>False</th>\n",
              "      <td>49</td>\n",
              "    </tr>\n",
              "    <tr>\n",
              "      <th>AL</th>\n",
              "      <th>False</th>\n",
              "      <td>72</td>\n",
              "    </tr>\n",
              "    <tr>\n",
              "      <th>AR</th>\n",
              "      <th>False</th>\n",
              "      <td>44</td>\n",
              "    </tr>\n",
              "    <tr>\n",
              "      <th>AZ</th>\n",
              "      <th>False</th>\n",
              "      <td>60</td>\n",
              "    </tr>\n",
              "    <tr>\n",
              "      <th>CA</th>\n",
              "      <th>False</th>\n",
              "      <td>25</td>\n",
              "    </tr>\n",
              "    <tr>\n",
              "      <th>CO</th>\n",
              "      <th>False</th>\n",
              "      <td>57</td>\n",
              "    </tr>\n",
              "    <tr>\n",
              "      <th>CT</th>\n",
              "      <th>False</th>\n",
              "      <td>62</td>\n",
              "    </tr>\n",
              "    <tr>\n",
              "      <th>DC</th>\n",
              "      <th>False</th>\n",
              "      <td>49</td>\n",
              "    </tr>\n",
              "    <tr>\n",
              "      <th>DE</th>\n",
              "      <th>False</th>\n",
              "      <td>52</td>\n",
              "    </tr>\n",
              "    <tr>\n",
              "      <th>FL</th>\n",
              "      <th>False</th>\n",
              "      <td>55</td>\n",
              "    </tr>\n",
              "    <tr>\n",
              "      <th>GA</th>\n",
              "      <th>False</th>\n",
              "      <td>46</td>\n",
              "    </tr>\n",
              "    <tr>\n",
              "      <th>HI</th>\n",
              "      <th>False</th>\n",
              "      <td>50</td>\n",
              "    </tr>\n",
              "    <tr>\n",
              "      <th>IA</th>\n",
              "      <th>False</th>\n",
              "      <td>41</td>\n",
              "    </tr>\n",
              "    <tr>\n",
              "      <th>ID</th>\n",
              "      <th>False</th>\n",
              "      <td>64</td>\n",
              "    </tr>\n",
              "    <tr>\n",
              "      <th>IL</th>\n",
              "      <th>False</th>\n",
              "      <td>53</td>\n",
              "    </tr>\n",
              "    <tr>\n",
              "      <th>IN</th>\n",
              "      <th>False</th>\n",
              "      <td>62</td>\n",
              "    </tr>\n",
              "    <tr>\n",
              "      <th>KS</th>\n",
              "      <th>False</th>\n",
              "      <td>57</td>\n",
              "    </tr>\n",
              "    <tr>\n",
              "      <th>KY</th>\n",
              "      <th>False</th>\n",
              "      <td>51</td>\n",
              "    </tr>\n",
              "    <tr>\n",
              "      <th>LA</th>\n",
              "      <th>False</th>\n",
              "      <td>47</td>\n",
              "    </tr>\n",
              "    <tr>\n",
              "      <th>MA</th>\n",
              "      <th>False</th>\n",
              "      <td>54</td>\n",
              "    </tr>\n",
              "    <tr>\n",
              "      <th>MD</th>\n",
              "      <th>False</th>\n",
              "      <td>53</td>\n",
              "    </tr>\n",
              "    <tr>\n",
              "      <th>ME</th>\n",
              "      <th>False</th>\n",
              "      <td>49</td>\n",
              "    </tr>\n",
              "    <tr>\n",
              "      <th>MI</th>\n",
              "      <th>False</th>\n",
              "      <td>57</td>\n",
              "    </tr>\n",
              "    <tr>\n",
              "      <th>MN</th>\n",
              "      <th>False</th>\n",
              "      <td>69</td>\n",
              "    </tr>\n",
              "    <tr>\n",
              "      <th>MO</th>\n",
              "      <th>False</th>\n",
              "      <td>56</td>\n",
              "    </tr>\n",
              "    <tr>\n",
              "      <th>MS</th>\n",
              "      <th>False</th>\n",
              "      <td>51</td>\n",
              "    </tr>\n",
              "    <tr>\n",
              "      <th>MT</th>\n",
              "      <th>False</th>\n",
              "      <td>54</td>\n",
              "    </tr>\n",
              "    <tr>\n",
              "      <th>NC</th>\n",
              "      <th>False</th>\n",
              "      <td>57</td>\n",
              "    </tr>\n",
              "    <tr>\n",
              "      <th>ND</th>\n",
              "      <th>False</th>\n",
              "      <td>56</td>\n",
              "    </tr>\n",
              "    <tr>\n",
              "      <th>NE</th>\n",
              "      <th>False</th>\n",
              "      <td>56</td>\n",
              "    </tr>\n",
              "    <tr>\n",
              "      <th>NH</th>\n",
              "      <th>False</th>\n",
              "      <td>47</td>\n",
              "    </tr>\n",
              "    <tr>\n",
              "      <th>NJ</th>\n",
              "      <th>False</th>\n",
              "      <td>50</td>\n",
              "    </tr>\n",
              "    <tr>\n",
              "      <th>NM</th>\n",
              "      <th>False</th>\n",
              "      <td>56</td>\n",
              "    </tr>\n",
              "    <tr>\n",
              "      <th>NV</th>\n",
              "      <th>False</th>\n",
              "      <td>52</td>\n",
              "    </tr>\n",
              "    <tr>\n",
              "      <th>NY</th>\n",
              "      <th>False</th>\n",
              "      <td>68</td>\n",
              "    </tr>\n",
              "    <tr>\n",
              "      <th>OH</th>\n",
              "      <th>False</th>\n",
              "      <td>68</td>\n",
              "    </tr>\n",
              "    <tr>\n",
              "      <th>OK</th>\n",
              "      <th>False</th>\n",
              "      <td>52</td>\n",
              "    </tr>\n",
              "    <tr>\n",
              "      <th>OR</th>\n",
              "      <th>False</th>\n",
              "      <td>67</td>\n",
              "    </tr>\n",
              "    <tr>\n",
              "      <th>PA</th>\n",
              "      <th>False</th>\n",
              "      <td>37</td>\n",
              "    </tr>\n",
              "    <tr>\n",
              "      <th>RI</th>\n",
              "      <th>False</th>\n",
              "      <td>59</td>\n",
              "    </tr>\n",
              "    <tr>\n",
              "      <th>SC</th>\n",
              "      <th>False</th>\n",
              "      <td>46</td>\n",
              "    </tr>\n",
              "    <tr>\n",
              "      <th>SD</th>\n",
              "      <th>False</th>\n",
              "      <td>52</td>\n",
              "    </tr>\n",
              "    <tr>\n",
              "      <th>TN</th>\n",
              "      <th>False</th>\n",
              "      <td>48</td>\n",
              "    </tr>\n",
              "    <tr>\n",
              "      <th>TX</th>\n",
              "      <th>False</th>\n",
              "      <td>54</td>\n",
              "    </tr>\n",
              "    <tr>\n",
              "      <th>UT</th>\n",
              "      <th>False</th>\n",
              "      <td>62</td>\n",
              "    </tr>\n",
              "    <tr>\n",
              "      <th>VA</th>\n",
              "      <th>False</th>\n",
              "      <td>72</td>\n",
              "    </tr>\n",
              "    <tr>\n",
              "      <th>VT</th>\n",
              "      <th>False</th>\n",
              "      <td>65</td>\n",
              "    </tr>\n",
              "    <tr>\n",
              "      <th>WA</th>\n",
              "      <th>False</th>\n",
              "      <td>52</td>\n",
              "    </tr>\n",
              "    <tr>\n",
              "      <th>WI</th>\n",
              "      <th>False</th>\n",
              "      <td>71</td>\n",
              "    </tr>\n",
              "    <tr>\n",
              "      <th>WV</th>\n",
              "      <th>False</th>\n",
              "      <td>96</td>\n",
              "    </tr>\n",
              "    <tr>\n",
              "      <th>WY</th>\n",
              "      <th>False</th>\n",
              "      <td>68</td>\n",
              "    </tr>\n",
              "  </tbody>\n",
              "</table>\n",
              "</div>"
            ],
            "text/plain": [
              "             Churn\n",
              "State Churn       \n",
              "AK    False     49\n",
              "AL    False     72\n",
              "AR    False     44\n",
              "AZ    False     60\n",
              "CA    False     25\n",
              "CO    False     57\n",
              "CT    False     62\n",
              "DC    False     49\n",
              "DE    False     52\n",
              "FL    False     55\n",
              "GA    False     46\n",
              "HI    False     50\n",
              "IA    False     41\n",
              "ID    False     64\n",
              "IL    False     53\n",
              "IN    False     62\n",
              "KS    False     57\n",
              "KY    False     51\n",
              "LA    False     47\n",
              "MA    False     54\n",
              "MD    False     53\n",
              "ME    False     49\n",
              "MI    False     57\n",
              "MN    False     69\n",
              "MO    False     56\n",
              "MS    False     51\n",
              "MT    False     54\n",
              "NC    False     57\n",
              "ND    False     56\n",
              "NE    False     56\n",
              "NH    False     47\n",
              "NJ    False     50\n",
              "NM    False     56\n",
              "NV    False     52\n",
              "NY    False     68\n",
              "OH    False     68\n",
              "OK    False     52\n",
              "OR    False     67\n",
              "PA    False     37\n",
              "RI    False     59\n",
              "SC    False     46\n",
              "SD    False     52\n",
              "TN    False     48\n",
              "TX    False     54\n",
              "UT    False     62\n",
              "VA    False     72\n",
              "VT    False     65\n",
              "WA    False     52\n",
              "WI    False     71\n",
              "WV    False     96\n",
              "WY    False     68"
            ]
          },
          "metadata": {
            "tags": []
          },
          "execution_count": 112
        }
      ]
    },
    {
      "cell_type": "code",
      "metadata": {
        "id": "zvsTmgXwX_5n",
        "colab": {
          "base_uri": "https://localhost:8080/"
        },
        "outputId": "2a8b78c6-544f-47a8-fc7a-cf669522cd14"
      },
      "source": [
        "v['Churn'].sort_values()"
      ],
      "execution_count": 113,
      "outputs": [
        {
          "output_type": "execute_result",
          "data": {
            "text/plain": [
              "State  Churn\n",
              "CA     False    25\n",
              "PA     False    37\n",
              "IA     False    41\n",
              "AR     False    44\n",
              "SC     False    46\n",
              "GA     False    46\n",
              "NH     False    47\n",
              "LA     False    47\n",
              "TN     False    48\n",
              "AK     False    49\n",
              "DC     False    49\n",
              "ME     False    49\n",
              "NJ     False    50\n",
              "HI     False    50\n",
              "KY     False    51\n",
              "MS     False    51\n",
              "NV     False    52\n",
              "WA     False    52\n",
              "SD     False    52\n",
              "OK     False    52\n",
              "DE     False    52\n",
              "IL     False    53\n",
              "MD     False    53\n",
              "MA     False    54\n",
              "TX     False    54\n",
              "MT     False    54\n",
              "FL     False    55\n",
              "MO     False    56\n",
              "ND     False    56\n",
              "NE     False    56\n",
              "NM     False    56\n",
              "CO     False    57\n",
              "KS     False    57\n",
              "NC     False    57\n",
              "MI     False    57\n",
              "RI     False    59\n",
              "AZ     False    60\n",
              "IN     False    62\n",
              "UT     False    62\n",
              "CT     False    62\n",
              "ID     False    64\n",
              "VT     False    65\n",
              "OR     False    67\n",
              "WY     False    68\n",
              "OH     False    68\n",
              "NY     False    68\n",
              "MN     False    69\n",
              "WI     False    71\n",
              "VA     False    72\n",
              "AL     False    72\n",
              "WV     False    96\n",
              "Name: Churn, dtype: int64"
            ]
          },
          "metadata": {
            "tags": []
          },
          "execution_count": 113
        }
      ]
    },
    {
      "cell_type": "code",
      "metadata": {
        "id": "49OnrdEmaPd2",
        "colab": {
          "base_uri": "https://localhost:8080/"
        },
        "outputId": "84a28882-4cf3-481a-d140-9d123f2a6a76"
      },
      "source": [
        "vnt=s[df['Voice mail plan']=='No']"
      ],
      "execution_count": 114,
      "outputs": [
        {
          "output_type": "stream",
          "text": [
            "/usr/local/lib/python3.7/dist-packages/ipykernel_launcher.py:1: UserWarning: Boolean Series key will be reindexed to match DataFrame index.\n",
            "  \"\"\"Entry point for launching an IPython kernel.\n"
          ],
          "name": "stderr"
        }
      ]
    },
    {
      "cell_type": "code",
      "metadata": {
        "id": "qhFHhNoqdoij",
        "colab": {
          "base_uri": "https://localhost:8080/"
        },
        "outputId": "d9b6c6f1-33a7-4885-ea20-2a5c6749872c"
      },
      "source": [
        "vyf=t[df['Voice mail plan']=='No']"
      ],
      "execution_count": 115,
      "outputs": [
        {
          "output_type": "stream",
          "text": [
            "/usr/local/lib/python3.7/dist-packages/ipykernel_launcher.py:1: UserWarning: Boolean Series key will be reindexed to match DataFrame index.\n",
            "  \"\"\"Entry point for launching an IPython kernel.\n"
          ],
          "name": "stderr"
        }
      ]
    },
    {
      "cell_type": "code",
      "metadata": {
        "id": "dW3_NnJ7dtXI",
        "colab": {
          "base_uri": "https://localhost:8080/"
        },
        "outputId": "ff06e99b-8ec6-4473-d6f5-117edf7c5686"
      },
      "source": [
        "vnt['Number vmail messages'].sort_values(ascending=False)"
      ],
      "execution_count": 116,
      "outputs": [
        {
          "output_type": "execute_result",
          "data": {
            "text/plain": [
              "3323    0\n",
              "1346    0\n",
              "1302    0\n",
              "1306    0\n",
              "1310    0\n",
              "       ..\n",
              "2388    0\n",
              "2389    0\n",
              "2397    0\n",
              "2401    0\n",
              "10      0\n",
              "Name: Number vmail messages, Length: 403, dtype: int64"
            ]
          },
          "metadata": {
            "tags": []
          },
          "execution_count": 116
        }
      ]
    },
    {
      "cell_type": "code",
      "metadata": {
        "id": "pCRiuQS3eNST",
        "colab": {
          "base_uri": "https://localhost:8080/",
          "height": 417
        },
        "outputId": "da09a096-b4ed-4a49-cc1a-8814340d2a2d"
      },
      "source": [
        "df[['Voice mail plan','Number vmail messages']]"
      ],
      "execution_count": 117,
      "outputs": [
        {
          "output_type": "execute_result",
          "data": {
            "text/html": [
              "<div>\n",
              "<style scoped>\n",
              "    .dataframe tbody tr th:only-of-type {\n",
              "        vertical-align: middle;\n",
              "    }\n",
              "\n",
              "    .dataframe tbody tr th {\n",
              "        vertical-align: top;\n",
              "    }\n",
              "\n",
              "    .dataframe thead th {\n",
              "        text-align: right;\n",
              "    }\n",
              "</style>\n",
              "<table border=\"1\" class=\"dataframe\">\n",
              "  <thead>\n",
              "    <tr style=\"text-align: right;\">\n",
              "      <th></th>\n",
              "      <th>Voice mail plan</th>\n",
              "      <th>Number vmail messages</th>\n",
              "    </tr>\n",
              "  </thead>\n",
              "  <tbody>\n",
              "    <tr>\n",
              "      <th>0</th>\n",
              "      <td>Yes</td>\n",
              "      <td>25</td>\n",
              "    </tr>\n",
              "    <tr>\n",
              "      <th>1</th>\n",
              "      <td>Yes</td>\n",
              "      <td>26</td>\n",
              "    </tr>\n",
              "    <tr>\n",
              "      <th>2</th>\n",
              "      <td>No</td>\n",
              "      <td>0</td>\n",
              "    </tr>\n",
              "    <tr>\n",
              "      <th>3</th>\n",
              "      <td>No</td>\n",
              "      <td>0</td>\n",
              "    </tr>\n",
              "    <tr>\n",
              "      <th>4</th>\n",
              "      <td>No</td>\n",
              "      <td>0</td>\n",
              "    </tr>\n",
              "    <tr>\n",
              "      <th>...</th>\n",
              "      <td>...</td>\n",
              "      <td>...</td>\n",
              "    </tr>\n",
              "    <tr>\n",
              "      <th>3328</th>\n",
              "      <td>Yes</td>\n",
              "      <td>36</td>\n",
              "    </tr>\n",
              "    <tr>\n",
              "      <th>3329</th>\n",
              "      <td>No</td>\n",
              "      <td>0</td>\n",
              "    </tr>\n",
              "    <tr>\n",
              "      <th>3330</th>\n",
              "      <td>No</td>\n",
              "      <td>0</td>\n",
              "    </tr>\n",
              "    <tr>\n",
              "      <th>3331</th>\n",
              "      <td>No</td>\n",
              "      <td>0</td>\n",
              "    </tr>\n",
              "    <tr>\n",
              "      <th>3332</th>\n",
              "      <td>Yes</td>\n",
              "      <td>25</td>\n",
              "    </tr>\n",
              "  </tbody>\n",
              "</table>\n",
              "<p>3333 rows × 2 columns</p>\n",
              "</div>"
            ],
            "text/plain": [
              "     Voice mail plan  Number vmail messages\n",
              "0                Yes                     25\n",
              "1                Yes                     26\n",
              "2                 No                      0\n",
              "3                 No                      0\n",
              "4                 No                      0\n",
              "...              ...                    ...\n",
              "3328             Yes                     36\n",
              "3329              No                      0\n",
              "3330              No                      0\n",
              "3331              No                      0\n",
              "3332             Yes                     25\n",
              "\n",
              "[3333 rows x 2 columns]"
            ]
          },
          "metadata": {
            "tags": []
          },
          "execution_count": 117
        }
      ]
    },
    {
      "cell_type": "code",
      "metadata": {
        "colab": {
          "base_uri": "https://localhost:8080/"
        },
        "id": "gGDE30gQ0K4y",
        "outputId": "cf2628a7-2b88-421e-b19b-49643ea87250"
      },
      "source": [
        "df['Account length'].mean()"
      ],
      "execution_count": 118,
      "outputs": [
        {
          "output_type": "execute_result",
          "data": {
            "text/plain": [
              "101.06480648064806"
            ]
          },
          "metadata": {
            "tags": []
          },
          "execution_count": 118
        }
      ]
    },
    {
      "cell_type": "code",
      "metadata": {
        "colab": {
          "base_uri": "https://localhost:8080/"
        },
        "id": "NGHgeZuT1BBZ",
        "outputId": "5fe971f9-28b7-4e0d-a054-011aabf355ca"
      },
      "source": [
        "t['Account length'].mean()"
      ],
      "execution_count": 119,
      "outputs": [
        {
          "output_type": "execute_result",
          "data": {
            "text/plain": [
              "100.79368421052632"
            ]
          },
          "metadata": {
            "tags": []
          },
          "execution_count": 119
        }
      ]
    },
    {
      "cell_type": "code",
      "metadata": {
        "id": "KfPAv9Uu1A4v"
      },
      "source": [
        ""
      ],
      "execution_count": 119,
      "outputs": []
    },
    {
      "cell_type": "code",
      "metadata": {
        "colab": {
          "base_uri": "https://localhost:8080/",
          "height": 450
        },
        "id": "y4PJcti9_oSu",
        "outputId": "9951a8e1-cf85-4509-df31-fe22320664c0"
      },
      "source": [
        "s"
      ],
      "execution_count": 120,
      "outputs": [
        {
          "output_type": "execute_result",
          "data": {
            "text/html": [
              "<div>\n",
              "<style scoped>\n",
              "    .dataframe tbody tr th:only-of-type {\n",
              "        vertical-align: middle;\n",
              "    }\n",
              "\n",
              "    .dataframe tbody tr th {\n",
              "        vertical-align: top;\n",
              "    }\n",
              "\n",
              "    .dataframe thead th {\n",
              "        text-align: right;\n",
              "    }\n",
              "</style>\n",
              "<table border=\"1\" class=\"dataframe\">\n",
              "  <thead>\n",
              "    <tr style=\"text-align: right;\">\n",
              "      <th></th>\n",
              "      <th>State</th>\n",
              "      <th>Account length</th>\n",
              "      <th>Area code</th>\n",
              "      <th>International plan</th>\n",
              "      <th>Voice mail plan</th>\n",
              "      <th>Number vmail messages</th>\n",
              "      <th>Total day minutes</th>\n",
              "      <th>Total day calls</th>\n",
              "      <th>Total day charge</th>\n",
              "      <th>Total eve minutes</th>\n",
              "      <th>Total eve calls</th>\n",
              "      <th>Total eve charge</th>\n",
              "      <th>Total night minutes</th>\n",
              "      <th>Total night calls</th>\n",
              "      <th>Total night charge</th>\n",
              "      <th>Total intl minutes</th>\n",
              "      <th>Total intl calls</th>\n",
              "      <th>Total intl charge</th>\n",
              "      <th>Customer service calls</th>\n",
              "      <th>Churn</th>\n",
              "    </tr>\n",
              "  </thead>\n",
              "  <tbody>\n",
              "    <tr>\n",
              "      <th>10</th>\n",
              "      <td>IN</td>\n",
              "      <td>65</td>\n",
              "      <td>415</td>\n",
              "      <td>No</td>\n",
              "      <td>No</td>\n",
              "      <td>0</td>\n",
              "      <td>129.1</td>\n",
              "      <td>137</td>\n",
              "      <td>21.95</td>\n",
              "      <td>228.5</td>\n",
              "      <td>83</td>\n",
              "      <td>19.42</td>\n",
              "      <td>208.8</td>\n",
              "      <td>111</td>\n",
              "      <td>9.40</td>\n",
              "      <td>12.7</td>\n",
              "      <td>6</td>\n",
              "      <td>3.43</td>\n",
              "      <td>4</td>\n",
              "      <td>True</td>\n",
              "    </tr>\n",
              "    <tr>\n",
              "      <th>15</th>\n",
              "      <td>NY</td>\n",
              "      <td>161</td>\n",
              "      <td>415</td>\n",
              "      <td>No</td>\n",
              "      <td>No</td>\n",
              "      <td>0</td>\n",
              "      <td>332.9</td>\n",
              "      <td>67</td>\n",
              "      <td>56.59</td>\n",
              "      <td>317.8</td>\n",
              "      <td>97</td>\n",
              "      <td>27.01</td>\n",
              "      <td>160.6</td>\n",
              "      <td>128</td>\n",
              "      <td>7.23</td>\n",
              "      <td>5.4</td>\n",
              "      <td>9</td>\n",
              "      <td>1.46</td>\n",
              "      <td>4</td>\n",
              "      <td>True</td>\n",
              "    </tr>\n",
              "    <tr>\n",
              "      <th>21</th>\n",
              "      <td>CO</td>\n",
              "      <td>77</td>\n",
              "      <td>408</td>\n",
              "      <td>No</td>\n",
              "      <td>No</td>\n",
              "      <td>0</td>\n",
              "      <td>62.4</td>\n",
              "      <td>89</td>\n",
              "      <td>10.61</td>\n",
              "      <td>169.9</td>\n",
              "      <td>121</td>\n",
              "      <td>14.44</td>\n",
              "      <td>209.6</td>\n",
              "      <td>64</td>\n",
              "      <td>9.43</td>\n",
              "      <td>5.7</td>\n",
              "      <td>6</td>\n",
              "      <td>1.54</td>\n",
              "      <td>5</td>\n",
              "      <td>True</td>\n",
              "    </tr>\n",
              "    <tr>\n",
              "      <th>33</th>\n",
              "      <td>AZ</td>\n",
              "      <td>12</td>\n",
              "      <td>408</td>\n",
              "      <td>No</td>\n",
              "      <td>No</td>\n",
              "      <td>0</td>\n",
              "      <td>249.6</td>\n",
              "      <td>118</td>\n",
              "      <td>42.43</td>\n",
              "      <td>252.4</td>\n",
              "      <td>119</td>\n",
              "      <td>21.45</td>\n",
              "      <td>280.2</td>\n",
              "      <td>90</td>\n",
              "      <td>12.61</td>\n",
              "      <td>11.8</td>\n",
              "      <td>3</td>\n",
              "      <td>3.19</td>\n",
              "      <td>1</td>\n",
              "      <td>True</td>\n",
              "    </tr>\n",
              "    <tr>\n",
              "      <th>41</th>\n",
              "      <td>MD</td>\n",
              "      <td>135</td>\n",
              "      <td>408</td>\n",
              "      <td>Yes</td>\n",
              "      <td>Yes</td>\n",
              "      <td>41</td>\n",
              "      <td>173.1</td>\n",
              "      <td>85</td>\n",
              "      <td>29.43</td>\n",
              "      <td>203.9</td>\n",
              "      <td>107</td>\n",
              "      <td>17.33</td>\n",
              "      <td>122.2</td>\n",
              "      <td>78</td>\n",
              "      <td>5.50</td>\n",
              "      <td>14.6</td>\n",
              "      <td>15</td>\n",
              "      <td>3.94</td>\n",
              "      <td>0</td>\n",
              "      <td>True</td>\n",
              "    </tr>\n",
              "    <tr>\n",
              "      <th>...</th>\n",
              "      <td>...</td>\n",
              "      <td>...</td>\n",
              "      <td>...</td>\n",
              "      <td>...</td>\n",
              "      <td>...</td>\n",
              "      <td>...</td>\n",
              "      <td>...</td>\n",
              "      <td>...</td>\n",
              "      <td>...</td>\n",
              "      <td>...</td>\n",
              "      <td>...</td>\n",
              "      <td>...</td>\n",
              "      <td>...</td>\n",
              "      <td>...</td>\n",
              "      <td>...</td>\n",
              "      <td>...</td>\n",
              "      <td>...</td>\n",
              "      <td>...</td>\n",
              "      <td>...</td>\n",
              "      <td>...</td>\n",
              "    </tr>\n",
              "    <tr>\n",
              "      <th>3301</th>\n",
              "      <td>CA</td>\n",
              "      <td>84</td>\n",
              "      <td>415</td>\n",
              "      <td>No</td>\n",
              "      <td>No</td>\n",
              "      <td>0</td>\n",
              "      <td>280.0</td>\n",
              "      <td>113</td>\n",
              "      <td>47.60</td>\n",
              "      <td>202.2</td>\n",
              "      <td>90</td>\n",
              "      <td>17.19</td>\n",
              "      <td>156.8</td>\n",
              "      <td>103</td>\n",
              "      <td>7.06</td>\n",
              "      <td>10.4</td>\n",
              "      <td>4</td>\n",
              "      <td>2.81</td>\n",
              "      <td>0</td>\n",
              "      <td>True</td>\n",
              "    </tr>\n",
              "    <tr>\n",
              "      <th>3304</th>\n",
              "      <td>IL</td>\n",
              "      <td>71</td>\n",
              "      <td>510</td>\n",
              "      <td>Yes</td>\n",
              "      <td>No</td>\n",
              "      <td>0</td>\n",
              "      <td>186.1</td>\n",
              "      <td>114</td>\n",
              "      <td>31.64</td>\n",
              "      <td>198.6</td>\n",
              "      <td>140</td>\n",
              "      <td>16.88</td>\n",
              "      <td>206.5</td>\n",
              "      <td>80</td>\n",
              "      <td>9.29</td>\n",
              "      <td>13.8</td>\n",
              "      <td>5</td>\n",
              "      <td>3.73</td>\n",
              "      <td>4</td>\n",
              "      <td>True</td>\n",
              "    </tr>\n",
              "    <tr>\n",
              "      <th>3320</th>\n",
              "      <td>GA</td>\n",
              "      <td>122</td>\n",
              "      <td>510</td>\n",
              "      <td>Yes</td>\n",
              "      <td>No</td>\n",
              "      <td>0</td>\n",
              "      <td>140.0</td>\n",
              "      <td>101</td>\n",
              "      <td>23.80</td>\n",
              "      <td>196.4</td>\n",
              "      <td>77</td>\n",
              "      <td>16.69</td>\n",
              "      <td>120.1</td>\n",
              "      <td>133</td>\n",
              "      <td>5.40</td>\n",
              "      <td>9.7</td>\n",
              "      <td>4</td>\n",
              "      <td>2.62</td>\n",
              "      <td>4</td>\n",
              "      <td>True</td>\n",
              "    </tr>\n",
              "    <tr>\n",
              "      <th>3322</th>\n",
              "      <td>MD</td>\n",
              "      <td>62</td>\n",
              "      <td>408</td>\n",
              "      <td>No</td>\n",
              "      <td>No</td>\n",
              "      <td>0</td>\n",
              "      <td>321.1</td>\n",
              "      <td>105</td>\n",
              "      <td>54.59</td>\n",
              "      <td>265.5</td>\n",
              "      <td>122</td>\n",
              "      <td>22.57</td>\n",
              "      <td>180.5</td>\n",
              "      <td>72</td>\n",
              "      <td>8.12</td>\n",
              "      <td>11.5</td>\n",
              "      <td>2</td>\n",
              "      <td>3.11</td>\n",
              "      <td>4</td>\n",
              "      <td>True</td>\n",
              "    </tr>\n",
              "    <tr>\n",
              "      <th>3323</th>\n",
              "      <td>IN</td>\n",
              "      <td>117</td>\n",
              "      <td>415</td>\n",
              "      <td>No</td>\n",
              "      <td>No</td>\n",
              "      <td>0</td>\n",
              "      <td>118.4</td>\n",
              "      <td>126</td>\n",
              "      <td>20.13</td>\n",
              "      <td>249.3</td>\n",
              "      <td>97</td>\n",
              "      <td>21.19</td>\n",
              "      <td>227.0</td>\n",
              "      <td>56</td>\n",
              "      <td>10.22</td>\n",
              "      <td>13.6</td>\n",
              "      <td>3</td>\n",
              "      <td>3.67</td>\n",
              "      <td>5</td>\n",
              "      <td>True</td>\n",
              "    </tr>\n",
              "  </tbody>\n",
              "</table>\n",
              "<p>483 rows × 20 columns</p>\n",
              "</div>"
            ],
            "text/plain": [
              "     State  Account length  ...  Customer service calls Churn\n",
              "10      IN              65  ...                       4  True\n",
              "15      NY             161  ...                       4  True\n",
              "21      CO              77  ...                       5  True\n",
              "33      AZ              12  ...                       1  True\n",
              "41      MD             135  ...                       0  True\n",
              "...    ...             ...  ...                     ...   ...\n",
              "3301    CA              84  ...                       0  True\n",
              "3304    IL              71  ...                       4  True\n",
              "3320    GA             122  ...                       4  True\n",
              "3322    MD              62  ...                       4  True\n",
              "3323    IN             117  ...                       5  True\n",
              "\n",
              "[483 rows x 20 columns]"
            ]
          },
          "metadata": {
            "tags": []
          },
          "execution_count": 120
        }
      ]
    },
    {
      "cell_type": "code",
      "metadata": {
        "colab": {
          "base_uri": "https://localhost:8080/",
          "height": 450
        },
        "id": "vUul2b_0_0re",
        "outputId": "0e2ccbd6-50c4-46a9-8cb7-05269bc6c0d5"
      },
      "source": [
        "s[s['Customer service calls']>3]"
      ],
      "execution_count": 121,
      "outputs": [
        {
          "output_type": "execute_result",
          "data": {
            "text/html": [
              "<div>\n",
              "<style scoped>\n",
              "    .dataframe tbody tr th:only-of-type {\n",
              "        vertical-align: middle;\n",
              "    }\n",
              "\n",
              "    .dataframe tbody tr th {\n",
              "        vertical-align: top;\n",
              "    }\n",
              "\n",
              "    .dataframe thead th {\n",
              "        text-align: right;\n",
              "    }\n",
              "</style>\n",
              "<table border=\"1\" class=\"dataframe\">\n",
              "  <thead>\n",
              "    <tr style=\"text-align: right;\">\n",
              "      <th></th>\n",
              "      <th>State</th>\n",
              "      <th>Account length</th>\n",
              "      <th>Area code</th>\n",
              "      <th>International plan</th>\n",
              "      <th>Voice mail plan</th>\n",
              "      <th>Number vmail messages</th>\n",
              "      <th>Total day minutes</th>\n",
              "      <th>Total day calls</th>\n",
              "      <th>Total day charge</th>\n",
              "      <th>Total eve minutes</th>\n",
              "      <th>Total eve calls</th>\n",
              "      <th>Total eve charge</th>\n",
              "      <th>Total night minutes</th>\n",
              "      <th>Total night calls</th>\n",
              "      <th>Total night charge</th>\n",
              "      <th>Total intl minutes</th>\n",
              "      <th>Total intl calls</th>\n",
              "      <th>Total intl charge</th>\n",
              "      <th>Customer service calls</th>\n",
              "      <th>Churn</th>\n",
              "    </tr>\n",
              "  </thead>\n",
              "  <tbody>\n",
              "    <tr>\n",
              "      <th>10</th>\n",
              "      <td>IN</td>\n",
              "      <td>65</td>\n",
              "      <td>415</td>\n",
              "      <td>No</td>\n",
              "      <td>No</td>\n",
              "      <td>0</td>\n",
              "      <td>129.1</td>\n",
              "      <td>137</td>\n",
              "      <td>21.95</td>\n",
              "      <td>228.5</td>\n",
              "      <td>83</td>\n",
              "      <td>19.42</td>\n",
              "      <td>208.8</td>\n",
              "      <td>111</td>\n",
              "      <td>9.40</td>\n",
              "      <td>12.7</td>\n",
              "      <td>6</td>\n",
              "      <td>3.43</td>\n",
              "      <td>4</td>\n",
              "      <td>True</td>\n",
              "    </tr>\n",
              "    <tr>\n",
              "      <th>15</th>\n",
              "      <td>NY</td>\n",
              "      <td>161</td>\n",
              "      <td>415</td>\n",
              "      <td>No</td>\n",
              "      <td>No</td>\n",
              "      <td>0</td>\n",
              "      <td>332.9</td>\n",
              "      <td>67</td>\n",
              "      <td>56.59</td>\n",
              "      <td>317.8</td>\n",
              "      <td>97</td>\n",
              "      <td>27.01</td>\n",
              "      <td>160.6</td>\n",
              "      <td>128</td>\n",
              "      <td>7.23</td>\n",
              "      <td>5.4</td>\n",
              "      <td>9</td>\n",
              "      <td>1.46</td>\n",
              "      <td>4</td>\n",
              "      <td>True</td>\n",
              "    </tr>\n",
              "    <tr>\n",
              "      <th>21</th>\n",
              "      <td>CO</td>\n",
              "      <td>77</td>\n",
              "      <td>408</td>\n",
              "      <td>No</td>\n",
              "      <td>No</td>\n",
              "      <td>0</td>\n",
              "      <td>62.4</td>\n",
              "      <td>89</td>\n",
              "      <td>10.61</td>\n",
              "      <td>169.9</td>\n",
              "      <td>121</td>\n",
              "      <td>14.44</td>\n",
              "      <td>209.6</td>\n",
              "      <td>64</td>\n",
              "      <td>9.43</td>\n",
              "      <td>5.7</td>\n",
              "      <td>6</td>\n",
              "      <td>1.54</td>\n",
              "      <td>5</td>\n",
              "      <td>True</td>\n",
              "    </tr>\n",
              "    <tr>\n",
              "      <th>48</th>\n",
              "      <td>ID</td>\n",
              "      <td>119</td>\n",
              "      <td>415</td>\n",
              "      <td>No</td>\n",
              "      <td>No</td>\n",
              "      <td>0</td>\n",
              "      <td>159.1</td>\n",
              "      <td>114</td>\n",
              "      <td>27.05</td>\n",
              "      <td>231.3</td>\n",
              "      <td>117</td>\n",
              "      <td>19.66</td>\n",
              "      <td>143.2</td>\n",
              "      <td>91</td>\n",
              "      <td>6.44</td>\n",
              "      <td>8.8</td>\n",
              "      <td>3</td>\n",
              "      <td>2.38</td>\n",
              "      <td>5</td>\n",
              "      <td>True</td>\n",
              "    </tr>\n",
              "    <tr>\n",
              "      <th>54</th>\n",
              "      <td>WY</td>\n",
              "      <td>87</td>\n",
              "      <td>415</td>\n",
              "      <td>No</td>\n",
              "      <td>No</td>\n",
              "      <td>0</td>\n",
              "      <td>151.0</td>\n",
              "      <td>83</td>\n",
              "      <td>25.67</td>\n",
              "      <td>219.7</td>\n",
              "      <td>116</td>\n",
              "      <td>18.67</td>\n",
              "      <td>203.9</td>\n",
              "      <td>127</td>\n",
              "      <td>9.18</td>\n",
              "      <td>9.7</td>\n",
              "      <td>3</td>\n",
              "      <td>2.62</td>\n",
              "      <td>5</td>\n",
              "      <td>True</td>\n",
              "    </tr>\n",
              "    <tr>\n",
              "      <th>...</th>\n",
              "      <td>...</td>\n",
              "      <td>...</td>\n",
              "      <td>...</td>\n",
              "      <td>...</td>\n",
              "      <td>...</td>\n",
              "      <td>...</td>\n",
              "      <td>...</td>\n",
              "      <td>...</td>\n",
              "      <td>...</td>\n",
              "      <td>...</td>\n",
              "      <td>...</td>\n",
              "      <td>...</td>\n",
              "      <td>...</td>\n",
              "      <td>...</td>\n",
              "      <td>...</td>\n",
              "      <td>...</td>\n",
              "      <td>...</td>\n",
              "      <td>...</td>\n",
              "      <td>...</td>\n",
              "      <td>...</td>\n",
              "    </tr>\n",
              "    <tr>\n",
              "      <th>3287</th>\n",
              "      <td>KS</td>\n",
              "      <td>170</td>\n",
              "      <td>415</td>\n",
              "      <td>No</td>\n",
              "      <td>Yes</td>\n",
              "      <td>42</td>\n",
              "      <td>199.5</td>\n",
              "      <td>119</td>\n",
              "      <td>33.92</td>\n",
              "      <td>135.0</td>\n",
              "      <td>90</td>\n",
              "      <td>11.48</td>\n",
              "      <td>184.6</td>\n",
              "      <td>49</td>\n",
              "      <td>8.31</td>\n",
              "      <td>10.9</td>\n",
              "      <td>3</td>\n",
              "      <td>2.94</td>\n",
              "      <td>4</td>\n",
              "      <td>True</td>\n",
              "    </tr>\n",
              "    <tr>\n",
              "      <th>3304</th>\n",
              "      <td>IL</td>\n",
              "      <td>71</td>\n",
              "      <td>510</td>\n",
              "      <td>Yes</td>\n",
              "      <td>No</td>\n",
              "      <td>0</td>\n",
              "      <td>186.1</td>\n",
              "      <td>114</td>\n",
              "      <td>31.64</td>\n",
              "      <td>198.6</td>\n",
              "      <td>140</td>\n",
              "      <td>16.88</td>\n",
              "      <td>206.5</td>\n",
              "      <td>80</td>\n",
              "      <td>9.29</td>\n",
              "      <td>13.8</td>\n",
              "      <td>5</td>\n",
              "      <td>3.73</td>\n",
              "      <td>4</td>\n",
              "      <td>True</td>\n",
              "    </tr>\n",
              "    <tr>\n",
              "      <th>3320</th>\n",
              "      <td>GA</td>\n",
              "      <td>122</td>\n",
              "      <td>510</td>\n",
              "      <td>Yes</td>\n",
              "      <td>No</td>\n",
              "      <td>0</td>\n",
              "      <td>140.0</td>\n",
              "      <td>101</td>\n",
              "      <td>23.80</td>\n",
              "      <td>196.4</td>\n",
              "      <td>77</td>\n",
              "      <td>16.69</td>\n",
              "      <td>120.1</td>\n",
              "      <td>133</td>\n",
              "      <td>5.40</td>\n",
              "      <td>9.7</td>\n",
              "      <td>4</td>\n",
              "      <td>2.62</td>\n",
              "      <td>4</td>\n",
              "      <td>True</td>\n",
              "    </tr>\n",
              "    <tr>\n",
              "      <th>3322</th>\n",
              "      <td>MD</td>\n",
              "      <td>62</td>\n",
              "      <td>408</td>\n",
              "      <td>No</td>\n",
              "      <td>No</td>\n",
              "      <td>0</td>\n",
              "      <td>321.1</td>\n",
              "      <td>105</td>\n",
              "      <td>54.59</td>\n",
              "      <td>265.5</td>\n",
              "      <td>122</td>\n",
              "      <td>22.57</td>\n",
              "      <td>180.5</td>\n",
              "      <td>72</td>\n",
              "      <td>8.12</td>\n",
              "      <td>11.5</td>\n",
              "      <td>2</td>\n",
              "      <td>3.11</td>\n",
              "      <td>4</td>\n",
              "      <td>True</td>\n",
              "    </tr>\n",
              "    <tr>\n",
              "      <th>3323</th>\n",
              "      <td>IN</td>\n",
              "      <td>117</td>\n",
              "      <td>415</td>\n",
              "      <td>No</td>\n",
              "      <td>No</td>\n",
              "      <td>0</td>\n",
              "      <td>118.4</td>\n",
              "      <td>126</td>\n",
              "      <td>20.13</td>\n",
              "      <td>249.3</td>\n",
              "      <td>97</td>\n",
              "      <td>21.19</td>\n",
              "      <td>227.0</td>\n",
              "      <td>56</td>\n",
              "      <td>10.22</td>\n",
              "      <td>13.6</td>\n",
              "      <td>3</td>\n",
              "      <td>3.67</td>\n",
              "      <td>5</td>\n",
              "      <td>True</td>\n",
              "    </tr>\n",
              "  </tbody>\n",
              "</table>\n",
              "<p>138 rows × 20 columns</p>\n",
              "</div>"
            ],
            "text/plain": [
              "     State  Account length  ...  Customer service calls Churn\n",
              "10      IN              65  ...                       4  True\n",
              "15      NY             161  ...                       4  True\n",
              "21      CO              77  ...                       5  True\n",
              "48      ID             119  ...                       5  True\n",
              "54      WY              87  ...                       5  True\n",
              "...    ...             ...  ...                     ...   ...\n",
              "3287    KS             170  ...                       4  True\n",
              "3304    IL              71  ...                       4  True\n",
              "3320    GA             122  ...                       4  True\n",
              "3322    MD              62  ...                       4  True\n",
              "3323    IN             117  ...                       5  True\n",
              "\n",
              "[138 rows x 20 columns]"
            ]
          },
          "metadata": {
            "tags": []
          },
          "execution_count": 121
        }
      ]
    },
    {
      "cell_type": "code",
      "metadata": {
        "colab": {
          "base_uri": "https://localhost:8080/"
        },
        "id": "-HZOHmzOAfxr",
        "outputId": "589eae0d-a253-4900-cb04-6d5b379cdb18"
      },
      "source": [
        "s.groupby(['Voice mail plan','State'])['Customer service calls'].value_counts()"
      ],
      "execution_count": 122,
      "outputs": [
        {
          "output_type": "execute_result",
          "data": {
            "text/plain": [
              "Voice mail plan  State  Customer service calls\n",
              "No               AK     1                         1\n",
              "                        4                         1\n",
              "                        5                         1\n",
              "                 AL     1                         2\n",
              "                        5                         2\n",
              "                                                 ..\n",
              "Yes              WA     4                         1\n",
              "                 WI     5                         1\n",
              "                 WV     1                         1\n",
              "                        4                         1\n",
              "                 WY     1                         1\n",
              "Name: Customer service calls, Length: 300, dtype: int64"
            ]
          },
          "metadata": {
            "tags": []
          },
          "execution_count": 122
        }
      ]
    },
    {
      "cell_type": "code",
      "metadata": {
        "colab": {
          "base_uri": "https://localhost:8080/",
          "height": 144
        },
        "id": "oI1CPAKIsZk3",
        "outputId": "8ab339fd-4976-4af6-bdc1-7e07ba893732"
      },
      "source": [
        "s.head(2)"
      ],
      "execution_count": 123,
      "outputs": [
        {
          "output_type": "execute_result",
          "data": {
            "text/html": [
              "<div>\n",
              "<style scoped>\n",
              "    .dataframe tbody tr th:only-of-type {\n",
              "        vertical-align: middle;\n",
              "    }\n",
              "\n",
              "    .dataframe tbody tr th {\n",
              "        vertical-align: top;\n",
              "    }\n",
              "\n",
              "    .dataframe thead th {\n",
              "        text-align: right;\n",
              "    }\n",
              "</style>\n",
              "<table border=\"1\" class=\"dataframe\">\n",
              "  <thead>\n",
              "    <tr style=\"text-align: right;\">\n",
              "      <th></th>\n",
              "      <th>State</th>\n",
              "      <th>Account length</th>\n",
              "      <th>Area code</th>\n",
              "      <th>International plan</th>\n",
              "      <th>Voice mail plan</th>\n",
              "      <th>Number vmail messages</th>\n",
              "      <th>Total day minutes</th>\n",
              "      <th>Total day calls</th>\n",
              "      <th>Total day charge</th>\n",
              "      <th>Total eve minutes</th>\n",
              "      <th>Total eve calls</th>\n",
              "      <th>Total eve charge</th>\n",
              "      <th>Total night minutes</th>\n",
              "      <th>Total night calls</th>\n",
              "      <th>Total night charge</th>\n",
              "      <th>Total intl minutes</th>\n",
              "      <th>Total intl calls</th>\n",
              "      <th>Total intl charge</th>\n",
              "      <th>Customer service calls</th>\n",
              "      <th>Churn</th>\n",
              "    </tr>\n",
              "  </thead>\n",
              "  <tbody>\n",
              "    <tr>\n",
              "      <th>10</th>\n",
              "      <td>IN</td>\n",
              "      <td>65</td>\n",
              "      <td>415</td>\n",
              "      <td>No</td>\n",
              "      <td>No</td>\n",
              "      <td>0</td>\n",
              "      <td>129.1</td>\n",
              "      <td>137</td>\n",
              "      <td>21.95</td>\n",
              "      <td>228.5</td>\n",
              "      <td>83</td>\n",
              "      <td>19.42</td>\n",
              "      <td>208.8</td>\n",
              "      <td>111</td>\n",
              "      <td>9.40</td>\n",
              "      <td>12.7</td>\n",
              "      <td>6</td>\n",
              "      <td>3.43</td>\n",
              "      <td>4</td>\n",
              "      <td>True</td>\n",
              "    </tr>\n",
              "    <tr>\n",
              "      <th>15</th>\n",
              "      <td>NY</td>\n",
              "      <td>161</td>\n",
              "      <td>415</td>\n",
              "      <td>No</td>\n",
              "      <td>No</td>\n",
              "      <td>0</td>\n",
              "      <td>332.9</td>\n",
              "      <td>67</td>\n",
              "      <td>56.59</td>\n",
              "      <td>317.8</td>\n",
              "      <td>97</td>\n",
              "      <td>27.01</td>\n",
              "      <td>160.6</td>\n",
              "      <td>128</td>\n",
              "      <td>7.23</td>\n",
              "      <td>5.4</td>\n",
              "      <td>9</td>\n",
              "      <td>1.46</td>\n",
              "      <td>4</td>\n",
              "      <td>True</td>\n",
              "    </tr>\n",
              "  </tbody>\n",
              "</table>\n",
              "</div>"
            ],
            "text/plain": [
              "   State  Account length  ...  Customer service calls Churn\n",
              "10    IN              65  ...                       4  True\n",
              "15    NY             161  ...                       4  True\n",
              "\n",
              "[2 rows x 20 columns]"
            ]
          },
          "metadata": {
            "tags": []
          },
          "execution_count": 123
        }
      ]
    },
    {
      "cell_type": "code",
      "metadata": {
        "id": "wtYa2xqsxOxG"
      },
      "source": [
        "true_churner=pd.DataFrame(s[['Total day minutes','Total eve minutes','Total night minutes']])"
      ],
      "execution_count": 124,
      "outputs": []
    },
    {
      "cell_type": "code",
      "metadata": {
        "colab": {
          "base_uri": "https://localhost:8080/",
          "height": 537
        },
        "id": "Zg38d4MWxduI",
        "outputId": "631508a3-5f4b-408c-a9b6-33a2f576fb0a"
      },
      "source": [
        "\n",
        "true_churner.plot(kind='hist',\n",
        "        alpha=0.7,\n",
        "        bins=30,\n",
        "        title='Histogram Of total minutes',\n",
        "        rot=45,\n",
        "        grid=True,\n",
        "        figsize=(12,8),\n",
        "        fontsize=15)\n"
      ],
      "execution_count": 125,
      "outputs": [
        {
          "output_type": "execute_result",
          "data": {
            "text/plain": [
              "<matplotlib.axes._subplots.AxesSubplot at 0x7f7743ba9e10>"
            ]
          },
          "metadata": {
            "tags": []
          },
          "execution_count": 125
        },
        {
          "output_type": "display_data",
          "data": {
            "image/png": "[encoded data removed]",
            "text/plain": [
              "<Figure size 864x576 with 1 Axes>"
            ]
          },
          "metadata": {
            "tags": [],
            "needs_background": "light"
          }
        }
      ]
    },
    {
      "cell_type": "code",
      "metadata": {
        "id": "DFpL0P088b_H"
      },
      "source": [
        "loyal=pd.DataFrame(t[['Total day minutes','Total eve minutes','Total night minutes']])"
      ],
      "execution_count": 126,
      "outputs": []
    },
    {
      "cell_type": "code",
      "metadata": {
        "colab": {
          "base_uri": "https://localhost:8080/",
          "height": 537
        },
        "id": "lHQJLNQ08g1b",
        "outputId": "db416438-7fa2-43ad-c47e-1d04300d72ea"
      },
      "source": [
        "\n",
        "loyal.plot(kind='hist',\n",
        "        alpha=0.7,\n",
        "        bins=30,\n",
        "        title='Histogram Of total minutes',\n",
        "        rot=45,\n",
        "        grid=True,\n",
        "        figsize=(12,8),\n",
        "        fontsize=15)"
      ],
      "execution_count": 127,
      "outputs": [
        {
          "output_type": "execute_result",
          "data": {
            "text/plain": [
              "<matplotlib.axes._subplots.AxesSubplot at 0x7f774394f550>"
            ]
          },
          "metadata": {
            "tags": []
          },
          "execution_count": 127
        },
        {
          "output_type": "display_data",
          "data": {
            "image/png": "[encoded data removed]",
            "text/plain": [
              "<Figure size 864x576 with 1 Axes>"
            ]
          },
          "metadata": {
            "tags": [],
            "needs_background": "light"
          }
        }
      ]
    },
    {
      "cell_type": "code",
      "metadata": {
        "id": "Txp0OGmt8ZwR"
      },
      "source": [
        ""
      ],
      "execution_count": 127,
      "outputs": []
    },
    {
      "cell_type": "code",
      "metadata": {
        "colab": {
          "base_uri": "https://localhost:8080/",
          "height": 474
        },
        "id": "pZvqgmKNsO7J",
        "outputId": "34f0628f-4620-47b3-db0e-29c6b3dee9fc"
      },
      "source": [
        "s.hist(column=['Total day minutes','Total eve minutes','Total night minutes'],figsize=[10, 6])"
      ],
      "execution_count": 128,
      "outputs": [
        {
          "output_type": "execute_result",
          "data": {
            "text/plain": [
              "array([[<matplotlib.axes._subplots.AxesSubplot object at 0x7f7743963a50>,\n",
              "        <matplotlib.axes._subplots.AxesSubplot object at 0x7f77437efd50>],\n",
              "       [<matplotlib.axes._subplots.AxesSubplot object at 0x7f77437b0410>,\n",
              "        <matplotlib.axes._subplots.AxesSubplot object at 0x7f7743766a90>]],\n",
              "      dtype=object)"
            ]
          },
          "metadata": {
            "tags": []
          },
          "execution_count": 128
        },
        {
          "output_type": "display_data",
          "data": {
            "image/png": "[encoded data removed]",
            "text/plain": [
              "<Figure size 720x432 with 4 Axes>"
            ]
          },
          "metadata": {
            "tags": [],
            "needs_background": "light"
          }
        }
      ]
    },
    {
      "cell_type": "code",
      "metadata": {
        "colab": {
          "base_uri": "https://localhost:8080/",
          "height": 474
        },
        "id": "6nOFFXKl2PTL",
        "outputId": "0033343a-4ca5-433e-ee24-3a2135fc196f"
      },
      "source": [
        "t.hist(column=['Total day minutes','Total eve minutes','Total night minutes'],figsize=[10, 6])"
      ],
      "execution_count": 129,
      "outputs": [
        {
          "output_type": "execute_result",
          "data": {
            "text/plain": [
              "array([[<matplotlib.axes._subplots.AxesSubplot object at 0x7f7743654c90>,\n",
              "        <matplotlib.axes._subplots.AxesSubplot object at 0x7f77435e3b90>],\n",
              "       [<matplotlib.axes._subplots.AxesSubplot object at 0x7f77435a0250>,\n",
              "        <matplotlib.axes._subplots.AxesSubplot object at 0x7f77435538d0>]],\n",
              "      dtype=object)"
            ]
          },
          "metadata": {
            "tags": []
          },
          "execution_count": 129
        },
        {
          "output_type": "display_data",
          "data": {
            "image/png": "[encoded data removed]",
            "text/plain": [
              "<Figure size 720x432 with 4 Axes>"
            ]
          },
          "metadata": {
            "tags": [],
            "needs_background": "light"
          }
        }
      ]
    },
    {
      "cell_type": "code",
      "metadata": {
        "colab": {
          "base_uri": "https://localhost:8080/",
          "height": 474
        },
        "id": "mdwFmciTvXun",
        "outputId": "3df9a740-8435-488a-81b1-946c8c7b2d0a"
      },
      "source": [
        "s.hist(column=['Total day calls','Total eve calls','Total night calls'],figsize=[10, 6])"
      ],
      "execution_count": 130,
      "outputs": [
        {
          "output_type": "execute_result",
          "data": {
            "text/plain": [
              "array([[<matplotlib.axes._subplots.AxesSubplot object at 0x7f7743519090>,\n",
              "        <matplotlib.axes._subplots.AxesSubplot object at 0x7f7743433850>],\n",
              "       [<matplotlib.axes._subplots.AxesSubplot object at 0x7f77433e7d10>,\n",
              "        <matplotlib.axes._subplots.AxesSubplot object at 0x7f77433a72d0>]],\n",
              "      dtype=object)"
            ]
          },
          "metadata": {
            "tags": []
          },
          "execution_count": 130
        },
        {
          "output_type": "display_data",
          "data": {
            "image/png": "[encoded data removed]",
            "text/plain": [
              "<Figure size 720x432 with 4 Axes>"
            ]
          },
          "metadata": {
            "tags": [],
            "needs_background": "light"
          }
        }
      ]
    },
    {
      "cell_type": "code",
      "metadata": {
        "colab": {
          "base_uri": "https://localhost:8080/",
          "height": 474
        },
        "id": "SCeNwiAWyQH6",
        "outputId": "e9ac7811-cf74-4474-a1c1-2337dd071eef"
      },
      "source": [
        "s.hist(column=['Total day charge','Total eve charge','Total night charge'],figsize=[10, 6])"
      ],
      "execution_count": 131,
      "outputs": [
        {
          "output_type": "execute_result",
          "data": {
            "text/plain": [
              "array([[<matplotlib.axes._subplots.AxesSubplot object at 0x7f774330b610>,\n",
              "        <matplotlib.axes._subplots.AxesSubplot object at 0x7f774328d510>],\n",
              "       [<matplotlib.axes._subplots.AxesSubplot object at 0x7f774341d810>,\n",
              "        <matplotlib.axes._subplots.AxesSubplot object at 0x7f77431f8d90>]],\n",
              "      dtype=object)"
            ]
          },
          "metadata": {
            "tags": []
          },
          "execution_count": 131
        },
        {
          "output_type": "display_data",
          "data": {
            "image/png": "[encoded data removed]",
            "text/plain": [
              "<Figure size 720x432 with 4 Axes>"
            ]
          },
          "metadata": {
            "tags": [],
            "needs_background": "light"
          }
        }
      ]
    },
    {
      "cell_type": "code",
      "metadata": {
        "colab": {
          "base_uri": "https://localhost:8080/",
          "height": 474
        },
        "id": "K-ZYaMj-3T44",
        "outputId": "75668290-55c1-47e5-f06f-61f023326577"
      },
      "source": [
        "t.hist(column=['Total day calls','Total eve calls','Total night calls'],figsize=[10, 6])"
      ],
      "execution_count": 132,
      "outputs": [
        {
          "output_type": "execute_result",
          "data": {
            "text/plain": [
              "array([[<matplotlib.axes._subplots.AxesSubplot object at 0x7f77431c5f90>,\n",
              "        <matplotlib.axes._subplots.AxesSubplot object at 0x7f774306b910>],\n",
              "       [<matplotlib.axes._subplots.AxesSubplot object at 0x7f774301cdd0>,\n",
              "        <matplotlib.axes._subplots.AxesSubplot object at 0x7f7742fde390>]],\n",
              "      dtype=object)"
            ]
          },
          "metadata": {
            "tags": []
          },
          "execution_count": 132
        },
        {
          "output_type": "display_data",
          "data": {
            "image/png": "[encoded data removed]",
            "text/plain": [
              "<Figure size 720x432 with 4 Axes>"
            ]
          },
          "metadata": {
            "tags": [],
            "needs_background": "light"
          }
        }
      ]
    },
    {
      "cell_type": "markdown",
      "metadata": {
        "id": "2LIPILKO2PDV"
      },
      "source": [
        ""
      ]
    },
    {
      "cell_type": "code",
      "metadata": {
        "colab": {
          "base_uri": "https://localhost:8080/",
          "height": 474
        },
        "id": "DFHrKSex3ZjY",
        "outputId": "37b7dc38-e4e7-423e-c2f3-ef7ae4196e96"
      },
      "source": [
        "t.hist(column=['Total day charge','Total eve charge','Total night charge'],figsize=[10, 6])"
      ],
      "execution_count": 133,
      "outputs": [
        {
          "output_type": "execute_result",
          "data": {
            "text/plain": [
              "array([[<matplotlib.axes._subplots.AxesSubplot object at 0x7f774362a690>,\n",
              "        <matplotlib.axes._subplots.AxesSubplot object at 0x7f7742ea63d0>],\n",
              "       [<matplotlib.axes._subplots.AxesSubplot object at 0x7f7742e56950>,\n",
              "        <matplotlib.axes._subplots.AxesSubplot object at 0x7f7742e7eb10>]],\n",
              "      dtype=object)"
            ]
          },
          "metadata": {
            "tags": []
          },
          "execution_count": 133
        },
        {
          "output_type": "display_data",
          "data": {
            "image/png": "[encoded data removed]",
            "text/plain": [
              "<Figure size 720x432 with 4 Axes>"
            ]
          },
          "metadata": {
            "tags": [],
            "needs_background": "light"
          }
        }
      ]
    },
    {
      "cell_type": "code",
      "metadata": {
        "colab": {
          "base_uri": "https://localhost:8080/",
          "height": 450
        },
        "id": "2FkBv9Jp3h2S",
        "outputId": "2261c86a-a4ca-4704-ec89-17c0e036746b"
      },
      "source": [
        "s"
      ],
      "execution_count": 134,
      "outputs": [
        {
          "output_type": "execute_result",
          "data": {
            "text/html": [
              "<div>\n",
              "<style scoped>\n",
              "    .dataframe tbody tr th:only-of-type {\n",
              "        vertical-align: middle;\n",
              "    }\n",
              "\n",
              "    .dataframe tbody tr th {\n",
              "        vertical-align: top;\n",
              "    }\n",
              "\n",
              "    .dataframe thead th {\n",
              "        text-align: right;\n",
              "    }\n",
              "</style>\n",
              "<table border=\"1\" class=\"dataframe\">\n",
              "  <thead>\n",
              "    <tr style=\"text-align: right;\">\n",
              "      <th></th>\n",
              "      <th>State</th>\n",
              "      <th>Account length</th>\n",
              "      <th>Area code</th>\n",
              "      <th>International plan</th>\n",
              "      <th>Voice mail plan</th>\n",
              "      <th>Number vmail messages</th>\n",
              "      <th>Total day minutes</th>\n",
              "      <th>Total day calls</th>\n",
              "      <th>Total day charge</th>\n",
              "      <th>Total eve minutes</th>\n",
              "      <th>Total eve calls</th>\n",
              "      <th>Total eve charge</th>\n",
              "      <th>Total night minutes</th>\n",
              "      <th>Total night calls</th>\n",
              "      <th>Total night charge</th>\n",
              "      <th>Total intl minutes</th>\n",
              "      <th>Total intl calls</th>\n",
              "      <th>Total intl charge</th>\n",
              "      <th>Customer service calls</th>\n",
              "      <th>Churn</th>\n",
              "    </tr>\n",
              "  </thead>\n",
              "  <tbody>\n",
              "    <tr>\n",
              "      <th>10</th>\n",
              "      <td>IN</td>\n",
              "      <td>65</td>\n",
              "      <td>415</td>\n",
              "      <td>No</td>\n",
              "      <td>No</td>\n",
              "      <td>0</td>\n",
              "      <td>129.1</td>\n",
              "      <td>137</td>\n",
              "      <td>21.95</td>\n",
              "      <td>228.5</td>\n",
              "      <td>83</td>\n",
              "      <td>19.42</td>\n",
              "      <td>208.8</td>\n",
              "      <td>111</td>\n",
              "      <td>9.40</td>\n",
              "      <td>12.7</td>\n",
              "      <td>6</td>\n",
              "      <td>3.43</td>\n",
              "      <td>4</td>\n",
              "      <td>True</td>\n",
              "    </tr>\n",
              "    <tr>\n",
              "      <th>15</th>\n",
              "      <td>NY</td>\n",
              "      <td>161</td>\n",
              "      <td>415</td>\n",
              "      <td>No</td>\n",
              "      <td>No</td>\n",
              "      <td>0</td>\n",
              "      <td>332.9</td>\n",
              "      <td>67</td>\n",
              "      <td>56.59</td>\n",
              "      <td>317.8</td>\n",
              "      <td>97</td>\n",
              "      <td>27.01</td>\n",
              "      <td>160.6</td>\n",
              "      <td>128</td>\n",
              "      <td>7.23</td>\n",
              "      <td>5.4</td>\n",
              "      <td>9</td>\n",
              "      <td>1.46</td>\n",
              "      <td>4</td>\n",
              "      <td>True</td>\n",
              "    </tr>\n",
              "    <tr>\n",
              "      <th>21</th>\n",
              "      <td>CO</td>\n",
              "      <td>77</td>\n",
              "      <td>408</td>\n",
              "      <td>No</td>\n",
              "      <td>No</td>\n",
              "      <td>0</td>\n",
              "      <td>62.4</td>\n",
              "      <td>89</td>\n",
              "      <td>10.61</td>\n",
              "      <td>169.9</td>\n",
              "      <td>121</td>\n",
              "      <td>14.44</td>\n",
              "      <td>209.6</td>\n",
              "      <td>64</td>\n",
              "      <td>9.43</td>\n",
              "      <td>5.7</td>\n",
              "      <td>6</td>\n",
              "      <td>1.54</td>\n",
              "      <td>5</td>\n",
              "      <td>True</td>\n",
              "    </tr>\n",
              "    <tr>\n",
              "      <th>33</th>\n",
              "      <td>AZ</td>\n",
              "      <td>12</td>\n",
              "      <td>408</td>\n",
              "      <td>No</td>\n",
              "      <td>No</td>\n",
              "      <td>0</td>\n",
              "      <td>249.6</td>\n",
              "      <td>118</td>\n",
              "      <td>42.43</td>\n",
              "      <td>252.4</td>\n",
              "      <td>119</td>\n",
              "      <td>21.45</td>\n",
              "      <td>280.2</td>\n",
              "      <td>90</td>\n",
              "      <td>12.61</td>\n",
              "      <td>11.8</td>\n",
              "      <td>3</td>\n",
              "      <td>3.19</td>\n",
              "      <td>1</td>\n",
              "      <td>True</td>\n",
              "    </tr>\n",
              "    <tr>\n",
              "      <th>41</th>\n",
              "      <td>MD</td>\n",
              "      <td>135</td>\n",
              "      <td>408</td>\n",
              "      <td>Yes</td>\n",
              "      <td>Yes</td>\n",
              "      <td>41</td>\n",
              "      <td>173.1</td>\n",
              "      <td>85</td>\n",
              "      <td>29.43</td>\n",
              "      <td>203.9</td>\n",
              "      <td>107</td>\n",
              "      <td>17.33</td>\n",
              "      <td>122.2</td>\n",
              "      <td>78</td>\n",
              "      <td>5.50</td>\n",
              "      <td>14.6</td>\n",
              "      <td>15</td>\n",
              "      <td>3.94</td>\n",
              "      <td>0</td>\n",
              "      <td>True</td>\n",
              "    </tr>\n",
              "    <tr>\n",
              "      <th>...</th>\n",
              "      <td>...</td>\n",
              "      <td>...</td>\n",
              "      <td>...</td>\n",
              "      <td>...</td>\n",
              "      <td>...</td>\n",
              "      <td>...</td>\n",
              "      <td>...</td>\n",
              "      <td>...</td>\n",
              "      <td>...</td>\n",
              "      <td>...</td>\n",
              "      <td>...</td>\n",
              "      <td>...</td>\n",
              "      <td>...</td>\n",
              "      <td>...</td>\n",
              "      <td>...</td>\n",
              "      <td>...</td>\n",
              "      <td>...</td>\n",
              "      <td>...</td>\n",
              "      <td>...</td>\n",
              "      <td>...</td>\n",
              "    </tr>\n",
              "    <tr>\n",
              "      <th>3301</th>\n",
              "      <td>CA</td>\n",
              "      <td>84</td>\n",
              "      <td>415</td>\n",
              "      <td>No</td>\n",
              "      <td>No</td>\n",
              "      <td>0</td>\n",
              "      <td>280.0</td>\n",
              "      <td>113</td>\n",
              "      <td>47.60</td>\n",
              "      <td>202.2</td>\n",
              "      <td>90</td>\n",
              "      <td>17.19</td>\n",
              "      <td>156.8</td>\n",
              "      <td>103</td>\n",
              "      <td>7.06</td>\n",
              "      <td>10.4</td>\n",
              "      <td>4</td>\n",
              "      <td>2.81</td>\n",
              "      <td>0</td>\n",
              "      <td>True</td>\n",
              "    </tr>\n",
              "    <tr>\n",
              "      <th>3304</th>\n",
              "      <td>IL</td>\n",
              "      <td>71</td>\n",
              "      <td>510</td>\n",
              "      <td>Yes</td>\n",
              "      <td>No</td>\n",
              "      <td>0</td>\n",
              "      <td>186.1</td>\n",
              "      <td>114</td>\n",
              "      <td>31.64</td>\n",
              "      <td>198.6</td>\n",
              "      <td>140</td>\n",
              "      <td>16.88</td>\n",
              "      <td>206.5</td>\n",
              "      <td>80</td>\n",
              "      <td>9.29</td>\n",
              "      <td>13.8</td>\n",
              "      <td>5</td>\n",
              "      <td>3.73</td>\n",
              "      <td>4</td>\n",
              "      <td>True</td>\n",
              "    </tr>\n",
              "    <tr>\n",
              "      <th>3320</th>\n",
              "      <td>GA</td>\n",
              "      <td>122</td>\n",
              "      <td>510</td>\n",
              "      <td>Yes</td>\n",
              "      <td>No</td>\n",
              "      <td>0</td>\n",
              "      <td>140.0</td>\n",
              "      <td>101</td>\n",
              "      <td>23.80</td>\n",
              "      <td>196.4</td>\n",
              "      <td>77</td>\n",
              "      <td>16.69</td>\n",
              "      <td>120.1</td>\n",
              "      <td>133</td>\n",
              "      <td>5.40</td>\n",
              "      <td>9.7</td>\n",
              "      <td>4</td>\n",
              "      <td>2.62</td>\n",
              "      <td>4</td>\n",
              "      <td>True</td>\n",
              "    </tr>\n",
              "    <tr>\n",
              "      <th>3322</th>\n",
              "      <td>MD</td>\n",
              "      <td>62</td>\n",
              "      <td>408</td>\n",
              "      <td>No</td>\n",
              "      <td>No</td>\n",
              "      <td>0</td>\n",
              "      <td>321.1</td>\n",
              "      <td>105</td>\n",
              "      <td>54.59</td>\n",
              "      <td>265.5</td>\n",
              "      <td>122</td>\n",
              "      <td>22.57</td>\n",
              "      <td>180.5</td>\n",
              "      <td>72</td>\n",
              "      <td>8.12</td>\n",
              "      <td>11.5</td>\n",
              "      <td>2</td>\n",
              "      <td>3.11</td>\n",
              "      <td>4</td>\n",
              "      <td>True</td>\n",
              "    </tr>\n",
              "    <tr>\n",
              "      <th>3323</th>\n",
              "      <td>IN</td>\n",
              "      <td>117</td>\n",
              "      <td>415</td>\n",
              "      <td>No</td>\n",
              "      <td>No</td>\n",
              "      <td>0</td>\n",
              "      <td>118.4</td>\n",
              "      <td>126</td>\n",
              "      <td>20.13</td>\n",
              "      <td>249.3</td>\n",
              "      <td>97</td>\n",
              "      <td>21.19</td>\n",
              "      <td>227.0</td>\n",
              "      <td>56</td>\n",
              "      <td>10.22</td>\n",
              "      <td>13.6</td>\n",
              "      <td>3</td>\n",
              "      <td>3.67</td>\n",
              "      <td>5</td>\n",
              "      <td>True</td>\n",
              "    </tr>\n",
              "  </tbody>\n",
              "</table>\n",
              "<p>483 rows × 20 columns</p>\n",
              "</div>"
            ],
            "text/plain": [
              "     State  Account length  ...  Customer service calls Churn\n",
              "10      IN              65  ...                       4  True\n",
              "15      NY             161  ...                       4  True\n",
              "21      CO              77  ...                       5  True\n",
              "33      AZ              12  ...                       1  True\n",
              "41      MD             135  ...                       0  True\n",
              "...    ...             ...  ...                     ...   ...\n",
              "3301    CA              84  ...                       0  True\n",
              "3304    IL              71  ...                       4  True\n",
              "3320    GA             122  ...                       4  True\n",
              "3322    MD              62  ...                       4  True\n",
              "3323    IN             117  ...                       5  True\n",
              "\n",
              "[483 rows x 20 columns]"
            ]
          },
          "metadata": {
            "tags": []
          },
          "execution_count": 134
        }
      ]
    },
    {
      "cell_type": "code",
      "metadata": {
        "colab": {
          "base_uri": "https://localhost:8080/",
          "height": 326
        },
        "id": "zEWeTseX4Smv",
        "outputId": "6f83b5a6-5fb2-434d-9b3f-17702d2fca5e"
      },
      "source": [
        "s.hist(column='Customer service calls', by='International plan')"
      ],
      "execution_count": 135,
      "outputs": [
        {
          "output_type": "execute_result",
          "data": {
            "text/plain": [
              "array([<matplotlib.axes._subplots.AxesSubplot object at 0x7f7742d257d0>,\n",
              "       <matplotlib.axes._subplots.AxesSubplot object at 0x7f7742ceac10>],\n",
              "      dtype=object)"
            ]
          },
          "metadata": {
            "tags": []
          },
          "execution_count": 135
        },
        {
          "output_type": "display_data",
          "data": {
            "image/png": "[encoded data removed]",
            "text/plain": [
              "<Figure size 432x288 with 2 Axes>"
            ]
          },
          "metadata": {
            "tags": [],
            "needs_background": "light"
          }
        }
      ]
    },
    {
      "cell_type": "code",
      "metadata": {
        "colab": {
          "base_uri": "https://localhost:8080/",
          "height": 326
        },
        "id": "xooK2Ygo-AH3",
        "outputId": "2258af04-64ec-4d62-edb3-22088eb0a6d6"
      },
      "source": [
        "t.hist(column='Customer service calls', by='International plan')"
      ],
      "execution_count": 136,
      "outputs": [
        {
          "output_type": "execute_result",
          "data": {
            "text/plain": [
              "array([<matplotlib.axes._subplots.AxesSubplot object at 0x7f7742c4c150>,\n",
              "       <matplotlib.axes._subplots.AxesSubplot object at 0x7f7742bf58d0>],\n",
              "      dtype=object)"
            ]
          },
          "metadata": {
            "tags": []
          },
          "execution_count": 136
        },
        {
          "output_type": "display_data",
          "data": {
            "image/png": "[encoded data removed]",
            "text/plain": [
              "<Figure size 432x288 with 2 Axes>"
            ]
          },
          "metadata": {
            "tags": [],
            "needs_background": "light"
          }
        }
      ]
    },
    {
      "cell_type": "code",
      "metadata": {
        "colab": {
          "base_uri": "https://localhost:8080/",
          "height": 388
        },
        "id": "XKXWd8xZDJwo",
        "outputId": "df34177c-c436-4f75-a927-668feb3f9607"
      },
      "source": [
        "pd.crosstab(df['Customer service calls'], df['Churn'], normalize='index')"
      ],
      "execution_count": 137,
      "outputs": [
        {
          "output_type": "execute_result",
          "data": {
            "text/html": [
              "<div>\n",
              "<style scoped>\n",
              "    .dataframe tbody tr th:only-of-type {\n",
              "        vertical-align: middle;\n",
              "    }\n",
              "\n",
              "    .dataframe tbody tr th {\n",
              "        vertical-align: top;\n",
              "    }\n",
              "\n",
              "    .dataframe thead th {\n",
              "        text-align: right;\n",
              "    }\n",
              "</style>\n",
              "<table border=\"1\" class=\"dataframe\">\n",
              "  <thead>\n",
              "    <tr style=\"text-align: right;\">\n",
              "      <th>Churn</th>\n",
              "      <th>False</th>\n",
              "      <th>True</th>\n",
              "    </tr>\n",
              "    <tr>\n",
              "      <th>Customer service calls</th>\n",
              "      <th></th>\n",
              "      <th></th>\n",
              "    </tr>\n",
              "  </thead>\n",
              "  <tbody>\n",
              "    <tr>\n",
              "      <th>0</th>\n",
              "      <td>0.868006</td>\n",
              "      <td>0.131994</td>\n",
              "    </tr>\n",
              "    <tr>\n",
              "      <th>1</th>\n",
              "      <td>0.896698</td>\n",
              "      <td>0.103302</td>\n",
              "    </tr>\n",
              "    <tr>\n",
              "      <th>2</th>\n",
              "      <td>0.885375</td>\n",
              "      <td>0.114625</td>\n",
              "    </tr>\n",
              "    <tr>\n",
              "      <th>3</th>\n",
              "      <td>0.897436</td>\n",
              "      <td>0.102564</td>\n",
              "    </tr>\n",
              "    <tr>\n",
              "      <th>4</th>\n",
              "      <td>0.542169</td>\n",
              "      <td>0.457831</td>\n",
              "    </tr>\n",
              "    <tr>\n",
              "      <th>5</th>\n",
              "      <td>0.393939</td>\n",
              "      <td>0.606061</td>\n",
              "    </tr>\n",
              "    <tr>\n",
              "      <th>6</th>\n",
              "      <td>0.363636</td>\n",
              "      <td>0.636364</td>\n",
              "    </tr>\n",
              "    <tr>\n",
              "      <th>7</th>\n",
              "      <td>0.444444</td>\n",
              "      <td>0.555556</td>\n",
              "    </tr>\n",
              "    <tr>\n",
              "      <th>8</th>\n",
              "      <td>0.500000</td>\n",
              "      <td>0.500000</td>\n",
              "    </tr>\n",
              "    <tr>\n",
              "      <th>9</th>\n",
              "      <td>0.000000</td>\n",
              "      <td>1.000000</td>\n",
              "    </tr>\n",
              "  </tbody>\n",
              "</table>\n",
              "</div>"
            ],
            "text/plain": [
              "Churn                      False     True \n",
              "Customer service calls                    \n",
              "0                       0.868006  0.131994\n",
              "1                       0.896698  0.103302\n",
              "2                       0.885375  0.114625\n",
              "3                       0.897436  0.102564\n",
              "4                       0.542169  0.457831\n",
              "5                       0.393939  0.606061\n",
              "6                       0.363636  0.636364\n",
              "7                       0.444444  0.555556\n",
              "8                       0.500000  0.500000\n",
              "9                       0.000000  1.000000"
            ]
          },
          "metadata": {
            "tags": []
          },
          "execution_count": 137
        }
      ]
    },
    {
      "cell_type": "code",
      "metadata": {
        "colab": {
          "base_uri": "https://localhost:8080/"
        },
        "id": "Rx7Mj1JGmrpC",
        "outputId": "9710e14f-a5aa-4fa5-d9d0-5bbd5815a161"
      },
      "source": [
        "s[s['Number vmail messages']>30].value_counts()"
      ],
      "execution_count": 138,
      "outputs": [
        {
          "output_type": "execute_result",
          "data": {
            "text/plain": [
              "State  Account length  Area code  International plan  Voice mail plan  Number vmail messages  Total day minutes  Total day calls  Total day charge  Total eve minutes  Total eve calls  Total eve charge  Total night minutes  Total night calls  Total night charge  Total intl minutes  Total intl calls  Total intl charge  Customer service calls  Churn\n",
              "WV     152             510        Yes                 Yes              41                     146.8              128              24.96             285.6              96               24.28             213.6                80                 9.61                4.3                 2                 1.16               1                       True     1\n",
              "ME     36              510        Yes                 Yes              42                     196.8              89               33.46             254.9              122              21.67             138.3                126                6.22                20.0                6                 5.40               0                       True     1\n",
              "NC     133             408        Yes                 Yes              32                     221.1              137              37.59             264.9              99               22.52             168.9                108                7.60                15.4                4                 4.16               2                       True     1\n",
              "       77              408        Yes                 Yes              44                     103.2              117              17.54             236.3              86               20.09             203.5                101                9.16                11.9                2                 3.21               0                       True     1\n",
              "MT     147             415        No                  Yes              35                     197.3              134              33.54             141.1              99               11.99             212.1                90                 9.54                10.1                4                 2.73               2                       True     1\n",
              "       103             510        No                  Yes              35                     110.5              101              18.79             208.3              81               17.71             87.4                 77                 3.93                13.9                2                 3.75               4                       True     1\n",
              "MS     73              415        No                  Yes              31                     82.3               105              13.99             256.1              91               21.77             229.6                98                 10.33               11.8                2                 3.19               6                       True     1\n",
              "MN     62              510        No                  Yes              33                     186.4              84               31.69             201.0              136              17.09             286.7                103                12.90               11.1                3                 3.00               2                       True     1\n",
              "MI     108             408        No                  Yes              32                     209.5              108              35.62             109.6              64               9.32              189.7                145                8.54                9.1                 6                 2.46               6                       True     1\n",
              "ME     62              415        Yes                 Yes              32                     218.4              93               37.13             236.7              132              20.12             192.2                137                8.65                13.2                3                 3.56               0                       True     1\n",
              "MD     135             408        Yes                 Yes              41                     173.1              85               29.43             203.9              107              17.33             122.2                78                 5.50                14.6                15                3.94               0                       True     1\n",
              "WV     72              510        No                  Yes              33                     96.6               59               16.42             315.4              98               26.81             163.3                117                7.35                6.2                 4                 1.67               4                       True     1\n",
              "MD     108             415        Yes                 Yes              42                     130.1              90               22.12             167.0              128              14.20             244.7                80                 11.01               13.6                5                 3.67               3                       True     1\n",
              "MA     40              408        No                  Yes              31                     224.7              69               38.20             134.5              81               11.43             120.3                104                5.41                7.5                 5                 2.03               1                       True     1\n",
              "KY     98              415        No                  Yes              36                     168.0              81               28.56             163.2              125              13.87             172.7                120                7.77                8.0                 2                 2.16               6                       True     1\n",
              "KS     170             415        No                  Yes              42                     199.5              119              33.92             135.0              90               11.48             184.6                49                 8.31                10.9                3                 2.94               4                       True     1\n",
              "FL     132             510        No                  Yes              36                     226.2              103              38.45             181.6              125              15.44             258.8                102                11.65               10.5                5                 2.84               3                       True     1\n",
              "       55              510        No                  Yes              45                     130.5              114              22.19             208.4              94               17.71             141.6                114                6.37                11.0                5                 2.97               4                       True     1\n",
              "DE     67              415        Yes                 Yes              35                     181.1              59               30.79             215.9              116              18.35             216.3                106                9.73                16.9                4                 4.56               0                       True     1\n",
              "CT     96              415        No                  Yes              37                     172.7              93               29.36             120.1              116              10.21             216.1                86                 9.72                10.3                5                 2.78               5                       True     1\n",
              "ND     101             415        No                  Yes              36                     123.7              125              21.03             172.6              106              14.67             280.5                127                12.62               8.8                 4                 2.38               1                       True     1\n",
              "       147             408        Yes                 Yes              35                     157.5              109              26.78             189.6              67               16.12             227.0                76                 10.22               11.1                2                 3.00               3                       True     1\n",
              "NH     97              408        No                  Yes              32                     90.0               87               15.30             276.3              113              23.49             185.2                107                8.33                8.6                 6                 2.32               2                       True     1\n",
              "       141             415        No                  Yes              32                     322.4              92               54.81             283.2              107              24.07             209.5                111                9.43                6.7                 3                 1.81               1                       True     1\n",
              "WA     174             408        No                  Yes              33                     167.8              91               28.53             205.3              91               17.45             130.0                132                5.85                14.5                4                 3.92               4                       True     1\n",
              "VT     95              510        Yes                 Yes              41                     136.8              91               23.26             200.8              61               17.07             133.7                67                 6.02                10.3                9                 2.78               5                       True     1\n",
              "VA     99              415        No                  Yes              42                     216.0              125              36.72             232.3              104              19.75             215.5                100                9.70                9.3                 4                 2.51               2                       True     1\n",
              "UT     133             408        No                  Yes              44                     174.0              80               29.58             209.4              113              17.80             224.1                87                 10.08               14.1                7                 3.81               2                       True     1\n",
              "       103             510        No                  Yes              36                     87.2               92               14.82             169.3              110              14.39             166.7                80                 7.50                10.9                5                 2.94               6                       True     1\n",
              "TX     139             510        Yes                 Yes              31                     203.5              82               34.60             200.3              72               17.03             214.0                112                9.63                13.4                6                 3.62               1                       True     1\n",
              "TN     108             510        No                  Yes              34                     162.1              83               27.56             171.8              117              14.60             259.8                76                 11.69               9.6                 3                 2.59               4                       True     1\n",
              "       17              510        No                  Yes              31                     153.1              115              26.03             185.9              59               15.80             224.3                102                10.09               10.0                1                 2.70               6                       True     1\n",
              "SD     144             408        No                  Yes              48                     189.8              96               32.27             123.4              67               10.49             214.2                106                9.64                6.5                 2                 1.76               2                       True     1\n",
              "       128             510        Yes                 Yes              32                     223.5              81               38.00             188.8              74               16.05             154.9                101                6.97                9.4                 2                 2.54               2                       True     1\n",
              "PA     61              408        No                  Yes              40                     105.0              78               17.85             180.6              100              15.35             174.1                115                7.83                10.2                2                 2.75               2                       True     1\n",
              "NY     77              415        No                  Yes              33                     143.0              101              24.31             212.2              102              18.04             104.9                120                4.72                15.3                4                 4.13               5                       True     1\n",
              "NV     69              510        Yes                 Yes              33                     271.5              98               46.16             253.4              102              21.54             165.4                85                 7.44                8.2                 2                 2.21               1                       True     1\n",
              "NM     122             408        No                  Yes              33                     174.9              103              29.73             248.2              105              21.10             164.6                116                7.41                13.5                3                 3.65               1                       True     1\n",
              "NJ     134             510        No                  Yes              34                     247.2              105              42.02             225.5              133              19.17             186.3                76                 8.38                6.1                 5                 1.65               2                       True     1\n",
              "       95              408        Yes                 Yes              37                     220.2              109              37.43             185.3              99               15.75             205.1                82                 9.23                4.1                 2                 1.11               0                       True     1\n",
              "       93              510        Yes                 Yes              38                     225.7              117              38.37             119.6              122              10.17             193.2                125                8.69                14.0                7                 3.78               1                       True     1\n",
              "CA     105             415        No                  Yes              31                     109.6              108              18.63             249.3              119              21.19             321.2                101                14.45               8.3                 4                 2.24               4                       True     1\n",
              "dtype: int64"
            ]
          },
          "metadata": {
            "tags": []
          },
          "execution_count": 138
        }
      ]
    },
    {
      "cell_type": "code",
      "metadata": {
        "colab": {
          "base_uri": "https://localhost:8080/",
          "height": 371
        },
        "id": "jMABlaIBoV28",
        "outputId": "2ef78622-75f2-46c7-f557-388ccbe908f7"
      },
      "source": [
        "plt.show()\n",
        "df.boxplot(column='Number vmail messages', by='Churn')"
      ],
      "execution_count": 139,
      "outputs": [
        {
          "output_type": "stream",
          "text": [
            "/usr/local/lib/python3.7/dist-packages/numpy/core/_asarray.py:83: VisibleDeprecationWarning: Creating an ndarray from ragged nested sequences (which is a list-or-tuple of lists-or-tuples-or ndarrays with different lengths or shapes) is deprecated. If you meant to do this, you must specify 'dtype=object' when creating the ndarray\n",
            "  return array(a, dtype, copy=False, order=order)\n"
          ],
          "name": "stderr"
        },
        {
          "output_type": "execute_result",
          "data": {
            "text/plain": [
              "<matplotlib.axes._subplots.AxesSubplot at 0x7f7742ad45d0>"
            ]
          },
          "metadata": {
            "tags": []
          },
          "execution_count": 139
        },
        {
          "output_type": "display_data",
          "data": {
            "image/png": "[encoded data removed]",
            "text/plain": [
              "<Figure size 432x288 with 1 Axes>"
            ]
          },
          "metadata": {
            "tags": [],
            "needs_background": "light"
          }
        }
      ]
    },
    {
      "cell_type": "markdown",
      "metadata": {
        "id": "_ibzvhDPpFx5"
      },
      "source": [
        "We can Notice for Voice-Mail Feature when there are more than 20 voice-mail messages then certainly there is a churn indicating improving the voice-mail feature or setting a limit and check whether a customer is retianed.\n",
        "According to my hypothesis :\n",
        "*1.Voice-Mail Service Upgradation 2.Setting up a limit on Voice-Mail service strictly no more than 25 voice mails. 3.Quality Drop in Voice-Mail after 25 voice mails.**"
      ]
    },
    {
      "cell_type": "code",
      "metadata": {
        "colab": {
          "base_uri": "https://localhost:8080/",
          "height": 371
        },
        "id": "PqMHGJwwpC8Y",
        "outputId": "6443b10e-ff24-4f7d-ffbf-3410552cad1c"
      },
      "source": [
        "df.boxplot(column='Number vmail messages', by='Churn')"
      ],
      "execution_count": 140,
      "outputs": [
        {
          "output_type": "stream",
          "text": [
            "/usr/local/lib/python3.7/dist-packages/numpy/core/_asarray.py:83: VisibleDeprecationWarning: Creating an ndarray from ragged nested sequences (which is a list-or-tuple of lists-or-tuples-or ndarrays with different lengths or shapes) is deprecated. If you meant to do this, you must specify 'dtype=object' when creating the ndarray\n",
            "  return array(a, dtype, copy=False, order=order)\n"
          ],
          "name": "stderr"
        },
        {
          "output_type": "execute_result",
          "data": {
            "text/plain": [
              "<matplotlib.axes._subplots.AxesSubplot at 0x7f7742b34dd0>"
            ]
          },
          "metadata": {
            "tags": []
          },
          "execution_count": 140
        },
        {
          "output_type": "display_data",
          "data": {
            "image/png": "[encoded data removed]",
            "text/plain": [
              "<Figure size 432x288 with 1 Axes>"
            ]
          },
          "metadata": {
            "tags": [],
            "needs_background": "light"
          }
        }
      ]
    },
    {
      "cell_type": "code",
      "metadata": {
        "colab": {
          "base_uri": "https://localhost:8080/",
          "height": 845
        },
        "id": "rdDT9DO-I4kL",
        "outputId": "3ab38b4f-e877-4530-83ab-dc878ae7afbe"
      },
      "source": [
        "df.hist(column=['Account length','Churn'],figsize=[10, 6])"
      ],
      "execution_count": 142,
      "outputs": [
        {
          "output_type": "stream",
          "text": [
            "<string>:6: RuntimeWarning: Converting input from bool to <class 'numpy.uint8'> for compatibility.\n"
          ],
          "name": "stderr"
        },
        {
          "output_type": "error",
          "ename": "TypeError",
          "evalue": "ignored",
          "traceback": [
            "\u001b[0;31m---------------------------------------------------------------------------\u001b[0m",
            "\u001b[0;31mKeyError\u001b[0m                                  Traceback (most recent call last)",
            "\u001b[0;32m/usr/local/lib/python3.7/dist-packages/numpy/lib/histograms.py\u001b[0m in \u001b[0;36m_unsigned_subtract\u001b[0;34m(a, b)\u001b[0m\n\u001b[1;32m    350\u001b[0m     \u001b[0;32mtry\u001b[0m\u001b[0;34m:\u001b[0m\u001b[0;34m\u001b[0m\u001b[0;34m\u001b[0m\u001b[0m\n\u001b[0;32m--> 351\u001b[0;31m         \u001b[0mdt\u001b[0m \u001b[0;34m=\u001b[0m \u001b[0msigned_to_unsigned\u001b[0m\u001b[0;34m[\u001b[0m\u001b[0mdt\u001b[0m\u001b[0;34m.\u001b[0m\u001b[0mtype\u001b[0m\u001b[0;34m]\u001b[0m\u001b[0;34m\u001b[0m\u001b[0;34m\u001b[0m\u001b[0m\n\u001b[0m\u001b[1;32m    352\u001b[0m     \u001b[0;32mexcept\u001b[0m \u001b[0mKeyError\u001b[0m\u001b[0;34m:\u001b[0m\u001b[0;34m\u001b[0m\u001b[0;34m\u001b[0m\u001b[0m\n",
            "\u001b[0;31mKeyError\u001b[0m: <class 'numpy.bool_'>",
            "\nDuring handling of the above exception, another exception occurred:\n",
            "\u001b[0;31mTypeError\u001b[0m                                 Traceback (most recent call last)",
            "\u001b[0;32m<ipython-input-142-e388575c64d3>\u001b[0m in \u001b[0;36m<module>\u001b[0;34m()\u001b[0m\n\u001b[0;32m----> 1\u001b[0;31m \u001b[0mdf\u001b[0m\u001b[0;34m.\u001b[0m\u001b[0mhist\u001b[0m\u001b[0;34m(\u001b[0m\u001b[0mcolumn\u001b[0m\u001b[0;34m=\u001b[0m\u001b[0;34m[\u001b[0m\u001b[0;34m'Account length'\u001b[0m\u001b[0;34m,\u001b[0m\u001b[0;34m'Churn'\u001b[0m\u001b[0;34m]\u001b[0m\u001b[0;34m,\u001b[0m\u001b[0mfigsize\u001b[0m\u001b[0;34m=\u001b[0m\u001b[0;34m[\u001b[0m\u001b[0;36m10\u001b[0m\u001b[0;34m,\u001b[0m \u001b[0;36m6\u001b[0m\u001b[0;34m]\u001b[0m\u001b[0;34m)\u001b[0m\u001b[0;34m\u001b[0m\u001b[0;34m\u001b[0m\u001b[0m\n\u001b[0m",
            "\u001b[0;32m/usr/local/lib/python3.7/dist-packages/pandas/plotting/_core.py\u001b[0m in \u001b[0;36mhist_frame\u001b[0;34m(data, column, by, grid, xlabelsize, xrot, ylabelsize, yrot, ax, sharex, sharey, figsize, layout, bins, backend, legend, **kwargs)\u001b[0m\n\u001b[1;32m    225\u001b[0m         \u001b[0mlegend\u001b[0m\u001b[0;34m=\u001b[0m\u001b[0mlegend\u001b[0m\u001b[0;34m,\u001b[0m\u001b[0;34m\u001b[0m\u001b[0;34m\u001b[0m\u001b[0m\n\u001b[1;32m    226\u001b[0m         \u001b[0mbins\u001b[0m\u001b[0;34m=\u001b[0m\u001b[0mbins\u001b[0m\u001b[0;34m,\u001b[0m\u001b[0;34m\u001b[0m\u001b[0;34m\u001b[0m\u001b[0m\n\u001b[0;32m--> 227\u001b[0;31m         \u001b[0;34m**\u001b[0m\u001b[0mkwargs\u001b[0m\u001b[0;34m,\u001b[0m\u001b[0;34m\u001b[0m\u001b[0;34m\u001b[0m\u001b[0m\n\u001b[0m\u001b[1;32m    228\u001b[0m     )\n\u001b[1;32m    229\u001b[0m \u001b[0;34m\u001b[0m\u001b[0m\n",
            "\u001b[0;32m/usr/local/lib/python3.7/dist-packages/pandas/plotting/_matplotlib/hist.py\u001b[0m in \u001b[0;36mhist_frame\u001b[0;34m(data, column, by, grid, xlabelsize, xrot, ylabelsize, yrot, ax, sharex, sharey, figsize, layout, bins, legend, **kwds)\u001b[0m\n\u001b[1;32m    432\u001b[0m         \u001b[0;32mif\u001b[0m \u001b[0mlegend\u001b[0m \u001b[0;32mand\u001b[0m \u001b[0mcan_set_label\u001b[0m\u001b[0;34m:\u001b[0m\u001b[0;34m\u001b[0m\u001b[0;34m\u001b[0m\u001b[0m\n\u001b[1;32m    433\u001b[0m             \u001b[0mkwds\u001b[0m\u001b[0;34m[\u001b[0m\u001b[0;34m\"label\"\u001b[0m\u001b[0;34m]\u001b[0m \u001b[0;34m=\u001b[0m \u001b[0mcol\u001b[0m\u001b[0;34m\u001b[0m\u001b[0;34m\u001b[0m\u001b[0m\n\u001b[0;32m--> 434\u001b[0;31m         \u001b[0max\u001b[0m\u001b[0;34m.\u001b[0m\u001b[0mhist\u001b[0m\u001b[0;34m(\u001b[0m\u001b[0mdata\u001b[0m\u001b[0;34m[\u001b[0m\u001b[0mcol\u001b[0m\u001b[0;34m]\u001b[0m\u001b[0;34m.\u001b[0m\u001b[0mdropna\u001b[0m\u001b[0;34m(\u001b[0m\u001b[0;34m)\u001b[0m\u001b[0;34m.\u001b[0m\u001b[0mvalues\u001b[0m\u001b[0;34m,\u001b[0m \u001b[0mbins\u001b[0m\u001b[0;34m=\u001b[0m\u001b[0mbins\u001b[0m\u001b[0;34m,\u001b[0m \u001b[0;34m**\u001b[0m\u001b[0mkwds\u001b[0m\u001b[0;34m)\u001b[0m\u001b[0;34m\u001b[0m\u001b[0;34m\u001b[0m\u001b[0m\n\u001b[0m\u001b[1;32m    435\u001b[0m         \u001b[0max\u001b[0m\u001b[0;34m.\u001b[0m\u001b[0mset_title\u001b[0m\u001b[0;34m(\u001b[0m\u001b[0mcol\u001b[0m\u001b[0;34m)\u001b[0m\u001b[0;34m\u001b[0m\u001b[0;34m\u001b[0m\u001b[0m\n\u001b[1;32m    436\u001b[0m         \u001b[0max\u001b[0m\u001b[0;34m.\u001b[0m\u001b[0mgrid\u001b[0m\u001b[0;34m(\u001b[0m\u001b[0mgrid\u001b[0m\u001b[0;34m)\u001b[0m\u001b[0;34m\u001b[0m\u001b[0;34m\u001b[0m\u001b[0m\n",
            "\u001b[0;32m/usr/local/lib/python3.7/dist-packages/matplotlib/__init__.py\u001b[0m in \u001b[0;36minner\u001b[0;34m(ax, data, *args, **kwargs)\u001b[0m\n\u001b[1;32m   1563\u001b[0m     \u001b[0;32mdef\u001b[0m \u001b[0minner\u001b[0m\u001b[0;34m(\u001b[0m\u001b[0max\u001b[0m\u001b[0;34m,\u001b[0m \u001b[0;34m*\u001b[0m\u001b[0margs\u001b[0m\u001b[0;34m,\u001b[0m \u001b[0mdata\u001b[0m\u001b[0;34m=\u001b[0m\u001b[0;32mNone\u001b[0m\u001b[0;34m,\u001b[0m \u001b[0;34m**\u001b[0m\u001b[0mkwargs\u001b[0m\u001b[0;34m)\u001b[0m\u001b[0;34m:\u001b[0m\u001b[0;34m\u001b[0m\u001b[0;34m\u001b[0m\u001b[0m\n\u001b[1;32m   1564\u001b[0m         \u001b[0;32mif\u001b[0m \u001b[0mdata\u001b[0m \u001b[0;32mis\u001b[0m \u001b[0;32mNone\u001b[0m\u001b[0;34m:\u001b[0m\u001b[0;34m\u001b[0m\u001b[0;34m\u001b[0m\u001b[0m\n\u001b[0;32m-> 1565\u001b[0;31m             \u001b[0;32mreturn\u001b[0m \u001b[0mfunc\u001b[0m\u001b[0;34m(\u001b[0m\u001b[0max\u001b[0m\u001b[0;34m,\u001b[0m \u001b[0;34m*\u001b[0m\u001b[0mmap\u001b[0m\u001b[0;34m(\u001b[0m\u001b[0msanitize_sequence\u001b[0m\u001b[0;34m,\u001b[0m \u001b[0margs\u001b[0m\u001b[0;34m)\u001b[0m\u001b[0;34m,\u001b[0m \u001b[0;34m**\u001b[0m\u001b[0mkwargs\u001b[0m\u001b[0;34m)\u001b[0m\u001b[0;34m\u001b[0m\u001b[0;34m\u001b[0m\u001b[0m\n\u001b[0m\u001b[1;32m   1566\u001b[0m \u001b[0;34m\u001b[0m\u001b[0m\n\u001b[1;32m   1567\u001b[0m         \u001b[0mbound\u001b[0m \u001b[0;34m=\u001b[0m \u001b[0mnew_sig\u001b[0m\u001b[0;34m.\u001b[0m\u001b[0mbind\u001b[0m\u001b[0;34m(\u001b[0m\u001b[0max\u001b[0m\u001b[0;34m,\u001b[0m \u001b[0;34m*\u001b[0m\u001b[0margs\u001b[0m\u001b[0;34m,\u001b[0m \u001b[0;34m**\u001b[0m\u001b[0mkwargs\u001b[0m\u001b[0;34m)\u001b[0m\u001b[0;34m\u001b[0m\u001b[0;34m\u001b[0m\u001b[0m\n",
            "\u001b[0;32m/usr/local/lib/python3.7/dist-packages/matplotlib/axes/_axes.py\u001b[0m in \u001b[0;36mhist\u001b[0;34m(self, x, bins, range, density, weights, cumulative, bottom, histtype, align, orientation, rwidth, log, color, label, stacked, **kwargs)\u001b[0m\n\u001b[1;32m   6658\u001b[0m             \u001b[0;31m# this will automatically overwrite bins,\u001b[0m\u001b[0;34m\u001b[0m\u001b[0;34m\u001b[0m\u001b[0;34m\u001b[0m\u001b[0m\n\u001b[1;32m   6659\u001b[0m             \u001b[0;31m# so that each histogram uses the same bins\u001b[0m\u001b[0;34m\u001b[0m\u001b[0;34m\u001b[0m\u001b[0;34m\u001b[0m\u001b[0m\n\u001b[0;32m-> 6660\u001b[0;31m             \u001b[0mm\u001b[0m\u001b[0;34m,\u001b[0m \u001b[0mbins\u001b[0m \u001b[0;34m=\u001b[0m \u001b[0mnp\u001b[0m\u001b[0;34m.\u001b[0m\u001b[0mhistogram\u001b[0m\u001b[0;34m(\u001b[0m\u001b[0mx\u001b[0m\u001b[0;34m[\u001b[0m\u001b[0mi\u001b[0m\u001b[0;34m]\u001b[0m\u001b[0;34m,\u001b[0m \u001b[0mbins\u001b[0m\u001b[0;34m,\u001b[0m \u001b[0mweights\u001b[0m\u001b[0;34m=\u001b[0m\u001b[0mw\u001b[0m\u001b[0;34m[\u001b[0m\u001b[0mi\u001b[0m\u001b[0;34m]\u001b[0m\u001b[0;34m,\u001b[0m \u001b[0;34m**\u001b[0m\u001b[0mhist_kwargs\u001b[0m\u001b[0;34m)\u001b[0m\u001b[0;34m\u001b[0m\u001b[0;34m\u001b[0m\u001b[0m\n\u001b[0m\u001b[1;32m   6661\u001b[0m             \u001b[0mtops\u001b[0m\u001b[0;34m.\u001b[0m\u001b[0mappend\u001b[0m\u001b[0;34m(\u001b[0m\u001b[0mm\u001b[0m\u001b[0;34m)\u001b[0m\u001b[0;34m\u001b[0m\u001b[0;34m\u001b[0m\u001b[0m\n\u001b[1;32m   6662\u001b[0m         \u001b[0mtops\u001b[0m \u001b[0;34m=\u001b[0m \u001b[0mnp\u001b[0m\u001b[0;34m.\u001b[0m\u001b[0marray\u001b[0m\u001b[0;34m(\u001b[0m\u001b[0mtops\u001b[0m\u001b[0;34m,\u001b[0m \u001b[0mfloat\u001b[0m\u001b[0;34m)\u001b[0m  \u001b[0;31m# causes problems later if it's an int\u001b[0m\u001b[0;34m\u001b[0m\u001b[0;34m\u001b[0m\u001b[0m\n",
            "\u001b[0;32m<__array_function__ internals>\u001b[0m in \u001b[0;36mhistogram\u001b[0;34m(*args, **kwargs)\u001b[0m\n",
            "\u001b[0;32m/usr/local/lib/python3.7/dist-packages/numpy/lib/histograms.py\u001b[0m in \u001b[0;36mhistogram\u001b[0;34m(a, bins, range, normed, weights, density)\u001b[0m\n\u001b[1;32m    820\u001b[0m \u001b[0;34m\u001b[0m\u001b[0m\n\u001b[1;32m    821\u001b[0m         \u001b[0;31m# Pre-compute histogram scaling factor\u001b[0m\u001b[0;34m\u001b[0m\u001b[0;34m\u001b[0m\u001b[0;34m\u001b[0m\u001b[0m\n\u001b[0;32m--> 822\u001b[0;31m         \u001b[0mnorm\u001b[0m \u001b[0;34m=\u001b[0m \u001b[0mn_equal_bins\u001b[0m \u001b[0;34m/\u001b[0m \u001b[0m_unsigned_subtract\u001b[0m\u001b[0;34m(\u001b[0m\u001b[0mlast_edge\u001b[0m\u001b[0;34m,\u001b[0m \u001b[0mfirst_edge\u001b[0m\u001b[0;34m)\u001b[0m\u001b[0;34m\u001b[0m\u001b[0;34m\u001b[0m\u001b[0m\n\u001b[0m\u001b[1;32m    823\u001b[0m \u001b[0;34m\u001b[0m\u001b[0m\n\u001b[1;32m    824\u001b[0m         \u001b[0;31m# We iterate over blocks here for two reasons: the first is that for\u001b[0m\u001b[0;34m\u001b[0m\u001b[0;34m\u001b[0m\u001b[0;34m\u001b[0m\u001b[0m\n",
            "\u001b[0;32m/usr/local/lib/python3.7/dist-packages/numpy/lib/histograms.py\u001b[0m in \u001b[0;36m_unsigned_subtract\u001b[0;34m(a, b)\u001b[0m\n\u001b[1;32m    351\u001b[0m         \u001b[0mdt\u001b[0m \u001b[0;34m=\u001b[0m \u001b[0msigned_to_unsigned\u001b[0m\u001b[0;34m[\u001b[0m\u001b[0mdt\u001b[0m\u001b[0;34m.\u001b[0m\u001b[0mtype\u001b[0m\u001b[0;34m]\u001b[0m\u001b[0;34m\u001b[0m\u001b[0;34m\u001b[0m\u001b[0m\n\u001b[1;32m    352\u001b[0m     \u001b[0;32mexcept\u001b[0m \u001b[0mKeyError\u001b[0m\u001b[0;34m:\u001b[0m\u001b[0;34m\u001b[0m\u001b[0;34m\u001b[0m\u001b[0m\n\u001b[0;32m--> 353\u001b[0;31m         \u001b[0;32mreturn\u001b[0m \u001b[0mnp\u001b[0m\u001b[0;34m.\u001b[0m\u001b[0msubtract\u001b[0m\u001b[0;34m(\u001b[0m\u001b[0ma\u001b[0m\u001b[0;34m,\u001b[0m \u001b[0mb\u001b[0m\u001b[0;34m,\u001b[0m \u001b[0mdtype\u001b[0m\u001b[0;34m=\u001b[0m\u001b[0mdt\u001b[0m\u001b[0;34m)\u001b[0m\u001b[0;34m\u001b[0m\u001b[0;34m\u001b[0m\u001b[0m\n\u001b[0m\u001b[1;32m    354\u001b[0m     \u001b[0;32melse\u001b[0m\u001b[0;34m:\u001b[0m\u001b[0;34m\u001b[0m\u001b[0;34m\u001b[0m\u001b[0m\n\u001b[1;32m    355\u001b[0m         \u001b[0;31m# we know the inputs are integers, and we are deliberately casting\u001b[0m\u001b[0;34m\u001b[0m\u001b[0;34m\u001b[0m\u001b[0;34m\u001b[0m\u001b[0m\n",
            "\u001b[0;31mTypeError\u001b[0m: numpy boolean subtract, the `-` operator, is not supported, use the bitwise_xor, the `^` operator, or the logical_xor function instead."
          ]
        },
        {
          "output_type": "display_data",
          "data": {
            "image/png": "[encoded data removed]",
            "text/plain": [
              "<Figure size 720x432 with 2 Axes>"
            ]
          },
          "metadata": {
            "tags": [],
            "needs_background": "light"
          }
        }
      ]
    },
    {
      "cell_type": "code",
      "metadata": {
        "colab": {
          "base_uri": "https://localhost:8080/",
          "height": 371
        },
        "id": "ym-6LUk2Jz0i",
        "outputId": "3c489d86-d3c6-4d64-8ff8-04585b1286ef"
      },
      "source": [
        "df.boxplot(column='Account length', by='Churn')"
      ],
      "execution_count": 143,
      "outputs": [
        {
          "output_type": "stream",
          "text": [
            "/usr/local/lib/python3.7/dist-packages/numpy/core/_asarray.py:83: VisibleDeprecationWarning: Creating an ndarray from ragged nested sequences (which is a list-or-tuple of lists-or-tuples-or ndarrays with different lengths or shapes) is deprecated. If you meant to do this, you must specify 'dtype=object' when creating the ndarray\n",
            "  return array(a, dtype, copy=False, order=order)\n"
          ],
          "name": "stderr"
        },
        {
          "output_type": "execute_result",
          "data": {
            "text/plain": [
              "<matplotlib.axes._subplots.AxesSubplot at 0x7f7742742d10>"
            ]
          },
          "metadata": {
            "tags": []
          },
          "execution_count": 143
        },
        {
          "output_type": "display_data",
          "data": {
            "image/png": "[encoded data removed]",
            "text/plain": [
              "<Figure size 432x288 with 1 Axes>"
            ]
          },
          "metadata": {
            "tags": [],
            "needs_background": "light"
          }
        }
      ]
    },
    {
      "cell_type": "code",
      "metadata": {
        "id": "RfXxuQcvKl76"
      },
      "source": [
        "df['Churn'] = df['Churn'].replace({bool(True):1,bool(False):0})\n"
      ],
      "execution_count": 144,
      "outputs": []
    },
    {
      "cell_type": "code",
      "metadata": {
        "colab": {
          "base_uri": "https://localhost:8080/",
          "height": 1000
        },
        "id": "5BSPykaxKmS3",
        "outputId": "2d953da7-363a-4638-8de5-6dad7e2baef5"
      },
      "source": [
        "# Freq distribution of all data\n",
        "fig, ax = plt.subplots(figsize=(15,15))\n",
        "pd.DataFrame.hist(df,ax=ax)\n",
        "plt.tight_layout();"
      ],
      "execution_count": 145,
      "outputs": [
        {
          "output_type": "stream",
          "text": [
            "/usr/local/lib/python3.7/dist-packages/ipykernel_launcher.py:3: UserWarning: To output multiple subplots, the figure containing the passed axes is being cleared\n",
            "  This is separate from the ipykernel package so we can avoid doing imports until\n"
          ],
          "name": "stderr"
        },
        {
          "output_type": "display_data",
          "data": {
            "image/png": "[encoded data removed]",
            "text/plain": [
              "<Figure size 1080x1080 with 20 Axes>"
            ]
          },
          "metadata": {
            "tags": [],
            "needs_background": "light"
          }
        }
      ]
    },
    {
      "cell_type": "markdown",
      "metadata": {
        "id": "4J9HlDsWXk1U"
      },
      "source": [
        "when there are more than 20 voice-mail messages then we get a chunk of people  indicating churn .Improving the voice-mail feature or setting a limit can improve.\n",
        "According to my hypothesis :\n",
        "*1.Voice-Mail Service Upgradation 2.Setting up a limit on Voice-Mail service strictly no more than 25 voice mails. 3.Quality Drop in Voice-Mail after 25 voice mails.**\n"
      ]
    },
    {
      "cell_type": "markdown",
      "metadata": {
        "id": "r55s1mLJXklp"
      },
      "source": [
        ""
      ]
    },
    {
      "cell_type": "code",
      "metadata": {
        "colab": {
          "base_uri": "https://localhost:8080/"
        },
        "id": "2eb-OxOKk1Dx",
        "outputId": "bc9f4f5b-0946-4e92-a364-41837db522d1"
      },
      "source": [
        "df.shape\n"
      ],
      "execution_count": 147,
      "outputs": [
        {
          "output_type": "execute_result",
          "data": {
            "text/plain": [
              "(3333, 20)"
            ]
          },
          "metadata": {
            "tags": []
          },
          "execution_count": 147
        }
      ]
    }
  ]
}